{
 "cells": [
  {
   "cell_type": "markdown",
   "id": "Hbol",
   "metadata": {},
   "source": [
    "# Introduction\n",
    "\n",
    "combination of r_translation.py script and more_r_translation.py marimo notebook. these olds scripts are under `old_files`\n",
    "\n",
    "for the second matching wrangle, the parts for specificEpithet and infraSpecificEpithet doesn't match with many results.\n",
    "\n",
    "# Imports and Initial Preprocessing"
   ]
  },
  {
   "cell_type": "code",
   "execution_count": null,
   "id": "MJUe",
   "metadata": {},
   "outputs": [],
   "source": [
    "import marimo as mo\n",
    "import polars as pl"
   ]
  },
  {
   "cell_type": "code",
   "execution_count": null,
   "id": "vblA",
   "metadata": {},
   "outputs": [],
   "source": [
    "bos = (\n",
    "    pl.read_csv(\"bos.csv\")\n",
    "    .rename(\n",
    "        {\n",
    "            \"data cleanup changes\": \"data cleanup changes 1\",\n",
    "            \"species\": \"specificEpithet\",\n",
    "            \"subspecies\": \"infraspecificEpithet\",\n",
    "            \"domain \": \"domain\",\n",
    "        }\n",
    "    )\n",
    "    .with_columns(pl.col(pl.String).str.strip_chars(\" \"))\n",
    "    .with_columns(genericName=pl.col(\"genus\"))\n",
    ")"
   ]
  },
  {
   "cell_type": "code",
   "execution_count": null,
   "id": "bkHC",
   "metadata": {},
   "outputs": [],
   "source": [
    "null_counts = (\n",
    "    bos.null_count()\n",
    "    .transpose(include_header=True)\n",
    "    .rename({\"column\": \"feature\", \"column_0\": \"len\"})\n",
    ")\n",
    "columns_to_drop_as_all_nulls = (\n",
    "    null_counts.filter(null_counts[\"len\"] == bos.shape[0])\n",
    "    .transpose()[0, :]\n",
    "    .transpose()\n",
    "    .to_series()\n",
    "    .to_list()\n",
    ")"
   ]
  },
  {
   "cell_type": "code",
   "execution_count": null,
   "id": "lEQa",
   "metadata": {},
   "outputs": [],
   "source": [
    "columns_to_drop_as_they_are_just_changes_logs = [\n",
    "    \"cleanup changes \",\n",
    "    \"Data cleanup changes\",\n",
    "    \"data cleanup changes 1\",\n",
    "    \"changes\",\n",
    "    \"cleanup changes\",\n",
    "    \"Unnamed: 18\",\n",
    "    \"Unnamed: 17\",\n",
    "    \"Unnamed: 19\",\n",
    "    \"query\",\n",
    "    \"query \",\n",
    "    \"issue\",\n",
    "    \"cleanup changes/comments\",\n",
    "    \"subphylum\",\n",
    "]"
   ]
  },
  {
   "cell_type": "code",
   "execution_count": null,
   "id": "PKri",
   "metadata": {},
   "outputs": [],
   "source": [
    "bos_cleaned = (\n",
    "    (\n",
    "        bos.drop(columns_to_drop_as_all_nulls)\n",
    "        .drop(columns_to_drop_as_they_are_just_changes_logs)\n",
    "        .select(~pl.selectors.starts_with(\"Unnamed\"))\n",
    "    )\n",
    "    .with_columns(\n",
    "        infraspecificEpithet=pl.when(pl.col(\"infraspecificEpithet\").is_null())\n",
    "        .then(pl.lit(\"\"))\n",
    "        .otherwise(pl.col(\"infraspecificEpithet\"))\n",
    "    )\n",
    "    .with_columns(\n",
    "        infraspecificEpithet=pl.when(\n",
    "            (pl.col(\"genericName\") == \"Glenea\")\n",
    "            & (pl.col(\"specificEpithet\") == \"mathemathica\")\n",
    "        )\n",
    "        .then(pl.lit(\"mathematica\"))\n",
    "        .otherwise(pl.col(\"infraspecificEpithet\"))\n",
    "    )\n",
    "    .with_columns(\n",
    "        specificEpithet=pl.when(\n",
    "            (pl.col(\"genericName\") == \"Glenea\")\n",
    "            & (pl.col(\"specificEpithet\") == \"mathemathica\")\n",
    "        )\n",
    "        .then(pl.lit(\"mathematica\"))\n",
    "        .when(\n",
    "            (pl.col(\"genericName\") == \"Bavia\")\n",
    "            & (pl.col(\"specificEpithet\") == \"sexupunctata\")\n",
    "        )\n",
    "        .then(pl.lit(\"sexpunctata\"))\n",
    "        .when(\n",
    "            (pl.col(\"genericName\") == \"Omoedus\")\n",
    "            & (pl.col(\"specificEpithet\") == \"ephippigera\")\n",
    "        )\n",
    "        .then(pl.lit(\"ephippiger\"))\n",
    "        .when(\n",
    "            (pl.col(\"genericName\") == \"Byblis\")\n",
    "            & (pl.col(\"specificEpithet\") == \"kallartha\")\n",
    "        )\n",
    "        .then(pl.lit(\"kallarthra\"))\n",
    "        .when(\n",
    "            (pl.col(\"genericName\") == \"Alcockpenaeopsis\")\n",
    "            & (pl.col(\"specificEpithet\") == \"hungerfordi\")\n",
    "        )\n",
    "        .then(pl.lit(\"hungerfordii\"))\n",
    "        .when(\n",
    "            (pl.col(\"genericName\") == \"Pseudosesarma\")\n",
    "            & (pl.col(\"specificEpithet\") == \"edwardsi\")\n",
    "        )\n",
    "        .then(pl.lit(\"edwardsii\"))\n",
    "        .when(\n",
    "            (pl.col(\"genericName\") == \"Urocaridella\")\n",
    "            & (pl.col(\"specificEpithet\") == \"antonbruuni\")\n",
    "        )\n",
    "        .then(pl.lit(\"antonbruunii\"))\n",
    "        .when(\n",
    "            (pl.col(\"genericName\") == \"Ocypode\")\n",
    "            & (pl.col(\"specificEpithet\") == \"cordimanus\")\n",
    "        )\n",
    "        .then(pl.lit(\"cordimana\"))\n",
    "        .otherwise(pl.col(\"specificEpithet\"))\n",
    "    )\n",
    "    .with_columns(\n",
    "        domain=pl.lit(\"Eukarya\"),\n",
    "        kingdom=pl.when(\n",
    "            (pl.col(\"phylum\").is_in([\"Ascomycota\", \"Basidiomycota\"]))\n",
    "        )\n",
    "        .then(pl.lit(\"fungi\"))\n",
    "        .when(pl.col(\"phylum\") == \"Cyanobacteria\")\n",
    "        .then(pl.lit(\"Bacteria\"))\n",
    "        .when(pl.col(\"phylum\") == \"Ciliophora\")\n",
    "        .then(pl.lit(\"Protista\"))\n",
    "        .otherwise(pl.lit(\"Animalia\")),\n",
    "    )\n",
    "    .with_columns(\n",
    "        taxonName=pl.col(\"taxonName\")\n",
    "        .str.replace_all(\"<i>\", \"\")\n",
    "        .str.replace_all(\"</i>\", \"\"),\n",
    "    )\n",
    ")"
   ]
  },
  {
   "cell_type": "code",
   "execution_count": null,
   "id": "Xref",
   "metadata": {},
   "outputs": [],
   "source": [
    "_filter = pl.col(\"taxonomicStatus\").is_in(\n",
    "    [\n",
    "        \"accepted\",\n",
    "        \"synonym\",\n",
    "        \"homotypic synonym\",\n",
    "        \"proparte synonym\",\n",
    "        \"heterotypic synonym\",\n",
    "    ]\n",
    ")\n",
    "taxon_ranked_only = (\n",
    "    pl.scan_csv(\n",
    "        \"gbif/Taxon.tsv\",\n",
    "        separator=\"\\t\",\n",
    "        quote_char=None,\n",
    "        cache=True,\n",
    "    )\n",
    "    .filter((pl.col(\"taxonRank\") != \"unranked\") & _filter)\n",
    "    .select(\n",
    "        \"taxonID\",\n",
    "        \"genericName\",\n",
    "        \"genus\",\n",
    "        \"specificEpithet\",\n",
    "        \"infraspecificEpithet\",\n",
    "        \"taxonomicStatus\",\n",
    "        \"acceptedNameUsageID\",\n",
    "        # \"domain\",\n",
    "    )\n",
    "    .filter((pl.col(\"genus\") != \"\") & (pl.col(\"specificEpithet\") != \"\"))\n",
    "    .with_columns(\n",
    "        infraspecificEpithet=pl.when(\n",
    "            (pl.col(\"infraspecificEpithet\").is_null())\n",
    "        )\n",
    "        .then(pl.lit(\"\"))\n",
    "        .otherwise(pl.col(\"infraspecificEpithet\"))\n",
    "    )\n",
    ")\n",
    "taxon_ranked_only = taxon_ranked_only.with_columns(\n",
    "    genus=pl.when(pl.col(\"genus\").is_null())\n",
    "    .then(\"genericName\")\n",
    "    .otherwise(\"genus\")\n",
    ")"
   ]
  },
  {
   "cell_type": "code",
   "execution_count": null,
   "id": "SFPL",
   "metadata": {},
   "outputs": [],
   "source": [
    "matching = (\n",
    "    taxon_ranked_only.join(\n",
    "        other=pl.LazyFrame(bos_cleaned),\n",
    "        on=[\"genus\", \"specificEpithet\", \"infraspecificEpithet\"],\n",
    "        how=\"right\",\n",
    "    )\n",
    "    .rename({\"taxonID\": \"matched_taxonID\"})\n",
    "    .select(\n",
    "        \"speciesId\",\n",
    "        \"matched_taxonID\",\n",
    "        \"acceptedNameUsageID\",\n",
    "        \"taxonName\",\n",
    "        \"domain\",\n",
    "        \"kingdom\",\n",
    "        \"phylum\",\n",
    "        \"class\",\n",
    "        \"subclass\",\n",
    "        \"superorder\",\n",
    "        \"order\",\n",
    "        \"sub-order\",\n",
    "        \"infraorder\",\n",
    "        \"section\",\n",
    "        \"subsection\",\n",
    "        \"superfamily\",\n",
    "        \"family\",\n",
    "        \"subfamily\",\n",
    "        \"tribe\",\n",
    "        \"genus\",\n",
    "        \"subgenus\",\n",
    "        \"genericName\",\n",
    "        \"specificEpithet\",\n",
    "        \"infraspecificEpithet\",\n",
    "    )\n",
    "    .with_columns(\n",
    "        pl.when(pl.col(\"infraspecificEpithet\") == \"\")\n",
    "        .then(pl.lit(None))\n",
    "        .otherwise(\"infraspecificEpithet\")\n",
    "        .alias(\"infraspecificEpithet\")\n",
    "    )\n",
    ")\n",
    "# matching and contetnious split\n",
    "# What makes a data point contentious is where it has duplicate speciesId.\n",
    "matching = matching.filter(~pl.col(\"speciesId\").is_duplicated()).with_columns(\n",
    "    acceptedNameUsageID=pl.col(\"acceptedNameUsageID\")\n",
    "    .fill_null(pl.lit(None))\n",
    "    .cast(pl.Int64)\n",
    ")\n",
    "contentious = matching.filter(\n",
    "    (pl.col(\"speciesId\").is_duplicated())\n",
    ").with_columns(\n",
    "    acceptedNameUsageID=pl.col(\"acceptedNameUsageID\")\n",
    "    .fill_null(pl.lit(None))\n",
    "    .cast(pl.Int64)\n",
    ")\n",
    "\n",
    "unique_contentious = contentious.filter(\n",
    "    (pl.col(\"acceptedNameUsageID\").is_null())\n",
    "    & (\n",
    "        pl.col(\"matched_taxonID\").is_in(\n",
    "            pl.col(\"acceptedNameUsageID\").implode()\n",
    "        )\n",
    "    )\n",
    ")\n",
    "\n",
    "unique_contentious_speciesId = (\n",
    "    unique_contentious.select(\"speciesId\").collect().to_series().implode()\n",
    ")  # Just the speciesIds\n",
    "contentious = contentious.filter(\n",
    "    ~pl.col(\"speciesId\").is_in(unique_contentious_speciesId)\n",
    ")  # Removing unique conentious\n",
    "\n",
    "matching = pl.concat(\n",
    "    [matching, unique_contentious],\n",
    ")\n",
    "\n",
    "matching = matching.with_columns(\n",
    "    genus=pl.when(\n",
    "        (pl.col(\"genus\").is_null()) & (pl.col(\"specificEpithet\").is_not_null())\n",
    "    )\n",
    "    .then(pl.col(\"taxonName\").str.split(\" \").list[0])\n",
    "    .otherwise(\"genus\")\n",
    ")\n",
    "\n",
    "no_match = (\n",
    "    matching.filter(pl.col(\"matched_taxonID\").is_null())\n",
    "    .with_columns(\n",
    "        taxonRank=pl.lit(\"BOSuncornirmedSpecies\"),\n",
    "        taxonomicStatus=pl.lit(\"BOSunformired\"),\n",
    "        parentNameUsageID=pl.lit(None),\n",
    "    )\n",
    "    .fill_null(\"\")\n",
    "    .collect()\n",
    ")"
   ]
  },
  {
   "cell_type": "markdown",
   "id": "BYtC",
   "metadata": {
    "marimo": {
     "config": {
      "hide_code": true
     }
    }
   },
   "source": [
    "# First Matching Wrangle"
   ]
  },
  {
   "cell_type": "code",
   "execution_count": null,
   "id": "RGSE",
   "metadata": {},
   "outputs": [],
   "source": [
    "repeated_accepted_taxons = (\n",
    "    pl.scan_csv(\"gbif/Taxon.tsv\", separator=\"\\t\", quote_char=None, cache=True)\n",
    "    .filter(pl.col(\"taxonomicStatus\") == pl.lit(\"accepted\"))\n",
    "    .filter(pl.col(\"kingdom\").is_in([\"Animalia\", \"Plantae\"]))\n",
    "    .filter(~pl.col(\"canonicalName\").is_null())\n",
    "    .filter(pl.col(\"canonicalName\") != \"\")\n",
    "    .sort(\"canonicalName\")\n",
    "    .filter(pl.col(\"canonicalName\").is_duplicated())\n",
    ")"
   ]
  },
  {
   "cell_type": "code",
   "execution_count": null,
   "id": "Kclp",
   "metadata": {},
   "outputs": [],
   "source": [
    "priority_columns = [\n",
    "    \"infraspecificEpithet\",\n",
    "    \"specificEpithet\",\n",
    "    \"genus\",\n",
    "    \"family\",\n",
    "    \"order\",\n",
    "    \"class\",\n",
    "    \"phylum\",\n",
    "    \"kingdom\",\n",
    "]"
   ]
  },
  {
   "cell_type": "code",
   "execution_count": null,
   "id": "emfo",
   "metadata": {},
   "outputs": [
    {
     "data": {
      "text/html": [
       "<div><style>\n",
       ".dataframe > thead > tr,\n",
       ".dataframe > tbody > tr {\n",
       "  text-align: right;\n",
       "  white-space: pre-wrap;\n",
       "}\n",
       "</style>\n",
       "<small>shape: (1_639, 2)</small><table border=\"1\" class=\"dataframe\"><thead><tr><th>matches</th><th>feature_that_is_equal_to_canonicalName</th></tr><tr><td>str</td><td>list[str]</td></tr></thead><tbody><tr><td>&quot;Micrognathozoa&quot;</td><td>[&quot;class&quot;, &quot;phylum&quot;]</td></tr><tr><td>&quot;Passeriformes&quot;</td><td>[&quot;family&quot;, &quot;order&quot;]</td></tr><tr><td>&quot;Sirenia&quot;</td><td>[&quot;family&quot;, &quot;order&quot;]</td></tr><tr><td>&quot;Hildebrandtiella&quot;</td><td>[&quot;genus&quot;]</td></tr><tr><td>&quot;Bartramia&quot;</td><td>[&quot;genus&quot;]</td></tr><tr><td>&hellip;</td><td>&hellip;</td></tr><tr><td>&quot;Diplura&quot;</td><td>[&quot;genus&quot;, &quot;order&quot;, &quot;class&quot;]</td></tr><tr><td>&quot;Acanthocephala&quot;</td><td>[&quot;genus&quot;, &quot;phylum&quot;]</td></tr><tr><td>&quot;Ctenophora&quot;</td><td>[&quot;genus&quot;, &quot;phylum&quot;]</td></tr><tr><td>&quot;Arthropoda&quot;</td><td>[&quot;genus&quot;, &quot;phylum&quot;]</td></tr><tr><td>&quot;Protura&quot;</td><td>[&quot;order&quot;, &quot;class&quot;]</td></tr></tbody></table></div>"
      ]
     },
     "metadata": {},
     "output_type": "display_data"
    }
   ],
   "source": [
    "_schema = {\n",
    "    \"feature_that_is_equal_to_canonicalName\": pl.String,\n",
    "    \"matches\": pl.String,\n",
    "}\n",
    "collected_repeated_taxons = repeated_accepted_taxons.collect()\n",
    "RAT_interim = pl.DataFrame(schema=_schema)\n",
    "for _col in priority_columns:\n",
    "    _canonical_names = (\n",
    "        collected_repeated_taxons.filter(\n",
    "            pl.col(\"canonicalName\") == pl.col(_col)\n",
    "        )\n",
    "        .select(\"canonicalName\")\n",
    "        .unique()\n",
    "        .to_series()\n",
    "        .to_list()\n",
    "    )\n",
    "    if len(_canonical_names) != 0:\n",
    "        _row = pl.DataFrame(\n",
    "            data={\n",
    "                \"feature_that_is_equal_to_canonicalName\": _col,\n",
    "                \"matches\": _canonical_names,\n",
    "            },\n",
    "            schema=_schema,\n",
    "        )\n",
    "        RAT_interim = RAT_interim.vstack(_row)\n",
    "\n",
    "RAT_feats = (\n",
    "    RAT_interim.group_by(\"matches\")\n",
    "    .agg(pl.col(\"feature_that_is_equal_to_canonicalName\").str.join(\", \"))\n",
    "    .with_columns(\n",
    "        pl.col(\"feature_that_is_equal_to_canonicalName\").str.split(\", \")\n",
    "    )\n",
    "    .sort(\"feature_that_is_equal_to_canonicalName\")\n",
    ")\n",
    "RAT_feats"
   ]
  },
  {
   "cell_type": "code",
   "execution_count": null,
   "id": "Hstk",
   "metadata": {},
   "outputs": [],
   "source": [
    "updated_to_matching = []\n",
    "still_no_match = []\n",
    "_collected_repeated_taxons = collected_repeated_taxons.fill_null(\"\")\n",
    "_reversed_priority_columns = priority_columns.copy()\n",
    "_reversed_priority_columns.reverse()\n",
    "pl.Config.set_tbl_cols(10)\n",
    "for _col in _reversed_priority_columns:\n",
    "    for _match in RAT_feats[\"matches\"]:\n",
    "        # skipping those that are not in RAT_feats\n",
    "        if _match not in no_match[_col].to_list():\n",
    "            continue\n",
    "\n",
    "        taxon_data_to_select_from = _collected_repeated_taxons.filter(\n",
    "            pl.col(\"canonicalName\") == _match\n",
    "        ).select([\"taxonID\"] + _reversed_priority_columns)\n",
    "\n",
    "        # Select from the two rows what taxon data to select.\n",
    "        selected_row_int = -1\n",
    "        for i, _tuple in enumerate(\n",
    "            taxon_data_to_select_from.select(\n",
    "                [\"taxonID\"] + priority_columns\n",
    "            ).iter_rows()\n",
    "        ):\n",
    "            col_index = priority_columns.index(_col)\n",
    "            _x = _tuple[col_index]\n",
    "            if not bool(_x):\n",
    "                selected_row_int = i  # Since there are usually only two rows from taxon_data_to_select_from, the results is either 0 or 1\n",
    "                break\n",
    "        assert selected_row_int != -1\n",
    "\n",
    "        # has_predicament1 is when kingdom to genus all has values and it is kind of leveled between the two rows of the taxon data.\n",
    "        has_predicament1 = False\n",
    "        _l = taxon_data_to_select_from[\"family\"].to_list()\n",
    "        if _col == \"genus\" and _l[0] is not None and _l[1] is not None:\n",
    "            has_predicament1 = True\n",
    "\n",
    "        chosen_taxonId = taxon_data_to_select_from[selected_row_int, 0]\n",
    "        other_taxonId = taxon_data_to_select_from[\n",
    "            int(\n",
    "                not bool(selected_row_int)\n",
    "            ),  # converts the int value into boolean than reverse the boolean before converting back to int.\n",
    "            0,\n",
    "        ]\n",
    "\n",
    "        # Getting the _no_match_subset_to_update section\n",
    "        _no_match_subset_to_update = no_match.filter(\n",
    "            pl.col(_col) == _match,\n",
    "        )\n",
    "        for _col3 in priority_columns[: priority_columns.index(_col)]:\n",
    "            _no_match_subset_to_update = _no_match_subset_to_update.filter(\n",
    "                pl.col(_col3) == \"\",\n",
    "            )\n",
    "        if not _no_match_subset_to_update.select(priority_columns).is_empty():\n",
    "            pass\n",
    "        else:\n",
    "            continue\n",
    "        _x = _reversed_priority_columns[:-3]\n",
    "        feature_to_find_nulls = (\n",
    "            _x[_reversed_priority_columns.index(_col) + 1]\n",
    "            if len(_x) > _reversed_priority_columns.index(_col) + 1\n",
    "            else None\n",
    "        )  # just the next feature to find null\n",
    "        if feature_to_find_nulls is not None:\n",
    "            _no_match_subset_to_update = _no_match_subset_to_update.filter(\n",
    "                pl.col(feature_to_find_nulls) == \"\"\n",
    "            )\n",
    "            # print(_no_match_subset_to_update)\n",
    "            # if _no_match_subset_to_update.is_empty():\n",
    "            #     still_no_match_subset = no_match.filter(\n",
    "            #         pl.col(_col) == _match, # This is the problme where there is too little matches in second matching wrangling\n",
    "            #     ).with_columns(\n",
    "            #         current_feature=pl.lit(_col), current_name=pl.lit(_match)\n",
    "            #     )\n",
    "            #     still_no_match.append(still_no_match_subset)\n",
    "            #     continue\n",
    "\n",
    "        # Settling predicament one\n",
    "        # this predicament thing should only happen when the subset is of only 1 row.\n",
    "        # has_predicament1 is when kingdom to genus all has values and it is kind of leveled between the two rows of the taxon data.\n",
    "        if has_predicament1 and _no_match_subset_to_update.shape[0] == 1:\n",
    "            match = True\n",
    "            for _col1 in [\n",
    "                \"class\",\n",
    "                \"order\",\n",
    "                \"family\",\n",
    "                \"genus\",\n",
    "                \"specificEpithet\",\n",
    "                \"infraspecificEpithet\",\n",
    "            ]:\n",
    "                match *= (\n",
    "                    _no_match_subset_to_update[_col1].item()\n",
    "                    == taxon_data_to_select_from[selected_row_int, :][\n",
    "                        _col1\n",
    "                    ].item()\n",
    "                )\n",
    "            if not match:\n",
    "                match = True\n",
    "                for _col1 in [\n",
    "                    \"class\",\n",
    "                    \"order\",\n",
    "                    \"family\",\n",
    "                    \"genus\",\n",
    "                    \"specificEpithet\",\n",
    "                    \"infraspecificEpithet\",\n",
    "                ]:\n",
    "                    match *= (\n",
    "                        _no_match_subset_to_update[_col1].item()\n",
    "                        == taxon_data_to_select_from[\n",
    "                            int(not bool(selected_row_int)), :\n",
    "                        ][_col1].item()\n",
    "                    )  # searching in the three columns of interests for matches\n",
    "\n",
    "                # assert (\n",
    "                #     match\n",
    "                # )  # Double check that there is no unmatch.  # noqa: E712\n",
    "                if match:\n",
    "                    temp = chosen_taxonId\n",
    "                    chosen_taxonId = other_taxonId\n",
    "                    other_taxonId = temp\n",
    "\n",
    "        # turning these rows to matching by filling parentNameUsageID\n",
    "        _no_match_subset_to_update = _no_match_subset_to_update.with_columns(\n",
    "            parentNameUsageID=pl.when(\n",
    "                (pl.col(\"infraspecificEpithet\").is_null())\n",
    "                & (pl.col(\"specificEpithet\").is_not_null())\n",
    "                & (pl.col(\"genus\").is_not_null())\n",
    "            )\n",
    "            .then(pl.lit(other_taxonId))\n",
    "            .otherwise(pl.lit(chosen_taxonId))\n",
    "        )\n",
    "\n",
    "        updated_to_matching.append(_no_match_subset_to_update)\n",
    "\n",
    "# turn them into dataframes and writing to csv files\n",
    "updated_to_matching = pl.concat(\n",
    "    updated_to_matching, rechunk=True, parallel=True\n",
    ")\n",
    "updated_to_matching.write_csv(\"first_matches_set_from_wrangling.csv\")\n",
    "\n",
    "still_no_match = no_match.join(\n",
    "    updated_to_matching.select(\"speciesId\"), on=\"speciesId\", how=\"anti\"\n",
    ")"
   ]
  },
  {
   "cell_type": "code",
   "execution_count": null,
   "id": "nWHF",
   "metadata": {},
   "outputs": [
    {
     "data": {
      "text/html": [
       "<div><style>\n",
       ".dataframe > thead > tr,\n",
       ".dataframe > tbody > tr {\n",
       "  text-align: right;\n",
       "  white-space: pre-wrap;\n",
       "}\n",
       "</style>\n",
       "<small>shape: (0, 9)</small><table border=\"1\" class=\"dataframe\"><thead><tr><th>speciesId</th><th>infraspecificEpithet</th><th>specificEpithet</th><th>genus</th><th>family</th><th>order</th><th>class</th><th>phylum</th><th>kingdom</th></tr><tr><td>str</td><td>str</td><td>str</td><td>str</td><td>str</td><td>str</td><td>str</td><td>str</td><td>str</td></tr></thead><tbody></tbody></table></div>"
      ]
     },
     "metadata": {},
     "output_type": "display_data"
    }
   ],
   "source": [
    "updated_to_matching.select([\"speciesId\"] + priority_columns).filter(\n",
    "    pl.col(\"genus\") == \"Aonides\"\n",
    ")"
   ]
  },
  {
   "cell_type": "code",
   "execution_count": null,
   "id": "iLit",
   "metadata": {},
   "outputs": [
    {
     "data": {
      "application/json": "[469, 27]"
     },
     "metadata": {},
     "output_type": "display_data"
    }
   ],
   "source": [
    "updated_to_matching.shape"
   ]
  },
  {
   "cell_type": "code",
   "execution_count": null,
   "id": "ZHCJ",
   "metadata": {},
   "outputs": [
    {
     "data": {
      "text/html": [
       "<div><style>\n",
       ".dataframe > thead > tr,\n",
       ".dataframe > tbody > tr {\n",
       "  text-align: right;\n",
       "  white-space: pre-wrap;\n",
       "}\n",
       "</style>\n",
       "<small>shape: (8_101, 27)</small><table border=\"1\" class=\"dataframe\"><thead><tr><th>speciesId</th><th>matched_taxonID</th><th>acceptedNameUsageID</th><th>taxonName</th><th>domain</th><th>&hellip;</th><th>specificEpithet</th><th>infraspecificEpithet</th><th>taxonRank</th><th>taxonomicStatus</th><th>parentNameUsageID</th></tr><tr><td>str</td><td>i64</td><td>i64</td><td>str</td><td>str</td><td>&hellip;</td><td>str</td><td>str</td><td>str</td><td>str</td><td>null</td></tr></thead><tbody><tr><td>&quot;A-Anne-Clit-Hirudinea-000001&quot;</td><td>null</td><td>null</td><td>&quot;Glossiphoniidae sp. &quot;1&quot;&quot;</td><td>&quot;Eukarya&quot;</td><td>&hellip;</td><td>&quot;&quot;</td><td>&quot;&quot;</td><td>&quot;BOSuncornirmedSpecies&quot;</td><td>&quot;BOSunformired&quot;</td><td>null</td></tr><tr><td>&quot;A-Anne-Clit-Hirudinea-000002&quot;</td><td>null</td><td>null</td><td>&quot;Glossiphoniidae sp. &quot;2&quot;&quot;</td><td>&quot;Eukarya&quot;</td><td>&hellip;</td><td>&quot;&quot;</td><td>&quot;&quot;</td><td>&quot;BOSuncornirmedSpecies&quot;</td><td>&quot;BOSunformired&quot;</td><td>null</td></tr><tr><td>&quot;A-Anne-Clit-Hirudinea-000003&quot;</td><td>null</td><td>null</td><td>&quot;Glossiphoniidae sp. &quot;3&quot;&quot;</td><td>&quot;Eukarya&quot;</td><td>&hellip;</td><td>&quot;&quot;</td><td>&quot;&quot;</td><td>&quot;BOSuncornirmedSpecies&quot;</td><td>&quot;BOSunformired&quot;</td><td>null</td></tr><tr><td>&quot;A-Anne-Clit-Hirudinea-000004&quot;</td><td>null</td><td>null</td><td>&quot;Hirudinidae sp. &quot;1&quot;&quot;</td><td>&quot;Eukarya&quot;</td><td>&hellip;</td><td>&quot;&quot;</td><td>&quot;&quot;</td><td>&quot;BOSuncornirmedSpecies&quot;</td><td>&quot;BOSunformired&quot;</td><td>null</td></tr><tr><td>&quot;A-Anne-Clit-Hirudinea-000005&quot;</td><td>null</td><td>null</td><td>&quot;Hirudinidae sp. &quot;2&quot;&quot;</td><td>&quot;Eukarya&quot;</td><td>&hellip;</td><td>&quot;&quot;</td><td>&quot;&quot;</td><td>&quot;BOSuncornirmedSpecies&quot;</td><td>&quot;BOSunformired&quot;</td><td>null</td></tr><tr><td>&hellip;</td><td>&hellip;</td><td>&hellip;</td><td>&hellip;</td><td>&hellip;</td><td>&hellip;</td><td>&hellip;</td><td>&hellip;</td><td>&hellip;</td><td>&hellip;</td><td>&hellip;</td></tr><tr><td>&quot;A-Hemi-Enteropneusta-000010&quot;</td><td>null</td><td>null</td><td>&quot;Acorn worm sp.&quot;</td><td>&quot;Eukarya&quot;</td><td>&hellip;</td><td>&quot;&quot;</td><td>&quot;&quot;</td><td>&quot;BOSuncornirmedSpecies&quot;</td><td>&quot;BOSunformired&quot;</td><td>null</td></tr><tr><td>&quot;A-Hemi-Enteropneusta-000011&quot;</td><td>null</td><td>null</td><td>&quot;Acorn worm sp.&quot;</td><td>&quot;Eukarya&quot;</td><td>&hellip;</td><td>&quot;&quot;</td><td>&quot;&quot;</td><td>&quot;BOSuncornirmedSpecies&quot;</td><td>&quot;BOSunformired&quot;</td><td>null</td></tr><tr><td>&quot;A-Phoronida-000002&quot;</td><td>null</td><td>null</td><td>&quot;Phoronida sp.&quot;</td><td>&quot;Eukarya&quot;</td><td>&hellip;</td><td>&quot;&quot;</td><td>&quot;&quot;</td><td>&quot;BOSuncornirmedSpecies&quot;</td><td>&quot;BOSunformired&quot;</td><td>null</td></tr><tr><td>&quot;A-Phoronida-000003&quot;</td><td>null</td><td>null</td><td>&quot;Phoronida sp. SEA-4090&quot;</td><td>&quot;Eukarya&quot;</td><td>&hellip;</td><td>&quot;&quot;</td><td>&quot;&quot;</td><td>&quot;BOSuncornirmedSpecies&quot;</td><td>&quot;BOSunformired&quot;</td><td>null</td></tr><tr><td>&quot;B-Alga-Cyanobacteria-000003&quot;</td><td>null</td><td>null</td><td>&quot;Microcystis icthyoblabe&quot;</td><td>&quot;Eukarya&quot;</td><td>&hellip;</td><td>&quot;icthyoblabe&quot;</td><td>&quot;&quot;</td><td>&quot;BOSuncornirmedSpecies&quot;</td><td>&quot;BOSunformired&quot;</td><td>null</td></tr></tbody></table></div>"
      ]
     },
     "metadata": {},
     "output_type": "display_data"
    }
   ],
   "source": [
    "still_no_match"
   ]
  },
  {
   "cell_type": "markdown",
   "id": "ROlb",
   "metadata": {
    "marimo": {
     "config": {
      "hide_code": true
     }
    }
   },
   "source": [
    "# Second Matching Wrangle"
   ]
  },
  {
   "cell_type": "code",
   "execution_count": null,
   "id": "qnkX",
   "metadata": {},
   "outputs": [],
   "source": [
    "taxons = (\n",
    "    pl.scan_csv(\"gbif/Taxon.tsv\", separator=\"\\t\", quote_char=None, cache=True)\n",
    "    .filter(\n",
    "        pl.col(\"taxonomicStatus\") == pl.lit(\"accepted\"),\n",
    "        pl.col(\"taxonRank\") != \"unranked\",\n",
    "    )\n",
    "    .filter(pl.col(\"kingdom\").is_in([\"Animalia\", \"Plantae\"]))\n",
    "    .select([\"taxonID\"] + priority_columns)\n",
    ")\n",
    "\n",
    "\n",
    "def join_and_parentId_insertion(\n",
    "    match_on: pl.DataFrame, _taxons_subset: pl.DataFrame, on: list\n",
    ") -> pl.DataFrame:\n",
    "    return (\n",
    "        match_on.join(_taxons_subset, on=on)\n",
    "        .with_columns(\n",
    "            parentNameUsageID=pl.when(pl.col(\"taxonID\").is_not_null())\n",
    "            .then(\"taxonID\")\n",
    "            .otherwise(\"parentNameUsageID\")\n",
    "        )\n",
    "        .drop(\"taxonID\")\n",
    "    )"
   ]
  },
  {
   "cell_type": "markdown",
   "id": "TqIu",
   "metadata": {
    "marimo": {
     "config": {
      "hide_code": true
     }
    }
   },
   "source": [
    "##  matching for datapoints where phylumn to class ranks features are not empty strings"
   ]
  },
  {
   "cell_type": "code",
   "execution_count": null,
   "id": "Vxnm",
   "metadata": {},
   "outputs": [],
   "source": [
    "_filter_class = (\n",
    "    pl.col(\"class\") != \"\",\n",
    "    pl.col(\"order\") == \"\",\n",
    "    pl.col(\"family\") == \"\",\n",
    "    pl.col(\"genus\") == \"\",\n",
    "    pl.col(\"specificEpithet\") == \"\",\n",
    "    pl.col(\"infraspecificEpithet\") == \"\",\n",
    ")\n",
    "match_on_class = still_no_match.with_columns(\n",
    "    name_to_match=pl.when(_filter_class).then(\"class\").otherwise(None)\n",
    ").filter(_filter_class)\n",
    "\n",
    "_x_class = (\n",
    "    still_no_match.filter(_filter_class)\n",
    "    .select(\"class\")\n",
    "    .group_by(\"class\")\n",
    "    .len()\n",
    ")\n",
    "\n",
    "_taxons_subset_class = (\n",
    "    taxons.filter(\n",
    "        pl.col(\"family\").is_null(),\n",
    "        pl.col(\"order\").is_null(),\n",
    "        pl.col(\"genus\").is_null(),\n",
    "        pl.col(\"class\").is_in(_x_class[\"class\"].unique().to_list()),\n",
    "        pl.col(\"specificEpithet\").is_null(),\n",
    "        pl.col(\"infraspecificEpithet\").is_null(),\n",
    "    )\n",
    "    .select(\"taxonID\", \"class\")\n",
    "    .collect()\n",
    ")\n",
    "match_on_class = join_and_parentId_insertion(\n",
    "    match_on_class, _taxons_subset_class, [\"class\"]\n",
    ")"
   ]
  },
  {
   "cell_type": "code",
   "execution_count": null,
   "id": "DnEU",
   "metadata": {},
   "outputs": [
    {
     "data": {
      "text/html": [
       "<div><style>\n",
       ".dataframe > thead > tr,\n",
       ".dataframe > tbody > tr {\n",
       "  text-align: right;\n",
       "  white-space: pre-wrap;\n",
       "}\n",
       "</style>\n",
       "<small>shape: (572, 2)</small><table border=\"1\" class=\"dataframe\"><thead><tr><th>parentNameUsageID</th><th>class</th></tr><tr><td>i64</td><td>str</td></tr></thead><tbody><tr><td>136</td><td>&quot;Cephalopoda&quot;</td></tr><tr><td>136</td><td>&quot;Cephalopoda&quot;</td></tr><tr><td>136</td><td>&quot;Cephalopoda&quot;</td></tr><tr><td>136</td><td>&quot;Cephalopoda&quot;</td></tr><tr><td>137</td><td>&quot;Bivalvia&quot;</td></tr><tr><td>&hellip;</td><td>&hellip;</td></tr><tr><td>11545536</td><td>&quot;Copepoda&quot;</td></tr><tr><td>11545536</td><td>&quot;Copepoda&quot;</td></tr><tr><td>11545536</td><td>&quot;Copepoda&quot;</td></tr><tr><td>11545536</td><td>&quot;Copepoda&quot;</td></tr><tr><td>11545536</td><td>&quot;Copepoda&quot;</td></tr></tbody></table></div>"
      ]
     },
     "metadata": {},
     "output_type": "display_data"
    }
   ],
   "source": [
    "match_on_class.select([\"parentNameUsageID\", \"class\"]).sort(\"parentNameUsageID\")"
   ]
  },
  {
   "cell_type": "code",
   "execution_count": null,
   "id": "ulZA",
   "metadata": {},
   "outputs": [
    {
     "data": {
      "text/html": [
       "<div><style>\n",
       ".dataframe > thead > tr,\n",
       ".dataframe > tbody > tr {\n",
       "  text-align: right;\n",
       "  white-space: pre-wrap;\n",
       "}\n",
       "</style>\n",
       "<small>shape: (4, 11)</small><table border=\"1\" class=\"dataframe\"><thead><tr><th>speciesId</th><th>taxonName</th><th>parentNameUsageID</th><th>infraspecificEpithet</th><th>specificEpithet</th><th>&hellip;</th><th>family</th><th>order</th><th>class</th><th>phylum</th><th>kingdom</th></tr><tr><td>str</td><td>str</td><td>i64</td><td>str</td><td>str</td><td>&hellip;</td><td>str</td><td>str</td><td>str</td><td>str</td><td>str</td></tr></thead><tbody><tr><td>&quot;A-Moll-Cephalopoda-000012&quot;</td><td>&quot;Squid eggs&quot;</td><td>136</td><td>&quot;&quot;</td><td>&quot;&quot;</td><td>&hellip;</td><td>&quot;&quot;</td><td>&quot;&quot;</td><td>&quot;Cephalopoda&quot;</td><td>&quot;Mollusca&quot;</td><td>&quot;Animalia&quot;</td></tr><tr><td>&quot;A-Moll-Cephalopoda-000062&quot;</td><td>&quot;Squid eggs sp 2&quot;</td><td>136</td><td>&quot;&quot;</td><td>&quot;&quot;</td><td>&hellip;</td><td>&quot;&quot;</td><td>&quot;&quot;</td><td>&quot;Cephalopoda&quot;</td><td>&quot;Mollusca&quot;</td><td>&quot;Animalia&quot;</td></tr><tr><td>&quot;A-Moll-Cephalopoda-000021&quot;</td><td>&quot;Squid sp. 1&quot;</td><td>136</td><td>&quot;&quot;</td><td>&quot;&quot;</td><td>&hellip;</td><td>&quot;&quot;</td><td>&quot;&quot;</td><td>&quot;Cephalopoda&quot;</td><td>&quot;Mollusca&quot;</td><td>&quot;Animalia&quot;</td></tr><tr><td>&quot;A-Moll-Cephalopoda-000032&quot;</td><td>&quot;Squid sp. 2&quot;</td><td>136</td><td>&quot;&quot;</td><td>&quot;&quot;</td><td>&hellip;</td><td>&quot;&quot;</td><td>&quot;&quot;</td><td>&quot;Cephalopoda&quot;</td><td>&quot;Mollusca&quot;</td><td>&quot;Animalia&quot;</td></tr></tbody></table></div>"
      ]
     },
     "metadata": {},
     "output_type": "display_data"
    }
   ],
   "source": [
    "match_on_class.select(\n",
    "    [\"speciesId\", \"taxonName\", \"parentNameUsageID\"] + priority_columns\n",
    ").sort(\"parentNameUsageID\").filter(pl.col(\"parentNameUsageID\") == 136)"
   ]
  },
  {
   "cell_type": "markdown",
   "id": "ecfG",
   "metadata": {
    "marimo": {
     "config": {
      "hide_code": true
     }
    }
   },
   "source": [
    "## matching for datapoints where phylum to order ranks features are not empty strings"
   ]
  },
  {
   "cell_type": "code",
   "execution_count": null,
   "id": "Pvdt",
   "metadata": {},
   "outputs": [],
   "source": [
    "_filter_order = (\n",
    "    pl.col(\"class\") != \"\",\n",
    "    pl.col(\"order\") != \"\",\n",
    "    pl.col(\"family\") == \"\",\n",
    "    pl.col(\"genus\") == \"\",\n",
    "    pl.col(\"specificEpithet\") == \"\",\n",
    "    pl.col(\"infraspecificEpithet\") == \"\",\n",
    ")\n",
    "match_on_order = still_no_match.with_columns(\n",
    "    name_to_match=pl.when(_filter_order).then(\"order\").otherwise(None)\n",
    ").filter(_filter_order)\n",
    "_x_order = (\n",
    "    still_no_match.filter(_filter_order)\n",
    "    .select(\"order\")\n",
    "    .group_by(\"order\")\n",
    "    .len()\n",
    ")\n",
    "\n",
    "_taxons_subset_order = (\n",
    "    taxons.filter(\n",
    "        pl.col(\"family\").is_null(),\n",
    "        pl.col(\"order\").is_in(_x_order[\"order\"].unique().to_list()),\n",
    "        pl.col(\"genus\").is_null(),\n",
    "        pl.col(\"specificEpithet\").is_null(),\n",
    "        pl.col(\"infraspecificEpithet\").is_null(),\n",
    "    )\n",
    "    .select(\"taxonID\", \"order\")\n",
    "    .collect()\n",
    ")\n",
    "match_on_order = join_and_parentId_insertion(\n",
    "    match_on_order, _taxons_subset_order, [\"order\"]\n",
    ")"
   ]
  },
  {
   "cell_type": "code",
   "execution_count": null,
   "id": "ZBYS",
   "metadata": {},
   "outputs": [
    {
     "data": {
      "text/html": [
       "<div><style>\n",
       ".dataframe > thead > tr,\n",
       ".dataframe > tbody > tr {\n",
       "  text-align: right;\n",
       "  white-space: pre-wrap;\n",
       "}\n",
       "</style>\n",
       "<small>shape: (1_189, 2)</small><table border=\"1\" class=\"dataframe\"><thead><tr><th>parentNameUsageID</th><th>order</th></tr><tr><td>i64</td><td>str</td></tr></thead><tbody><tr><td>459</td><td>&quot;Octopoda&quot;</td></tr><tr><td>459</td><td>&quot;Octopoda&quot;</td></tr><tr><td>459</td><td>&quot;Octopoda&quot;</td></tr><tr><td>459</td><td>&quot;Octopoda&quot;</td></tr><tr><td>459</td><td>&quot;Octopoda&quot;</td></tr><tr><td>&hellip;</td><td>&hellip;</td></tr><tr><td>12202578</td><td>&quot;Scleralcyonacea&quot;</td></tr><tr><td>12202578</td><td>&quot;Scleralcyonacea&quot;</td></tr><tr><td>12202578</td><td>&quot;Scleralcyonacea&quot;</td></tr><tr><td>12202578</td><td>&quot;Scleralcyonacea&quot;</td></tr><tr><td>12202578</td><td>&quot;Scleralcyonacea&quot;</td></tr></tbody></table></div>"
      ]
     },
     "metadata": {},
     "output_type": "display_data"
    }
   ],
   "source": [
    "match_on_order.select([\"parentNameUsageID\", \"order\"]).sort(\"parentNameUsageID\")"
   ]
  },
  {
   "cell_type": "code",
   "execution_count": null,
   "id": "aLJB",
   "metadata": {},
   "outputs": [
    {
     "data": {
      "text/html": [
       "<div><style>\n",
       ".dataframe > thead > tr,\n",
       ".dataframe > tbody > tr {\n",
       "  text-align: right;\n",
       "  white-space: pre-wrap;\n",
       "}\n",
       "</style>\n",
       "<small>shape: (35, 11)</small><table border=\"1\" class=\"dataframe\"><thead><tr><th>speciesId</th><th>taxonName</th><th>parentNameUsageID</th><th>infraspecificEpithet</th><th>specificEpithet</th><th>&hellip;</th><th>family</th><th>order</th><th>class</th><th>phylum</th><th>kingdom</th></tr><tr><td>str</td><td>str</td><td>i64</td><td>str</td><td>str</td><td>&hellip;</td><td>str</td><td>str</td><td>str</td><td>str</td><td>str</td></tr></thead><tbody><tr><td>&quot;A-Moll-Cephalopoda-000064&quot;</td><td>&quot;Octopus sp.&quot;</td><td>459</td><td>&quot;&quot;</td><td>&quot;&quot;</td><td>&hellip;</td><td>&quot;&quot;</td><td>&quot;Octopoda&quot;</td><td>&quot;Cephalopoda&quot;</td><td>&quot;Mollusca&quot;</td><td>&quot;Animalia&quot;</td></tr><tr><td>&quot;A-Moll-Cephalopoda-000065&quot;</td><td>&quot;Octopus sp.&quot;</td><td>459</td><td>&quot;&quot;</td><td>&quot;&quot;</td><td>&hellip;</td><td>&quot;&quot;</td><td>&quot;Octopoda&quot;</td><td>&quot;Cephalopoda&quot;</td><td>&quot;Mollusca&quot;</td><td>&quot;Animalia&quot;</td></tr><tr><td>&quot;A-Moll-Cephalopoda-000066&quot;</td><td>&quot;Octopus sp.&quot;</td><td>459</td><td>&quot;&quot;</td><td>&quot;&quot;</td><td>&hellip;</td><td>&quot;&quot;</td><td>&quot;Octopoda&quot;</td><td>&quot;Cephalopoda&quot;</td><td>&quot;Mollusca&quot;</td><td>&quot;Animalia&quot;</td></tr><tr><td>&quot;A-Moll-Cephalopoda-000067&quot;</td><td>&quot;Octopus sp.&quot;</td><td>459</td><td>&quot;&quot;</td><td>&quot;&quot;</td><td>&hellip;</td><td>&quot;&quot;</td><td>&quot;Octopoda&quot;</td><td>&quot;Cephalopoda&quot;</td><td>&quot;Mollusca&quot;</td><td>&quot;Animalia&quot;</td></tr><tr><td>&quot;A-Moll-Cephalopoda-000068&quot;</td><td>&quot;Octopus sp.&quot;</td><td>459</td><td>&quot;&quot;</td><td>&quot;&quot;</td><td>&hellip;</td><td>&quot;&quot;</td><td>&quot;Octopoda&quot;</td><td>&quot;Cephalopoda&quot;</td><td>&quot;Mollusca&quot;</td><td>&quot;Animalia&quot;</td></tr><tr><td>&hellip;</td><td>&hellip;</td><td>&hellip;</td><td>&hellip;</td><td>&hellip;</td><td>&hellip;</td><td>&hellip;</td><td>&hellip;</td><td>&hellip;</td><td>&hellip;</td><td>&hellip;</td></tr><tr><td>&quot;A-Moll-Cephalopoda-000041&quot;</td><td>&quot;Octopus sp. 6&quot;</td><td>459</td><td>&quot;&quot;</td><td>&quot;&quot;</td><td>&hellip;</td><td>&quot;&quot;</td><td>&quot;Octopoda&quot;</td><td>&quot;Cephalopoda&quot;</td><td>&quot;Mollusca&quot;</td><td>&quot;Animalia&quot;</td></tr><tr><td>&quot;A-Moll-Cephalopoda-000042&quot;</td><td>&quot;Octopus sp. 7&quot;</td><td>459</td><td>&quot;&quot;</td><td>&quot;&quot;</td><td>&hellip;</td><td>&quot;&quot;</td><td>&quot;Octopoda&quot;</td><td>&quot;Cephalopoda&quot;</td><td>&quot;Mollusca&quot;</td><td>&quot;Animalia&quot;</td></tr><tr><td>&quot;A-Moll-Cephalopoda-000043&quot;</td><td>&quot;Octopus sp. 8&quot;</td><td>459</td><td>&quot;&quot;</td><td>&quot;&quot;</td><td>&hellip;</td><td>&quot;&quot;</td><td>&quot;Octopoda&quot;</td><td>&quot;Cephalopoda&quot;</td><td>&quot;Mollusca&quot;</td><td>&quot;Animalia&quot;</td></tr><tr><td>&quot;A-Moll-Cephalopoda-000044&quot;</td><td>&quot;Octopus sp. 9&quot;</td><td>459</td><td>&quot;&quot;</td><td>&quot;&quot;</td><td>&hellip;</td><td>&quot;&quot;</td><td>&quot;Octopoda&quot;</td><td>&quot;Cephalopoda&quot;</td><td>&quot;Mollusca&quot;</td><td>&quot;Animalia&quot;</td></tr><tr><td>&quot;A-Moll-Cephalopoda-000063&quot;</td><td>&quot;Octopus sp. SS-4372&quot;</td><td>459</td><td>&quot;&quot;</td><td>&quot;&quot;</td><td>&hellip;</td><td>&quot;&quot;</td><td>&quot;Octopoda&quot;</td><td>&quot;Cephalopoda&quot;</td><td>&quot;Mollusca&quot;</td><td>&quot;Animalia&quot;</td></tr></tbody></table></div>"
      ]
     },
     "metadata": {},
     "output_type": "display_data"
    }
   ],
   "source": [
    "match_on_order.select(\n",
    "    [\"speciesId\", \"taxonName\", \"parentNameUsageID\"] + priority_columns\n",
    ").sort(\"parentNameUsageID\").filter(pl.col(\"parentNameUsageID\") == 459)"
   ]
  },
  {
   "cell_type": "markdown",
   "id": "nHfw",
   "metadata": {
    "marimo": {
     "config": {
      "hide_code": true
     }
    }
   },
   "source": [
    "## matching for datapoints where phylum to family ranks features are not empty"
   ]
  },
  {
   "cell_type": "code",
   "execution_count": null,
   "id": "xXTn",
   "metadata": {},
   "outputs": [],
   "source": [
    "_filter_family = (\n",
    "    pl.col(\"class\") != \"\",\n",
    "    pl.col(\"order\") != \"\",\n",
    "    pl.col(\"family\") != \"\",\n",
    "    pl.col(\"genus\") == \"\",\n",
    "    pl.col(\"specificEpithet\") == \"\",\n",
    "    pl.col(\"infraspecificEpithet\") == \"\",\n",
    ")\n",
    "match_on_family = still_no_match.with_columns(\n",
    "    name_to_match=pl.when(_filter_family).then(\"family\").otherwise(None)\n",
    ").filter(_filter_family)\n",
    "_x_family = (\n",
    "    still_no_match.filter(_filter_family)\n",
    "    .select(\"family\", \"order\")\n",
    "    .group_by(\"family\", \"order\")\n",
    "    .len()\n",
    ")\n",
    "\n",
    "_taxons_subset_family = (\n",
    "    taxons.filter(\n",
    "        pl.col(\"order\").is_in(_x_family[\"order\"].unique().to_list()),\n",
    "        pl.col(\"family\").is_in(_x_family[\"family\"].unique().to_list()),\n",
    "        pl.col(\"genus\").is_null(),\n",
    "        pl.col(\"specificEpithet\").is_null(),\n",
    "        pl.col(\"infraspecificEpithet\").is_null(),\n",
    "    )\n",
    "    .select(\"taxonID\", \"family\")\n",
    "    .collect()\n",
    ")\n",
    "match_on_family = join_and_parentId_insertion(\n",
    "    match_on_family, _taxons_subset_family, [\"family\"]\n",
    ")"
   ]
  },
  {
   "cell_type": "code",
   "execution_count": null,
   "id": "AjVT",
   "metadata": {},
   "outputs": [
    {
     "data": {
      "text/html": [
       "<div><style>\n",
       ".dataframe > thead > tr,\n",
       ".dataframe > tbody > tr {\n",
       "  text-align: right;\n",
       "  white-space: pre-wrap;\n",
       "}\n",
       "</style>\n",
       "<small>shape: (2_763, 11)</small><table border=\"1\" class=\"dataframe\"><thead><tr><th>speciesId</th><th>taxonName</th><th>parentNameUsageID</th><th>infraspecificEpithet</th><th>specificEpithet</th><th>&hellip;</th><th>family</th><th>order</th><th>class</th><th>phylum</th><th>kingdom</th></tr><tr><td>str</td><td>str</td><td>i64</td><td>str</td><td>str</td><td>&hellip;</td><td>str</td><td>str</td><td>str</td><td>str</td><td>str</td></tr></thead><tbody><tr><td>&quot;A-Arth-Crus-Isopoda-000023&quot;</td><td>&quot;Sphaeromatidae sp. 1&quot;</td><td>2045</td><td>&quot;&quot;</td><td>&quot;&quot;</td><td>&hellip;</td><td>&quot;Sphaeromatidae&quot;</td><td>&quot;Isopoda&quot;</td><td>&quot;Malacostraca&quot;</td><td>&quot;Arthropoda&quot;</td><td>&quot;Animalia&quot;</td></tr><tr><td>&quot;A-Arth-Crus-Isopoda-000024&quot;</td><td>&quot;Sphaeromatidae sp. 2&quot;</td><td>2045</td><td>&quot;&quot;</td><td>&quot;&quot;</td><td>&hellip;</td><td>&quot;Sphaeromatidae&quot;</td><td>&quot;Isopoda&quot;</td><td>&quot;Malacostraca&quot;</td><td>&quot;Arthropoda&quot;</td><td>&quot;Animalia&quot;</td></tr><tr><td>&quot;A-Arth-Crus-Isopoda-000025&quot;</td><td>&quot;Sphaeromatidae sp. 3&quot;</td><td>2045</td><td>&quot;&quot;</td><td>&quot;&quot;</td><td>&hellip;</td><td>&quot;Sphaeromatidae&quot;</td><td>&quot;Isopoda&quot;</td><td>&quot;Malacostraca&quot;</td><td>&quot;Arthropoda&quot;</td><td>&quot;Animalia&quot;</td></tr><tr><td>&quot;A-Arth-Crus-Isopoda-000026&quot;</td><td>&quot;Sphaeromatidae sp. 4&quot;</td><td>2045</td><td>&quot;&quot;</td><td>&quot;&quot;</td><td>&hellip;</td><td>&quot;Sphaeromatidae&quot;</td><td>&quot;Isopoda&quot;</td><td>&quot;Malacostraca&quot;</td><td>&quot;Arthropoda&quot;</td><td>&quot;Animalia&quot;</td></tr><tr><td>&quot;A-Arth-Crus-Isopoda-000027&quot;</td><td>&quot;Sphaeromatidae sp. 5&quot;</td><td>2045</td><td>&quot;&quot;</td><td>&quot;&quot;</td><td>&hellip;</td><td>&quot;Sphaeromatidae&quot;</td><td>&quot;Isopoda&quot;</td><td>&quot;Malacostraca&quot;</td><td>&quot;Arthropoda&quot;</td><td>&quot;Animalia&quot;</td></tr><tr><td>&hellip;</td><td>&hellip;</td><td>&hellip;</td><td>&hellip;</td><td>&hellip;</td><td>&hellip;</td><td>&hellip;</td><td>&hellip;</td><td>&hellip;</td><td>&hellip;</td><td>&hellip;</td></tr><tr><td>&quot;A-Arth-Hexa-Diptera-002917&quot;</td><td>&quot;Sphaeroceridae sp. ZRC_BDP0294…</td><td>11928281</td><td>&quot;&quot;</td><td>&quot;&quot;</td><td>&hellip;</td><td>&quot;Sphaeroceridae&quot;</td><td>&quot;Diptera&quot;</td><td>&quot;Insecta&quot;</td><td>&quot;Arthopoda&quot;</td><td>&quot;Animalia&quot;</td></tr><tr><td>&quot;A-Arth-Hexa-Diptera-002918&quot;</td><td>&quot;Sphaeroceridae sp. ZRC_BDP0303…</td><td>11928281</td><td>&quot;&quot;</td><td>&quot;&quot;</td><td>&hellip;</td><td>&quot;Sphaeroceridae&quot;</td><td>&quot;Diptera&quot;</td><td>&quot;Insecta&quot;</td><td>&quot;Arthopoda&quot;</td><td>&quot;Animalia&quot;</td></tr><tr><td>&quot;A-Arth-Hexa-Diptera-002919&quot;</td><td>&quot;Sphaeroceridae sp. ZRC_BDP0309…</td><td>11928281</td><td>&quot;&quot;</td><td>&quot;&quot;</td><td>&hellip;</td><td>&quot;Sphaeroceridae&quot;</td><td>&quot;Diptera&quot;</td><td>&quot;Insecta&quot;</td><td>&quot;Arthopoda&quot;</td><td>&quot;Animalia&quot;</td></tr><tr><td>&quot;A-Arth-Hexa-Diptera-002920&quot;</td><td>&quot;Sphaeroceridae sp. ZRC_BDP0310…</td><td>11928281</td><td>&quot;&quot;</td><td>&quot;&quot;</td><td>&hellip;</td><td>&quot;Sphaeroceridae&quot;</td><td>&quot;Diptera&quot;</td><td>&quot;Insecta&quot;</td><td>&quot;Arthopoda&quot;</td><td>&quot;Animalia&quot;</td></tr><tr><td>&quot;A-Arth-Hexa-Diptera-003078&quot;</td><td>&quot;Sphaeroceridae sp. ZRC_MIS0000…</td><td>11928281</td><td>&quot;&quot;</td><td>&quot;&quot;</td><td>&hellip;</td><td>&quot;Sphaeroceridae&quot;</td><td>&quot;Diptera&quot;</td><td>&quot;Insecta&quot;</td><td>&quot;Arthopoda&quot;</td><td>&quot;Animalia&quot;</td></tr></tbody></table></div>"
      ]
     },
     "metadata": {},
     "output_type": "display_data"
    }
   ],
   "source": [
    "match_on_family.select(\n",
    "    [\"speciesId\", \"taxonName\", \"parentNameUsageID\"] + priority_columns\n",
    ").sort(\"parentNameUsageID\")"
   ]
  },
  {
   "cell_type": "code",
   "execution_count": null,
   "id": "pHFh",
   "metadata": {},
   "outputs": [
    {
     "data": {
      "text/html": [
       "<div><style>\n",
       ".dataframe > thead > tr,\n",
       ".dataframe > tbody > tr {\n",
       "  text-align: right;\n",
       "  white-space: pre-wrap;\n",
       "}\n",
       "</style>\n",
       "<small>shape: (48, 11)</small><table border=\"1\" class=\"dataframe\"><thead><tr><th>speciesId</th><th>taxonName</th><th>parentNameUsageID</th><th>infraspecificEpithet</th><th>specificEpithet</th><th>&hellip;</th><th>family</th><th>order</th><th>class</th><th>phylum</th><th>kingdom</th></tr><tr><td>str</td><td>str</td><td>i64</td><td>str</td><td>str</td><td>&hellip;</td><td>str</td><td>str</td><td>str</td><td>str</td><td>str</td></tr></thead><tbody><tr><td>&quot;A-Arth-Crus-Isopoda-000023&quot;</td><td>&quot;Sphaeromatidae sp. 1&quot;</td><td>2045</td><td>&quot;&quot;</td><td>&quot;&quot;</td><td>&hellip;</td><td>&quot;Sphaeromatidae&quot;</td><td>&quot;Isopoda&quot;</td><td>&quot;Malacostraca&quot;</td><td>&quot;Arthropoda&quot;</td><td>&quot;Animalia&quot;</td></tr><tr><td>&quot;A-Arth-Crus-Isopoda-000024&quot;</td><td>&quot;Sphaeromatidae sp. 2&quot;</td><td>2045</td><td>&quot;&quot;</td><td>&quot;&quot;</td><td>&hellip;</td><td>&quot;Sphaeromatidae&quot;</td><td>&quot;Isopoda&quot;</td><td>&quot;Malacostraca&quot;</td><td>&quot;Arthropoda&quot;</td><td>&quot;Animalia&quot;</td></tr><tr><td>&quot;A-Arth-Crus-Isopoda-000025&quot;</td><td>&quot;Sphaeromatidae sp. 3&quot;</td><td>2045</td><td>&quot;&quot;</td><td>&quot;&quot;</td><td>&hellip;</td><td>&quot;Sphaeromatidae&quot;</td><td>&quot;Isopoda&quot;</td><td>&quot;Malacostraca&quot;</td><td>&quot;Arthropoda&quot;</td><td>&quot;Animalia&quot;</td></tr><tr><td>&quot;A-Arth-Crus-Isopoda-000026&quot;</td><td>&quot;Sphaeromatidae sp. 4&quot;</td><td>2045</td><td>&quot;&quot;</td><td>&quot;&quot;</td><td>&hellip;</td><td>&quot;Sphaeromatidae&quot;</td><td>&quot;Isopoda&quot;</td><td>&quot;Malacostraca&quot;</td><td>&quot;Arthropoda&quot;</td><td>&quot;Animalia&quot;</td></tr><tr><td>&quot;A-Arth-Crus-Isopoda-000027&quot;</td><td>&quot;Sphaeromatidae sp. 5&quot;</td><td>2045</td><td>&quot;&quot;</td><td>&quot;&quot;</td><td>&hellip;</td><td>&quot;Sphaeromatidae&quot;</td><td>&quot;Isopoda&quot;</td><td>&quot;Malacostraca&quot;</td><td>&quot;Arthropoda&quot;</td><td>&quot;Animalia&quot;</td></tr><tr><td>&hellip;</td><td>&hellip;</td><td>&hellip;</td><td>&hellip;</td><td>&hellip;</td><td>&hellip;</td><td>&hellip;</td><td>&hellip;</td><td>&hellip;</td><td>&hellip;</td><td>&hellip;</td></tr><tr><td>&quot;A-Arth-Crus-Isopoda-000145&quot;</td><td>&quot;Sphaeromatidae sp. 44&quot;</td><td>2045</td><td>&quot;&quot;</td><td>&quot;&quot;</td><td>&hellip;</td><td>&quot;Sphaeromatidae&quot;</td><td>&quot;Isopoda&quot;</td><td>&quot;Malacostraca&quot;</td><td>&quot;Arthropoda&quot;</td><td>&quot;Animalia&quot;</td></tr><tr><td>&quot;A-Arth-Crus-Isopoda-000146&quot;</td><td>&quot;Sphaeromatidae sp. 45&quot;</td><td>2045</td><td>&quot;&quot;</td><td>&quot;&quot;</td><td>&hellip;</td><td>&quot;Sphaeromatidae&quot;</td><td>&quot;Isopoda&quot;</td><td>&quot;Malacostraca&quot;</td><td>&quot;Arthropoda&quot;</td><td>&quot;Animalia&quot;</td></tr><tr><td>&quot;A-Arth-Crus-Isopoda-000147&quot;</td><td>&quot;Sphaeromatidae sp. 46&quot;</td><td>2045</td><td>&quot;&quot;</td><td>&quot;&quot;</td><td>&hellip;</td><td>&quot;Sphaeromatidae&quot;</td><td>&quot;Isopoda&quot;</td><td>&quot;Malacostraca&quot;</td><td>&quot;Arthropoda&quot;</td><td>&quot;Animalia&quot;</td></tr><tr><td>&quot;A-Arth-Crus-Isopoda-000148&quot;</td><td>&quot;Sphaeromatidae sp. 47&quot;</td><td>2045</td><td>&quot;&quot;</td><td>&quot;&quot;</td><td>&hellip;</td><td>&quot;Sphaeromatidae&quot;</td><td>&quot;Isopoda&quot;</td><td>&quot;Malacostraca&quot;</td><td>&quot;Arthropoda&quot;</td><td>&quot;Animalia&quot;</td></tr><tr><td>&quot;A-Arth-Crus-Isopoda-000149&quot;</td><td>&quot;Sphaeromatidae sp. 48&quot;</td><td>2045</td><td>&quot;&quot;</td><td>&quot;&quot;</td><td>&hellip;</td><td>&quot;Sphaeromatidae&quot;</td><td>&quot;Isopoda&quot;</td><td>&quot;Malacostraca&quot;</td><td>&quot;Arthropoda&quot;</td><td>&quot;Animalia&quot;</td></tr></tbody></table></div>"
      ]
     },
     "metadata": {},
     "output_type": "display_data"
    }
   ],
   "source": [
    "match_on_family.select(\n",
    "    [\"speciesId\", \"taxonName\", \"parentNameUsageID\"] + priority_columns\n",
    ").sort(\"parentNameUsageID\").filter(pl.col(\"parentNameUsageID\") == 2045)"
   ]
  },
  {
   "cell_type": "markdown",
   "id": "NCOB",
   "metadata": {},
   "source": [
    "# matching for datapoints where phylum to genus ranks features are not empty strings"
   ]
  },
  {
   "cell_type": "code",
   "execution_count": null,
   "id": "aqbW",
   "metadata": {},
   "outputs": [],
   "source": [
    "_filter_genus = (\n",
    "    pl.col(\"class\") != \"\",\n",
    "    pl.col(\"order\") != \"\",\n",
    "    pl.col(\"family\") != \"\",\n",
    "    pl.col(\"genus\") != \"\",\n",
    "    pl.col(\"specificEpithet\") == \"\",\n",
    "    pl.col(\"infraspecificEpithet\") == \"\",\n",
    ")\n",
    "\n",
    "to_be_match_on_genus = still_no_match.filter(_filter_genus)\n",
    "\n",
    "_x_genus = (\n",
    "    still_no_match.filter(_filter_genus)\n",
    "    .select(\"genus\")\n",
    "    .group_by(\"genus\")\n",
    "    .len()\n",
    ")\n",
    "\n",
    "_taxons_subset_genus = (\n",
    "    taxons.filter(\n",
    "        pl.col(\"genus\").is_in(_x_genus[\"genus\"].unique().to_list()),\n",
    "        pl.col(\"specificEpithet\").is_null(),\n",
    "        pl.col(\"infraspecificEpithet\").is_null(),\n",
    "    )\n",
    "    .select(\"taxonID\", \"genus\")\n",
    "    .collect()\n",
    ")\n",
    "match_on_genus = join_and_parentId_insertion(\n",
    "    to_be_match_on_genus,\n",
    "    _taxons_subset_genus,\n",
    "    [\"genus\"],\n",
    ")"
   ]
  },
  {
   "cell_type": "code",
   "execution_count": null,
   "id": "TRpd",
   "metadata": {},
   "outputs": [
    {
     "data": {
      "text/html": [
       "<div><style>\n",
       ".dataframe > thead > tr,\n",
       ".dataframe > tbody > tr {\n",
       "  text-align: right;\n",
       "  white-space: pre-wrap;\n",
       "}\n",
       "</style>\n",
       "<small>shape: (2_633, 11)</small><table border=\"1\" class=\"dataframe\"><thead><tr><th>speciesId</th><th>taxonName</th><th>parentNameUsageID</th><th>infraspecificEpithet</th><th>specificEpithet</th><th>&hellip;</th><th>family</th><th>order</th><th>class</th><th>phylum</th><th>kingdom</th></tr><tr><td>str</td><td>str</td><td>i64</td><td>str</td><td>str</td><td>&hellip;</td><td>str</td><td>str</td><td>str</td><td>str</td><td>str</td></tr></thead><tbody><tr><td>&quot;A-Bryozoa-000006&quot;</td><td>&quot;Celleporaria sp.&quot;</td><td>1004617</td><td>&quot;&quot;</td><td>&quot;&quot;</td><td>&hellip;</td><td>&quot;Lepraliellidae&quot;</td><td>&quot;Cheilostomatida&quot;</td><td>&quot;Gymnolaemata&quot;</td><td>&quot;Bryozoa&quot;</td><td>&quot;Animalia&quot;</td></tr><tr><td>&quot;A-Bryozoa-000041&quot;</td><td>&quot;Celleporaria sp. 2&quot;</td><td>1004617</td><td>&quot;&quot;</td><td>&quot;&quot;</td><td>&hellip;</td><td>&quot;Lepraliellidae&quot;</td><td>&quot;Cheilostomatida&quot;</td><td>&quot;Gymnolaemata&quot;</td><td>&quot;Bryozoa&quot;</td><td>&quot;Animalia&quot;</td></tr><tr><td>&quot;A-Bryozoa-000042&quot;</td><td>&quot;Celleporaria sp. 3&quot;</td><td>1004617</td><td>&quot;&quot;</td><td>&quot;&quot;</td><td>&hellip;</td><td>&quot;Lepraliellidae&quot;</td><td>&quot;Cheilostomatida&quot;</td><td>&quot;Gymnolaemata&quot;</td><td>&quot;Bryozoa&quot;</td><td>&quot;Animalia&quot;</td></tr><tr><td>&quot;A-Bryozoa-000043&quot;</td><td>&quot;Celleporaria sp. 4&quot;</td><td>1004617</td><td>&quot;&quot;</td><td>&quot;&quot;</td><td>&hellip;</td><td>&quot;Lepraliellidae&quot;</td><td>&quot;Cheilostomatida&quot;</td><td>&quot;Gymnolaemata&quot;</td><td>&quot;Bryozoa&quot;</td><td>&quot;Animalia&quot;</td></tr><tr><td>&quot;A-Bryozoa-000012&quot;</td><td>&quot;Triphyllozoon sp.&quot;</td><td>1004892</td><td>&quot;&quot;</td><td>&quot;&quot;</td><td>&hellip;</td><td>&quot;Phidoloporidae&quot;</td><td>&quot;Cheilostomatida&quot;</td><td>&quot;Gymnolaemata&quot;</td><td>&quot;Bryozoa&quot;</td><td>&quot;Animalia&quot;</td></tr><tr><td>&hellip;</td><td>&hellip;</td><td>&hellip;</td><td>&hellip;</td><td>&hellip;</td><td>&hellip;</td><td>&hellip;</td><td>&hellip;</td><td>&hellip;</td><td>&hellip;</td><td>&hellip;</td></tr><tr><td>&quot;A-Arth-Hexa-Diptera-002483&quot;</td><td>&quot;Siphona (Asiphona) sp. ZRC_BDP…</td><td>11592210</td><td>&quot;&quot;</td><td>&quot;&quot;</td><td>&hellip;</td><td>&quot;Tachinidae&quot;</td><td>&quot;Diptera&quot;</td><td>&quot;Insecta&quot;</td><td>&quot;Arthopoda&quot;</td><td>&quot;Animalia&quot;</td></tr><tr><td>&quot;A-Arth-Hexa-Diptera-002613&quot;</td><td>&quot;Siphona (Asiphona) sp. ZRC_BDP…</td><td>11592210</td><td>&quot;&quot;</td><td>&quot;&quot;</td><td>&hellip;</td><td>&quot;Tachinidae&quot;</td><td>&quot;Diptera&quot;</td><td>&quot;Insecta&quot;</td><td>&quot;Arthopoda&quot;</td><td>&quot;Animalia&quot;</td></tr><tr><td>&quot;A-Arth-Hexa-Diptera-002618&quot;</td><td>&quot;Siphona (Asiphona) sp. ZRC_BDP…</td><td>11592210</td><td>&quot;&quot;</td><td>&quot;&quot;</td><td>&hellip;</td><td>&quot;Tachinidae&quot;</td><td>&quot;Diptera&quot;</td><td>&quot;Insecta&quot;</td><td>&quot;Arthopoda&quot;</td><td>&quot;Animalia&quot;</td></tr><tr><td>&quot;A-Arth-Hexa-Diptera-001083&quot;</td><td>&quot;Dexia sp. (vittata?) ZRC_BDP00…</td><td>11946306</td><td>&quot;&quot;</td><td>&quot;&quot;</td><td>&hellip;</td><td>&quot;Tachinidae&quot;</td><td>&quot;Diptera&quot;</td><td>&quot;Insecta&quot;</td><td>&quot;Arthopoda&quot;</td><td>&quot;Animalia&quot;</td></tr><tr><td>&quot;A-Arth-Hexa-Diptera-000091&quot;</td><td>&quot;Tanytarsus sp. &quot;GC40&quot;&quot;</td><td>12175832</td><td>&quot;&quot;</td><td>&quot;&quot;</td><td>&hellip;</td><td>&quot;Chironomidae&quot;</td><td>&quot;Diptera&quot;</td><td>&quot;Insecta&quot;</td><td>&quot;Arthopoda&quot;</td><td>&quot;Animalia&quot;</td></tr></tbody></table></div>"
      ]
     },
     "metadata": {},
     "output_type": "display_data"
    }
   ],
   "source": [
    "match_on_genus.select(\n",
    "    [\"speciesId\", \"taxonName\", \"parentNameUsageID\"] + priority_columns\n",
    ").sort(\"parentNameUsageID\")"
   ]
  },
  {
   "cell_type": "code",
   "execution_count": null,
   "id": "TXez",
   "metadata": {},
   "outputs": [
    {
     "data": {
      "text/html": [
       "<div><style>\n",
       ".dataframe > thead > tr,\n",
       ".dataframe > tbody > tr {\n",
       "  text-align: right;\n",
       "  white-space: pre-wrap;\n",
       "}\n",
       "</style>\n",
       "<small>shape: (4, 11)</small><table border=\"1\" class=\"dataframe\"><thead><tr><th>speciesId</th><th>taxonName</th><th>parentNameUsageID</th><th>infraspecificEpithet</th><th>specificEpithet</th><th>&hellip;</th><th>family</th><th>order</th><th>class</th><th>phylum</th><th>kingdom</th></tr><tr><td>str</td><td>str</td><td>i64</td><td>str</td><td>str</td><td>&hellip;</td><td>str</td><td>str</td><td>str</td><td>str</td><td>str</td></tr></thead><tbody><tr><td>&quot;A-Bryozoa-000006&quot;</td><td>&quot;Celleporaria sp.&quot;</td><td>1004617</td><td>&quot;&quot;</td><td>&quot;&quot;</td><td>&hellip;</td><td>&quot;Lepraliellidae&quot;</td><td>&quot;Cheilostomatida&quot;</td><td>&quot;Gymnolaemata&quot;</td><td>&quot;Bryozoa&quot;</td><td>&quot;Animalia&quot;</td></tr><tr><td>&quot;A-Bryozoa-000041&quot;</td><td>&quot;Celleporaria sp. 2&quot;</td><td>1004617</td><td>&quot;&quot;</td><td>&quot;&quot;</td><td>&hellip;</td><td>&quot;Lepraliellidae&quot;</td><td>&quot;Cheilostomatida&quot;</td><td>&quot;Gymnolaemata&quot;</td><td>&quot;Bryozoa&quot;</td><td>&quot;Animalia&quot;</td></tr><tr><td>&quot;A-Bryozoa-000042&quot;</td><td>&quot;Celleporaria sp. 3&quot;</td><td>1004617</td><td>&quot;&quot;</td><td>&quot;&quot;</td><td>&hellip;</td><td>&quot;Lepraliellidae&quot;</td><td>&quot;Cheilostomatida&quot;</td><td>&quot;Gymnolaemata&quot;</td><td>&quot;Bryozoa&quot;</td><td>&quot;Animalia&quot;</td></tr><tr><td>&quot;A-Bryozoa-000043&quot;</td><td>&quot;Celleporaria sp. 4&quot;</td><td>1004617</td><td>&quot;&quot;</td><td>&quot;&quot;</td><td>&hellip;</td><td>&quot;Lepraliellidae&quot;</td><td>&quot;Cheilostomatida&quot;</td><td>&quot;Gymnolaemata&quot;</td><td>&quot;Bryozoa&quot;</td><td>&quot;Animalia&quot;</td></tr></tbody></table></div>"
      ]
     },
     "metadata": {},
     "output_type": "display_data"
    }
   ],
   "source": [
    "match_on_genus.select(\n",
    "    [\"speciesId\", \"taxonName\", \"parentNameUsageID\"] + priority_columns\n",
    ").sort(\"parentNameUsageID\").filter(pl.col(\"parentNameUsageID\") == 1004617)"
   ]
  },
  {
   "cell_type": "code",
   "execution_count": null,
   "id": "dNNg",
   "metadata": {},
   "outputs": [
    {
     "data": {
      "text/html": [
       "<div><style>\n",
       ".dataframe > thead > tr,\n",
       ".dataframe > tbody > tr {\n",
       "  text-align: right;\n",
       "  white-space: pre-wrap;\n",
       "}\n",
       "</style>\n",
       "<small>shape: (1, 11)</small><table border=\"1\" class=\"dataframe\"><thead><tr><th>speciesId</th><th>taxonName</th><th>parentNameUsageID</th><th>infraspecificEpithet</th><th>specificEpithet</th><th>&hellip;</th><th>family</th><th>order</th><th>class</th><th>phylum</th><th>kingdom</th></tr><tr><td>str</td><td>str</td><td>i64</td><td>str</td><td>str</td><td>&hellip;</td><td>str</td><td>str</td><td>str</td><td>str</td><td>str</td></tr></thead><tbody><tr><td>&quot;A-Arth-Crus-Decapoda-000285&quot;</td><td>&quot;Paguristes sp. 1&quot;</td><td>2224457</td><td>&quot;&quot;</td><td>&quot;&quot;</td><td>&hellip;</td><td>&quot;Diogenidae&quot;</td><td>&quot;Decapoda&quot;</td><td>&quot;Malacostraca&quot;</td><td>&quot;Arthropoda&quot;</td><td>&quot;Animalia&quot;</td></tr></tbody></table></div>"
      ]
     },
     "metadata": {},
     "output_type": "display_data"
    }
   ],
   "source": [
    "match_on_genus.select(\n",
    "    [\"speciesId\", \"taxonName\", \"parentNameUsageID\"] + priority_columns\n",
    ").filter(pl.col(\"taxonName\") == \"Paguristes sp. 1\").sort(\"parentNameUsageID\")"
   ]
  },
  {
   "cell_type": "code",
   "execution_count": null,
   "id": "yCnT",
   "metadata": {},
   "outputs": [
    {
     "data": {
      "application/json": "[2633, 27]"
     },
     "metadata": {},
     "output_type": "display_data"
    }
   ],
   "source": [
    "match_on_genus.shape"
   ]
  },
  {
   "cell_type": "markdown",
   "id": "wlCL",
   "metadata": {
    "marimo": {
     "config": {
      "hide_code": true
     }
    }
   },
   "source": [
    "## matching for datapoints where phylum to specificEpithet ranks features are not empty strings"
   ]
  },
  {
   "cell_type": "code",
   "execution_count": null,
   "id": "kqZH",
   "metadata": {},
   "outputs": [],
   "source": [
    "_filter_specificEpithet = (\n",
    "    pl.col(\"class\") != \"\",\n",
    "    pl.col(\"order\") != \"\",\n",
    "    pl.col(\"family\") != \"\",\n",
    "    pl.col(\"genus\") != \"\",\n",
    "    pl.col(\"specificEpithet\") != \"\",\n",
    "    pl.col(\"infraspecificEpithet\") == \"\",\n",
    ")\n",
    "\n",
    "to_be_match_on_specificEpithet = still_no_match.filter(_filter_specificEpithet)\n",
    "\n",
    "_x_specificEpithet = (\n",
    "    still_no_match.filter(_filter_specificEpithet)\n",
    "    .select(\"specificEpithet\", \"genus\")\n",
    "    .group_by(\"specificEpithet\", \"genus\")\n",
    "    .len()\n",
    ")\n",
    "\n",
    "_taxons_subset_specificEpithet = (\n",
    "    taxons.filter(\n",
    "        pl.col(\"specificEpithet\").is_in(\n",
    "            _x_specificEpithet[\"specificEpithet\"].unique().to_list()\n",
    "        ),\n",
    "        pl.col(\"genus\").is_in(_x_specificEpithet[\"genus\"].unique().to_list()),\n",
    "        pl.col(\"infraspecificEpithet\").is_not_null(),\n",
    "    )\n",
    "    .select(\"taxonID\", \"specificEpithet\", \"genus\")\n",
    "    .collect()\n",
    ")\n",
    "match_on_specificEpithet = join_and_parentId_insertion(\n",
    "    to_be_match_on_specificEpithet,\n",
    "    _taxons_subset_specificEpithet,\n",
    "    [\"specificEpithet\", \"genus\"],\n",
    ")"
   ]
  },
  {
   "cell_type": "code",
   "execution_count": null,
   "id": "wAgl",
   "metadata": {},
   "outputs": [
    {
     "data": {
      "text/html": [
       "<div><style>\n",
       ".dataframe > thead > tr,\n",
       ".dataframe > tbody > tr {\n",
       "  text-align: right;\n",
       "  white-space: pre-wrap;\n",
       "}\n",
       "</style>\n",
       "<small>shape: (0, 3)</small><table border=\"1\" class=\"dataframe\"><thead><tr><th>specificEpithet</th><th>genus</th><th>parentNameUsageID</th></tr><tr><td>str</td><td>str</td><td>i64</td></tr></thead><tbody></tbody></table></div>"
      ]
     },
     "metadata": {},
     "output_type": "display_data"
    }
   ],
   "source": [
    "match_on_specificEpithet.select(\n",
    "    \"specificEpithet\", \"genus\", \"parentNameUsageID\"\n",
    ")"
   ]
  },
  {
   "cell_type": "markdown",
   "id": "rEll",
   "metadata": {
    "marimo": {
     "config": {
      "hide_code": true
     }
    }
   },
   "source": [
    "##matching for datapoints where phylum to infraspecificEpithet (Except for specificEpithet, no filters involved) ranks features are not empty strings."
   ]
  },
  {
   "cell_type": "code",
   "execution_count": null,
   "id": "dGlV",
   "metadata": {},
   "outputs": [],
   "source": [
    "_filter_infraspecificEpithet = (\n",
    "    pl.col(\"class\") != \"\",\n",
    "    pl.col(\"order\") != \"\",\n",
    "    pl.col(\"family\") != \"\",\n",
    "    pl.col(\"genus\") != \"\",\n",
    "    pl.col(\"infraspecificEpithet\") != \"\",\n",
    ")  # different filter because some don't have specificEpithet either, if I am not wrong\n",
    "to_be_match_on_infraspecificEpithet = still_no_match.filter(\n",
    "    _filter_infraspecificEpithet\n",
    ")\n",
    "\n",
    "_x_infraspecificEpithet = (\n",
    "    still_no_match.filter(_filter_infraspecificEpithet)\n",
    "    .select(\"infraspecificEpithet\", \"genus\")\n",
    "    .group_by(\"infraspecificEpithet\", \"genus\")\n",
    "    .len()\n",
    ")\n",
    "\n",
    "_taxons_subset_infraspecificEpithet = (\n",
    "    taxons.filter(\n",
    "        pl.col(\"infraspecificEpithet\").is_in(\n",
    "            _x_infraspecificEpithet[\"infraspecificEpithet\"].unique().to_list()\n",
    "        ),\n",
    "        pl.col(\"genus\").is_in(\n",
    "            _x_infraspecificEpithet[\"genus\"].unique().to_list()\n",
    "        ),\n",
    "    )\n",
    "    .select(\"taxonID\", \"infraspecificEpithet\", \"genus\")\n",
    "    .collect()\n",
    ")\n",
    "\n",
    "match_on_infraspecificEpithet = join_and_parentId_insertion(\n",
    "    to_be_match_on_infraspecificEpithet,\n",
    "    _taxons_subset_infraspecificEpithet,\n",
    "    [\"infraspecificEpithet\", \"genus\"],\n",
    ")"
   ]
  },
  {
   "cell_type": "code",
   "execution_count": null,
   "id": "SdmI",
   "metadata": {},
   "outputs": [
    {
     "data": {
      "text/html": [
       "<div><style>\n",
       ".dataframe > thead > tr,\n",
       ".dataframe > tbody > tr {\n",
       "  text-align: right;\n",
       "  white-space: pre-wrap;\n",
       "}\n",
       "</style>\n",
       "<small>shape: (20, 11)</small><table border=\"1\" class=\"dataframe\"><thead><tr><th>speciesId</th><th>taxonName</th><th>parentNameUsageID</th><th>infraspecificEpithet</th><th>specificEpithet</th><th>&hellip;</th><th>family</th><th>order</th><th>class</th><th>phylum</th><th>kingdom</th></tr><tr><td>str</td><td>str</td><td>i64</td><td>str</td><td>str</td><td>&hellip;</td><td>str</td><td>str</td><td>str</td><td>str</td><td>str</td></tr></thead><tbody><tr><td>&quot;A-Arth-Hexa-Lepidoptera-000056&quot;</td><td>&quot;Telicota besta bina&quot;</td><td>6204724</td><td>&quot;bina&quot;</td><td>&quot;besta&quot;</td><td>&hellip;</td><td>&quot;Hesperiidae&quot;</td><td>&quot;Lepidoptera&quot;</td><td>&quot;Insecta&quot;</td><td>&quot;&quot;</td><td>&quot;Animalia&quot;</td></tr><tr><td>&quot;A-Arth-Hexa-Lepidoptera-000243&quot;</td><td>&quot;Neptis leucoporos cresina&quot;</td><td>6224905</td><td>&quot;cresina&quot;</td><td>&quot;leucoporos&quot;</td><td>&hellip;</td><td>&quot;Nymphalidae&quot;</td><td>&quot;Lepidoptera&quot;</td><td>&quot;Insecta&quot;</td><td>&quot;&quot;</td><td>&quot;Animalia&quot;</td></tr><tr><td>&quot;A-Arth-Hexa-Lepidoptera-000192&quot;</td><td>&quot;Polyura schreiber tisamenus&quot;</td><td>6233167</td><td>&quot;tisamenus&quot;</td><td>&quot;schreiber&quot;</td><td>&hellip;</td><td>&quot;Nymphalidae&quot;</td><td>&quot;Lepidoptera&quot;</td><td>&quot;Insecta&quot;</td><td>&quot;&quot;</td><td>&quot;Animalia&quot;</td></tr><tr><td>&quot;A-Arth-Hexa-Lepidoptera-000162&quot;</td><td>&quot;Rapala suffusa barthema&quot;</td><td>6236869</td><td>&quot;barthema&quot;</td><td>&quot;suffusa&quot;</td><td>&hellip;</td><td>&quot;Lycaenidae&quot;</td><td>&quot;Lepidoptera&quot;</td><td>&quot;Insecta&quot;</td><td>&quot;&quot;</td><td>&quot;Animalia&quot;</td></tr><tr><td>&quot;A-Arth-Hexa-Lepidoptera-000442&quot;</td><td>&quot;Arhopala phanda phanda&quot;</td><td>6237141</td><td>&quot;phanda&quot;</td><td>&quot;phanda&quot;</td><td>&hellip;</td><td>&quot;Lycaenidae&quot;</td><td>&quot;Lepidoptera&quot;</td><td>&quot;Insecta&quot;</td><td>&quot;&quot;</td><td>&quot;Animalia&quot;</td></tr><tr><td>&hellip;</td><td>&hellip;</td><td>&hellip;</td><td>&hellip;</td><td>&hellip;</td><td>&hellip;</td><td>&hellip;</td><td>&hellip;</td><td>&hellip;</td><td>&hellip;</td><td>&hellip;</td></tr><tr><td>&quot;A-Arth-Hexa-Lepidoptera-000326&quot;</td><td>&quot;Saletara panda distanti&quot;</td><td>11488355</td><td>&quot;distanti&quot;</td><td>&quot;panda&quot;</td><td>&hellip;</td><td>&quot;Pieridae&quot;</td><td>&quot;Lepidoptera&quot;</td><td>&quot;Insecta&quot;</td><td>&quot;&quot;</td><td>&quot;Animalia&quot;</td></tr><tr><td>&quot;A-Arth-Hexa-Coleoptera-000610&quot;</td><td>&quot;Taeniodera monacha&nbsp;&nbsp;modesta&quot;</td><td>11747532</td><td>&quot;modesta&quot;</td><td>&quot;monacha&quot;</td><td>&hellip;</td><td>&quot;Scarabaeidae&quot;</td><td>&quot;Coleoptera&quot;</td><td>&quot;Insecta&quot;</td><td>&quot;Arthropoda&quot;</td><td>&quot;Animalia&quot;</td></tr><tr><td>&quot;A-Arth-Hexa-Lepidoptera-000305&quot;</td><td>&quot;Troides amphyrysus ruficollis&quot;</td><td>11764150</td><td>&quot;ruficollis&quot;</td><td>&quot;amphyrysus&quot;</td><td>&hellip;</td><td>&quot;Papilionidae&quot;</td><td>&quot;Lepidoptera&quot;</td><td>&quot;Insecta&quot;</td><td>&quot;&quot;</td><td>&quot;Animalia&quot;</td></tr><tr><td>&quot;A-Arth-Hexa-Lepidoptera-000102&quot;</td><td>&quot;Catapaecilma major emas&quot;</td><td>11849200</td><td>&quot;emas&quot;</td><td>&quot;major&quot;</td><td>&hellip;</td><td>&quot;Lycaenidae&quot;</td><td>&quot;Lepidoptera&quot;</td><td>&quot;Insecta&quot;</td><td>&quot;&quot;</td><td>&quot;Animalia&quot;</td></tr><tr><td>&quot;A-Arth-Hexa-Lepidoptera-000243&quot;</td><td>&quot;Neptis leucoporos cresina&quot;</td><td>11890274</td><td>&quot;cresina&quot;</td><td>&quot;leucoporos&quot;</td><td>&hellip;</td><td>&quot;Nymphalidae&quot;</td><td>&quot;Lepidoptera&quot;</td><td>&quot;Insecta&quot;</td><td>&quot;&quot;</td><td>&quot;Animalia&quot;</td></tr></tbody></table></div>"
      ]
     },
     "metadata": {},
     "output_type": "display_data"
    }
   ],
   "source": [
    "match_on_infraspecificEpithet.select(\n",
    "   [\"speciesId\", \"taxonName\", \"parentNameUsageID\"] + priority_columns \n",
    ").sort(\"parentNameUsageID\")"
   ]
  },
  {
   "cell_type": "markdown",
   "id": "lgWD",
   "metadata": {
    "marimo": {
     "config": {
      "hide_code": true
     }
    }
   },
   "source": [
    "## Combining all these second matching wrangling stage dataframes of the ranks"
   ]
  },
  {
   "cell_type": "code",
   "execution_count": null,
   "id": "yOPj",
   "metadata": {},
   "outputs": [
    {
     "name": "stdout",
     "output_type": "stream",
     "text": [
      "second wrangle new matches (7177, 27)\n"
     ]
    },
    {
     "name": "stdout",
     "output_type": "stream",
     "text": [
      "all matches (7646, 27)\n",
      "no match (1567, 27)\n"
     ]
    }
   ],
   "source": [
    "_to_drop = [\"name_to_match\"]\n",
    "match_on_genus.write_csv(\"second_matches_set_for_genus_only.csv\")\n",
    "_new_match = pl.concat(\n",
    "    [\n",
    "        match_on_class.drop(_to_drop),\n",
    "        match_on_order.drop(_to_drop),\n",
    "        match_on_family.drop(_to_drop),\n",
    "        match_on_genus,\n",
    "        match_on_specificEpithet,\n",
    "        match_on_infraspecificEpithet,\n",
    "    ]\n",
    ")\n",
    "print(\"second wrangle new matches\", _new_match.shape)\n",
    "_new_match.write_csv(\"second_matches_set_from_wrangling.csv\")\n",
    "_new_match = pl.concat(\n",
    "    [\n",
    "        _new_match,\n",
    "        updated_to_matching.with_columns(\n",
    "            pl.col(\"parentNameUsageID\").cast(pl.Int64)\n",
    "        ),\n",
    "    ]\n",
    ")\n",
    "_new_match.write_csv(\"updated_to_matching.csv\")\n",
    "_no_match = no_match.join(\n",
    "    _new_match.select(\"speciesId\"), on=\"speciesId\", how=\"anti\"\n",
    ")\n",
    "print(\"all matches\", _new_match.shape)\n",
    "print(\"no match\", _no_match.shape)\n",
    "_no_match.write_csv(\"no_match.csv\")"
   ]
  },
  {
   "cell_type": "code",
   "execution_count": null,
   "id": "fwwy",
   "metadata": {},
   "outputs": [
    {
     "data": {
      "application/json": "[13103, 61]"
     },
     "metadata": {},
     "output_type": "display_data"
    }
   ],
   "source": [
    "bos.shape"
   ]
  }
 ],
 "metadata": {},
 "nbformat": 4,
 "nbformat_minor": 5
}
