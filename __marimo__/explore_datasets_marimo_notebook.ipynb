{
 "cells": [
  {
   "cell_type": "code",
   "execution_count": null,
   "id": "Hbol",
   "metadata": {},
   "outputs": [],
   "source": [
    "import marimo as mo\n",
    "import polars as pl\n",
    "\n",
    "\n",
    "taxon_lf = pl.scan_csv(\n",
    "    \"gbif/Taxon.tsv\",\n",
    "    separator=\"\\t\",\n",
    "    quote_char=None,\n",
    "    cache=True,\n",
    ")\n",
    "columns = \", \".join(taxon_lf.collect_schema().names())"
   ]
  },
  {
   "cell_type": "code",
   "execution_count": null,
   "id": "MJUe",
   "metadata": {
    "marimo": {
     "config": {
      "hide_code": true
     }
    }
   },
   "outputs": [
    {
     "data": {
      "text/html": [
       "<span class=\"markdown prose dark:prose-invert\"><h1 id=\"columns\">Columns</h1>\n",
       "<h3 id=\"taxonid-datasetid-parentnameusageid-acceptednameusageid-originalnameusageid-scientificname-scientificnameauthorship-canonicalname-genericname-specificepithet-infraspecificepithet-taxonrank-nameaccordingto-namepublishedin-taxonomicstatus-nomenclaturalstatus-taxonremarks-kingdom-phylum-class-order-family-genus\">taxonID, datasetID, parentNameUsageID, acceptedNameUsageID, originalNameUsageID, scientificName, scientificNameAuthorship, canonicalName, genericName, specificEpithet, infraspecificEpithet, taxonRank, nameAccordingTo, namePublishedIn, taxonomicStatus, nomenclaturalStatus, taxonRemarks, kingdom, phylum, class, order, family, genus</h3></span>"
      ]
     },
     "metadata": {},
     "output_type": "display_data"
    }
   ],
   "source": [
    "mo.md(\n",
    "    f\"\"\"\n",
    "#Columns\n",
    "### {columns}\n",
    "\"\"\"\n",
    ")"
   ]
  },
  {
   "cell_type": "markdown",
   "id": "vblA",
   "metadata": {
    "marimo": {
     "config": {
      "hide_code": true
     }
    }
   },
   "source": [
    "# Describe taxon_lf"
   ]
  },
  {
   "cell_type": "code",
   "execution_count": null,
   "id": "bkHC",
   "metadata": {
    "marimo": {
     "config": {
      "hide_code": true
     }
    }
   },
   "outputs": [
    {
     "data": {
      "text/html": [
       "<div><style>\n",
       ".dataframe > thead > tr,\n",
       ".dataframe > tbody > tr {\n",
       "  text-align: right;\n",
       "  white-space: pre-wrap;\n",
       "}\n",
       "</style>\n",
       "<small>shape: (9, 24)</small><table border=\"1\" class=\"dataframe\"><thead><tr><th>statistic</th><th>taxonID</th><th>datasetID</th><th>parentNameUsageID</th><th>acceptedNameUsageID</th><th>originalNameUsageID</th><th>scientificName</th><th>scientificNameAuthorship</th><th>canonicalName</th><th>genericName</th><th>specificEpithet</th><th>infraspecificEpithet</th><th>taxonRank</th><th>nameAccordingTo</th><th>namePublishedIn</th><th>taxonomicStatus</th><th>nomenclaturalStatus</th><th>taxonRemarks</th><th>kingdom</th><th>phylum</th><th>class</th><th>order</th><th>family</th><th>genus</th></tr><tr><td>str</td><td>f64</td><td>str</td><td>f64</td><td>str</td><td>str</td><td>str</td><td>str</td><td>str</td><td>str</td><td>str</td><td>str</td><td>str</td><td>str</td><td>str</td><td>str</td><td>str</td><td>str</td><td>str</td><td>str</td><td>str</td><td>str</td><td>str</td><td>str</td></tr></thead><tbody><tr><td>&quot;count&quot;</td><td>7.746724e6</td><td>&quot;7697161&quot;</td><td>7.746691e6</td><td>&quot;3294454&quot;</td><td>&quot;1350016&quot;</td><td>&quot;7746724&quot;</td><td>&quot;6244000&quot;</td><td>&quot;6456758&quot;</td><td>&quot;6456757&quot;</td><td>&quot;5883209&quot;</td><td>&quot;890254&quot;</td><td>&quot;7746724&quot;</td><td>&quot;0&quot;</td><td>&quot;4175913&quot;</td><td>&quot;7746724&quot;</td><td>&quot;0&quot;</td><td>&quot;130898&quot;</td><td>&quot;7746724&quot;</td><td>&quot;7668979&quot;</td><td>&quot;7362889&quot;</td><td>&quot;7328668&quot;</td><td>&quot;7395746&quot;</td><td>&quot;7208713&quot;</td></tr><tr><td>&quot;null_count&quot;</td><td>0.0</td><td>&quot;49563&quot;</td><td>33.0</td><td>&quot;4452270&quot;</td><td>&quot;6396708&quot;</td><td>&quot;0&quot;</td><td>&quot;1502724&quot;</td><td>&quot;1289966&quot;</td><td>&quot;1289967&quot;</td><td>&quot;1863515&quot;</td><td>&quot;6856470&quot;</td><td>&quot;0&quot;</td><td>&quot;7746724&quot;</td><td>&quot;3570811&quot;</td><td>&quot;0&quot;</td><td>&quot;7746724&quot;</td><td>&quot;7615826&quot;</td><td>&quot;0&quot;</td><td>&quot;77745&quot;</td><td>&quot;383835&quot;</td><td>&quot;418056&quot;</td><td>&quot;350978&quot;</td><td>&quot;538011&quot;</td></tr><tr><td>&quot;mean&quot;</td><td>7.0081e6</td><td>null</td><td>3.5402e6</td><td>null</td><td>null</td><td>null</td><td>null</td><td>null</td><td>null</td><td>null</td><td>null</td><td>null</td><td>null</td><td>null</td><td>null</td><td>null</td><td>null</td><td>null</td><td>null</td><td>null</td><td>null</td><td>null</td><td>null</td></tr><tr><td>&quot;std&quot;</td><td>3.4851e6</td><td>null</td><td>2.8307e6</td><td>null</td><td>null</td><td>null</td><td>null</td><td>null</td><td>null</td><td>null</td><td>null</td><td>null</td><td>null</td><td>null</td><td>null</td><td>null</td><td>null</td><td>null</td><td>null</td><td>null</td><td>null</td><td>null</td><td>null</td></tr><tr><td>&quot;min&quot;</td><td>0.0</td><td>&quot;00024397-569d-43a8-9e08-9a1072…</td><td>0.0</td><td>&quot;10000028&quot;</td><td>&quot;10000031&quot;</td><td>&quot;&quot;Betula nana x pubescens ssp. …</td><td>&quot;&#x27;t Hart&quot;</td><td>&quot;? 12-guttata&quot;</td><td>&quot;?&quot;</td><td>&quot;0vatum&quot;</td><td>&quot;10-radiata&quot;</td><td>&quot;class&quot;</td><td>null</td><td>&quot;!Cactus, 8: 249, 249, 1953&quot;</td><td>&quot;accepted&quot;</td><td>null</td><td>&quot;In the 2022 Catalogue of Life …</td><td>&quot;Animalia&quot;</td><td>&quot;4484-113&quot;</td><td>&quot;0-14-0-80-59-12&quot;</td><td>&quot;0-14-0-10-38-17&quot;</td><td>&quot;0-14-0-20-34-12&quot;</td><td>&quot;0-14-0-20-44-26&quot;</td></tr><tr><td>&quot;25%&quot;</td><td>3.936779e6</td><td>null</td><td>1.716586e6</td><td>null</td><td>null</td><td>null</td><td>null</td><td>null</td><td>null</td><td>null</td><td>null</td><td>null</td><td>null</td><td>null</td><td>null</td><td>null</td><td>null</td><td>null</td><td>null</td><td>null</td><td>null</td><td>null</td><td>null</td></tr><tr><td>&quot;50%&quot;</td><td>7.512166e6</td><td>null</td><td>2.703895e6</td><td>null</td><td>null</td><td>null</td><td>null</td><td>null</td><td>null</td><td>null</td><td>null</td><td>null</td><td>null</td><td>null</td><td>null</td><td>null</td><td>null</td><td>null</td><td>null</td><td>null</td><td>null</td><td>null</td><td>null</td></tr><tr><td>&quot;75%&quot;</td><td>1.0171892e7</td><td>null</td><td>4.747055e6</td><td>null</td><td>null</td><td>null</td><td>null</td><td>null</td><td>null</td><td>null</td><td>null</td><td>null</td><td>null</td><td>null</td><td>null</td><td>null</td><td>null</td><td>null</td><td>null</td><td>null</td><td>null</td><td>null</td><td>null</td></tr><tr><td>&quot;max&quot;</td><td>1.2390971e7</td><td>&quot;fffc3d5c-425a-47ab-9bb5-c4e1e1…</td><td>1.2386548e7</td><td>&quot;9999981&quot;</td><td>&quot;9999905&quot;</td><td>&quot;×Zygozella J.M.H.Shaw&quot;</td><td>&quot;Șuraru, Gábos &amp; Șuraru, 1967&quot;</td><td>&quot;incertae sedis&quot;</td><td>&quot;Æthomerus&quot;</td><td>&quot;čejkai&quot;</td><td>&quot;öur&quot;</td><td>&quot;variety&quot;</td><td>null</td><td>&quot;﻿Two new millipede species of …</td><td>&quot;synonym&quot;</td><td>null</td><td>&quot;Possible variant of ×Triticose…</td><td>&quot;incertae sedis&quot;</td><td>&quot;Zygomycota&quot;</td><td>&quot;Zymogenia&quot;</td><td>&quot;Zymogeniales&quot;</td><td>&quot;Zythiaceae&quot;</td><td>&quot;[URE3] prion&quot;</td></tr></tbody></table></div>"
      ]
     },
     "metadata": {},
     "output_type": "display_data"
    }
   ],
   "source": [
    "taxon_lf.describe()"
   ]
  },
  {
   "cell_type": "markdown",
   "id": "lEQa",
   "metadata": {
    "marimo": {
     "config": {
      "hide_code": true
     }
    }
   },
   "source": [
    "# taxon_lf sample 10"
   ]
  },
  {
   "cell_type": "code",
   "execution_count": null,
   "id": "PKri",
   "metadata": {
    "marimo": {
     "config": {
      "hide_code": true
     }
    }
   },
   "outputs": [
    {
     "data": {
      "text/html": [
       "<div><style>\n",
       ".dataframe > thead > tr,\n",
       ".dataframe > tbody > tr {\n",
       "  text-align: right;\n",
       "  white-space: pre-wrap;\n",
       "}\n",
       "</style>\n",
       "<small>shape: (5, 23)</small><table border=\"1\" class=\"dataframe\"><thead><tr><th>taxonID</th><th>datasetID</th><th>parentNameUsageID</th><th>acceptedNameUsageID</th><th>originalNameUsageID</th><th>scientificName</th><th>scientificNameAuthorship</th><th>canonicalName</th><th>genericName</th><th>specificEpithet</th><th>infraspecificEpithet</th><th>taxonRank</th><th>nameAccordingTo</th><th>namePublishedIn</th><th>taxonomicStatus</th><th>nomenclaturalStatus</th><th>taxonRemarks</th><th>kingdom</th><th>phylum</th><th>class</th><th>order</th><th>family</th><th>genus</th></tr><tr><td>i64</td><td>str</td><td>i64</td><td>str</td><td>str</td><td>str</td><td>str</td><td>str</td><td>str</td><td>str</td><td>str</td><td>str</td><td>str</td><td>str</td><td>str</td><td>str</td><td>str</td><td>str</td><td>str</td><td>str</td><td>str</td><td>str</td><td>str</td></tr></thead><tbody><tr><td>11193044</td><td>&quot;c33ce2f2-c3cc-43a5-a380-fe4526…</td><td>4849834</td><td>null</td><td>null</td><td>&quot;Tenuicrus magnum (Harrison &amp; W…</td><td>&quot;(Harrison &amp; Walker, 1976)&quot;</td><td>&quot;Tenuicrus magnum&quot;</td><td>&quot;Tenuicrus&quot;</td><td>&quot;magnum&quot;</td><td>null</td><td>&quot;species&quot;</td><td>null</td><td>null</td><td>&quot;accepted&quot;</td><td>null</td><td>null</td><td>&quot;Animalia&quot;</td><td>&quot;Chordata&quot;</td><td>&quot;Aves&quot;</td><td>&quot;Charadriiformes&quot;</td><td>&quot;Recurvirostridae&quot;</td><td>&quot;Kashinia&quot;</td></tr><tr><td>8133661</td><td>&quot;7ddf754f-d193-4cc9-b351-999067…</td><td>2854777</td><td>&quot;5325993&quot;</td><td>null</td><td>&quot;Amaryllis purpurea var. major …</td><td>&quot;Ker Gawl.&quot;</td><td>&quot;Amaryllis purpurea major&quot;</td><td>&quot;Amaryllis&quot;</td><td>&quot;purpurea&quot;</td><td>&quot;major&quot;</td><td>&quot;variety&quot;</td><td>null</td><td>&quot;J. Sci. Arts (London) 2: 361 (…</td><td>&quot;synonym&quot;</td><td>null</td><td>null</td><td>&quot;Plantae&quot;</td><td>&quot;Tracheophyta&quot;</td><td>&quot;Liliopsida&quot;</td><td>&quot;Asparagales&quot;</td><td>&quot;Amaryllidaceae&quot;</td><td>&quot;Cyrtanthus&quot;</td></tr><tr><td>2911409</td><td>&quot;7ddf754f-d193-4cc9-b351-999067…</td><td>2911368</td><td>&quot;2911408&quot;</td><td>&quot;2911411&quot;</td><td>&quot;Uragoga pyrifolia (Hook. &amp; Arn…</td><td>&quot;(Hook. &amp; Arn.) Kuntze&quot;</td><td>&quot;Uragoga pyrifolia&quot;</td><td>&quot;Uragoga&quot;</td><td>&quot;pyrifolia&quot;</td><td>null</td><td>&quot;species&quot;</td><td>null</td><td>&quot;Revis. Gen. Pl. 2: 962 (1891)&quot;</td><td>&quot;synonym&quot;</td><td>null</td><td>null</td><td>&quot;Plantae&quot;</td><td>&quot;Tracheophyta&quot;</td><td>&quot;Magnoliopsida&quot;</td><td>&quot;Gentianales&quot;</td><td>&quot;Rubiaceae&quot;</td><td>&quot;Coprosma&quot;</td></tr><tr><td>10128341</td><td>&quot;4cec8fef-f129-4966-89b7-4f8439…</td><td>4342</td><td>null</td><td>null</td><td>&quot;BOLD:AAP4288&quot;</td><td>null</td><td>null</td><td>null</td><td>null</td><td>null</td><td>&quot;unranked&quot;</td><td>null</td><td>null</td><td>&quot;accepted&quot;</td><td>null</td><td>null</td><td>&quot;Animalia&quot;</td><td>&quot;Arthropoda&quot;</td><td>&quot;Insecta&quot;</td><td>&quot;Hymenoptera&quot;</td><td>&quot;Formicidae&quot;</td><td>null</td></tr><tr><td>12184960</td><td>&quot;4cec8fef-f129-4966-89b7-4f8439…</td><td>4716258</td><td>null</td><td>null</td><td>&quot;BOLD:AES9534&quot;</td><td>null</td><td>null</td><td>null</td><td>null</td><td>null</td><td>&quot;unranked&quot;</td><td>null</td><td>null</td><td>&quot;accepted&quot;</td><td>null</td><td>null</td><td>&quot;Animalia&quot;</td><td>&quot;Arthropoda&quot;</td><td>&quot;Insecta&quot;</td><td>&quot;Coleoptera&quot;</td><td>&quot;Cleridae&quot;</td><td>&quot;Stigmatium&quot;</td></tr></tbody></table></div>"
      ]
     },
     "metadata": {},
     "output_type": "display_data"
    }
   ],
   "source": [
    "@mo.persistent_cache\n",
    "def _x():\n",
    "    return taxon_lf.collect().sample(5)\n",
    "\n",
    "\n",
    "_x()"
   ]
  },
  {
   "cell_type": "markdown",
   "id": "Xref",
   "metadata": {
    "marimo": {
     "config": {
      "hide_code": true
     }
    }
   },
   "source": [
    "# Unique Counts"
   ]
  },
  {
   "cell_type": "code",
   "execution_count": null,
   "id": "SFPL",
   "metadata": {
    "marimo": {
     "config": {
      "hide_code": true
     }
    }
   },
   "outputs": [
    {
     "data": {
      "text/html": [
       "<div><style>\n",
       ".dataframe > thead > tr,\n",
       ".dataframe > tbody > tr {\n",
       "  text-align: right;\n",
       "  white-space: pre-wrap;\n",
       "}\n",
       "</style>\n",
       "<small>shape: (1, 11)</small><table border=\"1\" class=\"dataframe\"><thead><tr><th>kingdom</th><th>phylum</th><th>class</th><th>order</th><th>family</th><th>form</th><th>subspecies</th><th>variety</th><th>genus</th><th>unranked</th><th>species</th></tr></thead><tbody><tr><td>19</td><td>347</td><td>845</td><td>3092</td><td>34356</td><td>87936</td><td>380481</td><td>421934</td><td>547518</td><td>1275874</td><td>4994322</td></tr></tbody></table></div>"
      ]
     },
     "metadata": {},
     "output_type": "display_data"
    }
   ],
   "source": [
    "pl.Config.set_tbl_hide_column_data_types(True)\n",
    "\n",
    "\n",
    "@mo.persistent_cache\n",
    "def _x():\n",
    "    _df = (\n",
    "        taxon_lf.group_by(\"taxonRank\")\n",
    "        .len()\n",
    "        .collect()\n",
    "        .sort(by=\"len\")\n",
    "        .transpose()\n",
    "    )\n",
    "    return (\n",
    "        _df[1, :]\n",
    "        .rename(_df.head(1).to_dicts().pop())\n",
    "        .with_columns(pl.all().cast(pl.Int64))\n",
    "    )\n",
    "\n",
    "\n",
    "_x()"
   ]
  },
  {
   "cell_type": "code",
   "execution_count": null,
   "id": "BYtC",
   "metadata": {},
   "outputs": [],
   "source": [
    "pl.Config.restore_defaults()\n",
    "pass"
   ]
  },
  {
   "cell_type": "code",
   "execution_count": null,
   "id": "RGSE",
   "metadata": {},
   "outputs": [],
   "source": [
    "@mo.persistent_cache\n",
    "def count(feature_name):\n",
    "    pl.Config.set_tbl_rows(100)\n",
    "    return (\n",
    "        taxon_lf.group_by(feature_name)\n",
    "        .len()\n",
    "        .sort(by=\"len\", descending=True)\n",
    "        .collect()\n",
    "    )"
   ]
  },
  {
   "cell_type": "code",
   "execution_count": null,
   "id": "Kclp",
   "metadata": {
    "marimo": {
     "config": {
      "hide_code": true
     }
    }
   },
   "outputs": [
    {
     "data": {
      "text/html": [
       "<div><style>\n",
       ".dataframe > thead > tr,\n",
       ".dataframe > tbody > tr {\n",
       "  text-align: right;\n",
       "  white-space: pre-wrap;\n",
       "}\n",
       "</style>\n",
       "<small>shape: (9, 2)</small><table border=\"1\" class=\"dataframe\"><thead><tr><th>kingdom</th><th>len</th></tr><tr><td>str</td><td>u32</td></tr></thead><tbody><tr><td>&quot;Animalia&quot;</td><td>4432185</td></tr><tr><td>&quot;Plantae&quot;</td><td>2101917</td></tr><tr><td>&quot;Fungi&quot;</td><td>880629</td></tr><tr><td>&quot;Chromista&quot;</td><td>218032</td></tr><tr><td>&quot;Bacteria&quot;</td><td>72137</td></tr><tr><td>&quot;Viruses&quot;</td><td>19642</td></tr><tr><td>&quot;Protozoa&quot;</td><td>13787</td></tr><tr><td>&quot;Archaea&quot;</td><td>4469</td></tr><tr><td>&quot;incertae sedis&quot;</td><td>3926</td></tr></tbody></table></div>"
      ]
     },
     "metadata": {},
     "output_type": "display_data"
    }
   ],
   "source": [
    "count(\"kingdom\")"
   ]
  },
  {
   "cell_type": "code",
   "execution_count": null,
   "id": "emfo",
   "metadata": {},
   "outputs": [
    {
     "data": {
      "text/html": [
       "<div><style>\n",
       ".dataframe > thead > tr,\n",
       ".dataframe > tbody > tr {\n",
       "  text-align: right;\n",
       "  white-space: pre-wrap;\n",
       "}\n",
       "</style>\n",
       "<small>shape: (275, 2)</small><table border=\"1\" class=\"dataframe\"><thead><tr><th>phylum</th><th>len</th></tr><tr><td>str</td><td>u32</td></tr></thead><tbody><tr><td>&quot;Arthropoda&quot;</td><td>3120423</td></tr><tr><td>&quot;Tracheophyta&quot;</td><td>1920411</td></tr><tr><td>&quot;Mollusca&quot;</td><td>484291</td></tr><tr><td>&quot;Ascomycota&quot;</td><td>475079</td></tr><tr><td>&quot;Chordata&quot;</td><td>424529</td></tr><tr><td>&quot;Basidiomycota&quot;</td><td>321226</td></tr><tr><td>&quot;Bryophyta&quot;</td><td>90266</td></tr><tr><td>&quot;Foraminifera&quot;</td><td>87228</td></tr><tr><td>&quot;Ochrophyta&quot;</td><td>85940</td></tr><tr><td>null</td><td>77745</td></tr><tr><td>&quot;Cnidaria&quot;</td><td>59593</td></tr><tr><td>&quot;Annelida&quot;</td><td>57899</td></tr><tr><td>&quot;Platyhelminthes&quot;</td><td>53573</td></tr><tr><td>&quot;Echinodermata&quot;</td><td>43465</td></tr><tr><td>&quot;Nematoda&quot;</td><td>41196</td></tr><tr><td>&quot;Marchantiophyta&quot;</td><td>39700</td></tr><tr><td>&quot;Bryozoa&quot;</td><td>35419</td></tr><tr><td>&quot;Brachiopoda&quot;</td><td>33309</td></tr><tr><td>&quot;Porifera&quot;</td><td>31093</td></tr><tr><td>&quot;Rhodophyta&quot;</td><td>17262</td></tr><tr><td>&quot;Chlorophyta&quot;</td><td>17232</td></tr><tr><td>&quot;Proteobacteria&quot;</td><td>17152</td></tr><tr><td>&quot;Ciliophora&quot;</td><td>17143</td></tr><tr><td>&quot;Glomeromycota&quot;</td><td>15340</td></tr><tr><td>&quot;Mucoromycota&quot;</td><td>13939</td></tr><tr><td>&quot;Chytridiomycota&quot;</td><td>10425</td></tr><tr><td>&quot;Uroviricota&quot;</td><td>8462</td></tr><tr><td>&quot;Actinobacteriota&quot;</td><td>8190</td></tr><tr><td>&quot;Oomycota&quot;</td><td>7849</td></tr><tr><td>&quot;Charophyta&quot;</td><td>7809</td></tr><tr><td>&quot;Myzozoa&quot;</td><td>7612</td></tr><tr><td>&quot;Firmicutes_A&quot;</td><td>7421</td></tr><tr><td>&quot;Bacteroidota&quot;</td><td>7328</td></tr><tr><td>&quot;Cercozoa&quot;</td><td>6066</td></tr><tr><td>&quot;Cyanobacteria&quot;</td><td>6008</td></tr><tr><td>&quot;Rotifera&quot;</td><td>5806</td></tr><tr><td>&quot;Firmicutes&quot;</td><td>5435</td></tr><tr><td>&quot;Mycetozoa&quot;</td><td>5151</td></tr><tr><td>&quot;Nemertea&quot;</td><td>4292</td></tr><tr><td>&quot;Patescibacteria&quot;</td><td>3554</td></tr><tr><td>&quot;Acanthocephala&quot;</td><td>3229</td></tr><tr><td>&quot;Tardigrada&quot;</td><td>3225</td></tr><tr><td>&quot;Zoopagomycota&quot;</td><td>2833</td></tr><tr><td>&quot;Haptophyta&quot;</td><td>2498</td></tr><tr><td>&quot;Negarnaviricota&quot;</td><td>2425</td></tr><tr><td>&quot;Euglenozoa&quot;</td><td>2016</td></tr><tr><td>&quot;Microsporidia&quot;</td><td>1983</td></tr><tr><td>&quot;Hemichordata&quot;</td><td>1957</td></tr><tr><td>&quot;Chloroflexota&quot;</td><td>1867</td></tr><tr><td>&quot;Lenarviricota&quot;</td><td>1622</td></tr><tr><td>&hellip;</td><td>&hellip;</td></tr><tr><td>&quot;DUMJ01&quot;</td><td>5</td></tr><tr><td>&quot;Wallbacteria&quot;</td><td>5</td></tr><tr><td>&quot;CAIJMQ01&quot;</td><td>5</td></tr><tr><td>&quot;Lindowbacteria&quot;</td><td>5</td></tr><tr><td>&quot;FCPU426&quot;</td><td>5</td></tr><tr><td>&quot;B130-G9&quot;</td><td>4</td></tr><tr><td>&quot;SM23-31&quot;</td><td>4</td></tr><tr><td>&quot;4484-113&quot;</td><td>4</td></tr><tr><td>&quot;4572-55&quot;</td><td>4</td></tr><tr><td>&quot;JACPQY01&quot;</td><td>4</td></tr><tr><td>&quot;CG2-30-53-67&quot;</td><td>4</td></tr><tr><td>&quot;JACPWU01&quot;</td><td>4</td></tr><tr><td>&quot;JAFGBW01&quot;</td><td>4</td></tr><tr><td>&quot;DRYD01&quot;</td><td>4</td></tr><tr><td>&quot;JACRDZ01&quot;</td><td>4</td></tr><tr><td>&quot;TA06_A&quot;</td><td>4</td></tr><tr><td>&quot;T1Sed10-126&quot;</td><td>4</td></tr><tr><td>&quot;PUNC01&quot;</td><td>4</td></tr><tr><td>&quot;JABMQX01&quot;</td><td>4</td></tr><tr><td>&quot;UBP7&quot;</td><td>4</td></tr><tr><td>&quot;UBA8481&quot;</td><td>4</td></tr><tr><td>&quot;HKB111&quot;</td><td>3</td></tr><tr><td>&quot;Abyssubacteria&quot;</td><td>3</td></tr><tr><td>&quot;UBA2233&quot;</td><td>3</td></tr><tr><td>&quot;JACIXR01&quot;</td><td>3</td></tr><tr><td>&quot;UBP4&quot;</td><td>3</td></tr><tr><td>&quot;Aureabacteria&quot;</td><td>3</td></tr><tr><td>&quot;UBA6266&quot;</td><td>3</td></tr><tr><td>&quot;UBP13&quot;</td><td>3</td></tr><tr><td>&quot;J088&quot;</td><td>2</td></tr><tr><td>&quot;JAHJDO01&quot;</td><td>2</td></tr><tr><td>&quot;JAGOBX01&quot;</td><td>2</td></tr><tr><td>&quot;JAFGND01&quot;</td><td>2</td></tr><tr><td>&quot;JAFGOL01&quot;</td><td>2</td></tr><tr><td>&quot;UBA1439&quot;</td><td>2</td></tr><tr><td>&quot;SLNR01&quot;</td><td>2</td></tr><tr><td>&quot;RUG730&quot;</td><td>2</td></tr><tr><td>&quot;CG2-30-70-394&quot;</td><td>2</td></tr><tr><td>&quot;JACPUC01&quot;</td><td>2</td></tr><tr><td>&quot;BS750m-G25&quot;</td><td>2</td></tr><tr><td>&quot;T1SED10-198M&quot;</td><td>2</td></tr><tr><td>&quot;JAGOEH01&quot;</td><td>2</td></tr><tr><td>&quot;JACQOV01&quot;</td><td>2</td></tr><tr><td>&quot;JACPSX01&quot;</td><td>2</td></tr><tr><td>&quot;BS750m-G34&quot;</td><td>2</td></tr><tr><td>&quot;ARS69&quot;</td><td>2</td></tr><tr><td>&quot;JADJOY01&quot;</td><td>2</td></tr><tr><td>&quot;Altarchaeota&quot;</td><td>1</td></tr><tr><td>&quot;Gemmatimonadota_A&quot;</td><td>1</td></tr><tr><td>&quot;Caldatribacteriota&quot;</td><td>1</td></tr></tbody></table></div>"
      ]
     },
     "metadata": {},
     "output_type": "display_data"
    }
   ],
   "source": [
    "count(\"phylum\")"
   ]
  },
  {
   "cell_type": "code",
   "execution_count": null,
   "id": "Hstk",
   "metadata": {},
   "outputs": [
    {
     "data": {
      "text/html": [
       "<div><style>\n",
       ".dataframe > thead > tr,\n",
       ".dataframe > tbody > tr {\n",
       "  text-align: right;\n",
       "  white-space: pre-wrap;\n",
       "}\n",
       "</style>\n",
       "<small>shape: (756, 2)</small><table border=\"1\" class=\"dataframe\"><thead><tr><th>class</th><th>len</th></tr><tr><td>str</td><td>u32</td></tr></thead><tbody><tr><td>&quot;Insecta&quot;</td><td>2627216</td></tr><tr><td>&quot;Magnoliopsida&quot;</td><td>1412900</td></tr><tr><td>&quot;Liliopsida&quot;</td><td>399207</td></tr><tr><td>null</td><td>383835</td></tr><tr><td>&quot;Gastropoda&quot;</td><td>326944</td></tr><tr><td>&quot;Agaricomycetes&quot;</td><td>276060</td></tr><tr><td>&quot;Arachnida&quot;</td><td>212875</td></tr><tr><td>&quot;Malacostraca&quot;</td><td>111381</td></tr><tr><td>&quot;Sordariomycetes&quot;</td><td>108483</td></tr><tr><td>&quot;Dothideomycetes&quot;</td><td>104576</td></tr><tr><td>&quot;Bivalvia&quot;</td><td>99526</td></tr><tr><td>&quot;Bryopsida&quot;</td><td>83238</td></tr><tr><td>&quot;Lecanoromycetes&quot;</td><td>82003</td></tr><tr><td>&quot;Polypodiopsida&quot;</td><td>77796</td></tr><tr><td>&quot;Bacillariophyceae&quot;</td><td>76912</td></tr><tr><td>&quot;Mammalia&quot;</td><td>76169</td></tr><tr><td>&quot;Aves&quot;</td><td>75827</td></tr><tr><td>&quot;Eurotiomycetes&quot;</td><td>52277</td></tr><tr><td>&quot;Leotiomycetes&quot;</td><td>51135</td></tr><tr><td>&quot;Anthozoa&quot;</td><td>43540</td></tr><tr><td>&quot;Cephalopoda&quot;</td><td>43330</td></tr><tr><td>&quot;Squamata&quot;</td><td>41698</td></tr><tr><td>&quot;Globothalamea&quot;</td><td>39201</td></tr><tr><td>&quot;Jungermanniopsida&quot;</td><td>36996</td></tr><tr><td>&quot;Polychaeta&quot;</td><td>34207</td></tr><tr><td>&quot;Diplopoda&quot;</td><td>33958</td></tr><tr><td>&quot;Amphibia&quot;</td><td>32725</td></tr><tr><td>&quot;Copepoda&quot;</td><td>32066</td></tr><tr><td>&quot;Chromadorea&quot;</td><td>29984</td></tr><tr><td>&quot;Ostracoda&quot;</td><td>26939</td></tr><tr><td>&quot;Collembola&quot;</td><td>26549</td></tr><tr><td>&quot;Clitellata&quot;</td><td>23489</td></tr><tr><td>&quot;Trematoda&quot;</td><td>22581</td></tr><tr><td>&quot;Pezizomycetes&quot;</td><td>21653</td></tr><tr><td>&quot;Rhynchonellata&quot;</td><td>21637</td></tr><tr><td>&quot;Demospongiae&quot;</td><td>21291</td></tr><tr><td>&quot;Trilobita&quot;</td><td>18744</td></tr><tr><td>&quot;Gymnolaemata&quot;</td><td>18654</td></tr><tr><td>&quot;Pucciniomycetes&quot;</td><td>18454</td></tr><tr><td>&quot;Stenolaemata&quot;</td><td>16278</td></tr><tr><td>&quot;Florideophyceae&quot;</td><td>16230</td></tr><tr><td>&quot;Glomeromycetes&quot;</td><td>14064</td></tr><tr><td>&quot;Pinopsida&quot;</td><td>13736</td></tr><tr><td>&quot;Saccharomycetes&quot;</td><td>13506</td></tr><tr><td>&quot;Echinoidea&quot;</td><td>12224</td></tr><tr><td>&quot;Hydrozoa&quot;</td><td>12063</td></tr><tr><td>&quot;Elasmobranchii&quot;</td><td>10179</td></tr><tr><td>&quot;Gammaproteobacteria&quot;</td><td>10025</td></tr><tr><td>&quot;Monogenea&quot;</td><td>9294</td></tr><tr><td>&quot;Tremellomycetes&quot;</td><td>9256</td></tr><tr><td>&hellip;</td><td>&hellip;</td></tr><tr><td>&quot;DUMD01&quot;</td><td>2</td></tr><tr><td>&quot;SOKK01&quot;</td><td>2</td></tr><tr><td>&quot;UBA5214&quot;</td><td>2</td></tr><tr><td>&quot;JACPDT01&quot;</td><td>2</td></tr><tr><td>&quot;JAFGQW01&quot;</td><td>2</td></tr><tr><td>&quot;JACQVX01&quot;</td><td>2</td></tr><tr><td>&quot;JAANXI01&quot;</td><td>2</td></tr><tr><td>&quot;QMWL01&quot;</td><td>2</td></tr><tr><td>&quot;JACPDS01&quot;</td><td>2</td></tr><tr><td>&quot;YA12-FULL-61-11&quot;</td><td>2</td></tr><tr><td>&quot;UBA5359&quot;</td><td>2</td></tr><tr><td>&quot;JACPQZ01&quot;</td><td>2</td></tr><tr><td>&quot;Placidiophyceae&quot;</td><td>2</td></tr><tr><td>&quot;UBA4092&quot;</td><td>2</td></tr><tr><td>&quot;Bu12&quot;</td><td>2</td></tr><tr><td>&quot;JACQYL01&quot;</td><td>2</td></tr><tr><td>&quot;LC30&quot;</td><td>2</td></tr><tr><td>&quot;JACOTG01&quot;</td><td>2</td></tr><tr><td>&quot;JAADFL01&quot;</td><td>2</td></tr><tr><td>&quot;JAFGSX01&quot;</td><td>2</td></tr><tr><td>&quot;S145-22&quot;</td><td>2</td></tr><tr><td>&quot;JAHJRX01&quot;</td><td>2</td></tr><tr><td>&quot;B129-G9&quot;</td><td>2</td></tr><tr><td>&quot;Eopharyngea&quot;</td><td>2</td></tr><tr><td>&quot;JACRGO01&quot;</td><td>2</td></tr><tr><td>&quot;JACRHL01&quot;</td><td>2</td></tr><tr><td>&quot;JACPQU01&quot;</td><td>2</td></tr><tr><td>&quot;JACPGU01&quot;</td><td>2</td></tr><tr><td>&quot;JACQVV01&quot;</td><td>2</td></tr><tr><td>&quot;DTLF01&quot;</td><td>2</td></tr><tr><td>&quot;HRBIN11&quot;</td><td>2</td></tr><tr><td>&quot;JABDET01&quot;</td><td>2</td></tr><tr><td>&quot;JADGAW01&quot;</td><td>2</td></tr><tr><td>&quot;BS150m-G59&quot;</td><td>2</td></tr><tr><td>&quot;DRWO01&quot;</td><td>2</td></tr><tr><td>&quot;JACPHN01&quot;</td><td>2</td></tr><tr><td>&quot;JAHJAL01&quot;</td><td>2</td></tr><tr><td>&quot;JACPFL01&quot;</td><td>2</td></tr><tr><td>&quot;SAR324&quot;</td><td>1</td></tr><tr><td>&quot;Noctilucea&quot;</td><td>1</td></tr><tr><td>&quot;Goniomonadea&quot;</td><td>1</td></tr><tr><td>&quot;Clostridia_A&quot;</td><td>1</td></tr><tr><td>&quot;Chlorodendrophyceae&quot;</td><td>1</td></tr><tr><td>&quot;Ploeotarea&quot;</td><td>1</td></tr><tr><td>&quot;Poseidoniia_A&quot;</td><td>1</td></tr><tr><td>&quot;Oxyrrhea&quot;</td><td>1</td></tr><tr><td>&quot;Pelagophyceae&quot;</td><td>1</td></tr><tr><td>&quot;Pyramimonadophyceae&quot;</td><td>1</td></tr><tr><td>&quot;Coleochaetophyceae&quot;</td><td>1</td></tr><tr><td>&quot;Pinguiophyceae&quot;</td><td>1</td></tr></tbody></table></div>"
      ]
     },
     "metadata": {},
     "output_type": "display_data"
    }
   ],
   "source": [
    "count(\"class\")"
   ]
  },
  {
   "cell_type": "code",
   "execution_count": null,
   "id": "nWHF",
   "metadata": {},
   "outputs": [
    {
     "data": {
      "text/html": [
       "<div><style>\n",
       ".dataframe > thead > tr,\n",
       ".dataframe > tbody > tr {\n",
       "  text-align: right;\n",
       "  white-space: pre-wrap;\n",
       "}\n",
       "</style>\n",
       "<small>shape: (2_817, 2)</small><table border=\"1\" class=\"dataframe\"><thead><tr><th>order</th><th>len</th></tr><tr><td>str</td><td>u32</td></tr></thead><tbody><tr><td>&quot;Coleoptera&quot;</td><td>767547</td></tr><tr><td>&quot;Lepidoptera&quot;</td><td>553950</td></tr><tr><td>&quot;Diptera&quot;</td><td>434654</td></tr><tr><td>null</td><td>418056</td></tr><tr><td>&quot;Hymenoptera&quot;</td><td>385226</td></tr><tr><td>&quot;Hemiptera&quot;</td><td>242858</td></tr><tr><td>&quot;Asterales&quot;</td><td>219626</td></tr><tr><td>&quot;Poales&quot;</td><td>166591</td></tr><tr><td>&quot;Asparagales&quot;</td><td>165976</td></tr><tr><td>&quot;Lamiales&quot;</td><td>140125</td></tr><tr><td>&quot;Agaricales&quot;</td><td>134388</td></tr><tr><td>&quot;Fabales&quot;</td><td>125559</td></tr><tr><td>&quot;Caryophyllales&quot;</td><td>106850</td></tr><tr><td>&quot;Rosales&quot;</td><td>98155</td></tr><tr><td>&quot;Gentianales&quot;</td><td>95788</td></tr><tr><td>&quot;Araneae&quot;</td><td>95484</td></tr><tr><td>&quot;Malpighiales&quot;</td><td>91451</td></tr><tr><td>&quot;Stylommatophora&quot;</td><td>84689</td></tr><tr><td>&quot;Orthoptera&quot;</td><td>69414</td></tr><tr><td>&quot;Neogastropoda&quot;</td><td>67098</td></tr><tr><td>&quot;Ericales&quot;</td><td>65043</td></tr><tr><td>&quot;Polypodiales&quot;</td><td>61765</td></tr><tr><td>&quot;Myrtales&quot;</td><td>60118</td></tr><tr><td>&quot;Decapoda&quot;</td><td>52882</td></tr><tr><td>&quot;Littorinimorpha&quot;</td><td>51577</td></tr><tr><td>&quot;Perciformes&quot;</td><td>51206</td></tr><tr><td>&quot;Helotiales&quot;</td><td>42254</td></tr><tr><td>&quot;Pleosporales&quot;</td><td>41343</td></tr><tr><td>&quot;Brassicales&quot;</td><td>40338</td></tr><tr><td>&quot;Passeriformes&quot;</td><td>39971</td></tr><tr><td>&quot;Ranunculales&quot;</td><td>37576</td></tr><tr><td>&quot;Sapindales&quot;</td><td>37472</td></tr><tr><td>&quot;Malvales&quot;</td><td>36229</td></tr><tr><td>&quot;Apiales&quot;</td><td>35302</td></tr><tr><td>&quot;Lecanorales&quot;</td><td>34033</td></tr><tr><td>&quot;Trombidiformes&quot;</td><td>33221</td></tr><tr><td>&quot;Hypocreales&quot;</td><td>31635</td></tr><tr><td>&quot;Hypnales&quot;</td><td>30535</td></tr><tr><td>&quot;Solanales&quot;</td><td>30410</td></tr><tr><td>&quot;Sarcoptiformes&quot;</td><td>29581</td></tr><tr><td>&quot;Rotaliida&quot;</td><td>26838</td></tr><tr><td>&quot;Russulales&quot;</td><td>26283</td></tr><tr><td>&quot;Anura&quot;</td><td>26007</td></tr><tr><td>&quot;Eurotiales&quot;</td><td>25756</td></tr><tr><td>&quot;Trichoptera&quot;</td><td>25221</td></tr><tr><td>&quot;Polyporales&quot;</td><td>24924</td></tr><tr><td>&quot;Naviculales&quot;</td><td>24448</td></tr><tr><td>&quot;Amphipoda&quot;</td><td>24447</td></tr><tr><td>&quot;Psocodea&quot;</td><td>23483</td></tr><tr><td>&quot;Thelephorales&quot;</td><td>23403</td></tr><tr><td>&hellip;</td><td>&hellip;</td></tr><tr><td>&quot;UBA2777&quot;</td><td>2</td></tr><tr><td>&quot;CAINFC01&quot;</td><td>2</td></tr><tr><td>&quot;JAFGJU01&quot;</td><td>2</td></tr><tr><td>&quot;WVXP01&quot;</td><td>2</td></tr><tr><td>&quot;JACRHK01&quot;</td><td>2</td></tr><tr><td>&quot;JACPZX01&quot;</td><td>2</td></tr><tr><td>&quot;Coccoideaceae&quot;</td><td>2</td></tr><tr><td>&quot;Kathablepharida&quot;</td><td>2</td></tr><tr><td>&quot;JACPHC01&quot;</td><td>2</td></tr><tr><td>&quot;SHXV01&quot;</td><td>2</td></tr><tr><td>&quot;H5-UNCL2&quot;</td><td>2</td></tr><tr><td>&quot;J063&quot;</td><td>2</td></tr><tr><td>&quot;JACOSC01&quot;</td><td>2</td></tr><tr><td>&quot;PIWD01&quot;</td><td>2</td></tr><tr><td>&quot;JACCYY01&quot;</td><td>2</td></tr><tr><td>&quot;VGLL01&quot;</td><td>2</td></tr><tr><td>&quot;Acrosiphoniales&quot;</td><td>1</td></tr><tr><td>&quot;Platycopa&quot;</td><td>1</td></tr><tr><td>&quot;Choristocarpales&quot;</td><td>1</td></tr><tr><td>&quot;Euglenales&quot;</td><td>1</td></tr><tr><td>&quot;UBA2991&quot;</td><td>1</td></tr><tr><td>&quot;Tectibranchiata&quot;</td><td>1</td></tr><tr><td>&quot;Stictocycales&quot;</td><td>1</td></tr><tr><td>&quot;Rhabdomonadida&quot;</td><td>1</td></tr><tr><td>&quot;Silicoflagellata&quot;</td><td>1</td></tr><tr><td>&quot;Phaeophilales&quot;</td><td>1</td></tr><tr><td>&quot;Enteromonadida&quot;</td><td>1</td></tr><tr><td>&quot;Neogregarinorida&quot;</td><td>1</td></tr><tr><td>&quot;Cladhexea&quot;</td><td>1</td></tr><tr><td>&quot;Catenellopsidales&quot;</td><td>1</td></tr><tr><td>&quot;Monomastigales&quot;</td><td>1</td></tr><tr><td>&quot;Neobodonida&quot;</td><td>1</td></tr><tr><td>&quot;Katablepharidales&quot;</td><td>1</td></tr><tr><td>&quot;Placidiales&quot;</td><td>1</td></tr><tr><td>&quot;Raphidomonadales&quot;</td><td>1</td></tr><tr><td>&quot;Opisthopora&quot;</td><td>1</td></tr><tr><td>&quot;Durvillaeales&quot;</td><td>1</td></tr><tr><td>&quot;Leiocopida&quot;</td><td>1</td></tr><tr><td>&quot;Bodonales&quot;</td><td>1</td></tr><tr><td>&quot;Codiales&quot;</td><td>1</td></tr><tr><td>&quot;Nannoceratopsida&quot;</td><td>1</td></tr><tr><td>&quot;Giardiida&quot;</td><td>1</td></tr><tr><td>&quot;Thalassomycetales&quot;</td><td>1</td></tr><tr><td>&quot;Punciocopida&quot;</td><td>1</td></tr><tr><td>&quot;Chytridiodinida&quot;</td><td>1</td></tr><tr><td>&quot;Sinuitopsida&quot;</td><td>1</td></tr><tr><td>&quot;Sp&quot;</td><td>1</td></tr><tr><td>&quot;UBA12157_A&quot;</td><td>1</td></tr><tr><td>&quot;Againococcidiida&quot;</td><td>1</td></tr><tr><td>&quot;Sphaerococcales&quot;</td><td>1</td></tr></tbody></table></div>"
      ]
     },
     "metadata": {},
     "output_type": "display_data"
    }
   ],
   "source": [
    "count(\"order\")"
   ]
  },
  {
   "cell_type": "code",
   "execution_count": null,
   "id": "iLit",
   "metadata": {},
   "outputs": [
    {
     "data": {
      "text/html": [
       "<div><style>\n",
       ".dataframe > thead > tr,\n",
       ".dataframe > tbody > tr {\n",
       "  text-align: right;\n",
       "  white-space: pre-wrap;\n",
       "}\n",
       "</style>\n",
       "<small>shape: (27_372, 2)</small><table border=\"1\" class=\"dataframe\"><thead><tr><th>family</th><th>len</th></tr><tr><td>str</td><td>u32</td></tr></thead><tbody><tr><td>null</td><td>350978</td></tr><tr><td>&quot;Asteraceae&quot;</td><td>201101</td></tr><tr><td>&quot;Cerambycidae&quot;</td><td>132702</td></tr><tr><td>&quot;Fabaceae&quot;</td><td>119697</td></tr><tr><td>&quot;Orchidaceae&quot;</td><td>114791</td></tr><tr><td>&quot;Staphylinidae&quot;</td><td>111006</td></tr><tr><td>&quot;Carabidae&quot;</td><td>108254</td></tr><tr><td>&quot;Curculionidae&quot;</td><td>107976</td></tr><tr><td>&quot;Poaceae&quot;</td><td>104174</td></tr><tr><td>&quot;Geometridae&quot;</td><td>75915</td></tr><tr><td>&quot;Scarabaeidae&quot;</td><td>71924</td></tr><tr><td>&quot;Rosaceae&quot;</td><td>71321</td></tr><tr><td>&quot;Ichneumonidae&quot;</td><td>60456</td></tr><tr><td>&quot;Erebidae&quot;</td><td>59520</td></tr><tr><td>&quot;Cecidomyiidae&quot;</td><td>56276</td></tr><tr><td>&quot;Cicadellidae&quot;</td><td>52560</td></tr><tr><td>&quot;Rubiaceae&quot;</td><td>52219</td></tr><tr><td>&quot;Nymphalidae&quot;</td><td>50681</td></tr><tr><td>&quot;Braconidae&quot;</td><td>48144</td></tr><tr><td>&quot;Noctuidae&quot;</td><td>43424</td></tr><tr><td>&quot;Lamiaceae&quot;</td><td>43352</td></tr><tr><td>&quot;Cyperaceae&quot;</td><td>39753</td></tr><tr><td>&quot;Formicidae&quot;</td><td>38983</td></tr><tr><td>&quot;Brassicaceae&quot;</td><td>33811</td></tr><tr><td>&quot;Buprestidae&quot;</td><td>30960</td></tr><tr><td>&quot;Tortricidae&quot;</td><td>30847</td></tr><tr><td>&quot;Euphorbiaceae&quot;</td><td>30722</td></tr><tr><td>&quot;Apocynaceae&quot;</td><td>29831</td></tr><tr><td>&quot;Chrysomelidae&quot;</td><td>27549</td></tr><tr><td>&quot;Lycaenidae&quot;</td><td>27527</td></tr><tr><td>&quot;Cactaceae&quot;</td><td>27230</td></tr><tr><td>&quot;Chironomidae&quot;</td><td>26214</td></tr><tr><td>&quot;Caryophyllaceae&quot;</td><td>26033</td></tr><tr><td>&quot;Apiaceae&quot;</td><td>25985</td></tr><tr><td>&quot;Tachinidae&quot;</td><td>25860</td></tr><tr><td>&quot;Miridae&quot;</td><td>25068</td></tr><tr><td>&quot;Ranunculaceae&quot;</td><td>25062</td></tr><tr><td>&quot;Malvaceae&quot;</td><td>25062</td></tr><tr><td>&quot;Crambidae&quot;</td><td>23835</td></tr><tr><td>&quot;Myrtaceae&quot;</td><td>23581</td></tr><tr><td>&quot;Aspergillaceae&quot;</td><td>22715</td></tr><tr><td>&quot;Thelephoraceae&quot;</td><td>22336</td></tr><tr><td>&quot;Crabronidae&quot;</td><td>22165</td></tr><tr><td>&quot;Ericaceae&quot;</td><td>22064</td></tr><tr><td>&quot;Cortinariaceae&quot;</td><td>21086</td></tr><tr><td>&quot;Melastomataceae&quot;</td><td>20942</td></tr><tr><td>&quot;Russulaceae&quot;</td><td>20278</td></tr><tr><td>&quot;Acanthaceae&quot;</td><td>20150</td></tr><tr><td>&quot;Limoniidae&quot;</td><td>19825</td></tr><tr><td>&quot;Acrididae&quot;</td><td>18689</td></tr><tr><td>&hellip;</td><td>&hellip;</td></tr><tr><td>&quot;Erysibaceae&quot;</td><td>1</td></tr><tr><td>&quot;Ambystomidae&quot;</td><td>1</td></tr><tr><td>&quot;Parmulinaceae&quot;</td><td>1</td></tr><tr><td>&quot;Fibulotyxisidae&quot;</td><td>1</td></tr><tr><td>&quot;Micromycopsidaceae&quot;</td><td>1</td></tr><tr><td>&quot;Xylocopidae&quot;</td><td>1</td></tr><tr><td>&quot;Trichopeltidaceae&quot;</td><td>1</td></tr><tr><td>&quot;Adercotrynidae&quot;</td><td>1</td></tr><tr><td>&quot;Penicilliaceae&quot;</td><td>1</td></tr><tr><td>&quot;Cercolabidae&quot;</td><td>1</td></tr><tr><td>&quot;Ocellariaceae&quot;</td><td>1</td></tr><tr><td>&quot;Juramelanatriidae&quot;</td><td>1</td></tr><tr><td>&quot;Synthemidae&quot;</td><td>1</td></tr><tr><td>&quot;Blattelidae&quot;</td><td>1</td></tr><tr><td>&quot;Sigillariostrobaceae&quot;</td><td>1</td></tr><tr><td>&quot;Kimorphomycetaceae&quot;</td><td>1</td></tr><tr><td>&quot;Dentoceratidae&quot;</td><td>1</td></tr><tr><td>&quot;Steloxylaceae&quot;</td><td>1</td></tr><tr><td>&quot;Pinacophyllidae&quot;</td><td>1</td></tr><tr><td>&quot;Actinochonidae&quot;</td><td>1</td></tr><tr><td>&quot;Calamoichthyidae&quot;</td><td>1</td></tr><tr><td>&quot;Dactylariaceae&quot;</td><td>1</td></tr><tr><td>&quot;Paracanthocephalidae&quot;</td><td>1</td></tr><tr><td>&quot;Kalchbrenneraceae&quot;</td><td>1</td></tr><tr><td>&quot;Gonatonotidae&quot;</td><td>1</td></tr><tr><td>&quot;Sottyxerxidae&quot;</td><td>1</td></tr><tr><td>&quot;Haliplides&quot;</td><td>1</td></tr><tr><td>&quot;Dremusporaceae&quot;</td><td>1</td></tr><tr><td>&quot;Plagiascetidae&quot;</td><td>1</td></tr><tr><td>&quot;Wetlugasauridae&quot;</td><td>1</td></tr><tr><td>&quot;Mystriosuchidea&quot;</td><td>1</td></tr><tr><td>&quot;Gloeodiniaceae&quot;</td><td>1</td></tr><tr><td>&quot;Brankocleistostomidae&quot;</td><td>1</td></tr><tr><td>&quot;Blastomycetaceae&quot;</td><td>1</td></tr><tr><td>&quot;Aplanochytriaceae&quot;</td><td>1</td></tr><tr><td>&quot;Draconoidea&quot;</td><td>1</td></tr><tr><td>&quot;Pseudophyllodromiidae&quot;</td><td>1</td></tr><tr><td>&quot;Rhaphidascarididae&quot;</td><td>1</td></tr><tr><td>&quot;Belemnosepiidae&quot;</td><td>1</td></tr><tr><td>&quot;Paramyxidae&quot;</td><td>1</td></tr><tr><td>&quot;Gymnococcaceae&quot;</td><td>1</td></tr><tr><td>&quot;Ceratocorallia&quot;</td><td>1</td></tr><tr><td>&quot;Palaeocursornithidae&quot;</td><td>1</td></tr><tr><td>&quot;Fusiellidae&quot;</td><td>1</td></tr><tr><td>&quot;Anomalopterygidae&quot;</td><td>1</td></tr><tr><td>&quot;Monoraphididae&quot;</td><td>1</td></tr><tr><td>&quot;Imangditidae&quot;</td><td>1</td></tr><tr><td>&quot;Spilomataceae&quot;</td><td>1</td></tr><tr><td>&quot;Stomatogenaceae&quot;</td><td>1</td></tr><tr><td>&quot;Thalasseloetridae&quot;</td><td>1</td></tr></tbody></table></div>"
      ]
     },
     "metadata": {},
     "output_type": "display_data"
    }
   ],
   "source": [
    "count(\"family\")"
   ]
  },
  {
   "cell_type": "code",
   "execution_count": null,
   "id": "ZHCJ",
   "metadata": {},
   "outputs": [
    {
     "data": {
      "text/html": [
       "<div><style>\n",
       ".dataframe > thead > tr,\n",
       ".dataframe > tbody > tr {\n",
       "  text-align: right;\n",
       "  white-space: pre-wrap;\n",
       "}\n",
       "</style>\n",
       "<small>shape: (375_622, 2)</small><table border=\"1\" class=\"dataframe\"><thead><tr><th>genus</th><th>len</th></tr><tr><td>str</td><td>u32</td></tr></thead><tbody><tr><td>null</td><td>538011</td></tr><tr><td>&quot;Hieracium&quot;</td><td>26077</td></tr><tr><td>&quot;Rubus&quot;</td><td>17891</td></tr><tr><td>&quot;Cortinarius&quot;</td><td>17503</td></tr><tr><td>&quot;Carex&quot;</td><td>15510</td></tr><tr><td>&quot;Tomentella&quot;</td><td>14901</td></tr><tr><td>&quot;Rosa&quot;</td><td>14288</td></tr><tr><td>&quot;Russula&quot;</td><td>13974</td></tr><tr><td>&quot;Astragalus&quot;</td><td>13173</td></tr><tr><td>&quot;Inocybe&quot;</td><td>12262</td></tr><tr><td>&quot;Euphorbia&quot;</td><td>10864</td></tr><tr><td>&quot;Navicula&quot;</td><td>10751</td></tr><tr><td>&quot;Penicillium&quot;</td><td>10420</td></tr><tr><td>&quot;Aspergillus&quot;</td><td>10098</td></tr><tr><td>&quot;Solanum&quot;</td><td>9025</td></tr><tr><td>&quot;Carabus&quot;</td><td>8328</td></tr><tr><td>&quot;Cyperus&quot;</td><td>7944</td></tr><tr><td>&quot;Ranunculus&quot;</td><td>7664</td></tr><tr><td>&quot;Pilosella&quot;</td><td>7519</td></tr><tr><td>&quot;Puccinia&quot;</td><td>7272</td></tr><tr><td>&quot;Salix&quot;</td><td>7226</td></tr><tr><td>&quot;Miconia&quot;</td><td>7211</td></tr><tr><td>&quot;Prunus&quot;</td><td>7014</td></tr><tr><td>&quot;Entoloma&quot;</td><td>6757</td></tr><tr><td>&quot;Piper&quot;</td><td>6728</td></tr><tr><td>&quot;Potentilla&quot;</td><td>6411</td></tr><tr><td>&quot;Dendrobium&quot;</td><td>6408</td></tr><tr><td>&quot;Ficus&quot;</td><td>6239</td></tr><tr><td>&quot;Centaurea&quot;</td><td>6197</td></tr><tr><td>&quot;Silene&quot;</td><td>6118</td></tr><tr><td>&quot;Quercus&quot;</td><td>6060</td></tr><tr><td>&quot;Bulbophyllum&quot;</td><td>5955</td></tr><tr><td>&quot;Viola&quot;</td><td>5955</td></tr><tr><td>&quot;Senecio&quot;</td><td>5659</td></tr><tr><td>&quot;Begonia&quot;</td><td>5474</td></tr><tr><td>&quot;Amanita&quot;</td><td>5381</td></tr><tr><td>&quot;Festuca&quot;</td><td>5248</td></tr><tr><td>&quot;Erica&quot;</td><td>5007</td></tr><tr><td>&quot;Bembidion&quot;</td><td>4901</td></tr><tr><td>&quot;Megaselia&quot;</td><td>4810</td></tr><tr><td>&quot;Psychotria&quot;</td><td>4764</td></tr><tr><td>&quot;Acacia&quot;</td><td>4743</td></tr><tr><td>&quot;Allium&quot;</td><td>4728</td></tr><tr><td>&quot;Rhododendron&quot;</td><td>4721</td></tr><tr><td>&quot;Asplenium&quot;</td><td>4697</td></tr><tr><td>&quot;Agrilus&quot;</td><td>4665</td></tr><tr><td>&quot;Conus&quot;</td><td>4655</td></tr><tr><td>&quot;Taraxacum&quot;</td><td>4552</td></tr><tr><td>&quot;Ceropegia&quot;</td><td>4486</td></tr><tr><td>&quot;Croton&quot;</td><td>4444</td></tr><tr><td>&hellip;</td><td>&hellip;</td></tr><tr><td>&quot;Tortifusus&quot;</td><td>1</td></tr><tr><td>&quot;Nigroarodepus&quot;</td><td>1</td></tr><tr><td>&quot;Kulgenotus&quot;</td><td>1</td></tr><tr><td>&quot;Morzadecops&quot;</td><td>1</td></tr><tr><td>&quot;Euspiros&quot;</td><td>1</td></tr><tr><td>&quot;Archeoprepona&quot;</td><td>1</td></tr><tr><td>&quot;Crotchiibombus&quot;</td><td>1</td></tr><tr><td>&quot;Bryocypris&quot;</td><td>1</td></tr><tr><td>&quot;Scipionis&quot;</td><td>1</td></tr><tr><td>&quot;Dielacata&quot;</td><td>1</td></tr><tr><td>&quot;Aureletta&quot;</td><td>1</td></tr><tr><td>&quot;Septochaetetes&quot;</td><td>1</td></tr><tr><td>&quot;Dinoporpa&quot;</td><td>1</td></tr><tr><td>&quot;Cyrtoniodus&quot;</td><td>1</td></tr><tr><td>&quot;Plexotemnus&quot;</td><td>1</td></tr><tr><td>&quot;Ripea&quot;</td><td>1</td></tr><tr><td>&quot;Aphanistis&quot;</td><td>1</td></tr><tr><td>&quot;Cerobracon&quot;</td><td>1</td></tr><tr><td>&quot;Endocreas&quot;</td><td>1</td></tr><tr><td>&quot;Chengjiangoconus&quot;</td><td>1</td></tr><tr><td>&quot;Fainaureliania&quot;</td><td>1</td></tr><tr><td>&quot;Ptenus&quot;</td><td>1</td></tr><tr><td>&quot;Lenisiacaris&quot;</td><td>1</td></tr><tr><td>&quot;Lophophrentis&quot;</td><td>1</td></tr><tr><td>&quot;Podolina&quot;</td><td>1</td></tr><tr><td>&quot;Trachynella&quot;</td><td>1</td></tr><tr><td>&quot;Callocheres&quot;</td><td>1</td></tr><tr><td>&quot;Laminoclymenia&quot;</td><td>1</td></tr><tr><td>&quot;Rhinochoerus&quot;</td><td>1</td></tr><tr><td>&quot;Phalphalaenopsis&quot;</td><td>1</td></tr><tr><td>&quot;Pseudapiconoma&quot;</td><td>1</td></tr><tr><td>&quot;Ripidosmylus&quot;</td><td>1</td></tr><tr><td>&quot;Camunipes&quot;</td><td>1</td></tr><tr><td>&quot;Glenobethylus&quot;</td><td>1</td></tr><tr><td>&quot;Acropterygium&quot;</td><td>1</td></tr><tr><td>&quot;Alampetista&quot;</td><td>1</td></tr><tr><td>&quot;Minutostrongylus&quot;</td><td>1</td></tr><tr><td>&quot;Spizitornis&quot;</td><td>1</td></tr><tr><td>&quot;Deccananthus&quot;</td><td>1</td></tr><tr><td>&quot;Rubrinectria&quot;</td><td>1</td></tr><tr><td>&quot;Sophrotes&quot;</td><td>1</td></tr><tr><td>&quot;Aphyoramphus&quot;</td><td>1</td></tr><tr><td>&quot;Icthyaetus&quot;</td><td>1</td></tr><tr><td>&quot;Trigonorossiaia&quot;</td><td>1</td></tr><tr><td>&quot;Trichotepyris&quot;</td><td>1</td></tr><tr><td>&quot;Chalimochonetes&quot;</td><td>1</td></tr><tr><td>&quot;Parastenopsochoerus&quot;</td><td>1</td></tr><tr><td>&quot;Sanseviera&quot;</td><td>1</td></tr><tr><td>&quot;Ventralvittatina&quot;</td><td>1</td></tr><tr><td>&quot;Gataron&quot;</td><td>1</td></tr></tbody></table></div>"
      ]
     },
     "metadata": {},
     "output_type": "display_data"
    }
   ],
   "source": [
    "count(\"genus\")"
   ]
  },
  {
   "cell_type": "markdown",
   "id": "ROlb",
   "metadata": {
    "marimo": {
     "config": {
      "hide_code": true
     }
    }
   },
   "source": [
    "# Null Check"
   ]
  },
  {
   "cell_type": "code",
   "execution_count": null,
   "id": "qnkX",
   "metadata": {
    "marimo": {
     "config": {
      "hide_code": true
     }
    }
   },
   "outputs": [
    {
     "data": {
      "text/html": [
       "<div><style>\n",
       ".dataframe > thead > tr,\n",
       ".dataframe > tbody > tr {\n",
       "  text-align: right;\n",
       "  white-space: pre-wrap;\n",
       "}\n",
       "</style>\n",
       "<small>shape: (2, 23)</small><table border=\"1\" class=\"dataframe\"><thead></thead><tbody><tr><td>&quot;nameAccordingTo&quot;</td><td>&quot;nomenclaturalStatus&quot;</td><td>&quot;taxonRemarks&quot;</td><td>&quot;infraspecificEpithet&quot;</td><td>&quot;originalNameUsageID&quot;</td><td>&quot;acceptedNameUsageID&quot;</td><td>&quot;namePublishedIn&quot;</td><td>&quot;specificEpithet&quot;</td><td>&quot;scientificNameAuthorship&quot;</td><td>&quot;genericName&quot;</td><td>&quot;canonicalName&quot;</td><td>&quot;genus&quot;</td><td>&quot;order&quot;</td><td>&quot;class&quot;</td><td>&quot;family&quot;</td><td>&quot;phylum&quot;</td><td>&quot;datasetID&quot;</td><td>&quot;parentNameUsageID&quot;</td><td>&quot;taxonID&quot;</td><td>&quot;scientificName&quot;</td><td>&quot;taxonRank&quot;</td><td>&quot;taxonomicStatus&quot;</td><td>&quot;kingdom&quot;</td></tr><tr><td>&quot;7746724&quot;</td><td>&quot;7746724&quot;</td><td>&quot;7615826&quot;</td><td>&quot;6856470&quot;</td><td>&quot;6396708&quot;</td><td>&quot;4452270&quot;</td><td>&quot;3570811&quot;</td><td>&quot;1863515&quot;</td><td>&quot;1502724&quot;</td><td>&quot;1289967&quot;</td><td>&quot;1289966&quot;</td><td>&quot;538011&quot;</td><td>&quot;418056&quot;</td><td>&quot;383835&quot;</td><td>&quot;350978&quot;</td><td>&quot;77745&quot;</td><td>&quot;49563&quot;</td><td>&quot;33&quot;</td><td>&quot;0&quot;</td><td>&quot;0&quot;</td><td>&quot;0&quot;</td><td>&quot;0&quot;</td><td>&quot;0&quot;</td></tr></tbody></table></div>"
      ]
     },
     "metadata": {},
     "output_type": "display_data"
    }
   ],
   "source": [
    "@mo.persistent_cache\n",
    "def _x():\n",
    "    return (\n",
    "        taxon_lf.null_count()\n",
    "        .collect()\n",
    "        .transpose(include_header=True)\n",
    "        .sort(by=\"column_0\", descending=True)\n",
    "        .transpose()\n",
    "    )\n",
    "\n",
    "\n",
    "pl.Config.set_tbl_hide_column_data_types(True)\n",
    "pl.Config.set_tbl_hide_column_names(True)\n",
    "_x()"
   ]
  },
  {
   "cell_type": "code",
   "execution_count": null,
   "id": "TqIu",
   "metadata": {},
   "outputs": [],
   "source": [
    "pl.Config.restore_defaults()\n",
    "pass"
   ]
  }
 ],
 "metadata": {},
 "nbformat": 4,
 "nbformat_minor": 5
}
