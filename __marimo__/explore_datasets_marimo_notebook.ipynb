{
 "cells": [
  {
   "cell_type": "code",
   "execution_count": null,
   "id": "Hbol",
   "metadata": {},
   "outputs": [],
   "source": [
    "import marimo as mo\n",
    "import polars as pl"
   ]
  },
  {
   "cell_type": "code",
   "execution_count": null,
   "id": "MJUe",
   "metadata": {},
   "outputs": [],
   "source": [
    "taxon_lf = pl.scan_csv(\n",
    "    \"gbif/Taxon.tsv\",\n",
    "    separator=\"\\t\",\n",
    "    quote_char=None,\n",
    "    cache=True,\n",
    ")\n",
    "taxon_lf_columns = \", \".join(taxon_lf.collect_schema().names())"
   ]
  },
  {
   "cell_type": "code",
   "execution_count": null,
   "id": "vblA",
   "metadata": {},
   "outputs": [],
   "source": [
    "bos_df_1 = pl.read_csv(\"outputsplit.csv\")\n",
    "\n",
    "\n",
    "bos_df_1 = bos_df_1.rename({\"data cleanup changes\": \"data cleanup changes 1\"})\n",
    "bos_df_1.columns = [_c.lower() for _c in bos_df_1.columns]\n",
    "bos_df_1 = bos_df_1.rename(\n",
    "    {\n",
    "        \"species\": \"specificEpithet\",\n",
    "        \"subspecies\": \"infraspecificEpithet\",\n",
    "        \"genus\": \"genericName\",\n",
    "    }\n",
    ")\n",
    "\n",
    "bos_df_1 = bos_df_1.with_columns(pl.col(pl.String).str.strip_chars(\" \"))\n",
    "bos_df_1_columns = \", \".join(bos_df_1.collect_schema().names())"
   ]
  },
  {
   "cell_type": "code",
   "execution_count": null,
   "id": "bkHC",
   "metadata": {
    "marimo": {
     "config": {
      "hide_code": true
     }
    }
   },
   "outputs": [
    {
     "data": {
      "text/html": [
       "<span class=\"markdown prose dark:prose-invert\"><h1 id=\"taxon_lf-columns\">taxon_lf Columns</h1>\n",
       "<span class=\"paragraph\">taxonID, datasetID, parentNameUsageID, acceptedNameUsageID, originalNameUsageID, scientificName, scientificNameAuthorship, canonicalName, genericName, specificEpithet, infraspecificEpithet, taxonRank, nameAccordingTo, namePublishedIn, taxonomicStatus, nomenclaturalStatus, taxonRemarks, kingdom, phylum, class, order, family, genus  </span>\n",
       "<h1 id=\"_1\"></h1>\n",
       "<h1 id=\"bos_df_1-columns\">bos_df_1 Columns</h1>\n",
       "<span class=\"paragraph\">speciesid, phylum, class, subclass, order, sub-order, infraorder, section, subsection, superfamily, family, subfamily, tribe, genericName, subgenus, specificEpithet, infraspecificEpithet, taxonname, cleanup changes, source_file, data cleanup changes, unnamed: 17, subphylum, taxon, unnamed: 19, 14,  speciesid, data cleanup changes 1, query, issue, query , superorder, domain , kingdom, unnamed: 16, unnamed: 18, section/parvorder, changes, column, column2, column3, column4, column5, column6, column7, infraclass, commonname, unnamed: 21, subphylum , cleanup changes/comments, species2, column8, column9, cleanup changes , unnamed: 22, unnamed: 20, clade 1, clade 2, clade 3, unnamed: 23</span></span>"
      ]
     },
     "metadata": {},
     "output_type": "display_data"
    }
   ],
   "source": [
    "mo.md(\n",
    "    f\"\"\"\n",
    "#taxon_lf Columns\n",
    "{taxon_lf_columns}  \n",
    "#   \n",
    "\n",
    "# bos_df_1 Columns\n",
    "{bos_df_1_columns}\n",
    "\"\"\"\n",
    ")"
   ]
  },
  {
   "cell_type": "code",
   "execution_count": null,
   "id": "lEQa",
   "metadata": {},
   "outputs": [
    {
     "data": {
      "text/html": [
       "<pre style='font-size: 12px'>126</pre>"
      ]
     },
     "metadata": {},
     "output_type": "display_data"
    }
   ],
   "source": [
    "bos_df_1_columns.find(\"genericName\")"
   ]
  },
  {
   "cell_type": "markdown",
   "id": "PKri",
   "metadata": {
    "marimo": {
     "config": {
      "hide_code": true
     }
    }
   },
   "source": [
    "# Describe taxon_lf"
   ]
  },
  {
   "cell_type": "code",
   "execution_count": null,
   "id": "Xref",
   "metadata": {
    "marimo": {
     "config": {
      "hide_code": true
     }
    }
   },
   "outputs": [
    {
     "data": {
      "text/html": [
       "<div><style>\n",
       ".dataframe > thead > tr,\n",
       ".dataframe > tbody > tr {\n",
       "  text-align: right;\n",
       "  white-space: pre-wrap;\n",
       "}\n",
       "</style>\n",
       "<small>shape: (9, 24)</small><table border=\"1\" class=\"dataframe\"><thead><tr><th>statistic</th><th>taxonID</th><th>datasetID</th><th>parentNameUsageID</th><th>acceptedNameUsageID</th><th>originalNameUsageID</th><th>scientificName</th><th>scientificNameAuthorship</th><th>canonicalName</th><th>genericName</th><th>specificEpithet</th><th>infraspecificEpithet</th><th>taxonRank</th><th>nameAccordingTo</th><th>namePublishedIn</th><th>taxonomicStatus</th><th>nomenclaturalStatus</th><th>taxonRemarks</th><th>kingdom</th><th>phylum</th><th>class</th><th>order</th><th>family</th><th>genus</th></tr><tr><td>str</td><td>f64</td><td>str</td><td>f64</td><td>str</td><td>str</td><td>str</td><td>str</td><td>str</td><td>str</td><td>str</td><td>str</td><td>str</td><td>str</td><td>str</td><td>str</td><td>str</td><td>str</td><td>str</td><td>str</td><td>str</td><td>str</td><td>str</td><td>str</td></tr></thead><tbody><tr><td>&quot;count&quot;</td><td>7.746724e6</td><td>&quot;7697161&quot;</td><td>7.746691e6</td><td>&quot;3294454&quot;</td><td>&quot;1350016&quot;</td><td>&quot;7746724&quot;</td><td>&quot;6244000&quot;</td><td>&quot;6456758&quot;</td><td>&quot;6456757&quot;</td><td>&quot;5883209&quot;</td><td>&quot;890254&quot;</td><td>&quot;7746724&quot;</td><td>&quot;0&quot;</td><td>&quot;4175913&quot;</td><td>&quot;7746724&quot;</td><td>&quot;0&quot;</td><td>&quot;130898&quot;</td><td>&quot;7746724&quot;</td><td>&quot;7668979&quot;</td><td>&quot;7362889&quot;</td><td>&quot;7328668&quot;</td><td>&quot;7395746&quot;</td><td>&quot;7208713&quot;</td></tr><tr><td>&quot;null_count&quot;</td><td>0.0</td><td>&quot;49563&quot;</td><td>33.0</td><td>&quot;4452270&quot;</td><td>&quot;6396708&quot;</td><td>&quot;0&quot;</td><td>&quot;1502724&quot;</td><td>&quot;1289966&quot;</td><td>&quot;1289967&quot;</td><td>&quot;1863515&quot;</td><td>&quot;6856470&quot;</td><td>&quot;0&quot;</td><td>&quot;7746724&quot;</td><td>&quot;3570811&quot;</td><td>&quot;0&quot;</td><td>&quot;7746724&quot;</td><td>&quot;7615826&quot;</td><td>&quot;0&quot;</td><td>&quot;77745&quot;</td><td>&quot;383835&quot;</td><td>&quot;418056&quot;</td><td>&quot;350978&quot;</td><td>&quot;538011&quot;</td></tr><tr><td>&quot;mean&quot;</td><td>7.0081e6</td><td>null</td><td>3.5402e6</td><td>null</td><td>null</td><td>null</td><td>null</td><td>null</td><td>null</td><td>null</td><td>null</td><td>null</td><td>null</td><td>null</td><td>null</td><td>null</td><td>null</td><td>null</td><td>null</td><td>null</td><td>null</td><td>null</td><td>null</td></tr><tr><td>&quot;std&quot;</td><td>3.4851e6</td><td>null</td><td>2.8307e6</td><td>null</td><td>null</td><td>null</td><td>null</td><td>null</td><td>null</td><td>null</td><td>null</td><td>null</td><td>null</td><td>null</td><td>null</td><td>null</td><td>null</td><td>null</td><td>null</td><td>null</td><td>null</td><td>null</td><td>null</td></tr><tr><td>&quot;min&quot;</td><td>0.0</td><td>&quot;00024397-569d-43a8-9e08-9a1072…</td><td>0.0</td><td>&quot;10000028&quot;</td><td>&quot;10000031&quot;</td><td>&quot;&quot;Betula nana x pubescens ssp. …</td><td>&quot;&#x27;t Hart&quot;</td><td>&quot;? 12-guttata&quot;</td><td>&quot;?&quot;</td><td>&quot;0vatum&quot;</td><td>&quot;10-radiata&quot;</td><td>&quot;class&quot;</td><td>null</td><td>&quot;!Cactus, 8: 249, 249, 1953&quot;</td><td>&quot;accepted&quot;</td><td>null</td><td>&quot;In the 2022 Catalogue of Life …</td><td>&quot;Animalia&quot;</td><td>&quot;4484-113&quot;</td><td>&quot;0-14-0-80-59-12&quot;</td><td>&quot;0-14-0-10-38-17&quot;</td><td>&quot;0-14-0-20-34-12&quot;</td><td>&quot;0-14-0-20-44-26&quot;</td></tr><tr><td>&quot;25%&quot;</td><td>3.936779e6</td><td>null</td><td>1.716586e6</td><td>null</td><td>null</td><td>null</td><td>null</td><td>null</td><td>null</td><td>null</td><td>null</td><td>null</td><td>null</td><td>null</td><td>null</td><td>null</td><td>null</td><td>null</td><td>null</td><td>null</td><td>null</td><td>null</td><td>null</td></tr><tr><td>&quot;50%&quot;</td><td>7.512166e6</td><td>null</td><td>2.703895e6</td><td>null</td><td>null</td><td>null</td><td>null</td><td>null</td><td>null</td><td>null</td><td>null</td><td>null</td><td>null</td><td>null</td><td>null</td><td>null</td><td>null</td><td>null</td><td>null</td><td>null</td><td>null</td><td>null</td><td>null</td></tr><tr><td>&quot;75%&quot;</td><td>1.0171892e7</td><td>null</td><td>4.747055e6</td><td>null</td><td>null</td><td>null</td><td>null</td><td>null</td><td>null</td><td>null</td><td>null</td><td>null</td><td>null</td><td>null</td><td>null</td><td>null</td><td>null</td><td>null</td><td>null</td><td>null</td><td>null</td><td>null</td><td>null</td></tr><tr><td>&quot;max&quot;</td><td>1.2390971e7</td><td>&quot;fffc3d5c-425a-47ab-9bb5-c4e1e1…</td><td>1.2386548e7</td><td>&quot;9999981&quot;</td><td>&quot;9999905&quot;</td><td>&quot;×Zygozella J.M.H.Shaw&quot;</td><td>&quot;Șuraru, Gábos &amp; Șuraru, 1967&quot;</td><td>&quot;incertae sedis&quot;</td><td>&quot;Æthomerus&quot;</td><td>&quot;čejkai&quot;</td><td>&quot;öur&quot;</td><td>&quot;variety&quot;</td><td>null</td><td>&quot;﻿Two new millipede species of …</td><td>&quot;synonym&quot;</td><td>null</td><td>&quot;Possible variant of ×Triticose…</td><td>&quot;incertae sedis&quot;</td><td>&quot;Zygomycota&quot;</td><td>&quot;Zymogenia&quot;</td><td>&quot;Zymogeniales&quot;</td><td>&quot;Zythiaceae&quot;</td><td>&quot;[URE3] prion&quot;</td></tr></tbody></table></div>"
      ]
     },
     "metadata": {},
     "output_type": "display_data"
    }
   ],
   "source": [
    "taxon_lf.describe()"
   ]
  },
  {
   "cell_type": "markdown",
   "id": "SFPL",
   "metadata": {},
   "source": [
    "# Describe bos_df_1"
   ]
  },
  {
   "cell_type": "code",
   "execution_count": null,
   "id": "BYtC",
   "metadata": {},
   "outputs": [
    {
     "data": {
      "text/html": [
       "<div><style>\n",
       ".dataframe > thead > tr,\n",
       ".dataframe > tbody > tr {\n",
       "  text-align: right;\n",
       "  white-space: pre-wrap;\n",
       "}\n",
       "</style>\n",
       "<small>shape: (9, 61)</small><table border=\"1\" class=\"dataframe\"><thead><tr><th>statistic</th><th>speciesid</th><th>phylum</th><th>class</th><th>subclass</th><th>order</th><th>sub-order</th><th>infraorder</th><th>section</th><th>subsection</th><th>superfamily</th><th>family</th><th>subfamily</th><th>tribe</th><th>genericName</th><th>subgenus</th><th>specificEpithet</th><th>infraspecificEpithet</th><th>taxonname</th><th>cleanup changes</th><th>source_file</th><th>data cleanup changes</th><th>unnamed: 17</th><th>subphylum</th><th>taxon</th><th>unnamed: 19</th><th>14</th><th> speciesid</th><th>data cleanup changes 1</th><th>query</th><th>issue</th><th>query </th><th>superorder</th><th>domain </th><th>kingdom</th><th>unnamed: 16</th><th>unnamed: 18</th><th>section/parvorder</th><th>changes</th><th>column</th><th>column2</th><th>column3</th><th>column4</th><th>column5</th><th>column6</th><th>column7</th><th>infraclass</th><th>commonname</th><th>unnamed: 21</th><th>subphylum </th><th>cleanup changes/comments</th><th>species2</th><th>column8</th><th>column9</th><th>cleanup changes </th><th>unnamed: 22</th><th>unnamed: 20</th><th>clade 1</th><th>clade 2</th><th>clade 3</th><th>unnamed: 23</th></tr><tr><td>str</td><td>str</td><td>str</td><td>str</td><td>str</td><td>str</td><td>str</td><td>str</td><td>str</td><td>str</td><td>str</td><td>str</td><td>str</td><td>str</td><td>str</td><td>str</td><td>str</td><td>str</td><td>str</td><td>str</td><td>str</td><td>str</td><td>str</td><td>str</td><td>str</td><td>str</td><td>str</td><td>str</td><td>str</td><td>str</td><td>str</td><td>str</td><td>str</td><td>str</td><td>str</td><td>str</td><td>str</td><td>str</td><td>str</td><td>str</td><td>str</td><td>str</td><td>str</td><td>str</td><td>str</td><td>str</td><td>str</td><td>str</td><td>str</td><td>str</td><td>str</td><td>str</td><td>str</td><td>str</td><td>str</td><td>str</td><td>str</td><td>str</td><td>str</td><td>str</td><td>str</td></tr></thead><tbody><tr><td>&quot;count&quot;</td><td>&quot;13103&quot;</td><td>&quot;11958&quot;</td><td>&quot;12705&quot;</td><td>&quot;1965&quot;</td><td>&quot;11934&quot;</td><td>&quot;5659&quot;</td><td>&quot;4137&quot;</td><td>&quot;1516&quot;</td><td>&quot;1148&quot;</td><td>&quot;5732&quot;</td><td>&quot;10909&quot;</td><td>&quot;3430&quot;</td><td>&quot;558&quot;</td><td>&quot;8000&quot;</td><td>&quot;328&quot;</td><td>&quot;5202&quot;</td><td>&quot;382&quot;</td><td>&quot;13103&quot;</td><td>&quot;15&quot;</td><td>&quot;13103&quot;</td><td>&quot;1&quot;</td><td>&quot;2&quot;</td><td>&quot;2640&quot;</td><td>&quot;10420&quot;</td><td>&quot;29&quot;</td><td>&quot;0&quot;</td><td>&quot;0&quot;</td><td>&quot;50&quot;</td><td>&quot;67&quot;</td><td>&quot;1&quot;</td><td>&quot;11&quot;</td><td>&quot;118&quot;</td><td>&quot;1&quot;</td><td>&quot;1&quot;</td><td>&quot;0&quot;</td><td>&quot;2&quot;</td><td>&quot;54&quot;</td><td>&quot;57&quot;</td><td>&quot;0&quot;</td><td>&quot;474&quot;</td><td>&quot;0&quot;</td><td>&quot;0&quot;</td><td>&quot;0&quot;</td><td>&quot;0&quot;</td><td>&quot;0&quot;</td><td>&quot;200&quot;</td><td>&quot;474&quot;</td><td>&quot;1&quot;</td><td>&quot;0&quot;</td><td>&quot;201&quot;</td><td>&quot;232&quot;</td><td>&quot;0&quot;</td><td>&quot;0&quot;</td><td>&quot;2&quot;</td><td>&quot;1&quot;</td><td>&quot;11&quot;</td><td>&quot;7&quot;</td><td>&quot;7&quot;</td><td>&quot;7&quot;</td><td>&quot;7&quot;</td></tr><tr><td>&quot;null_count&quot;</td><td>&quot;0&quot;</td><td>&quot;1145&quot;</td><td>&quot;398&quot;</td><td>&quot;11138&quot;</td><td>&quot;1169&quot;</td><td>&quot;7444&quot;</td><td>&quot;8966&quot;</td><td>&quot;11587&quot;</td><td>&quot;11955&quot;</td><td>&quot;7371&quot;</td><td>&quot;2194&quot;</td><td>&quot;9673&quot;</td><td>&quot;12545&quot;</td><td>&quot;5103&quot;</td><td>&quot;12775&quot;</td><td>&quot;7901&quot;</td><td>&quot;12721&quot;</td><td>&quot;0&quot;</td><td>&quot;13088&quot;</td><td>&quot;0&quot;</td><td>&quot;13102&quot;</td><td>&quot;13101&quot;</td><td>&quot;10463&quot;</td><td>&quot;2683&quot;</td><td>&quot;13074&quot;</td><td>&quot;13103&quot;</td><td>&quot;13103&quot;</td><td>&quot;13053&quot;</td><td>&quot;13036&quot;</td><td>&quot;13102&quot;</td><td>&quot;13092&quot;</td><td>&quot;12985&quot;</td><td>&quot;13102&quot;</td><td>&quot;13102&quot;</td><td>&quot;13103&quot;</td><td>&quot;13101&quot;</td><td>&quot;13049&quot;</td><td>&quot;13046&quot;</td><td>&quot;13103&quot;</td><td>&quot;12629&quot;</td><td>&quot;13103&quot;</td><td>&quot;13103&quot;</td><td>&quot;13103&quot;</td><td>&quot;13103&quot;</td><td>&quot;13103&quot;</td><td>&quot;12903&quot;</td><td>&quot;12629&quot;</td><td>&quot;13102&quot;</td><td>&quot;13103&quot;</td><td>&quot;12902&quot;</td><td>&quot;12871&quot;</td><td>&quot;13103&quot;</td><td>&quot;13103&quot;</td><td>&quot;13101&quot;</td><td>&quot;13102&quot;</td><td>&quot;13092&quot;</td><td>&quot;13096&quot;</td><td>&quot;13096&quot;</td><td>&quot;13096&quot;</td><td>&quot;13096&quot;</td></tr><tr><td>&quot;mean&quot;</td><td>null</td><td>null</td><td>null</td><td>null</td><td>null</td><td>null</td><td>null</td><td>null</td><td>null</td><td>null</td><td>null</td><td>null</td><td>null</td><td>null</td><td>null</td><td>null</td><td>null</td><td>null</td><td>null</td><td>null</td><td>null</td><td>null</td><td>null</td><td>null</td><td>null</td><td>null</td><td>null</td><td>null</td><td>null</td><td>null</td><td>null</td><td>null</td><td>null</td><td>null</td><td>null</td><td>null</td><td>null</td><td>null</td><td>null</td><td>null</td><td>null</td><td>null</td><td>null</td><td>null</td><td>null</td><td>null</td><td>null</td><td>null</td><td>null</td><td>null</td><td>null</td><td>null</td><td>null</td><td>null</td><td>null</td><td>null</td><td>null</td><td>null</td><td>null</td><td>null</td></tr><tr><td>&quot;std&quot;</td><td>null</td><td>null</td><td>null</td><td>null</td><td>null</td><td>null</td><td>null</td><td>null</td><td>null</td><td>null</td><td>null</td><td>null</td><td>null</td><td>null</td><td>null</td><td>null</td><td>null</td><td>null</td><td>null</td><td>null</td><td>null</td><td>null</td><td>null</td><td>null</td><td>null</td><td>null</td><td>null</td><td>null</td><td>null</td><td>null</td><td>null</td><td>null</td><td>null</td><td>null</td><td>null</td><td>null</td><td>null</td><td>null</td><td>null</td><td>null</td><td>null</td><td>null</td><td>null</td><td>null</td><td>null</td><td>null</td><td>null</td><td>null</td><td>null</td><td>null</td><td>null</td><td>null</td><td>null</td><td>null</td><td>null</td><td>null</td><td>null</td><td>null</td><td>null</td><td>null</td></tr><tr><td>&quot;min&quot;</td><td>&quot;A-Anne-Clit-Hirudinea-000001&quot;</td><td>&quot;Annelida&quot;</td><td>&quot;Actinopterygii&quot;</td><td>&quot;Caenogastropoda&quot;</td><td>&quot;Accipitriformes&quot;</td><td>&quot;Acotylea&quot;</td><td>&quot;Achelata&quot;</td><td>&quot;Aschiza&quot;</td><td>&quot;Acalyptratae&quot;</td><td>&quot;Achatinoidea&quot;</td><td>&quot;Acanthizidae&quot;</td><td>&quot;Acentropinae&quot;</td><td>&quot;Acridini&quot;</td><td>&quot;Aaptos&quot;</td><td>&quot;(Paragerydus)&quot;</td><td>&quot;abactalis&quot;</td><td>&quot;abbreviata&quot;</td><td>&quot;&lt;i&gt;Aaptos suberitoides&lt;/i&gt;&quot;</td><td>&quot;Acetes is in family Acetidae (…</td><td>&quot;(back+checked) Database - A-An…</td><td>&quot;was order Haplotaxida, changed…</td><td>&quot;Removed Thelyphonida from subo…</td><td>&quot;Acoelomorpha&quot;</td><td>&quot;A-Anne-Poly-Erra-Amph-Amphinom…</td><td>&quot;GBIF, COL no class and order r…</td><td>null</td><td>null</td><td>&quot;Allobaccha&quot;</td><td>&quot;Pelobatrachus nasutus is a syn…</td><td>&quot;the family based on GBIF is Go…</td><td>&quot;typo for Sertularellidae&quot;</td><td>&quot;Acari&quot;</td><td>&quot;Eukaryota&quot;</td><td>&quot;Chromista&quot;</td><td>null</td><td>&quot;#VALUE!&quot;</td><td>&quot;Amblycera&quot;</td><td>&quot;Crustacea moved to subphylum, …</td><td>null</td><td>&quot;Accipiter badius&quot;</td><td>null</td><td>null</td><td>null</td><td>null</td><td>null</td><td>&quot;Allogastropoda&quot;</td><td>&quot;Abbott&#x27;s Babbler&quot;</td><td>&quot;for the entire sheet, i could …</td><td>null</td><td>&quot;Acari no longer valid subclass…</td><td>&quot;Acroleuca&quot;</td><td>null</td><td>null</td><td>&quot;misspell family Santidae, chan…</td><td>&quot;Gnathidae likely misspelt, sup…</td><td>&quot;under GBIF and COL, there is n…</td><td>&quot;Prokaryota&quot;</td><td>&quot;Rubacteria&quot;</td><td>&quot;Negibacteria&quot;</td><td>&quot;no result for subclass , clade…</td></tr><tr><td>&quot;25%&quot;</td><td>null</td><td>null</td><td>null</td><td>null</td><td>null</td><td>null</td><td>null</td><td>null</td><td>null</td><td>null</td><td>null</td><td>null</td><td>null</td><td>null</td><td>null</td><td>null</td><td>null</td><td>null</td><td>null</td><td>null</td><td>null</td><td>null</td><td>null</td><td>null</td><td>null</td><td>null</td><td>null</td><td>null</td><td>null</td><td>null</td><td>null</td><td>null</td><td>null</td><td>null</td><td>null</td><td>null</td><td>null</td><td>null</td><td>null</td><td>null</td><td>null</td><td>null</td><td>null</td><td>null</td><td>null</td><td>null</td><td>null</td><td>null</td><td>null</td><td>null</td><td>null</td><td>null</td><td>null</td><td>null</td><td>null</td><td>null</td><td>null</td><td>null</td><td>null</td><td>null</td></tr><tr><td>&quot;50%&quot;</td><td>null</td><td>null</td><td>null</td><td>null</td><td>null</td><td>null</td><td>null</td><td>null</td><td>null</td><td>null</td><td>null</td><td>null</td><td>null</td><td>null</td><td>null</td><td>null</td><td>null</td><td>null</td><td>null</td><td>null</td><td>null</td><td>null</td><td>null</td><td>null</td><td>null</td><td>null</td><td>null</td><td>null</td><td>null</td><td>null</td><td>null</td><td>null</td><td>null</td><td>null</td><td>null</td><td>null</td><td>null</td><td>null</td><td>null</td><td>null</td><td>null</td><td>null</td><td>null</td><td>null</td><td>null</td><td>null</td><td>null</td><td>null</td><td>null</td><td>null</td><td>null</td><td>null</td><td>null</td><td>null</td><td>null</td><td>null</td><td>null</td><td>null</td><td>null</td><td>null</td></tr><tr><td>&quot;75%&quot;</td><td>null</td><td>null</td><td>null</td><td>null</td><td>null</td><td>null</td><td>null</td><td>null</td><td>null</td><td>null</td><td>null</td><td>null</td><td>null</td><td>null</td><td>null</td><td>null</td><td>null</td><td>null</td><td>null</td><td>null</td><td>null</td><td>null</td><td>null</td><td>null</td><td>null</td><td>null</td><td>null</td><td>null</td><td>null</td><td>null</td><td>null</td><td>null</td><td>null</td><td>null</td><td>null</td><td>null</td><td>null</td><td>null</td><td>null</td><td>null</td><td>null</td><td>null</td><td>null</td><td>null</td><td>null</td><td>null</td><td>null</td><td>null</td><td>null</td><td>null</td><td>null</td><td>null</td><td>null</td><td>null</td><td>null</td><td>null</td><td>null</td><td>null</td><td>null</td><td>null</td></tr><tr><td>&quot;max&quot;</td><td>&quot;F-Basidomycota-000175&quot;</td><td>&quot;Xenacoelomorpha&quot;</td><td>&quot;blank-Phor&quot;</td><td>&quot;Vetigastropoda&quot;</td><td>&quot;blank-UnID&quot;</td><td>&quot;Zygoptera&quot;</td><td>&quot;Tipulomorpha&quot;</td><td>&quot;Schizophora&quot;</td><td>&quot;Calyptratae&quot;</td><td>&quot;Xenophoroidea&quot;</td><td>&quot;Zygometridae&quot;</td><td>&quot;Zeuzerinae&quot;</td><td>&quot;Xylocopini&quot;</td><td>&quot;Zyxomma&quot;</td><td>&quot;Zygobothria&quot;</td><td>&quot;zubirsaidi&quot;</td><td>&quot;zalmora&quot;</td><td>&quot;nr. &quot;&lt;i&gt;Camptopteromyia&lt;/i&gt;&quot; s…</td><td>&quot;was Thranita synonym of Thalam…</td><td>&quot;(review) Database - B-Alga-Cya…</td><td>&quot;was order Haplotaxida, changed…</td><td>&quot;misspelt genus: Utivarachne ch…</td><td>&quot;Vertebrate&quot;</td><td>&quot;B-Alga-Cyanobacteria-Microcyst…</td><td>&quot;under GBIF and COL, both Sipun…</td><td>null</td><td>null</td><td>&quot;wrong taxonavigation path to s…</td><td>&quot;under GBIF, the suggested orde…</td><td>&quot;the family based on GBIF is Go…</td><td>&quot;under GBIF, the suggested orde…</td><td>&quot;Parasitiformes&quot;</td><td>&quot;Eukaryota&quot;</td><td>&quot;Chromista&quot;</td><td>null</td><td>&quot;#VALUE!&quot;</td><td>&quot;Anoplura&quot;</td><td>&quot;subfamily caudidinae replaced …</td><td>null</td><td>&quot;c&quot;</td><td>null</td><td>null</td><td>null</td><td>null</td><td>null</td><td>&quot;Scolecida&quot;</td><td>&quot;Zitting Cisticola&quot;</td><td>&quot;for the entire sheet, i could …</td><td>null</td><td>&quot;order Terebellida (ITIS, COL)&quot;</td><td>&quot;Zodiacalis&quot;</td><td>null</td><td>null</td><td>&quot;misspell family Santidae, chan…</td><td>&quot;Gnathidae likely misspelt, sup…</td><td>&quot;under GBIF and COL, there is n…</td><td>&quot;Prokaryota&quot;</td><td>&quot;Rubacteria&quot;</td><td>&quot;Negibacteria&quot;</td><td>&quot;typo for order, previously was…</td></tr></tbody></table></div>"
      ]
     },
     "metadata": {},
     "output_type": "display_data"
    }
   ],
   "source": [
    "bos_df_1.describe()"
   ]
  },
  {
   "cell_type": "markdown",
   "id": "RGSE",
   "metadata": {
    "marimo": {
     "config": {
      "hide_code": true
     }
    }
   },
   "source": [
    "# taxon_lf sample 10"
   ]
  },
  {
   "cell_type": "code",
   "execution_count": null,
   "id": "Kclp",
   "metadata": {
    "marimo": {
     "config": {
      "hide_code": true
     }
    }
   },
   "outputs": [
    {
     "data": {
      "text/html": [
       "<div><style>\n",
       ".dataframe > thead > tr,\n",
       ".dataframe > tbody > tr {\n",
       "  text-align: right;\n",
       "  white-space: pre-wrap;\n",
       "}\n",
       "</style>\n",
       "<small>shape: (5, 23)</small><table border=\"1\" class=\"dataframe\"><thead><tr><th>taxonID</th><th>datasetID</th><th>parentNameUsageID</th><th>acceptedNameUsageID</th><th>originalNameUsageID</th><th>scientificName</th><th>scientificNameAuthorship</th><th>canonicalName</th><th>genericName</th><th>specificEpithet</th><th>infraspecificEpithet</th><th>taxonRank</th><th>nameAccordingTo</th><th>namePublishedIn</th><th>taxonomicStatus</th><th>nomenclaturalStatus</th><th>taxonRemarks</th><th>kingdom</th><th>phylum</th><th>class</th><th>order</th><th>family</th><th>genus</th></tr><tr><td>i64</td><td>str</td><td>i64</td><td>str</td><td>str</td><td>str</td><td>str</td><td>str</td><td>str</td><td>str</td><td>str</td><td>str</td><td>str</td><td>str</td><td>str</td><td>str</td><td>str</td><td>str</td><td>str</td><td>str</td><td>str</td><td>str</td><td>str</td></tr></thead><tbody><tr><td>11672641</td><td>&quot;a97f36e5-ded1-49cc-bdec-ac6170…</td><td>11547230</td><td>null</td><td>null</td><td>&quot;JAHJRZ01 sp018830605&quot;</td><td>null</td><td>null</td><td>null</td><td>null</td><td>null</td><td>&quot;species&quot;</td><td>null</td><td>null</td><td>&quot;accepted&quot;</td><td>null</td><td>null</td><td>&quot;Bacteria&quot;</td><td>&quot;Patescibacteria&quot;</td><td>&quot;UBA1384&quot;</td><td>&quot;JAHJRZ01&quot;</td><td>null</td><td>null</td></tr><tr><td>2718372</td><td>&quot;7ddf754f-d193-4cc9-b351-999067…</td><td>2718273</td><td>&quot;2718307&quot;</td><td>&quot;2718334&quot;</td><td>&quot;Schoenoplectus maritimus (L.) …</td><td>&quot;(L.) Lye&quot;</td><td>&quot;Schoenoplectus maritimus&quot;</td><td>&quot;Schoenoplectus&quot;</td><td>&quot;maritimus&quot;</td><td>null</td><td>&quot;species&quot;</td><td>null</td><td>&quot;Blyttia 29: 145 (1971)&quot;</td><td>&quot;synonym&quot;</td><td>null</td><td>null</td><td>&quot;Plantae&quot;</td><td>&quot;Tracheophyta&quot;</td><td>&quot;Liliopsida&quot;</td><td>&quot;Poales&quot;</td><td>&quot;Cyperaceae&quot;</td><td>&quot;Bolboschoenus&quot;</td></tr><tr><td>3654016</td><td>&quot;046bbc50-cae2-47ff-aa43-729fbf…</td><td>2838060</td><td>null</td><td>null</td><td>&quot;Orleanesia mineironsensis Gara…</td><td>&quot;Garay, 1973&quot;</td><td>&quot;Orleanesia mineironsensis&quot;</td><td>&quot;Orleanesia&quot;</td><td>&quot;mineironsensis&quot;</td><td>null</td><td>&quot;species&quot;</td><td>null</td><td>&quot;Bradea 1(27): 303, fig. 1973&quot;</td><td>&quot;accepted&quot;</td><td>null</td><td>null</td><td>&quot;Plantae&quot;</td><td>&quot;Tracheophyta&quot;</td><td>&quot;Liliopsida&quot;</td><td>&quot;Asparagales&quot;</td><td>&quot;Orchidaceae&quot;</td><td>&quot;Orleanesia&quot;</td></tr><tr><td>11826160</td><td>&quot;61a5f178-b5fb-4484-b6d8-9b1297…</td><td>5272770</td><td>null</td><td>null</td><td>&quot;SH1037235.09FU&quot;</td><td>null</td><td>null</td><td>null</td><td>null</td><td>null</td><td>&quot;unranked&quot;</td><td>null</td><td>null</td><td>&quot;accepted&quot;</td><td>null</td><td>null</td><td>&quot;Plantae&quot;</td><td>&quot;Chlorophyta&quot;</td><td>&quot;Ulvophyceae&quot;</td><td>&quot;Cladophorales&quot;</td><td>&quot;Cladophoraceae&quot;</td><td>&quot;Cladophora&quot;</td></tr><tr><td>11535279</td><td>&quot;61a5f178-b5fb-4484-b6d8-9b1297…</td><td>2568787</td><td>null</td><td>null</td><td>&quot;SH0899512.09FU&quot;</td><td>null</td><td>null</td><td>null</td><td>null</td><td>null</td><td>&quot;unranked&quot;</td><td>null</td><td>null</td><td>&quot;accepted&quot;</td><td>null</td><td>null</td><td>&quot;Fungi&quot;</td><td>&quot;Ascomycota&quot;</td><td>&quot;Sordariomycetes&quot;</td><td>&quot;Glomerellales&quot;</td><td>&quot;Glomerellaceae&quot;</td><td>&quot;Colletotrichum&quot;</td></tr></tbody></table></div>"
      ]
     },
     "metadata": {},
     "output_type": "display_data"
    }
   ],
   "source": [
    "@mo.persistent_cache\n",
    "def _x():\n",
    "    return taxon_lf.collect().sample(5)\n",
    "\n",
    "\n",
    "_x()"
   ]
  },
  {
   "cell_type": "markdown",
   "id": "emfo",
   "metadata": {},
   "source": [
    "# bos_life sample 10"
   ]
  },
  {
   "cell_type": "code",
   "execution_count": null,
   "id": "Hstk",
   "metadata": {},
   "outputs": [
    {
     "data": {
      "text/html": [
       "<div><style>\n",
       ".dataframe > thead > tr,\n",
       ".dataframe > tbody > tr {\n",
       "  text-align: right;\n",
       "  white-space: pre-wrap;\n",
       "}\n",
       "</style>\n",
       "<small>shape: (10, 60)</small><table border=\"1\" class=\"dataframe\"><thead><tr><th>speciesid</th><th>phylum</th><th>class</th><th>subclass</th><th>order</th><th>sub-order</th><th>infraorder</th><th>section</th><th>subsection</th><th>superfamily</th><th>family</th><th>subfamily</th><th>tribe</th><th>genericName</th><th>subgenus</th><th>specificEpithet</th><th>infraspecificEpithet</th><th>taxonname</th><th>cleanup changes</th><th>source_file</th><th>data cleanup changes</th><th>unnamed: 17</th><th>subphylum</th><th>taxon</th><th>unnamed: 19</th><th>14</th><th> speciesid</th><th>data cleanup changes 1</th><th>query</th><th>issue</th><th>query </th><th>superorder</th><th>domain </th><th>kingdom</th><th>unnamed: 16</th><th>unnamed: 18</th><th>section/parvorder</th><th>changes</th><th>column</th><th>column2</th><th>column3</th><th>column4</th><th>column5</th><th>column6</th><th>column7</th><th>infraclass</th><th>commonname</th><th>unnamed: 21</th><th>subphylum </th><th>cleanup changes/comments</th><th>species2</th><th>column8</th><th>column9</th><th>cleanup changes </th><th>unnamed: 22</th><th>unnamed: 20</th><th>clade 1</th><th>clade 2</th><th>clade 3</th><th>unnamed: 23</th></tr><tr><td>str</td><td>str</td><td>str</td><td>str</td><td>str</td><td>str</td><td>str</td><td>str</td><td>str</td><td>str</td><td>str</td><td>str</td><td>str</td><td>str</td><td>str</td><td>str</td><td>str</td><td>str</td><td>str</td><td>str</td><td>str</td><td>str</td><td>str</td><td>str</td><td>str</td><td>str</td><td>str</td><td>str</td><td>str</td><td>str</td><td>str</td><td>str</td><td>str</td><td>str</td><td>str</td><td>str</td><td>str</td><td>str</td><td>str</td><td>str</td><td>str</td><td>str</td><td>str</td><td>str</td><td>str</td><td>str</td><td>str</td><td>str</td><td>str</td><td>str</td><td>str</td><td>str</td><td>str</td><td>str</td><td>str</td><td>str</td><td>str</td><td>str</td><td>str</td><td>str</td></tr></thead><tbody><tr><td>&quot;A-Arth-Crus-Amphipoda-000036&quot;</td><td>&quot;Arthropoda&quot;</td><td>&quot;Malacostraca&quot;</td><td>null</td><td>&quot;Amphipoda&quot;</td><td>null</td><td>null</td><td>null</td><td>null</td><td>null</td><td>null</td><td>null</td><td>null</td><td>null</td><td>null</td><td>null</td><td>null</td><td>&quot;Amphipoda sp. 15&quot;</td><td>null</td><td>&quot;(back+checked) Database - A-Ar…</td><td>null</td><td>null</td><td>&quot;Crustacea&quot;</td><td>&quot;A-Arth-Crus-Amphipoda-Unidenti…</td><td>null</td><td>null</td><td>null</td><td>null</td><td>null</td><td>null</td><td>null</td><td>null</td><td>null</td><td>null</td><td>null</td><td>null</td><td>null</td><td>null</td><td>null</td><td>null</td><td>null</td><td>null</td><td>null</td><td>null</td><td>null</td><td>null</td><td>null</td><td>null</td><td>null</td><td>null</td><td>null</td><td>null</td><td>null</td><td>null</td><td>null</td><td>null</td><td>null</td><td>null</td><td>null</td><td>null</td></tr><tr><td>&quot;A-Moll-Gastropoda-000065&quot;</td><td>&quot;Mollusca&quot;</td><td>&quot;Gastropoda&quot;</td><td>&quot;Vetigastropoda&quot;</td><td>null</td><td>null</td><td>null</td><td>null</td><td>null</td><td>&quot;Fissurelloidea&quot;</td><td>&quot;Fissurellidae&quot;</td><td>null</td><td>null</td><td>&quot;Diodora&quot;</td><td>null</td><td>&quot;singaporensis&quot;</td><td>null</td><td>&quot;&lt;i&gt;Diodora singaporensis&lt;/i&gt;&quot;</td><td>null</td><td>&quot;(checked) Database - A-Moll-Ga…</td><td>null</td><td>null</td><td>null</td><td>&quot;A-Moll-Gast-Veti-Fissurelloide…</td><td>null</td><td>null</td><td>null</td><td>null</td><td>null</td><td>null</td><td>null</td><td>null</td><td>null</td><td>null</td><td>null</td><td>null</td><td>null</td><td>null</td><td>null</td><td>null</td><td>null</td><td>null</td><td>null</td><td>null</td><td>null</td><td>null</td><td>null</td><td>null</td><td>null</td><td>null</td><td>null</td><td>null</td><td>null</td><td>null</td><td>null</td><td>null</td><td>null</td><td>null</td><td>null</td><td>null</td></tr><tr><td>&quot;A-Arth-Hexa-Coleoptera-000818&quot;</td><td>&quot;Arthropoda&quot;</td><td>&quot;Insecta&quot;</td><td>null</td><td>&quot;Coleoptera&quot;</td><td>&quot;Polyphaga&quot;</td><td>null</td><td>null</td><td>null</td><td>&quot;Curculionoidea&quot;</td><td>&quot;Brentidae&quot;</td><td>null</td><td>null</td><td>null</td><td>null</td><td>null</td><td>null</td><td>&quot;Brentidae sp. AYC 143&quot;</td><td>null</td><td>&quot;(back+checked) Database - A-Ar…</td><td>null</td><td>null</td><td>null</td><td>&quot;A-Arth-Hexa-Coleo-Bren-Unident…</td><td>null</td><td>null</td><td>null</td><td>null</td><td>null</td><td>null</td><td>null</td><td>null</td><td>null</td><td>null</td><td>null</td><td>null</td><td>null</td><td>null</td><td>null</td><td>null</td><td>null</td><td>null</td><td>null</td><td>null</td><td>null</td><td>null</td><td>null</td><td>null</td><td>null</td><td>null</td><td>null</td><td>null</td><td>null</td><td>null</td><td>null</td><td>null</td><td>null</td><td>null</td><td>null</td><td>null</td></tr><tr><td>&quot;A-Arth-Crus-Decapoda-000012&quot;</td><td>&quot;Arthropoda&quot;</td><td>&quot;Malacostraca&quot;</td><td>null</td><td>&quot;Decapoda&quot;</td><td>&quot;Pleocyemata&quot;</td><td>&quot;Brachyura&quot;</td><td>null</td><td>null</td><td>&quot;Pilumnoidea&quot;</td><td>&quot;Pilumnidae&quot;</td><td>null</td><td>null</td><td>&quot;Harrovia&quot;</td><td>null</td><td>&quot;albolineata&quot;</td><td>null</td><td>&quot;&lt;i&gt;Harrovia albolineata&lt;/i&gt;&quot;</td><td>null</td><td>&quot;(back+checked) Database - A-Ar…</td><td>null</td><td>null</td><td>&quot;Crustacea&quot;</td><td>&quot;A-Arth-Crus-Deca-Brac-Pilumnid…</td><td>null</td><td>null</td><td>null</td><td>null</td><td>null</td><td>null</td><td>null</td><td>null</td><td>null</td><td>null</td><td>null</td><td>null</td><td>null</td><td>null</td><td>null</td><td>null</td><td>null</td><td>null</td><td>null</td><td>null</td><td>null</td><td>null</td><td>null</td><td>null</td><td>null</td><td>null</td><td>null</td><td>null</td><td>null</td><td>null</td><td>null</td><td>null</td><td>null</td><td>null</td><td>null</td><td>null</td></tr><tr><td>&quot;A-Vert-Reptilia-000023&quot;</td><td>&quot;Chordata&quot;</td><td>&quot;Reptilia&quot;</td><td>null</td><td>&quot;Squamata&quot;</td><td>null</td><td>null</td><td>null</td><td>null</td><td>null</td><td>&quot;Gekkonidae&quot;</td><td>null</td><td>null</td><td>&quot;Hemidactylus&quot;</td><td>null</td><td>&quot;craspedotus&quot;</td><td>null</td><td>&quot;&lt;i&gt;Hemidactylus craspedotus&lt;/i…</td><td>null</td><td>&quot;(checked) Database - A-Vert-Re…</td><td>null</td><td>null</td><td>&quot;Vertebrata&quot;</td><td>&quot;A-Vert-Rept-Liza-Gekkonidae&quot;</td><td>null</td><td>null</td><td>null</td><td>null</td><td>null</td><td>null</td><td>null</td><td>null</td><td>null</td><td>null</td><td>null</td><td>null</td><td>null</td><td>null</td><td>null</td><td>null</td><td>null</td><td>null</td><td>null</td><td>null</td><td>null</td><td>null</td><td>null</td><td>null</td><td>null</td><td>null</td><td>null</td><td>null</td><td>null</td><td>null</td><td>null</td><td>null</td><td>null</td><td>null</td><td>null</td><td>null</td></tr><tr><td>&quot;A-Arth-Hexa-Diptera-000729&quot;</td><td>&quot;Arthopoda&quot;</td><td>&quot;Insecta&quot;</td><td>null</td><td>&quot;Diptera&quot;</td><td>&quot;Nematocera&quot;</td><td>&quot;Bibionomorpha&quot;</td><td>null</td><td>null</td><td>&quot;Sciaroidea&quot;</td><td>&quot;Mycetophilidae&quot;</td><td>&quot;Mycetophilinae&quot;</td><td>&quot;Mycetophilini&quot;</td><td>&quot;Epicypta&quot;</td><td>null</td><td>&quot;lamtoongjini&quot;</td><td>null</td><td>&quot;&lt;i&gt;Epicypta lamtoongjini&lt;/i&gt;&quot;</td><td>null</td><td>&quot;(review dupes) Database - A-Ar…</td><td>null</td><td>null</td><td>null</td><td>&quot;A-Arth-Hexa-Dipt-Mycetophilida…</td><td>null</td><td>null</td><td>null</td><td>null</td><td>null</td><td>null</td><td>null</td><td>null</td><td>null</td><td>null</td><td>null</td><td>null</td><td>null</td><td>null</td><td>null</td><td>null</td><td>null</td><td>null</td><td>null</td><td>null</td><td>null</td><td>null</td><td>null</td><td>null</td><td>null</td><td>null</td><td>null</td><td>null</td><td>null</td><td>null</td><td>null</td><td>null</td><td>null</td><td>null</td><td>null</td><td>null</td></tr><tr><td>&quot;A-Arth-Hexa-Diptera-001797&quot;</td><td>&quot;Arthopoda&quot;</td><td>&quot;Insecta&quot;</td><td>null</td><td>&quot;Diptera&quot;</td><td>&quot;Brachycera&quot;</td><td>&quot;Muscomorpha&quot;</td><td>&quot;Schizophora&quot;</td><td>&quot;Acalyptratae&quot;</td><td>&quot;Ephydroidea&quot;</td><td>&quot;Drosophilidae&quot;</td><td>&quot;Drosophilinae&quot;</td><td>null</td><td>&quot;Hirtodrosophila&quot;</td><td>null</td><td>null</td><td>null</td><td>&quot;&lt;i&gt;Hirtodrosophila&lt;/i&gt; sp. ZRC…</td><td>null</td><td>&quot;(review dupes) Database - A-Ar…</td><td>null</td><td>null</td><td>null</td><td>&quot;A-Arth-Hexa-Dipt-Drosophilidae…</td><td>null</td><td>null</td><td>null</td><td>null</td><td>null</td><td>null</td><td>null</td><td>null</td><td>null</td><td>null</td><td>null</td><td>null</td><td>null</td><td>null</td><td>null</td><td>null</td><td>null</td><td>null</td><td>null</td><td>null</td><td>null</td><td>null</td><td>null</td><td>null</td><td>null</td><td>null</td><td>null</td><td>null</td><td>null</td><td>null</td><td>null</td><td>null</td><td>null</td><td>null</td><td>null</td><td>null</td></tr><tr><td>&quot;A-Vert-Aves-000224&quot;</td><td>&quot;Chordata&quot;</td><td>&quot;Aves&quot;</td><td>null</td><td>&quot;Passeriformes&quot;</td><td>null</td><td>null</td><td>null</td><td>null</td><td>null</td><td>&quot;Laniidae&quot;</td><td>null</td><td>null</td><td>&quot;Lanius&quot;</td><td>null</td><td>&quot;schach&quot;</td><td>null</td><td>&quot;&lt;i&gt;Lanius schach&lt;/i&gt;&quot;</td><td>null</td><td>&quot;(checked) Database - A-Vert-Av…</td><td>null</td><td>null</td><td>null</td><td>null</td><td>null</td><td>null</td><td>null</td><td>null</td><td>null</td><td>null</td><td>null</td><td>null</td><td>null</td><td>null</td><td>null</td><td>null</td><td>null</td><td>null</td><td>null</td><td>&quot;Lanius schach&quot;</td><td>null</td><td>null</td><td>null</td><td>null</td><td>null</td><td>null</td><td>&quot;Long-tailed Shrike&quot;</td><td>null</td><td>null</td><td>null</td><td>null</td><td>null</td><td>null</td><td>null</td><td>null</td><td>null</td><td>null</td><td>null</td><td>null</td><td>null</td></tr><tr><td>&quot;A-Arth-Hexa-Hemiptera-000123&quot;</td><td>&quot;Arthropoda&quot;</td><td>&quot;Insecta&quot;</td><td>null</td><td>&quot;Hemiptera&quot;</td><td>&quot;Heteroptera&quot;</td><td>&quot;Gerromorpha&quot;</td><td>null</td><td>null</td><td>&quot;Gerroidea&quot;</td><td>&quot;Gerridae&quot;</td><td>&quot;Gerrinae&quot;</td><td>null</td><td>&quot;Aquarius&quot;</td><td>null</td><td>&quot;adelaidis&quot;</td><td>null</td><td>&quot;&lt;i&gt;Aquarius adelaidis&lt;/i&gt;&quot;</td><td>null</td><td>&quot;(review dupes) Database - A-Ar…</td><td>null</td><td>null</td><td>null</td><td>&quot;A-Arth-Hexa-Hemi-Hete-Gerr-Ger…</td><td>null</td><td>null</td><td>null</td><td>null</td><td>null</td><td>null</td><td>null</td><td>null</td><td>null</td><td>null</td><td>null</td><td>null</td><td>null</td><td>null</td><td>null</td><td>null</td><td>null</td><td>null</td><td>null</td><td>null</td><td>null</td><td>null</td><td>null</td><td>null</td><td>null</td><td>null</td><td>null</td><td>null</td><td>null</td><td>null</td><td>null</td><td>null</td><td>null</td><td>null</td><td>null</td><td>null</td></tr><tr><td>&quot;A-Arth-Crus-Decapoda-000640&quot;</td><td>&quot;Arthropoda&quot;</td><td>&quot;Malacostraca&quot;</td><td>null</td><td>&quot;Decapoda&quot;</td><td>&quot;Pleocyemata&quot;</td><td>&quot;Brachyura&quot;</td><td>null</td><td>null</td><td>&quot;Xanthoidea&quot;</td><td>&quot;Xanthidae&quot;</td><td>null</td><td>null</td><td>&quot;Epiactaea&quot;</td><td>null</td><td>null</td><td>null</td><td>&quot;&lt;i&gt;Epiactaea&lt;/i&gt; sp. SEA-1448&quot;</td><td>null</td><td>&quot;(back+checked) Database - A-Ar…</td><td>null</td><td>null</td><td>&quot;Crustacea&quot;</td><td>&quot;A-Arth-Crus-Deca-Brac-Xanthida…</td><td>null</td><td>null</td><td>null</td><td>null</td><td>null</td><td>null</td><td>null</td><td>null</td><td>null</td><td>null</td><td>null</td><td>null</td><td>null</td><td>null</td><td>null</td><td>null</td><td>null</td><td>null</td><td>null</td><td>null</td><td>null</td><td>null</td><td>null</td><td>null</td><td>null</td><td>null</td><td>null</td><td>null</td><td>null</td><td>null</td><td>null</td><td>null</td><td>null</td><td>null</td><td>null</td><td>null</td></tr></tbody></table></div>"
      ]
     },
     "metadata": {},
     "output_type": "display_data"
    }
   ],
   "source": [
    "bos_df_1.sample(10)"
   ]
  },
  {
   "cell_type": "markdown",
   "id": "nWHF",
   "metadata": {
    "marimo": {
     "config": {
      "hide_code": true
     }
    }
   },
   "source": [
    "# Unique Counts"
   ]
  },
  {
   "cell_type": "code",
   "execution_count": null,
   "id": "iLit",
   "metadata": {
    "marimo": {
     "config": {
      "hide_code": true
     }
    }
   },
   "outputs": [
    {
     "data": {
      "text/html": [
       "<div><style>\n",
       ".dataframe > thead > tr,\n",
       ".dataframe > tbody > tr {\n",
       "  text-align: right;\n",
       "  white-space: pre-wrap;\n",
       "}\n",
       "</style>\n",
       "<small>shape: (1, 11)</small><table border=\"1\" class=\"dataframe\"><thead><tr><th>kingdom</th><th>phylum</th><th>class</th><th>order</th><th>family</th><th>form</th><th>subspecies</th><th>variety</th><th>genus</th><th>unranked</th><th>species</th></tr></thead><tbody><tr><td>19</td><td>347</td><td>845</td><td>3092</td><td>34356</td><td>87936</td><td>380481</td><td>421934</td><td>547518</td><td>1275874</td><td>4994322</td></tr></tbody></table></div>"
      ]
     },
     "metadata": {},
     "output_type": "display_data"
    }
   ],
   "source": [
    "pl.Config.set_tbl_hide_column_data_types(True)\n",
    "\n",
    "\n",
    "@mo.persistent_cache\n",
    "def _x():\n",
    "    _df = (\n",
    "        taxon_lf.group_by(\"taxonRank\")\n",
    "        .len()\n",
    "        .collect()\n",
    "        .sort(by=\"len\")\n",
    "        .transpose()\n",
    "    )\n",
    "    return (\n",
    "        _df[1, :]\n",
    "        .rename(_df.head(1).to_dicts().pop())\n",
    "        .with_columns(pl.all().cast(pl.Int64))\n",
    "    )\n",
    "\n",
    "\n",
    "_x()"
   ]
  },
  {
   "cell_type": "code",
   "execution_count": null,
   "id": "ZHCJ",
   "metadata": {},
   "outputs": [],
   "source": [
    "pl.Config.restore_defaults()\n",
    "pass"
   ]
  },
  {
   "cell_type": "code",
   "execution_count": null,
   "id": "ROlb",
   "metadata": {},
   "outputs": [],
   "source": [
    "@mo.persistent_cache\n",
    "def count(feature_name):\n",
    "    pl.Config.set_tbl_rows(100)\n",
    "    return (\n",
    "        taxon_lf.group_by(feature_name)\n",
    "        .len()\n",
    "        .sort(by=\"len\", descending=True)\n",
    "        .collect()\n",
    "    )"
   ]
  },
  {
   "cell_type": "code",
   "execution_count": null,
   "id": "qnkX",
   "metadata": {
    "marimo": {
     "config": {
      "hide_code": true
     }
    }
   },
   "outputs": [
    {
     "data": {
      "text/html": [
       "<div><style>\n",
       ".dataframe > thead > tr,\n",
       ".dataframe > tbody > tr {\n",
       "  text-align: right;\n",
       "  white-space: pre-wrap;\n",
       "}\n",
       "</style>\n",
       "<small>shape: (9, 2)</small><table border=\"1\" class=\"dataframe\"><thead><tr><th>kingdom</th><th>len</th></tr><tr><td>str</td><td>u32</td></tr></thead><tbody><tr><td>&quot;Animalia&quot;</td><td>4432185</td></tr><tr><td>&quot;Plantae&quot;</td><td>2101917</td></tr><tr><td>&quot;Fungi&quot;</td><td>880629</td></tr><tr><td>&quot;Chromista&quot;</td><td>218032</td></tr><tr><td>&quot;Bacteria&quot;</td><td>72137</td></tr><tr><td>&quot;Viruses&quot;</td><td>19642</td></tr><tr><td>&quot;Protozoa&quot;</td><td>13787</td></tr><tr><td>&quot;Archaea&quot;</td><td>4469</td></tr><tr><td>&quot;incertae sedis&quot;</td><td>3926</td></tr></tbody></table></div>"
      ]
     },
     "metadata": {},
     "output_type": "display_data"
    }
   ],
   "source": [
    "count(\"kingdom\")"
   ]
  },
  {
   "cell_type": "code",
   "execution_count": null,
   "id": "TqIu",
   "metadata": {},
   "outputs": [
    {
     "data": {
      "text/html": [
       "<div><style>\n",
       ".dataframe > thead > tr,\n",
       ".dataframe > tbody > tr {\n",
       "  text-align: right;\n",
       "  white-space: pre-wrap;\n",
       "}\n",
       "</style>\n",
       "<small>shape: (275, 2)</small><table border=\"1\" class=\"dataframe\"><thead><tr><th>phylum</th><th>len</th></tr><tr><td>str</td><td>u32</td></tr></thead><tbody><tr><td>&quot;Arthropoda&quot;</td><td>3120423</td></tr><tr><td>&quot;Tracheophyta&quot;</td><td>1920411</td></tr><tr><td>&quot;Mollusca&quot;</td><td>484291</td></tr><tr><td>&quot;Ascomycota&quot;</td><td>475079</td></tr><tr><td>&quot;Chordata&quot;</td><td>424529</td></tr><tr><td>&hellip;</td><td>&hellip;</td></tr><tr><td>&quot;JACQOV01&quot;</td><td>2</td></tr><tr><td>&quot;J088&quot;</td><td>2</td></tr><tr><td>&quot;Altarchaeota&quot;</td><td>1</td></tr><tr><td>&quot;Gemmatimonadota_A&quot;</td><td>1</td></tr><tr><td>&quot;Caldatribacteriota&quot;</td><td>1</td></tr></tbody></table></div>"
      ]
     },
     "metadata": {},
     "output_type": "display_data"
    }
   ],
   "source": [
    "count(\"phylum\")"
   ]
  },
  {
   "cell_type": "code",
   "execution_count": null,
   "id": "Vxnm",
   "metadata": {},
   "outputs": [
    {
     "data": {
      "text/html": [
       "<div><style>\n",
       ".dataframe > thead > tr,\n",
       ".dataframe > tbody > tr {\n",
       "  text-align: right;\n",
       "  white-space: pre-wrap;\n",
       "}\n",
       "</style>\n",
       "<small>shape: (756, 2)</small><table border=\"1\" class=\"dataframe\"><thead><tr><th>class</th><th>len</th></tr><tr><td>str</td><td>u32</td></tr></thead><tbody><tr><td>&quot;Insecta&quot;</td><td>2627216</td></tr><tr><td>&quot;Magnoliopsida&quot;</td><td>1412900</td></tr><tr><td>&quot;Liliopsida&quot;</td><td>399207</td></tr><tr><td>null</td><td>383835</td></tr><tr><td>&quot;Gastropoda&quot;</td><td>326944</td></tr><tr><td>&hellip;</td><td>&hellip;</td></tr><tr><td>&quot;Pinguiophyceae&quot;</td><td>1</td></tr><tr><td>&quot;Poseidoniia_A&quot;</td><td>1</td></tr><tr><td>&quot;Pelagophyceae&quot;</td><td>1</td></tr><tr><td>&quot;Coleochaetophyceae&quot;</td><td>1</td></tr><tr><td>&quot;Goniomonadea&quot;</td><td>1</td></tr></tbody></table></div>"
      ]
     },
     "metadata": {},
     "output_type": "display_data"
    }
   ],
   "source": [
    "count(\"class\")"
   ]
  },
  {
   "cell_type": "code",
   "execution_count": null,
   "id": "DnEU",
   "metadata": {},
   "outputs": [
    {
     "data": {
      "text/html": [
       "<div><style>\n",
       ".dataframe > thead > tr,\n",
       ".dataframe > tbody > tr {\n",
       "  text-align: right;\n",
       "  white-space: pre-wrap;\n",
       "}\n",
       "</style>\n",
       "<small>shape: (2_817, 2)</small><table border=\"1\" class=\"dataframe\"><thead><tr><th>order</th><th>len</th></tr><tr><td>str</td><td>u32</td></tr></thead><tbody><tr><td>&quot;Coleoptera&quot;</td><td>767547</td></tr><tr><td>&quot;Lepidoptera&quot;</td><td>553950</td></tr><tr><td>&quot;Diptera&quot;</td><td>434654</td></tr><tr><td>null</td><td>418056</td></tr><tr><td>&quot;Hymenoptera&quot;</td><td>385226</td></tr><tr><td>&hellip;</td><td>&hellip;</td></tr><tr><td>&quot;Placidiales&quot;</td><td>1</td></tr><tr><td>&quot;Catenellopsidales&quot;</td><td>1</td></tr><tr><td>&quot;UBA2991&quot;</td><td>1</td></tr><tr><td>&quot;Raphidomonadales&quot;</td><td>1</td></tr><tr><td>&quot;Bodonales&quot;</td><td>1</td></tr></tbody></table></div>"
      ]
     },
     "metadata": {},
     "output_type": "display_data"
    }
   ],
   "source": [
    "count(\"order\")"
   ]
  },
  {
   "cell_type": "code",
   "execution_count": null,
   "id": "ulZA",
   "metadata": {},
   "outputs": [
    {
     "data": {
      "text/html": [
       "<div><style>\n",
       ".dataframe > thead > tr,\n",
       ".dataframe > tbody > tr {\n",
       "  text-align: right;\n",
       "  white-space: pre-wrap;\n",
       "}\n",
       "</style>\n",
       "<small>shape: (27_372, 2)</small><table border=\"1\" class=\"dataframe\"><thead><tr><th>family</th><th>len</th></tr><tr><td>str</td><td>u32</td></tr></thead><tbody><tr><td>null</td><td>350978</td></tr><tr><td>&quot;Asteraceae&quot;</td><td>201101</td></tr><tr><td>&quot;Cerambycidae&quot;</td><td>132702</td></tr><tr><td>&quot;Fabaceae&quot;</td><td>119697</td></tr><tr><td>&quot;Orchidaceae&quot;</td><td>114791</td></tr><tr><td>&hellip;</td><td>&hellip;</td></tr><tr><td>&quot;Pterastricolidae&quot;</td><td>1</td></tr><tr><td>&quot;Agromyzides&quot;</td><td>1</td></tr><tr><td>&quot;Necrosciidae&quot;</td><td>1</td></tr><tr><td>&quot;Brefeldiaceae&quot;</td><td>1</td></tr><tr><td>&quot;Pycnothyriaceae&quot;</td><td>1</td></tr></tbody></table></div>"
      ]
     },
     "metadata": {},
     "output_type": "display_data"
    }
   ],
   "source": [
    "count(\"family\")"
   ]
  },
  {
   "cell_type": "code",
   "execution_count": null,
   "id": "ecfG",
   "metadata": {},
   "outputs": [
    {
     "data": {
      "text/html": [
       "<div><style>\n",
       ".dataframe > thead > tr,\n",
       ".dataframe > tbody > tr {\n",
       "  text-align: right;\n",
       "  white-space: pre-wrap;\n",
       "}\n",
       "</style>\n",
       "<small>shape: (375_622, 2)</small><table border=\"1\" class=\"dataframe\"><thead><tr><th>genus</th><th>len</th></tr><tr><td>str</td><td>u32</td></tr></thead><tbody><tr><td>null</td><td>538011</td></tr><tr><td>&quot;Hieracium&quot;</td><td>26077</td></tr><tr><td>&quot;Rubus&quot;</td><td>17891</td></tr><tr><td>&quot;Cortinarius&quot;</td><td>17503</td></tr><tr><td>&quot;Carex&quot;</td><td>15510</td></tr><tr><td>&hellip;</td><td>&hellip;</td></tr><tr><td>&quot;Metacazira&quot;</td><td>1</td></tr><tr><td>&quot;Polystyela&quot;</td><td>1</td></tr><tr><td>&quot;Gymnanthus&quot;</td><td>1</td></tr><tr><td>&quot;Palaeosphaerotherium&quot;</td><td>1</td></tr><tr><td>&quot;Arpidea&quot;</td><td>1</td></tr></tbody></table></div>"
      ]
     },
     "metadata": {},
     "output_type": "display_data"
    }
   ],
   "source": [
    "count(\"genus\")"
   ]
  },
  {
   "cell_type": "markdown",
   "id": "Pvdt",
   "metadata": {
    "marimo": {
     "config": {
      "hide_code": true
     }
    }
   },
   "source": [
    "# Null Check for taxon_lf"
   ]
  },
  {
   "cell_type": "code",
   "execution_count": null,
   "id": "ZBYS",
   "metadata": {
    "marimo": {
     "config": {
      "hide_code": true
     }
    }
   },
   "outputs": [
    {
     "data": {
      "text/html": [
       "<div><style>\n",
       ".dataframe > thead > tr,\n",
       ".dataframe > tbody > tr {\n",
       "  text-align: right;\n",
       "  white-space: pre-wrap;\n",
       "}\n",
       "</style>\n",
       "<small>shape: (2, 23)</small><table border=\"1\" class=\"dataframe\"><thead></thead><tbody><tr><td>&quot;nameAccordingTo&quot;</td><td>&quot;nomenclaturalStatus&quot;</td><td>&quot;taxonRemarks&quot;</td><td>&quot;infraspecificEpithet&quot;</td><td>&quot;originalNameUsageID&quot;</td><td>&quot;acceptedNameUsageID&quot;</td><td>&quot;namePublishedIn&quot;</td><td>&quot;specificEpithet&quot;</td><td>&quot;scientificNameAuthorship&quot;</td><td>&quot;genericName&quot;</td><td>&quot;canonicalName&quot;</td><td>&quot;genus&quot;</td><td>&quot;order&quot;</td><td>&quot;class&quot;</td><td>&quot;family&quot;</td><td>&quot;phylum&quot;</td><td>&quot;datasetID&quot;</td><td>&quot;parentNameUsageID&quot;</td><td>&quot;taxonID&quot;</td><td>&quot;scientificName&quot;</td><td>&quot;taxonRank&quot;</td><td>&quot;taxonomicStatus&quot;</td><td>&quot;kingdom&quot;</td></tr><tr><td>&quot;7746724&quot;</td><td>&quot;7746724&quot;</td><td>&quot;7615826&quot;</td><td>&quot;6856470&quot;</td><td>&quot;6396708&quot;</td><td>&quot;4452270&quot;</td><td>&quot;3570811&quot;</td><td>&quot;1863515&quot;</td><td>&quot;1502724&quot;</td><td>&quot;1289967&quot;</td><td>&quot;1289966&quot;</td><td>&quot;538011&quot;</td><td>&quot;418056&quot;</td><td>&quot;383835&quot;</td><td>&quot;350978&quot;</td><td>&quot;77745&quot;</td><td>&quot;49563&quot;</td><td>&quot;33&quot;</td><td>&quot;0&quot;</td><td>&quot;0&quot;</td><td>&quot;0&quot;</td><td>&quot;0&quot;</td><td>&quot;0&quot;</td></tr></tbody></table></div>"
      ]
     },
     "metadata": {},
     "output_type": "display_data"
    }
   ],
   "source": [
    "@mo.persistent_cache\n",
    "def _x():\n",
    "    return (\n",
    "        taxon_lf.null_count()\n",
    "        .collect()\n",
    "        .transpose(include_header=True)\n",
    "        .sort(by=\"column_0\", descending=True)\n",
    "        .transpose()\n",
    "    )\n",
    "\n",
    "\n",
    "pl.Config.set_tbl_hide_column_data_types(True)\n",
    "pl.Config.set_tbl_hide_column_names(True)\n",
    "_x()"
   ]
  },
  {
   "cell_type": "code",
   "execution_count": null,
   "id": "aLJB",
   "metadata": {},
   "outputs": [],
   "source": [
    "pl.Config.restore_defaults()\n",
    "pass"
   ]
  },
  {
   "cell_type": "markdown",
   "id": "nHfw",
   "metadata": {
    "marimo": {
     "config": {
      "hide_code": true
     }
    }
   },
   "source": [
    "# Null Check for bos_df_1"
   ]
  },
  {
   "cell_type": "code",
   "execution_count": null,
   "id": "xXTn",
   "metadata": {},
   "outputs": [
    {
     "data": {
      "text/html": [
       "<pre style='font-size: 12px'>13103</pre>"
      ]
     },
     "metadata": {},
     "output_type": "display_data"
    }
   ],
   "source": [
    "bos_length = bos_df_1.shape[0]\n",
    "bos_length"
   ]
  },
  {
   "cell_type": "code",
   "execution_count": null,
   "id": "AjVT",
   "metadata": {},
   "outputs": [
    {
     "data": {
      "text/html": [
       "<div><style>\n",
       ".dataframe > thead > tr,\n",
       ".dataframe > tbody > tr {\n",
       "  text-align: right;\n",
       "  white-space: pre-wrap;\n",
       "}\n",
       "</style>\n",
       "<small>shape: (1, 60)</small><table border=\"1\" class=\"dataframe\"><thead><tr><th>speciesid</th><th>phylum</th><th>class</th><th>subclass</th><th>order</th><th>sub-order</th><th>infraorder</th><th>section</th><th>subsection</th><th>superfamily</th><th>family</th><th>subfamily</th><th>tribe</th><th>genericName</th><th>subgenus</th><th>specificEpithet</th><th>infraspecificEpithet</th><th>taxonname</th><th>cleanup changes</th><th>source_file</th><th>data cleanup changes</th><th>unnamed: 17</th><th>subphylum</th><th>taxon</th><th>unnamed: 19</th><th>14</th><th> speciesid</th><th>data cleanup changes 1</th><th>query</th><th>issue</th><th>query </th><th>superorder</th><th>domain </th><th>kingdom</th><th>unnamed: 16</th><th>unnamed: 18</th><th>section/parvorder</th><th>changes</th><th>column</th><th>column2</th><th>column3</th><th>column4</th><th>column5</th><th>column6</th><th>column7</th><th>infraclass</th><th>commonname</th><th>unnamed: 21</th><th>subphylum </th><th>cleanup changes/comments</th><th>species2</th><th>column8</th><th>column9</th><th>cleanup changes </th><th>unnamed: 22</th><th>unnamed: 20</th><th>clade 1</th><th>clade 2</th><th>clade 3</th><th>unnamed: 23</th></tr><tr><td>u32</td><td>u32</td><td>u32</td><td>u32</td><td>u32</td><td>u32</td><td>u32</td><td>u32</td><td>u32</td><td>u32</td><td>u32</td><td>u32</td><td>u32</td><td>u32</td><td>u32</td><td>u32</td><td>u32</td><td>u32</td><td>u32</td><td>u32</td><td>u32</td><td>u32</td><td>u32</td><td>u32</td><td>u32</td><td>u32</td><td>u32</td><td>u32</td><td>u32</td><td>u32</td><td>u32</td><td>u32</td><td>u32</td><td>u32</td><td>u32</td><td>u32</td><td>u32</td><td>u32</td><td>u32</td><td>u32</td><td>u32</td><td>u32</td><td>u32</td><td>u32</td><td>u32</td><td>u32</td><td>u32</td><td>u32</td><td>u32</td><td>u32</td><td>u32</td><td>u32</td><td>u32</td><td>u32</td><td>u32</td><td>u32</td><td>u32</td><td>u32</td><td>u32</td><td>u32</td></tr></thead><tbody><tr><td>0</td><td>1145</td><td>398</td><td>11138</td><td>1169</td><td>7444</td><td>8966</td><td>11587</td><td>11955</td><td>7371</td><td>2194</td><td>9673</td><td>12545</td><td>5103</td><td>12775</td><td>7901</td><td>12721</td><td>0</td><td>13088</td><td>0</td><td>13102</td><td>13101</td><td>10463</td><td>2683</td><td>13074</td><td>13103</td><td>13103</td><td>13053</td><td>13036</td><td>13102</td><td>13092</td><td>12985</td><td>13102</td><td>13102</td><td>13103</td><td>13101</td><td>13049</td><td>13046</td><td>13103</td><td>12629</td><td>13103</td><td>13103</td><td>13103</td><td>13103</td><td>13103</td><td>12903</td><td>12629</td><td>13102</td><td>13103</td><td>12902</td><td>12871</td><td>13103</td><td>13103</td><td>13101</td><td>13102</td><td>13092</td><td>13096</td><td>13096</td><td>13096</td><td>13096</td></tr></tbody></table></div>"
      ]
     },
     "metadata": {},
     "output_type": "display_data"
    }
   ],
   "source": [
    "(bos_df_1.null_count())"
   ]
  },
  {
   "cell_type": "code",
   "execution_count": null,
   "id": "pHFh",
   "metadata": {},
   "outputs": [
    {
     "data": {
      "text/html": [
       "<div><style>\n",
       ".dataframe > thead > tr,\n",
       ".dataframe > tbody > tr {\n",
       "  text-align: right;\n",
       "  white-space: pre-wrap;\n",
       "}\n",
       "</style>\n",
       "<small>shape: (13_103,)</small><table border=\"1\" class=\"dataframe\"><thead><tr><th>speciesid</th></tr><tr><td>str</td></tr></thead><tbody><tr><td>&quot;A-Anne-Clit-Hirudinea-000001&quot;</td></tr><tr><td>&quot;A-Anne-Clit-Hirudinea-000002&quot;</td></tr><tr><td>&quot;A-Anne-Clit-Hirudinea-000003&quot;</td></tr><tr><td>&quot;A-Anne-Clit-Hirudinea-000004&quot;</td></tr><tr><td>&quot;A-Anne-Clit-Hirudinea-000005&quot;</td></tr><tr><td>&hellip;</td></tr><tr><td>&quot;B-Alga-Cyanobacteria-000003&quot;</td></tr><tr><td>&quot;B-Alga-Cyanobacteria-000004&quot;</td></tr><tr><td>&quot;B-Alga-Cyanobacteria-000005&quot;</td></tr><tr><td>&quot;B-Alga-Cyanobacteria-000006&quot;</td></tr><tr><td>&quot;B-Alga-Cyanobacteria-000007&quot;</td></tr></tbody></table></div>"
      ]
     },
     "metadata": {},
     "output_type": "display_data"
    }
   ],
   "source": [
    "bos_df_1[\"speciesid\"]"
   ]
  },
  {
   "cell_type": "code",
   "execution_count": null,
   "id": "NCOB",
   "metadata": {},
   "outputs": [
    {
     "data": {
      "text/html": [
       "<div><style>\n",
       ".dataframe > thead > tr,\n",
       ".dataframe > tbody > tr {\n",
       "  text-align: right;\n",
       "  white-space: pre-wrap;\n",
       "}\n",
       "</style>\n",
       "<small>shape: (1,)</small><table border=\"1\" class=\"dataframe\"><thead><tr><th> speciesid</th></tr><tr><td>str</td></tr></thead><tbody><tr><td>null</td></tr></tbody></table></div>"
      ]
     },
     "metadata": {},
     "output_type": "display_data"
    }
   ],
   "source": [
    "bos_df_1[\" speciesid\"].unique()"
   ]
  },
  {
   "cell_type": "markdown",
   "id": "aqbW",
   "metadata": {
    "marimo": {
     "config": {
      "hide_code": true
     }
    }
   },
   "source": [
    "Nothing in the second speciesid column, this column will be dropped."
   ]
  },
  {
   "cell_type": "code",
   "execution_count": null,
   "id": "TRpd",
   "metadata": {},
   "outputs": [
    {
     "data": {
      "application/json": "[\"14\", \" speciesid\", \"unnamed: 16\", \"column\", \"column3\", \"column4\", \"column5\", \"column6\", \"column7\", \"subphylum \", \"column8\", \"column9\"]"
     },
     "metadata": {},
     "output_type": "display_data"
    }
   ],
   "source": [
    "_x = (\n",
    "    bos_df_1.null_count()\n",
    "    .transpose(include_header=True)\n",
    "    .rename({\"column\": \"feature\", \"column_0\": \"len\"})\n",
    ")\n",
    "# _x.filter(_x['len']< bos_length)\n",
    "columns_to_drop_as_all_nulls = (\n",
    "    _x.filter(_x[\"len\"] == bos_length)\n",
    "    .transpose()[0, :]\n",
    "    .transpose()\n",
    "    .to_series()\n",
    "    .to_list()\n",
    ")\n",
    "columns_to_drop_as_all_nulls"
   ]
  },
  {
   "cell_type": "code",
   "execution_count": null,
   "id": "TXez",
   "metadata": {},
   "outputs": [],
   "source": []
  },
  {
   "cell_type": "markdown",
   "id": "dNNg",
   "metadata": {},
   "source": [
    "# checking on some unique values on sparse columns\n",
    "\n",
    "more columns to be dropped:"
   ]
  },
  {
   "cell_type": "code",
   "execution_count": null,
   "id": "yCnT",
   "metadata": {},
   "outputs": [
    {
     "name": "stdout",
     "output_type": "stream",
     "text": [
      "column cleanup changes  \n",
      " ['misspell family Santidae, changed to Santiidae', 'misspell family Santidae, changed to Santiidae']\n",
      "column data cleanup changes \n",
      " ['was order Haplotaxida, changed to order Crassiclitellata according to COL']\n",
      "column data cleanup changes 1 \n",
      " ['wrong taxonavigation path to stratiomyidae', 'missing subsp info from species sheet added to subspecies and taxon name column', 'missing subsp info from species sheet added to subspecies and taxon name column', 'missing subsp info from species sheet added to subspecies and taxon name column', 'missing subsp info from species sheet added to subspecies and taxon name column', 'missing subsp info from species sheet added to subspecies and taxon name column', 'missing subsp info from species sheet added to subspecies and taxon name column', 'missing subsp info from species sheet added to subspecies and taxon name column', 'missing subsp info from species sheet added to subspecies and taxon name column', 'missing subsp info from species sheet added to subspecies and taxon name column', 'missing subsp info from species sheet added to subspecies and taxon name column', 'misspelt as Scotylinae', 'removed ?', 'Chaboridae to Chaoboridae', 'Chaboridae to Chaoboridae', 'removed ?', 'remove genus Aedes/Culex, back to family', 'removed ?', 'removed ?', 'removed ?', 'subgenus', 'subgenus', 'subgenus', 'Scaptodrosophila', 'removed ?', 'removed ?', 'removed ?', 'Platurocypta', 'removed ?', 'removed ?', 'removed ?', 'path and taxon mismatch', 'remove genus Oxycera?/Pachygasterinae?, back to family', 'remove genus Allograpta/Sphaerophoria, back to subfamily', 'Allobaccha', 'removed ?', 'removed ? From Goniini?', 'removed ? From Siphona?', 'Bartrocera', 'Tritaenopteron', 'tribe Blondellini', 'Anaeogmena', 'Sarchophaga', 'subgenus', 'subgenus', 'removed ?', 'was Mycetophilidae sp. ZRC_BDP0140765', 'was blank', 'Phyllomyzinae', 'removed ?']\n",
      "column changes \n",
      " ['order Amphioxiformes removed; synonymised with Leptocardii', 'subfamily caudidinae replaced with family caudinidae', 'subfamily caudidinae replaced with family caudinidae', 'subfamily caudidinae replaced with family caudinidae', 'subfamily caudidinae replaced with family caudinidae', 'subfamily caudidinae replaced with family caudinidae', 'subfamily caudidinae replaced with family caudinidae', 'subfamily caudidinae replaced with family caudinidae', 'subfamily caudidinae replaced with family caudinidae', 'subfamily caudidinae replaced with family caudinidae', 'subfamily caudidinae replaced with family caudinidae', 'order Pennatulacea removed; synonym of Pennatuloidea according to COL, replaced with Scleralcyonacea, Pennatuloidea added to superfamily', 'order Pennatulacea removed; synonym of Pennatuloidea according to COL, replaced with Scleralcyonacea, Pennatuloidea added to superfamily', 'order Pennatulacea removed; synonym of Pennatuloidea according to COL, replaced with Scleralcyonacea, Pennatuloidea added to superfamily', 'order Pennatulacea removed; synonym of Pennatuloidea according to COL, replaced with Scleralcyonacea, Pennatuloidea added to superfamily', 'order Pennatulacea removed; synonym of Pennatuloidea according to COL, replaced with Scleralcyonacea, Pennatuloidea added to superfamily', 'order Pennatulacea removed; synonym of Pennatuloidea according to COL, replaced with Scleralcyonacea, Pennatuloidea added to superfamily', 'order Pennatulacea removed; synonym of Pennatuloidea according to COL, replaced with Scleralcyonacea, Pennatuloidea added to superfamily', 'order Pennatulacea removed; synonym of Pennatuloidea according to COL, replaced with Scleralcyonacea, Pennatuloidea added to superfamily', 'order Pennatulacea removed; synonym of Pennatuloidea according to COL, replaced with Scleralcyonacea, Pennatuloidea added to superfamily', 'order Pennatulacea removed; synonym of Pennatuloidea according to COL, replaced with Scleralcyonacea, Pennatuloidea added to superfamily', 'order Pennatulacea removed; synonym of Pennatuloidea according to COL, replaced with Scleralcyonacea, Pennatuloidea added to superfamily', 'order Pennatulacea removed; synonym of Pennatuloidea according to COL, replaced with Scleralcyonacea, Pennatuloidea added to superfamily', 'order Pennatulacea removed; synonym of Pennatuloidea according to COL, replaced with Scleralcyonacea, Pennatuloidea added to superfamily', 'order Pennatulacea removed; synonym of Pennatuloidea according to COL, replaced with Scleralcyonacea, Pennatuloidea added to superfamily', 'order Pennatulacea removed; synonym of Pennatuloidea according to COL, replaced with Scleralcyonacea, Pennatuloidea added to superfamily', 'order Pennatulacea removed; synonym of Pennatuloidea according to COL, replaced with Scleralcyonacea, Pennatuloidea added to superfamily', 'order Pennatulacea removed; synonym of Pennatuloidea according to COL, replaced with Scleralcyonacea, Pennatuloidea added to superfamily', 'order Pennatulacea removed; synonym of Pennatuloidea according to COL, replaced with Scleralcyonacea, Pennatuloidea added to superfamily', 'order Pennatulacea removed; synonym of Pennatuloidea according to COL, replaced with Scleralcyonacea, Pennatuloidea added to superfamily', 'order Pennatulacea removed; synonym of Pennatuloidea according to COL, replaced with Scleralcyonacea, Pennatuloidea added to superfamily', 'order Pennatulacea removed; synonym of Pennatuloidea according to COL, replaced with Scleralcyonacea, Pennatuloidea added to superfamily', 'order Pennatulacea removed; synonym of Pennatuloidea according to COL, replaced with Scleralcyonacea, Pennatuloidea added to superfamily', 'order Pennatulacea removed; synonym of Pennatuloidea according to COL, replaced with Scleralcyonacea, Pennatuloidea added to superfamily', 'order Pennatulacea removed; synonym of Pennatuloidea according to COL, replaced with Scleralcyonacea, Pennatuloidea added to superfamily', 'order Pennatulacea removed; synonym of Pennatuloidea according to COL, replaced with Scleralcyonacea, Pennatuloidea added to superfamily', 'order Pennatulacea removed; synonym of Pennatuloidea according to COL, replaced with Scleralcyonacea, Pennatuloidea added to superfamily', 'order Pennatulacea removed; synonym of Pennatuloidea according to COL, replaced with Scleralcyonacea, Pennatuloidea added to superfamily', 'order Pennatulacea removed; synonym of Pennatuloidea according to COL, replaced with Scleralcyonacea, Pennatuloidea added to superfamily', 'order Pennatulacea removed; synonym of Pennatuloidea according to COL, replaced with Scleralcyonacea, Pennatuloidea added to superfamily', 'order Pennatulacea removed; synonym of Pennatuloidea according to COL, replaced with Scleralcyonacea, Pennatuloidea added to superfamily', 'order Pennatulacea removed; synonym of Pennatuloidea according to COL, replaced with Scleralcyonacea, Pennatuloidea added to superfamily', 'order Pennatulacea removed; synonym of Pennatuloidea according to COL, replaced with Scleralcyonacea, Pennatuloidea added to superfamily', 'order Pennatulacea removed; synonym of Pennatuloidea according to COL, replaced with Scleralcyonacea, Pennatuloidea added to superfamily', 'order Pennatulacea removed; synonym of Pennatuloidea according to COL, replaced with Scleralcyonacea, Pennatuloidea added to superfamily', 'order Pennatulacea removed; synonym of Pennatuloidea according to COL, replaced with Scleralcyonacea, Pennatuloidea added to superfamily', 'order Pennatulacea removed; synonym of Pennatuloidea according to COL, replaced with Scleralcyonacea, Pennatuloidea added to superfamily', 'order Pennatulacea removed; synonym of Pennatuloidea according to COL, replaced with Scleralcyonacea, Pennatuloidea added to superfamily', 'order Pennatulacea removed; synonym of Pennatuloidea according to COL, replaced with Scleralcyonacea, Pennatuloidea added to superfamily', 'order Pennatulacea removed; synonym of Pennatuloidea according to COL, replaced with Scleralcyonacea, Pennatuloidea added to superfamily', 'order Pennatulacea removed; synonym of Pennatuloidea according to COL, replaced with Scleralcyonacea, Pennatuloidea added to superfamily', 'order Pennatulacea removed; synonym of Pennatuloidea according to COL, replaced with Scleralcyonacea, Pennatuloidea added to superfamily', 'order Pennatulacea removed; synonym of Pennatuloidea according to COL, replaced with Scleralcyonacea, Pennatuloidea added to superfamily', 'order Pennatulacea removed; synonym of Pennatuloidea according to COL, replaced with Scleralcyonacea, Pennatuloidea added to superfamily', 'order Helioporacea removed; synonym of Helioporidae according to COL, replaced with Scleralcyonacea', 'infraorderdipso(CatalogueofLife)orenico?', 'Crustacea moved to subphylum, added class Maxillopoda (GBIF, COL) for all Cirripedia entries, sheet renamed Maxillopoda (Cirripedia)']\n",
      "column cleanup changes \n",
      " ['Glossiphonidae and Glossophonidae are the wrong spellings; changed to Glossiphoniidae', 'Glossiphonidae and Glossophonidae are the wrong spellings; changed to Glossiphoniidae', 'Glossiphonidae and Glossophonidae are the wrong spellings; changed to Glossiphoniidae', 'genus under Mollusca and Fungi on COL but is on GBIF as leech', 'Echiuroidea is indeed an order according to COL', 'family Parathelphusidae synonym of Gecarcinucidae; changed to Gecarcinucidae', 'family Parathelphusidae synonym of Gecarcinucidae; changed to Gecarcinucidae', 'family Parathelphusidae synonym of Gecarcinucidae; changed to Gecarcinucidae', 'Chlorotocella is in family Chlorotocellidae (GBIF)', 'family Thalassocarididae synonym of Pandalidae (GBIF)', 'Acetes is in family Acetidae (GBIF) not Sergestidae', 'family Gourretiidae synonym of Ctenochelidae', 'Acetes is in family Acetidae (GBIF) not Sergestidae', 'misspelt taxon name Dromidae, changed to Dromiidae', 'was Thranita synonym of Thalamita (GBIF), changed genus and taxon name to Thalamita']\n",
      "column unnamed: 18 \n",
      " ['#VALUE!', '#VALUE!']\n",
      "column unnamed: 17 \n",
      " ['misspelt genus: Utivarachne changed to Utivarachna', 'Removed Thelyphonida from suborder as it doesn’t exist in taxonomy COL or GBIF']\n"
     ]
    }
   ],
   "source": [
    "columns_to_drop_as_they_are_just_changes_logs = [\n",
    "    \"cleanup changes \",\n",
    "    \"data cleanup changes\",\n",
    "    \"data cleanup changes 1\",\n",
    "    \"changes\",\n",
    "    \"cleanup changes\",\n",
    "    \"unnamed: 18\",\n",
    "    \"unnamed: 17\",\n",
    "]\n",
    "for _feature in columns_to_drop_as_they_are_just_changes_logs:\n",
    "    print(\n",
    "        \"column\",\n",
    "        _feature,\n",
    "        \"\\n\",\n",
    "        bos_df_1[_feature].filter(bos_df_1[_feature].is_not_null()).to_list(),\n",
    "    )"
   ]
  },
  {
   "cell_type": "markdown",
   "id": "wlCL",
   "metadata": {
    "marimo": {
     "config": {
      "hide_code": true
     }
    }
   },
   "source": [
    "## All ambigious columns part 1"
   ]
  },
  {
   "cell_type": "code",
   "execution_count": null,
   "id": "kqZH",
   "metadata": {},
   "outputs": [
    {
     "name": "stdout",
     "output_type": "stream",
     "text": [
      "column unnamed: 19 \n",
      " ['class Crustacea is cladistic and not on COL, wiki and WoRMS say subphylum, class replaced with Malacostraca for all Amphipoda entries (COL, GBIF, WoRMS)', 'genus Amphithoe synonym of Ampithoe', 'GBIF, COL no class and order ranks; blank-Phor in all blanks', 'genus Waldeckia synonym of Charcotia', 'entognatha removed as class, collembola shifted from subclass to class (GBIF, COL)', 'under GBIF and COL, both Sipuncula and Annelida are phylums, these species fall under Sipuncula; Annelida removed', 'order missing on GBIF']\n",
      "column query \n",
      " ['under GBIF, the order is Scleralcyonacea', 'under GBIF, the suggested family is Platycnemididae instead of Coenagrionidae', 'under GBIF, the database value (Stellaster equestris) is a synonym of Stellaster childreni', 'under GBIF, the order is Malacalcyonacea instead of Alcyonacea.', 'under GBIF, Udeonychophora doesnt appear in the taxonomic ranks. Under COL, it is a synonym of Onychophora', 'under GBIF, the suggested class is Pilidiophora instead of the database value of Anopla', 'based on COL, the current database aligns (Nostocales, Cyanophyceae, Cyanobacteriota). but based on GBIF, the order upwards is different. Order: Cyanobacteriales, Class: Cyanobacteriia, and Phylum: Cyanobacteria', 'under GBIF, Sepia latimanus is a synonym of Ascarosepion latimanus', 'under GBIF and COL, the subspecies is the synonym of the Genus and species only, so only Lestes praemorsus', 'under GBIF and COL, the suggested family is Calopterygidae instead of the database value of Argiolestidae', 'under GBIF, the family is Sarcophytidae instead of Alcyoniidae', 'under GBIF, Ophiothela danae is a synonym of Ophiothela mirabilis', 'under GBIF, the suggested order is Phascolosomatiformes instead of the database value of Phascolosomatida. added subgenus from COL', 'under GBIF, Sepia recurvirostra is a synonym of Acanthosepion recurvirostrum', 'under GBIF, the suggested order is Aspidosiphoniformes instead of the database value of Aspidosiphonida', 'under GBIF, the suggested family is Calopterygidae', 'under GBIF, the suggested family is Synthemistidae instead.', 'Pelobatrachus nasutus is a synonym for Megophrys nasuta (GBIF); changed genus and taxon name', 'under GBIF, the database value (Lamprometra palmata) is a synonym of Dichrometra palmata', 'genus Idiosepius is under order Idiosepida on GBIF, not Sepiida', 'unable to find any results of the genus under GBIF and COL.', 'under GBIF, the family is Cladiellidae instead of Alcyoniidae', 'under GBIF, the suggested family is Ophiomyxidae instead of the database value of Ophiodermatidae', 'genus Balanoglossus doubtful in GBIF, accepted genus in COL', 'under GBIF, Sepia aculeata is a synonym of Acanthosepion aculeatum', 'based on COL, only the family is different from database value (Microcoleaceae). based on GBIF, the family, order, class and phylum differs.', 'under GBIF, the suggested order is Phascolosomatiformes instead of the database value of Phascolosomatida', 'under GBIF, the suggested order is Golfingiiformes instead of the database value of Golfingiida', 'genus typo to correct Nephtheidae', 'under GBIF, the family is Euplexauridae instead of Plexauridae', 'could not find any result on the subspecies melaenops in GBIF and COL.', 'based on COL, the current database aligns (Chroococcales, Cyanophyceae, Cyanobacteriota). but based on GBIF, the order is Cyanobacteriales, class is Cyanobacteriia, and phylum is Cyanobacteria.', 'under GBIF, the suggested family is Goniasteridae instead of the database value of Oreasteridae', 'under GBIF, the suggested order is Phascolosomatiformes instead of the database value of Phascolosomatida. also, Phascolosoma nigrescens is a synonym of Phascolosoma puntarenae (GBIF, COL).', 'under GBIF, the family should be Sarcophytidae instead of Alcyoniidae', 'under GBIF, Ophiura kinbergi is a synonym of Ophiuroglypha kinbergi. Also the suggested family is Ophiopyrgidae instead of Ophiuridae', 'under GBIF, the family is Sinulariidae instead of Alcyoniidae.', 'under GBIF, the order is Malacalcyonacea instead of Alcyonacea. Also, genus typo to correct Nephtheidae', 'under GBIF, the family is Astrogorgiidae instead of Plexauridae', 'under GBIF, the family is Paramuriceidae instead of Plexauridae']\n",
      "column issue \n",
      " [\"the family based on GBIF is Gonypetidae instead of the current 'Iridopterygidae'\"]\n",
      "column query  \n",
      " ['under GBIF, the suggested family is Loveniidae instead of the database value of Maretiidae', 'typo for Sertularellidae', 'under GBIF, the suggested order is Echinolampadacea instead of the database value of Clypeasteroida', 'under GBIF, the suggested order is Rhabditida instead of the database value of Oxyurida. And the suggested order is Chromadorea instead of the database value of Secernentea', 'under GBIF, Euclimacia (Enderlein, 1910) is flagged as doubtful. But under COL, it is an accepted genus.', 'under GBIF, the suggested family is Versurigidae instead of the database value of Mastigiidae']\n",
      "column domain  \n",
      " ['Eukaryota']\n",
      "column kingdom \n",
      " ['Chromista']\n",
      "column section/parvorder \n",
      " ['Anoplura', 'Amblycera']\n",
      "column unnamed: 21 \n",
      " ['for the entire sheet, i could not find any result for the order Alcyonacea in GBIF and COL. based on wiki, it is now an unaccepted name for class Octocorallia. It became deprecated 2022.']\n",
      "column unnamed: 22 \n",
      " ['Gnathidae likely misspelt, superfamily removed, suborder changed according to ITIS']\n",
      "column unnamed: 20 \n",
      " ['under GBIF and COL, there is no order taxonomic rank for Enteropneusta']\n",
      "column clade 1 \n",
      " ['Prokaryota']\n",
      "column clade 2 \n",
      " ['Rubacteria']\n",
      "column clade 3 \n",
      " ['Negibacteria']\n",
      "column unnamed: 23 \n",
      " ['no result for subclass , clade 3, clade 2, and clade 1 in GBIF and COL.', 'typo for order, previously was Choococcales. no result for subclass , clade 3, clade 2, and clade 1 in GBIF and COL.']\n"
     ]
    }
   ],
   "source": [
    "_x = (\n",
    "    bos_df_1.null_count()\n",
    "    .transpose(include_header=True)\n",
    "    .rename({\"column\": \"feature\", \"column_0\": \"len\"})\n",
    ")\n",
    "# _x.filter(_x['len']< bos_length)\n",
    "nulls_number_threshold = 100\n",
    "_ambigious_columns = (\n",
    "    _x.filter(\n",
    "        (_x[\"len\"] > bos_length - nulls_number_threshold)\n",
    "        & (\n",
    "            ~pl.col(\"feature\").is_in(columns_to_drop_as_all_nulls)\n",
    "            & (\n",
    "                ~pl.col(\"feature\").is_in(\n",
    "                    columns_to_drop_as_they_are_just_changes_logs\n",
    "                )\n",
    "            )\n",
    "        )\n",
    "    )\n",
    "    .transpose()[0, :]\n",
    "    .transpose()\n",
    "    .to_series()\n",
    "    .to_list()\n",
    ")\n",
    "\n",
    "for _feature in _ambigious_columns:\n",
    "    print(\n",
    "        \"column\",\n",
    "        _feature,\n",
    "        \"\\n\",\n",
    "        bos_df_1[_feature]\n",
    "        .filter(bos_df_1[_feature].is_not_null())\n",
    "        .unique()\n",
    "        .to_list(),\n",
    "    )"
   ]
  },
  {
   "cell_type": "markdown",
   "id": "wAgl",
   "metadata": {
    "marimo": {
     "config": {
      "hide_code": true
     }
    }
   },
   "source": [
    "## some of the columns are manually removed from part 1"
   ]
  },
  {
   "cell_type": "code",
   "execution_count": null,
   "id": "rEll",
   "metadata": {},
   "outputs": [
    {
     "name": "stdout",
     "output_type": "stream",
     "text": [
      "column unnamed: 19 \n",
      " ['genus Amphithoe synonym of Ampithoe', 'under GBIF and COL, both Sipuncula and Annelida are phylums, these species fall under Sipuncula; Annelida removed', 'genus Waldeckia synonym of Charcotia', 'order missing on GBIF', 'entognatha removed as class, collembola shifted from subclass to class (GBIF, COL)', 'class Crustacea is cladistic and not on COL, wiki and WoRMS say subphylum, class replaced with Malacostraca for all Amphipoda entries (COL, GBIF, WoRMS)', 'GBIF, COL no class and order ranks; blank-Phor in all blanks']\n",
      "column query \n",
      " ['under GBIF and COL, the suggested family is Calopterygidae instead of the database value of Argiolestidae', 'under GBIF, the suggested order is Aspidosiphoniformes instead of the database value of Aspidosiphonida', 'under GBIF, Ophiura kinbergi is a synonym of Ophiuroglypha kinbergi. Also the suggested family is Ophiopyrgidae instead of Ophiuridae', 'under GBIF, the suggested family is Goniasteridae instead of the database value of Oreasteridae', 'under GBIF, Sepia recurvirostra is a synonym of Acanthosepion recurvirostrum', 'under GBIF, the family is Cladiellidae instead of Alcyoniidae', 'under GBIF and COL, the subspecies is the synonym of the Genus and species only, so only Lestes praemorsus', 'could not find any result on the subspecies melaenops in GBIF and COL.', 'under GBIF, the family is Sinulariidae instead of Alcyoniidae.', 'unable to find any results of the genus under GBIF and COL.', 'under GBIF, the suggested order is Phascolosomatiformes instead of the database value of Phascolosomatida', 'under GBIF, the suggested family is Ophiomyxidae instead of the database value of Ophiodermatidae', 'under GBIF, Udeonychophora doesnt appear in the taxonomic ranks. Under COL, it is a synonym of Onychophora', 'under GBIF, Sepia aculeata is a synonym of Acanthosepion aculeatum', 'under GBIF, the suggested family is Synthemistidae instead.', 'under GBIF, the database value (Stellaster equestris) is a synonym of Stellaster childreni', 'under GBIF, the suggested order is Phascolosomatiformes instead of the database value of Phascolosomatida. added subgenus from COL', 'under GBIF, the suggested order is Phascolosomatiformes instead of the database value of Phascolosomatida. also, Phascolosoma nigrescens is a synonym of Phascolosoma puntarenae (GBIF, COL).', 'under GBIF, the family should be Sarcophytidae instead of Alcyoniidae', 'under GBIF, the suggested family is Calopterygidae', 'based on COL, the current database aligns (Chroococcales, Cyanophyceae, Cyanobacteriota). but based on GBIF, the order is Cyanobacteriales, class is Cyanobacteriia, and phylum is Cyanobacteria.', 'under GBIF, the database value (Lamprometra palmata) is a synonym of Dichrometra palmata', 'genus Balanoglossus doubtful in GBIF, accepted genus in COL', 'based on COL, the current database aligns (Nostocales, Cyanophyceae, Cyanobacteriota). but based on GBIF, the order upwards is different. Order: Cyanobacteriales, Class: Cyanobacteriia, and Phylum: Cyanobacteria', 'genus typo to correct Nephtheidae', 'under GBIF, the order is Malacalcyonacea instead of Alcyonacea.', 'Pelobatrachus nasutus is a synonym for Megophrys nasuta (GBIF); changed genus and taxon name', 'under GBIF, the order is Malacalcyonacea instead of Alcyonacea. Also, genus typo to correct Nephtheidae', 'under GBIF, the family is Astrogorgiidae instead of Plexauridae', 'under GBIF, Ophiothela danae is a synonym of Ophiothela mirabilis', 'based on COL, only the family is different from database value (Microcoleaceae). based on GBIF, the family, order, class and phylum differs.', 'under GBIF, the order is Scleralcyonacea', 'under GBIF, the suggested family is Platycnemididae instead of Coenagrionidae', 'genus Idiosepius is under order Idiosepida on GBIF, not Sepiida', 'under GBIF, the suggested order is Golfingiiformes instead of the database value of Golfingiida', 'under GBIF, the family is Sarcophytidae instead of Alcyoniidae', 'under GBIF, the suggested class is Pilidiophora instead of the database value of Anopla', 'under GBIF, the family is Paramuriceidae instead of Plexauridae', 'under GBIF, the family is Euplexauridae instead of Plexauridae', 'under GBIF, Sepia latimanus is a synonym of Ascarosepion latimanus']\n",
      "column issue \n",
      " [\"the family based on GBIF is Gonypetidae instead of the current 'Iridopterygidae'\"]\n",
      "column query  \n",
      " ['under GBIF, the suggested family is Versurigidae instead of the database value of Mastigiidae', 'typo for Sertularellidae', 'under GBIF, the suggested family is Loveniidae instead of the database value of Maretiidae', 'under GBIF, Euclimacia (Enderlein, 1910) is flagged as doubtful. But under COL, it is an accepted genus.', 'under GBIF, the suggested order is Echinolampadacea instead of the database value of Clypeasteroida', 'under GBIF, the suggested order is Rhabditida instead of the database value of Oxyurida. And the suggested order is Chromadorea instead of the database value of Secernentea']\n",
      "column unnamed: 21 \n",
      " ['for the entire sheet, i could not find any result for the order Alcyonacea in GBIF and COL. based on wiki, it is now an unaccepted name for class Octocorallia. It became deprecated 2022.']\n",
      "column unnamed: 22 \n",
      " ['Gnathidae likely misspelt, superfamily removed, suborder changed according to ITIS']\n",
      "column unnamed: 20 \n",
      " ['under GBIF and COL, there is no order taxonomic rank for Enteropneusta']\n",
      "column unnamed: 23 \n",
      " ['typo for order, previously was Choococcales. no result for subclass , clade 3, clade 2, and clade 1 in GBIF and COL.', 'no result for subclass , clade 3, clade 2, and clade 1 in GBIF and COL.']\n"
     ]
    }
   ],
   "source": [
    "ambigiousolumns_2 = [\n",
    "    \"unnamed: 19\",\n",
    "    \"query\",\n",
    "    \"issue\",\n",
    "    \"query \",\n",
    "    \"unnamed: 21\",\n",
    "    \"unnamed: 22\",\n",
    "    \"unnamed: 20\",\n",
    "    \"unnamed: 23\",\n",
    "]\n",
    "\n",
    "for _feature in ambigiousolumns_2:\n",
    "    print(\n",
    "        \"column\",\n",
    "        _feature,\n",
    "        \"\\n\",\n",
    "        bos_df_1[_feature]\n",
    "        .filter(bos_df_1[_feature].is_not_null())\n",
    "        .unique()\n",
    "        .to_list(),\n",
    "    )"
   ]
  },
  {
   "cell_type": "code",
   "execution_count": null,
   "id": "dGlV",
   "metadata": {},
   "outputs": [],
   "source": [
    "# taxon_lf.select(pl.col('acceptedNameUsageID')).collect().head(10)"
   ]
  },
  {
   "cell_type": "markdown",
   "id": "SdmI",
   "metadata": {
    "marimo": {
     "config": {
      "hide_code": true
     }
    }
   },
   "source": [
    "# Dropping selected columns for bos_df_1; new df bos_df_2"
   ]
  },
  {
   "cell_type": "code",
   "execution_count": null,
   "id": "lgWD",
   "metadata": {},
   "outputs": [],
   "source": [
    "bos_df_2 = bos_df_1.drop(columns_to_drop_as_all_nulls).drop(\n",
    "    columns_to_drop_as_they_are_just_changes_logs\n",
    ")"
   ]
  },
  {
   "cell_type": "code",
   "execution_count": null,
   "id": "yOPj",
   "metadata": {},
   "outputs": [
    {
     "data": {
      "application/json": "[\"speciesid\", \"phylum\", \"class\", \"subclass\", \"order\", \"sub-order\", \"infraorder\", \"section\", \"subsection\", \"superfamily\", \"family\", \"subfamily\", \"tribe\", \"genericName\", \"subgenus\", \"specificEpithet\", \"infraspecificEpithet\", \"taxonname\", \"source_file\", \"subphylum\", \"taxon\", \"unnamed: 19\", \"query\", \"issue\", \"query \", \"superorder\", \"domain \", \"kingdom\", \"section/parvorder\", \"column2\", \"infraclass\", \"commonname\", \"unnamed: 21\", \"cleanup changes/comments\", \"species2\", \"unnamed: 22\", \"unnamed: 20\", \"clade 1\", \"clade 2\", \"clade 3\", \"unnamed: 23\"]"
     },
     "metadata": {},
     "output_type": "display_data"
    }
   ],
   "source": [
    "bos_df_2.columns"
   ]
  },
  {
   "cell_type": "code",
   "execution_count": null,
   "id": "fwwy",
   "metadata": {},
   "outputs": [
    {
     "data": {
      "text/html": [
       "<div><style>\n",
       ".dataframe > thead > tr,\n",
       ".dataframe > tbody > tr {\n",
       "  text-align: right;\n",
       "  white-space: pre-wrap;\n",
       "}\n",
       "</style>\n",
       "<small>shape: (13_103, 41)</small><table border=\"1\" class=\"dataframe\"><thead><tr><th>speciesid</th><th>phylum</th><th>class</th><th>subclass</th><th>order</th><th>sub-order</th><th>infraorder</th><th>section</th><th>subsection</th><th>superfamily</th><th>family</th><th>subfamily</th><th>tribe</th><th>genericName</th><th>subgenus</th><th>specificEpithet</th><th>infraspecificEpithet</th><th>taxonname</th><th>source_file</th><th>subphylum</th><th>taxon</th><th>unnamed: 19</th><th>query</th><th>issue</th><th>query </th><th>superorder</th><th>domain </th><th>kingdom</th><th>section/parvorder</th><th>column2</th><th>infraclass</th><th>commonname</th><th>unnamed: 21</th><th>cleanup changes/comments</th><th>species2</th><th>unnamed: 22</th><th>unnamed: 20</th><th>clade 1</th><th>clade 2</th><th>clade 3</th><th>unnamed: 23</th></tr><tr><td>str</td><td>str</td><td>str</td><td>str</td><td>str</td><td>str</td><td>str</td><td>str</td><td>str</td><td>str</td><td>str</td><td>str</td><td>str</td><td>str</td><td>str</td><td>str</td><td>str</td><td>str</td><td>str</td><td>str</td><td>str</td><td>str</td><td>str</td><td>str</td><td>str</td><td>str</td><td>str</td><td>str</td><td>str</td><td>str</td><td>str</td><td>str</td><td>str</td><td>str</td><td>str</td><td>str</td><td>str</td><td>str</td><td>str</td><td>str</td><td>str</td></tr></thead><tbody><tr><td>&quot;A-Anne-Clit-Hirudinea-000001&quot;</td><td>&quot;Annelida&quot;</td><td>&quot;Clitellata&quot;</td><td>&quot;Hirudinea&quot;</td><td>&quot;Rhynchobdellida&quot;</td><td>null</td><td>null</td><td>null</td><td>null</td><td>null</td><td>&quot;Glossiphoniidae&quot;</td><td>null</td><td>null</td><td>null</td><td>null</td><td>null</td><td>null</td><td>&quot;Glossiphoniidae sp. &quot;1&quot;&quot;</td><td>&quot;(back+checked) Database - A-An…</td><td>null</td><td>null</td><td>null</td><td>null</td><td>null</td><td>null</td><td>null</td><td>null</td><td>null</td><td>null</td><td>null</td><td>null</td><td>null</td><td>null</td><td>null</td><td>null</td><td>null</td><td>null</td><td>null</td><td>null</td><td>null</td><td>null</td></tr><tr><td>&quot;A-Anne-Clit-Hirudinea-000002&quot;</td><td>&quot;Annelida&quot;</td><td>&quot;Clitellata&quot;</td><td>&quot;Hirudinea&quot;</td><td>&quot;Rhynchobdellida&quot;</td><td>null</td><td>null</td><td>null</td><td>null</td><td>null</td><td>&quot;Glossiphoniidae&quot;</td><td>null</td><td>null</td><td>null</td><td>null</td><td>null</td><td>null</td><td>&quot;Glossiphoniidae sp. &quot;2&quot;&quot;</td><td>&quot;(back+checked) Database - A-An…</td><td>null</td><td>null</td><td>null</td><td>null</td><td>null</td><td>null</td><td>null</td><td>null</td><td>null</td><td>null</td><td>null</td><td>null</td><td>null</td><td>null</td><td>null</td><td>null</td><td>null</td><td>null</td><td>null</td><td>null</td><td>null</td><td>null</td></tr><tr><td>&quot;A-Anne-Clit-Hirudinea-000003&quot;</td><td>&quot;Annelida&quot;</td><td>&quot;Clitellata&quot;</td><td>&quot;Hirudinea&quot;</td><td>&quot;Rhynchobdellida&quot;</td><td>null</td><td>null</td><td>null</td><td>null</td><td>null</td><td>&quot;Glossiphoniidae&quot;</td><td>null</td><td>null</td><td>null</td><td>null</td><td>null</td><td>null</td><td>&quot;Glossiphoniidae sp. &quot;3&quot;&quot;</td><td>&quot;(back+checked) Database - A-An…</td><td>null</td><td>null</td><td>null</td><td>null</td><td>null</td><td>null</td><td>null</td><td>null</td><td>null</td><td>null</td><td>null</td><td>null</td><td>null</td><td>null</td><td>null</td><td>null</td><td>null</td><td>null</td><td>null</td><td>null</td><td>null</td><td>null</td></tr><tr><td>&quot;A-Anne-Clit-Hirudinea-000004&quot;</td><td>&quot;Annelida&quot;</td><td>&quot;Clitellata&quot;</td><td>&quot;Hirudinea&quot;</td><td>&quot;Arhynchobdellida&quot;</td><td>null</td><td>null</td><td>null</td><td>null</td><td>null</td><td>&quot;Hirudinidae&quot;</td><td>null</td><td>null</td><td>null</td><td>null</td><td>null</td><td>null</td><td>&quot;Hirudinidae sp. &quot;1&quot;&quot;</td><td>&quot;(back+checked) Database - A-An…</td><td>null</td><td>null</td><td>null</td><td>null</td><td>null</td><td>null</td><td>null</td><td>null</td><td>null</td><td>null</td><td>null</td><td>null</td><td>null</td><td>null</td><td>null</td><td>null</td><td>null</td><td>null</td><td>null</td><td>null</td><td>null</td><td>null</td></tr><tr><td>&quot;A-Anne-Clit-Hirudinea-000005&quot;</td><td>&quot;Annelida&quot;</td><td>&quot;Clitellata&quot;</td><td>&quot;Hirudinea&quot;</td><td>&quot;Arhynchobdellida&quot;</td><td>null</td><td>null</td><td>null</td><td>null</td><td>null</td><td>&quot;Hirudinidae&quot;</td><td>null</td><td>null</td><td>null</td><td>null</td><td>null</td><td>null</td><td>&quot;Hirudinidae sp. &quot;2&quot;&quot;</td><td>&quot;(back+checked) Database - A-An…</td><td>null</td><td>null</td><td>null</td><td>null</td><td>null</td><td>null</td><td>null</td><td>null</td><td>null</td><td>null</td><td>null</td><td>null</td><td>null</td><td>null</td><td>null</td><td>null</td><td>null</td><td>null</td><td>null</td><td>null</td><td>null</td><td>null</td></tr><tr><td>&hellip;</td><td>&hellip;</td><td>&hellip;</td><td>&hellip;</td><td>&hellip;</td><td>&hellip;</td><td>&hellip;</td><td>&hellip;</td><td>&hellip;</td><td>&hellip;</td><td>&hellip;</td><td>&hellip;</td><td>&hellip;</td><td>&hellip;</td><td>&hellip;</td><td>&hellip;</td><td>&hellip;</td><td>&hellip;</td><td>&hellip;</td><td>&hellip;</td><td>&hellip;</td><td>&hellip;</td><td>&hellip;</td><td>&hellip;</td><td>&hellip;</td><td>&hellip;</td><td>&hellip;</td><td>&hellip;</td><td>&hellip;</td><td>&hellip;</td><td>&hellip;</td><td>&hellip;</td><td>&hellip;</td><td>&hellip;</td><td>&hellip;</td><td>&hellip;</td><td>&hellip;</td><td>&hellip;</td><td>&hellip;</td><td>&hellip;</td><td>&hellip;</td></tr><tr><td>&quot;B-Alga-Cyanobacteria-000003&quot;</td><td>&quot;Cyanobacteria&quot;</td><td>&quot;Cyanobacteriia&quot;</td><td>&quot;Oscillatoriophycideae&quot;</td><td>&quot;Cyanobacteriales&quot;</td><td>null</td><td>null</td><td>null</td><td>null</td><td>null</td><td>&quot;Microcystaceae&quot;</td><td>null</td><td>null</td><td>&quot;Microcystis&quot;</td><td>null</td><td>&quot;icthyoblabe&quot;</td><td>null</td><td>&quot;&lt;i&gt;Microcystis icthyoblabe&lt;/i&gt;&quot;</td><td>&quot;(review) Database - B-Alga-Cya…</td><td>null</td><td>&quot;B-Alga-Cyanobacteria-Microcyst…</td><td>null</td><td>&quot;based on COL, the current data…</td><td>null</td><td>null</td><td>null</td><td>null</td><td>null</td><td>null</td><td>null</td><td>null</td><td>null</td><td>null</td><td>null</td><td>null</td><td>null</td><td>null</td><td>&quot;Prokaryota&quot;</td><td>&quot;Rubacteria&quot;</td><td>&quot;Negibacteria&quot;</td><td>&quot;typo for order, previously was…</td></tr><tr><td>&quot;B-Alga-Cyanobacteria-000004&quot;</td><td>&quot;Cyanobacteria&quot;</td><td>&quot;Cyanobacteriia&quot;</td><td>&quot;Oscillatoriophycideae&quot;</td><td>&quot;Cyanobacteriales&quot;</td><td>null</td><td>null</td><td>null</td><td>null</td><td>null</td><td>&quot;Microcystaceae&quot;</td><td>null</td><td>null</td><td>&quot;Microcystis&quot;</td><td>null</td><td>&quot;novacekii&quot;</td><td>null</td><td>&quot;&lt;i&gt;Microcystis novacekii&lt;/i&gt;&quot;</td><td>&quot;(review) Database - B-Alga-Cya…</td><td>null</td><td>&quot;B-Alga-Cyanobacteria-Microcyst…</td><td>null</td><td>&quot;based on COL, the current data…</td><td>null</td><td>null</td><td>null</td><td>null</td><td>null</td><td>null</td><td>null</td><td>null</td><td>null</td><td>null</td><td>null</td><td>null</td><td>null</td><td>null</td><td>&quot;Prokaryota&quot;</td><td>&quot;Rubacteria&quot;</td><td>&quot;Negibacteria&quot;</td><td>&quot;typo for order, previously was…</td></tr><tr><td>&quot;B-Alga-Cyanobacteria-000005&quot;</td><td>&quot;Cyanobacteria&quot;</td><td>&quot;Cyanobacteriia&quot;</td><td>&quot;Oscillatoriophycideae&quot;</td><td>&quot;Cyanobacteriales&quot;</td><td>null</td><td>null</td><td>null</td><td>null</td><td>null</td><td>&quot;Microcystaceae&quot;</td><td>null</td><td>null</td><td>&quot;Microcystis&quot;</td><td>null</td><td>&quot;panniformis&quot;</td><td>null</td><td>&quot;&lt;i&gt;Microcystis panniformis&lt;/i&gt;&quot;</td><td>&quot;(review) Database - B-Alga-Cya…</td><td>null</td><td>&quot;B-Alga-Cyanobacteria-Microcyst…</td><td>null</td><td>&quot;based on COL, the current data…</td><td>null</td><td>null</td><td>null</td><td>null</td><td>null</td><td>null</td><td>null</td><td>null</td><td>null</td><td>null</td><td>null</td><td>null</td><td>null</td><td>null</td><td>&quot;Prokaryota&quot;</td><td>&quot;Rubacteria&quot;</td><td>&quot;Negibacteria&quot;</td><td>&quot;typo for order, previously was…</td></tr><tr><td>&quot;B-Alga-Cyanobacteria-000006&quot;</td><td>&quot;Cyanobacteria&quot;</td><td>&quot;Cyanobacteriia&quot;</td><td>&quot;Oscillatoriophycideae&quot;</td><td>&quot;Cyanobacteriales&quot;</td><td>null</td><td>null</td><td>null</td><td>null</td><td>null</td><td>&quot;Microcystaceae&quot;</td><td>null</td><td>null</td><td>&quot;Microcystis&quot;</td><td>null</td><td>&quot;viridis&quot;</td><td>null</td><td>&quot;&lt;i&gt;Microcystis viridis&lt;/i&gt;&quot;</td><td>&quot;(review) Database - B-Alga-Cya…</td><td>null</td><td>&quot;B-Alga-Cyanobacteria-Microcyst…</td><td>null</td><td>&quot;based on COL, the current data…</td><td>null</td><td>null</td><td>null</td><td>null</td><td>null</td><td>null</td><td>null</td><td>null</td><td>null</td><td>null</td><td>null</td><td>null</td><td>null</td><td>null</td><td>&quot;Prokaryota&quot;</td><td>&quot;Rubacteria&quot;</td><td>&quot;Negibacteria&quot;</td><td>&quot;typo for order, previously was…</td></tr><tr><td>&quot;B-Alga-Cyanobacteria-000007&quot;</td><td>&quot;Cyanobacteria&quot;</td><td>&quot;Cyanobacteriia&quot;</td><td>&quot;Oscillatoriophycideae&quot;</td><td>&quot;Cyanobacteriales&quot;</td><td>null</td><td>null</td><td>null</td><td>null</td><td>null</td><td>&quot;Oscillatoriaceae&quot;</td><td>null</td><td>null</td><td>&quot;Planktothricoides&quot;</td><td>null</td><td>&quot;raciborskii&quot;</td><td>null</td><td>&quot;&lt;i&gt;Planktothricoides raciborsk…</td><td>&quot;(review) Database - B-Alga-Cya…</td><td>null</td><td>&quot;B-Alga-Cyanobacteria-Microcole…</td><td>null</td><td>&quot;based on COL, only the family …</td><td>null</td><td>null</td><td>null</td><td>null</td><td>null</td><td>null</td><td>null</td><td>null</td><td>null</td><td>null</td><td>null</td><td>null</td><td>null</td><td>null</td><td>&quot;Prokaryota&quot;</td><td>&quot;Rubacteria&quot;</td><td>&quot;Negibacteria&quot;</td><td>&quot;no result for subclass , clade…</td></tr></tbody></table></div>"
      ]
     },
     "metadata": {},
     "output_type": "display_data"
    }
   ],
   "source": [
    "bos_df_2"
   ]
  },
  {
   "cell_type": "markdown",
   "id": "LJZf",
   "metadata": {},
   "source": [
    "## replace nan and null with empty string and name cleaning"
   ]
  },
  {
   "cell_type": "code",
   "execution_count": null,
   "id": "urSm",
   "metadata": {},
   "outputs": [
    {
     "data": {
      "text/html": [
       "<div><style>\n",
       ".dataframe > thead > tr,\n",
       ".dataframe > tbody > tr {\n",
       "  text-align: right;\n",
       "  white-space: pre-wrap;\n",
       "}\n",
       "</style>\n",
       "<small>shape: (13_103, 41)</small><table border=\"1\" class=\"dataframe\"><thead><tr><th>speciesid</th><th>phylum</th><th>class</th><th>subclass</th><th>order</th><th>sub-order</th><th>infraorder</th><th>section</th><th>subsection</th><th>superfamily</th><th>family</th><th>subfamily</th><th>tribe</th><th>genericName</th><th>subgenus</th><th>specificEpithet</th><th>infraspecificEpithet</th><th>taxonname</th><th>source_file</th><th>subphylum</th><th>taxon</th><th>unnamed: 19</th><th>query</th><th>issue</th><th>query </th><th>superorder</th><th>domain </th><th>kingdom</th><th>section/parvorder</th><th>column2</th><th>infraclass</th><th>commonname</th><th>unnamed: 21</th><th>cleanup changes/comments</th><th>species2</th><th>unnamed: 22</th><th>unnamed: 20</th><th>clade 1</th><th>clade 2</th><th>clade 3</th><th>unnamed: 23</th></tr><tr><td>str</td><td>str</td><td>str</td><td>str</td><td>str</td><td>str</td><td>str</td><td>str</td><td>str</td><td>str</td><td>str</td><td>str</td><td>str</td><td>str</td><td>str</td><td>str</td><td>str</td><td>str</td><td>str</td><td>str</td><td>str</td><td>str</td><td>str</td><td>str</td><td>str</td><td>str</td><td>str</td><td>str</td><td>str</td><td>str</td><td>str</td><td>str</td><td>str</td><td>str</td><td>str</td><td>str</td><td>str</td><td>str</td><td>str</td><td>str</td><td>str</td></tr></thead><tbody><tr><td>&quot;A-Anne-Clit-Hirudinea-000001&quot;</td><td>&quot;Annelida&quot;</td><td>&quot;Clitellata&quot;</td><td>&quot;Hirudinea&quot;</td><td>&quot;Rhynchobdellida&quot;</td><td>&quot;&quot;</td><td>&quot;&quot;</td><td>&quot;&quot;</td><td>&quot;&quot;</td><td>&quot;&quot;</td><td>&quot;Glossiphoniidae&quot;</td><td>&quot;&quot;</td><td>&quot;&quot;</td><td>&quot;&quot;</td><td>&quot;&quot;</td><td>null</td><td>&quot;&quot;</td><td>&quot;Glossiphoniidae sp. &quot;1&quot;&quot;</td><td>&quot;(back+checked) Database - A-An…</td><td>&quot;&quot;</td><td>&quot;&quot;</td><td>&quot;&quot;</td><td>&quot;&quot;</td><td>&quot;&quot;</td><td>&quot;&quot;</td><td>&quot;&quot;</td><td>&quot;&quot;</td><td>&quot;&quot;</td><td>&quot;&quot;</td><td>&quot;&quot;</td><td>&quot;&quot;</td><td>&quot;&quot;</td><td>&quot;&quot;</td><td>&quot;&quot;</td><td>&quot;&quot;</td><td>&quot;&quot;</td><td>&quot;&quot;</td><td>&quot;&quot;</td><td>&quot;&quot;</td><td>&quot;&quot;</td><td>&quot;&quot;</td></tr><tr><td>&quot;A-Anne-Clit-Hirudinea-000002&quot;</td><td>&quot;Annelida&quot;</td><td>&quot;Clitellata&quot;</td><td>&quot;Hirudinea&quot;</td><td>&quot;Rhynchobdellida&quot;</td><td>&quot;&quot;</td><td>&quot;&quot;</td><td>&quot;&quot;</td><td>&quot;&quot;</td><td>&quot;&quot;</td><td>&quot;Glossiphoniidae&quot;</td><td>&quot;&quot;</td><td>&quot;&quot;</td><td>&quot;&quot;</td><td>&quot;&quot;</td><td>null</td><td>&quot;&quot;</td><td>&quot;Glossiphoniidae sp. &quot;2&quot;&quot;</td><td>&quot;(back+checked) Database - A-An…</td><td>&quot;&quot;</td><td>&quot;&quot;</td><td>&quot;&quot;</td><td>&quot;&quot;</td><td>&quot;&quot;</td><td>&quot;&quot;</td><td>&quot;&quot;</td><td>&quot;&quot;</td><td>&quot;&quot;</td><td>&quot;&quot;</td><td>&quot;&quot;</td><td>&quot;&quot;</td><td>&quot;&quot;</td><td>&quot;&quot;</td><td>&quot;&quot;</td><td>&quot;&quot;</td><td>&quot;&quot;</td><td>&quot;&quot;</td><td>&quot;&quot;</td><td>&quot;&quot;</td><td>&quot;&quot;</td><td>&quot;&quot;</td></tr><tr><td>&quot;A-Anne-Clit-Hirudinea-000003&quot;</td><td>&quot;Annelida&quot;</td><td>&quot;Clitellata&quot;</td><td>&quot;Hirudinea&quot;</td><td>&quot;Rhynchobdellida&quot;</td><td>&quot;&quot;</td><td>&quot;&quot;</td><td>&quot;&quot;</td><td>&quot;&quot;</td><td>&quot;&quot;</td><td>&quot;Glossiphoniidae&quot;</td><td>&quot;&quot;</td><td>&quot;&quot;</td><td>&quot;&quot;</td><td>&quot;&quot;</td><td>null</td><td>&quot;&quot;</td><td>&quot;Glossiphoniidae sp. &quot;3&quot;&quot;</td><td>&quot;(back+checked) Database - A-An…</td><td>&quot;&quot;</td><td>&quot;&quot;</td><td>&quot;&quot;</td><td>&quot;&quot;</td><td>&quot;&quot;</td><td>&quot;&quot;</td><td>&quot;&quot;</td><td>&quot;&quot;</td><td>&quot;&quot;</td><td>&quot;&quot;</td><td>&quot;&quot;</td><td>&quot;&quot;</td><td>&quot;&quot;</td><td>&quot;&quot;</td><td>&quot;&quot;</td><td>&quot;&quot;</td><td>&quot;&quot;</td><td>&quot;&quot;</td><td>&quot;&quot;</td><td>&quot;&quot;</td><td>&quot;&quot;</td><td>&quot;&quot;</td></tr><tr><td>&quot;A-Anne-Clit-Hirudinea-000004&quot;</td><td>&quot;Annelida&quot;</td><td>&quot;Clitellata&quot;</td><td>&quot;Hirudinea&quot;</td><td>&quot;Arhynchobdellida&quot;</td><td>&quot;&quot;</td><td>&quot;&quot;</td><td>&quot;&quot;</td><td>&quot;&quot;</td><td>&quot;&quot;</td><td>&quot;Hirudinidae&quot;</td><td>&quot;&quot;</td><td>&quot;&quot;</td><td>&quot;&quot;</td><td>&quot;&quot;</td><td>null</td><td>&quot;&quot;</td><td>&quot;Hirudinidae sp. &quot;1&quot;&quot;</td><td>&quot;(back+checked) Database - A-An…</td><td>&quot;&quot;</td><td>&quot;&quot;</td><td>&quot;&quot;</td><td>&quot;&quot;</td><td>&quot;&quot;</td><td>&quot;&quot;</td><td>&quot;&quot;</td><td>&quot;&quot;</td><td>&quot;&quot;</td><td>&quot;&quot;</td><td>&quot;&quot;</td><td>&quot;&quot;</td><td>&quot;&quot;</td><td>&quot;&quot;</td><td>&quot;&quot;</td><td>&quot;&quot;</td><td>&quot;&quot;</td><td>&quot;&quot;</td><td>&quot;&quot;</td><td>&quot;&quot;</td><td>&quot;&quot;</td><td>&quot;&quot;</td></tr><tr><td>&quot;A-Anne-Clit-Hirudinea-000005&quot;</td><td>&quot;Annelida&quot;</td><td>&quot;Clitellata&quot;</td><td>&quot;Hirudinea&quot;</td><td>&quot;Arhynchobdellida&quot;</td><td>&quot;&quot;</td><td>&quot;&quot;</td><td>&quot;&quot;</td><td>&quot;&quot;</td><td>&quot;&quot;</td><td>&quot;Hirudinidae&quot;</td><td>&quot;&quot;</td><td>&quot;&quot;</td><td>&quot;&quot;</td><td>&quot;&quot;</td><td>null</td><td>&quot;&quot;</td><td>&quot;Hirudinidae sp. &quot;2&quot;&quot;</td><td>&quot;(back+checked) Database - A-An…</td><td>&quot;&quot;</td><td>&quot;&quot;</td><td>&quot;&quot;</td><td>&quot;&quot;</td><td>&quot;&quot;</td><td>&quot;&quot;</td><td>&quot;&quot;</td><td>&quot;&quot;</td><td>&quot;&quot;</td><td>&quot;&quot;</td><td>&quot;&quot;</td><td>&quot;&quot;</td><td>&quot;&quot;</td><td>&quot;&quot;</td><td>&quot;&quot;</td><td>&quot;&quot;</td><td>&quot;&quot;</td><td>&quot;&quot;</td><td>&quot;&quot;</td><td>&quot;&quot;</td><td>&quot;&quot;</td><td>&quot;&quot;</td></tr><tr><td>&hellip;</td><td>&hellip;</td><td>&hellip;</td><td>&hellip;</td><td>&hellip;</td><td>&hellip;</td><td>&hellip;</td><td>&hellip;</td><td>&hellip;</td><td>&hellip;</td><td>&hellip;</td><td>&hellip;</td><td>&hellip;</td><td>&hellip;</td><td>&hellip;</td><td>&hellip;</td><td>&hellip;</td><td>&hellip;</td><td>&hellip;</td><td>&hellip;</td><td>&hellip;</td><td>&hellip;</td><td>&hellip;</td><td>&hellip;</td><td>&hellip;</td><td>&hellip;</td><td>&hellip;</td><td>&hellip;</td><td>&hellip;</td><td>&hellip;</td><td>&hellip;</td><td>&hellip;</td><td>&hellip;</td><td>&hellip;</td><td>&hellip;</td><td>&hellip;</td><td>&hellip;</td><td>&hellip;</td><td>&hellip;</td><td>&hellip;</td><td>&hellip;</td></tr><tr><td>&quot;B-Alga-Cyanobacteria-000003&quot;</td><td>&quot;Cyanobacteria&quot;</td><td>&quot;Cyanobacteriia&quot;</td><td>&quot;Oscillatoriophycideae&quot;</td><td>&quot;Cyanobacteriales&quot;</td><td>&quot;&quot;</td><td>&quot;&quot;</td><td>&quot;&quot;</td><td>&quot;&quot;</td><td>&quot;&quot;</td><td>&quot;Microcystaceae&quot;</td><td>&quot;&quot;</td><td>&quot;&quot;</td><td>&quot;Microcystis&quot;</td><td>&quot;&quot;</td><td>null</td><td>&quot;&quot;</td><td>&quot;&lt;i&gt;Microcystis icthyoblabe&lt;/i&gt;&quot;</td><td>&quot;(review) Database - B-Alga-Cya…</td><td>&quot;&quot;</td><td>&quot;B-Alga-Cyanobacteria-Microcyst…</td><td>&quot;&quot;</td><td>&quot;based on COL, the current data…</td><td>&quot;&quot;</td><td>&quot;&quot;</td><td>&quot;&quot;</td><td>&quot;&quot;</td><td>&quot;&quot;</td><td>&quot;&quot;</td><td>&quot;&quot;</td><td>&quot;&quot;</td><td>&quot;&quot;</td><td>&quot;&quot;</td><td>&quot;&quot;</td><td>&quot;&quot;</td><td>&quot;&quot;</td><td>&quot;&quot;</td><td>&quot;Prokaryota&quot;</td><td>&quot;Rubacteria&quot;</td><td>&quot;Negibacteria&quot;</td><td>&quot;typo for order, previously was…</td></tr><tr><td>&quot;B-Alga-Cyanobacteria-000004&quot;</td><td>&quot;Cyanobacteria&quot;</td><td>&quot;Cyanobacteriia&quot;</td><td>&quot;Oscillatoriophycideae&quot;</td><td>&quot;Cyanobacteriales&quot;</td><td>&quot;&quot;</td><td>&quot;&quot;</td><td>&quot;&quot;</td><td>&quot;&quot;</td><td>&quot;&quot;</td><td>&quot;Microcystaceae&quot;</td><td>&quot;&quot;</td><td>&quot;&quot;</td><td>&quot;Microcystis&quot;</td><td>&quot;&quot;</td><td>null</td><td>&quot;&quot;</td><td>&quot;&lt;i&gt;Microcystis novacekii&lt;/i&gt;&quot;</td><td>&quot;(review) Database - B-Alga-Cya…</td><td>&quot;&quot;</td><td>&quot;B-Alga-Cyanobacteria-Microcyst…</td><td>&quot;&quot;</td><td>&quot;based on COL, the current data…</td><td>&quot;&quot;</td><td>&quot;&quot;</td><td>&quot;&quot;</td><td>&quot;&quot;</td><td>&quot;&quot;</td><td>&quot;&quot;</td><td>&quot;&quot;</td><td>&quot;&quot;</td><td>&quot;&quot;</td><td>&quot;&quot;</td><td>&quot;&quot;</td><td>&quot;&quot;</td><td>&quot;&quot;</td><td>&quot;&quot;</td><td>&quot;Prokaryota&quot;</td><td>&quot;Rubacteria&quot;</td><td>&quot;Negibacteria&quot;</td><td>&quot;typo for order, previously was…</td></tr><tr><td>&quot;B-Alga-Cyanobacteria-000005&quot;</td><td>&quot;Cyanobacteria&quot;</td><td>&quot;Cyanobacteriia&quot;</td><td>&quot;Oscillatoriophycideae&quot;</td><td>&quot;Cyanobacteriales&quot;</td><td>&quot;&quot;</td><td>&quot;&quot;</td><td>&quot;&quot;</td><td>&quot;&quot;</td><td>&quot;&quot;</td><td>&quot;Microcystaceae&quot;</td><td>&quot;&quot;</td><td>&quot;&quot;</td><td>&quot;Microcystis&quot;</td><td>&quot;&quot;</td><td>null</td><td>&quot;&quot;</td><td>&quot;&lt;i&gt;Microcystis panniformis&lt;/i&gt;&quot;</td><td>&quot;(review) Database - B-Alga-Cya…</td><td>&quot;&quot;</td><td>&quot;B-Alga-Cyanobacteria-Microcyst…</td><td>&quot;&quot;</td><td>&quot;based on COL, the current data…</td><td>&quot;&quot;</td><td>&quot;&quot;</td><td>&quot;&quot;</td><td>&quot;&quot;</td><td>&quot;&quot;</td><td>&quot;&quot;</td><td>&quot;&quot;</td><td>&quot;&quot;</td><td>&quot;&quot;</td><td>&quot;&quot;</td><td>&quot;&quot;</td><td>&quot;&quot;</td><td>&quot;&quot;</td><td>&quot;&quot;</td><td>&quot;Prokaryota&quot;</td><td>&quot;Rubacteria&quot;</td><td>&quot;Negibacteria&quot;</td><td>&quot;typo for order, previously was…</td></tr><tr><td>&quot;B-Alga-Cyanobacteria-000006&quot;</td><td>&quot;Cyanobacteria&quot;</td><td>&quot;Cyanobacteriia&quot;</td><td>&quot;Oscillatoriophycideae&quot;</td><td>&quot;Cyanobacteriales&quot;</td><td>&quot;&quot;</td><td>&quot;&quot;</td><td>&quot;&quot;</td><td>&quot;&quot;</td><td>&quot;&quot;</td><td>&quot;Microcystaceae&quot;</td><td>&quot;&quot;</td><td>&quot;&quot;</td><td>&quot;Microcystis&quot;</td><td>&quot;&quot;</td><td>null</td><td>&quot;&quot;</td><td>&quot;&lt;i&gt;Microcystis viridis&lt;/i&gt;&quot;</td><td>&quot;(review) Database - B-Alga-Cya…</td><td>&quot;&quot;</td><td>&quot;B-Alga-Cyanobacteria-Microcyst…</td><td>&quot;&quot;</td><td>&quot;based on COL, the current data…</td><td>&quot;&quot;</td><td>&quot;&quot;</td><td>&quot;&quot;</td><td>&quot;&quot;</td><td>&quot;&quot;</td><td>&quot;&quot;</td><td>&quot;&quot;</td><td>&quot;&quot;</td><td>&quot;&quot;</td><td>&quot;&quot;</td><td>&quot;&quot;</td><td>&quot;&quot;</td><td>&quot;&quot;</td><td>&quot;&quot;</td><td>&quot;Prokaryota&quot;</td><td>&quot;Rubacteria&quot;</td><td>&quot;Negibacteria&quot;</td><td>&quot;typo for order, previously was…</td></tr><tr><td>&quot;B-Alga-Cyanobacteria-000007&quot;</td><td>&quot;Cyanobacteria&quot;</td><td>&quot;Cyanobacteriia&quot;</td><td>&quot;Oscillatoriophycideae&quot;</td><td>&quot;Cyanobacteriales&quot;</td><td>&quot;&quot;</td><td>&quot;&quot;</td><td>&quot;&quot;</td><td>&quot;&quot;</td><td>&quot;&quot;</td><td>&quot;Oscillatoriaceae&quot;</td><td>&quot;&quot;</td><td>&quot;&quot;</td><td>&quot;Planktothricoides&quot;</td><td>&quot;&quot;</td><td>null</td><td>&quot;&quot;</td><td>&quot;&lt;i&gt;Planktothricoides raciborsk…</td><td>&quot;(review) Database - B-Alga-Cya…</td><td>&quot;&quot;</td><td>&quot;B-Alga-Cyanobacteria-Microcole…</td><td>&quot;&quot;</td><td>&quot;based on COL, only the family …</td><td>&quot;&quot;</td><td>&quot;&quot;</td><td>&quot;&quot;</td><td>&quot;&quot;</td><td>&quot;&quot;</td><td>&quot;&quot;</td><td>&quot;&quot;</td><td>&quot;&quot;</td><td>&quot;&quot;</td><td>&quot;&quot;</td><td>&quot;&quot;</td><td>&quot;&quot;</td><td>&quot;&quot;</td><td>&quot;&quot;</td><td>&quot;Prokaryota&quot;</td><td>&quot;Rubacteria&quot;</td><td>&quot;Negibacteria&quot;</td><td>&quot;no result for subclass , clade…</td></tr></tbody></table></div>"
      ]
     },
     "metadata": {},
     "output_type": "display_data"
    }
   ],
   "source": [
    "bos_df_3 = (\n",
    "    bos_df_2.fill_nan(\"\")\n",
    "    .fill_null(\"\")\n",
    "    .with_columns(\n",
    "        specificEpithet=pl.when(\n",
    "            (pl.col(\"genericName\") == \"Glenea\")\n",
    "            & (pl.col(\"specificEpithet\") == \"mathemathica\")\n",
    "        )\n",
    "        .then(pl.lit(\"mathematica\"))\n",
    "        .when(\n",
    "            (pl.col(\"genericName\") == \"Bavia\")\n",
    "            & (pl.col(\"specificEpithet\") == \"sexupunctata\")\n",
    "        )\n",
    "        .then(pl.lit(\"sexpunctata\"))\n",
    "        .when(\n",
    "            (pl.col(\"genericName\") == \"Omoedus\")\n",
    "            & (pl.col(\"specificEpithet\") == \"ephippigera\")\n",
    "        )\n",
    "        .then(pl.lit(\"ephippiger\"))\n",
    "        .when(\n",
    "            (pl.col(\"genericName\") == \"Byblis\")\n",
    "            & (pl.col(\"specificEpithet\") == \"kallartha\")\n",
    "        )\n",
    "        .then(pl.lit(\"kallarthra\"))\n",
    "        .when(\n",
    "            (pl.col(\"genericName\") == \"Alcockpenaeopsis\")\n",
    "            & (pl.col(\"specificEpithet\") == \"hungerfordi\")\n",
    "        )\n",
    "        .then(pl.lit(\"hungerfordii\"))\n",
    "        .when(\n",
    "            (pl.col(\"genericName\") == \"Pseudosesarma\")\n",
    "            & (pl.col(\"specificEpithet\") == \"edwardsi\")\n",
    "        )\n",
    "        .then(pl.lit(\"edwardsii\"))\n",
    "        .when(\n",
    "            (pl.col(\"genericName\") == \"Urocaridella\")\n",
    "            & (pl.col(\"specificEpithet\") == \"antonbruuni\")\n",
    "        )\n",
    "        .then(pl.lit(\"antonbruunii\"))\n",
    "        .when(\n",
    "            (pl.col(\"genericName\") == \"Ocypode\")\n",
    "            & (pl.col(\"specificEpithet\") == \"cordimanus\")\n",
    "        )\n",
    "        .then(pl.lit(\"cordimana\"))\n",
    "    )\n",
    ")\n",
    "\n",
    "\n",
    "bos_df_3"
   ]
  },
  {
   "cell_type": "markdown",
   "id": "jxvo",
   "metadata": {
    "marimo": {
     "config": {
      "hide_code": true
     }
    }
   },
   "source": [
    "# R script translation"
   ]
  },
  {
   "cell_type": "code",
   "execution_count": null,
   "id": "mWxS",
   "metadata": {},
   "outputs": [],
   "source": [
    "_l = [\n",
    "    \"accepted\",\n",
    "    \"synonym\",\n",
    "    \"homotypic synonym\",\n",
    "    \"proparte synonym\",\n",
    "    \"heterotypic synonym\",\n",
    "]\n",
    "\n",
    "_l2 = [\n",
    "    \"taxonID\",\n",
    "    \"genericName\",\n",
    "    \"genus\",\n",
    "    \"specificEpithet\",\n",
    "    \"infraspecificEpithet\",\n",
    "    \"taxonomicStatus\",\n",
    "    \"acceptedNameUsageID\",\n",
    "]\n",
    "taxon_ranked_only = (\n",
    "    taxon_lf.filter(\n",
    "        (pl.col(\"taxonRank\") != \"unranked\")\n",
    "        & (pl.col(\"taxonomicStatus\").is_in(_l))\n",
    "    )\n",
    "    .select(_l2)\n",
    "    .filter((pl.col(\"genus\") != \"\") | (pl.col(\"specificEpithet\") != \"\"))\n",
    "    .fill_null(\"\")\n",
    "    .fill_nan(\"\")\n",
    ")"
   ]
  },
  {
   "cell_type": "code",
   "execution_count": null,
   "id": "CcZR",
   "metadata": {},
   "outputs": [
    {
     "data": {
      "text/html": [
       "<div><style>\n",
       ".dataframe > thead > tr,\n",
       ".dataframe > tbody > tr {\n",
       "  text-align: right;\n",
       "  white-space: pre-wrap;\n",
       "}\n",
       "</style>\n",
       "<small>shape: (100, 7)</small><table border=\"1\" class=\"dataframe\"><thead><tr><th>taxonID</th><th>genericName</th><th>genus</th><th>specificEpithet</th><th>infraspecificEpithet</th><th>taxonomicStatus</th><th>acceptedNameUsageID</th></tr><tr><td>i64</td><td>str</td><td>str</td><td>str</td><td>str</td><td>str</td><td>str</td></tr></thead><tbody><tr><td>3040233</td><td>&quot;Populus&quot;</td><td>&quot;Populus&quot;</td><td>&quot;alba&quot;</td><td>&quot;&quot;</td><td>&quot;accepted&quot;</td><td>&quot;&quot;</td></tr><tr><td>8525911</td><td>&quot;Anagallis&quot;</td><td>&quot;Lysimachia&quot;</td><td>&quot;pulchella&quot;</td><td>&quot;&quot;</td><td>&quot;homotypic synonym&quot;</td><td>&quot;7489764&quot;</td></tr><tr><td>9504733</td><td>&quot;Desulfurobacterium&quot;</td><td>&quot;Desulfurobacterium&quot;</td><td>&quot;indicum&quot;</td><td>&quot;&quot;</td><td>&quot;accepted&quot;</td><td>&quot;&quot;</td></tr><tr><td>2071319</td><td>&quot;Periphyllus&quot;</td><td>&quot;Periphyllus&quot;</td><td>&quot;bengalensis&quot;</td><td>&quot;&quot;</td><td>&quot;accepted&quot;</td><td>&quot;&quot;</td></tr><tr><td>9605855</td><td>&quot;Bolivinopsis&quot;</td><td>&quot;Bolivinopsis&quot;</td><td>&quot;variabilis&quot;</td><td>&quot;&quot;</td><td>&quot;accepted&quot;</td><td>&quot;&quot;</td></tr><tr><td>&hellip;</td><td>&hellip;</td><td>&hellip;</td><td>&hellip;</td><td>&hellip;</td><td>&hellip;</td><td>&hellip;</td></tr><tr><td>2011000</td><td>&quot;Lygidea&quot;</td><td>&quot;Lygidea&quot;</td><td>&quot;illota&quot;</td><td>&quot;&quot;</td><td>&quot;accepted&quot;</td><td>&quot;&quot;</td></tr><tr><td>6500325</td><td>&quot;Marginella&quot;</td><td>&quot;Volvarina&quot;</td><td>&quot;zonata&quot;</td><td>&quot;bilineata&quot;</td><td>&quot;synonym&quot;</td><td>&quot;10770136&quot;</td></tr><tr><td>11199913</td><td>&quot;Gonomyia&quot;</td><td>&quot;Gonomyia&quot;</td><td>&quot;javanica&quot;</td><td>&quot;&quot;</td><td>&quot;accepted&quot;</td><td>&quot;&quot;</td></tr><tr><td>8031752</td><td>&quot;Genista&quot;</td><td>&quot;Cytisus&quot;</td><td>&quot;diffusa&quot;</td><td>&quot;&quot;</td><td>&quot;heterotypic synonym&quot;</td><td>&quot;7275170&quot;</td></tr><tr><td>6469502</td><td>&quot;Hermanites&quot;</td><td>&quot;Bradleya&quot;</td><td>&quot;approximata&quot;</td><td>&quot;&quot;</td><td>&quot;synonym&quot;</td><td>&quot;6469503&quot;</td></tr></tbody></table></div>"
      ]
     },
     "metadata": {},
     "output_type": "display_data"
    }
   ],
   "source": [
    "taxon_ranked_only.collect().sample(100)"
   ]
  },
  {
   "cell_type": "markdown",
   "id": "YWSi",
   "metadata": {
    "marimo": {
     "config": {
      "hide_code": true
     }
    }
   },
   "source": [
    "## Join Attempt"
   ]
  },
  {
   "cell_type": "code",
   "execution_count": null,
   "id": "zlud",
   "metadata": {},
   "outputs": [],
   "source": [
    "matching_df = (\n",
    "    pl.LazyFrame(bos_df_3)\n",
    "    .join(\n",
    "        other=taxon_ranked_only,\n",
    "        on=[\"genericName\", \"specificEpithet\", \"infraspecificEpithet\"],\n",
    "    )\n",
    "    .rename({\"taxonID\": \"matched_taxonID\"})\n",
    ")"
   ]
  },
  {
   "cell_type": "code",
   "execution_count": null,
   "id": "tZnO",
   "metadata": {},
   "outputs": [
    {
     "data": {
      "application/json": "[11, 45]"
     },
     "metadata": {},
     "output_type": "display_data"
    }
   ],
   "source": [
    "matching_df.collect().shape"
   ]
  },
  {
   "cell_type": "code",
   "execution_count": null,
   "id": "xvXZ",
   "metadata": {},
   "outputs": [
    {
     "data": {
      "text/html": [
       "<div><style>\n",
       ".dataframe > thead > tr,\n",
       ".dataframe > tbody > tr {\n",
       "  text-align: right;\n",
       "  white-space: pre-wrap;\n",
       "}\n",
       "</style>\n",
       "<small>shape: (11, 45)</small><table border=\"1\" class=\"dataframe\"><thead><tr><th>speciesid</th><th>phylum</th><th>class</th><th>subclass</th><th>order</th><th>sub-order</th><th>infraorder</th><th>section</th><th>subsection</th><th>superfamily</th><th>family</th><th>subfamily</th><th>tribe</th><th>genericName</th><th>subgenus</th><th>specificEpithet</th><th>infraspecificEpithet</th><th>taxonname</th><th>source_file</th><th>subphylum</th><th>taxon</th><th>unnamed: 19</th><th>query</th><th>issue</th><th>query </th><th>superorder</th><th>domain </th><th>kingdom</th><th>section/parvorder</th><th>column2</th><th>infraclass</th><th>commonname</th><th>unnamed: 21</th><th>cleanup changes/comments</th><th>species2</th><th>unnamed: 22</th><th>unnamed: 20</th><th>clade 1</th><th>clade 2</th><th>clade 3</th><th>unnamed: 23</th><th>matched_taxonID</th><th>genus</th><th>taxonomicStatus</th><th>acceptedNameUsageID</th></tr><tr><td>str</td><td>str</td><td>str</td><td>str</td><td>str</td><td>str</td><td>str</td><td>str</td><td>str</td><td>str</td><td>str</td><td>str</td><td>str</td><td>str</td><td>str</td><td>str</td><td>str</td><td>str</td><td>str</td><td>str</td><td>str</td><td>str</td><td>str</td><td>str</td><td>str</td><td>str</td><td>str</td><td>str</td><td>str</td><td>str</td><td>str</td><td>str</td><td>str</td><td>str</td><td>str</td><td>str</td><td>str</td><td>str</td><td>str</td><td>str</td><td>str</td><td>i64</td><td>str</td><td>str</td><td>str</td></tr></thead><tbody><tr><td>&quot;A-Arth-Arac-Aran-000007&quot;</td><td>&quot;Arthropoda&quot;</td><td>&quot;Arachnida&quot;</td><td>&quot;&quot;</td><td>&quot;Araneae&quot;</td><td>&quot;&quot;</td><td>&quot;Araneomorphae&quot;</td><td>&quot;&quot;</td><td>&quot;&quot;</td><td>&quot;&quot;</td><td>&quot;Salticidae&quot;</td><td>&quot;&quot;</td><td>&quot;&quot;</td><td>&quot;Bavia&quot;</td><td>&quot;&quot;</td><td>&quot;sexpunctata&quot;</td><td>&quot;&quot;</td><td>&quot;&lt;i&gt;Bavia sexpunctata&lt;/i&gt;&quot;</td><td>&quot;(back+checked) Database - A-Ar…</td><td>&quot;&quot;</td><td>&quot;&quot;</td><td>&quot;&quot;</td><td>&quot;&quot;</td><td>&quot;&quot;</td><td>&quot;&quot;</td><td>&quot;&quot;</td><td>&quot;&quot;</td><td>&quot;&quot;</td><td>&quot;&quot;</td><td>&quot;&quot;</td><td>&quot;&quot;</td><td>&quot;&quot;</td><td>&quot;&quot;</td><td>&quot;&quot;</td><td>&quot;&quot;</td><td>&quot;&quot;</td><td>&quot;&quot;</td><td>&quot;&quot;</td><td>&quot;&quot;</td><td>&quot;&quot;</td><td>&quot;&quot;</td><td>2170335</td><td>&quot;Bavia&quot;</td><td>&quot;accepted&quot;</td><td>&quot;&quot;</td></tr><tr><td>&quot;A-Arth-Arac-Aran-000032&quot;</td><td>&quot;Arthropoda&quot;</td><td>&quot;Arachnida&quot;</td><td>&quot;&quot;</td><td>&quot;Araneae&quot;</td><td>&quot;&quot;</td><td>&quot;Araneomorphae&quot;</td><td>&quot;&quot;</td><td>&quot;&quot;</td><td>&quot;&quot;</td><td>&quot;Salticidae&quot;</td><td>&quot;&quot;</td><td>&quot;&quot;</td><td>&quot;Omoedus&quot;</td><td>&quot;&quot;</td><td>&quot;ephippiger&quot;</td><td>&quot;&quot;</td><td>&quot;&lt;i&gt;Omoedus ephippigera&lt;/i&gt;&quot;</td><td>&quot;(back+checked) Database - A-Ar…</td><td>&quot;&quot;</td><td>&quot;&quot;</td><td>&quot;&quot;</td><td>&quot;&quot;</td><td>&quot;&quot;</td><td>&quot;&quot;</td><td>&quot;&quot;</td><td>&quot;&quot;</td><td>&quot;&quot;</td><td>&quot;&quot;</td><td>&quot;&quot;</td><td>&quot;&quot;</td><td>&quot;&quot;</td><td>&quot;&quot;</td><td>&quot;&quot;</td><td>&quot;&quot;</td><td>&quot;&quot;</td><td>&quot;&quot;</td><td>&quot;&quot;</td><td>&quot;&quot;</td><td>&quot;&quot;</td><td>&quot;&quot;</td><td>7507302</td><td>&quot;Pystira&quot;</td><td>&quot;synonym&quot;</td><td>&quot;2169625&quot;</td></tr><tr><td>&quot;A-Arth-Crus-Amphipoda-000004&quot;</td><td>&quot;Arthropoda&quot;</td><td>&quot;Malacostraca&quot;</td><td>&quot;&quot;</td><td>&quot;Amphipoda&quot;</td><td>&quot;&quot;</td><td>&quot;&quot;</td><td>&quot;&quot;</td><td>&quot;&quot;</td><td>&quot;Gammaridea&quot;</td><td>&quot;Ampeliscidae&quot;</td><td>&quot;&quot;</td><td>&quot;&quot;</td><td>&quot;Byblis&quot;</td><td>&quot;&quot;</td><td>&quot;kallarthra&quot;</td><td>&quot;&quot;</td><td>&quot;&lt;i&gt;Byblis kallarthra&lt;/i&gt;&quot;</td><td>&quot;(back+checked) Database - A-Ar…</td><td>&quot;Crustacea&quot;</td><td>&quot;A-Arth-Crus-Amphipoda-Ampelisc…</td><td>&quot;&quot;</td><td>&quot;&quot;</td><td>&quot;&quot;</td><td>&quot;&quot;</td><td>&quot;&quot;</td><td>&quot;&quot;</td><td>&quot;&quot;</td><td>&quot;&quot;</td><td>&quot;&quot;</td><td>&quot;&quot;</td><td>&quot;&quot;</td><td>&quot;&quot;</td><td>&quot;&quot;</td><td>&quot;&quot;</td><td>&quot;&quot;</td><td>&quot;&quot;</td><td>&quot;&quot;</td><td>&quot;&quot;</td><td>&quot;&quot;</td><td>&quot;&quot;</td><td>6463306</td><td>&quot;Byblis&quot;</td><td>&quot;accepted&quot;</td><td>&quot;&quot;</td></tr><tr><td>&quot;A-Arth-Crus-Decapoda-000067&quot;</td><td>&quot;Arthropoda&quot;</td><td>&quot;Malacostraca&quot;</td><td>&quot;&quot;</td><td>&quot;Decapoda&quot;</td><td>&quot;Dendrobrachiata&quot;</td><td>&quot;&quot;</td><td>&quot;&quot;</td><td>&quot;&quot;</td><td>&quot;Penaeoidea&quot;</td><td>&quot;Penaeidae&quot;</td><td>&quot;&quot;</td><td>&quot;&quot;</td><td>&quot;Alcockpenaeopsis&quot;</td><td>&quot;&quot;</td><td>&quot;hungerfordii&quot;</td><td>&quot;&quot;</td><td>&quot;&lt;i&gt;Alcockpenaeopsis hungerford…</td><td>&quot;(back+checked) Database - A-Ar…</td><td>&quot;Crustacea&quot;</td><td>&quot;A-Arth-Crus-Deca-Dend-Penaeida…</td><td>&quot;&quot;</td><td>&quot;&quot;</td><td>&quot;&quot;</td><td>&quot;&quot;</td><td>&quot;&quot;</td><td>&quot;&quot;</td><td>&quot;&quot;</td><td>&quot;&quot;</td><td>&quot;&quot;</td><td>&quot;&quot;</td><td>&quot;&quot;</td><td>&quot;&quot;</td><td>&quot;&quot;</td><td>&quot;&quot;</td><td>&quot;&quot;</td><td>&quot;&quot;</td><td>&quot;&quot;</td><td>&quot;&quot;</td><td>&quot;&quot;</td><td>&quot;&quot;</td><td>6454393</td><td>&quot;Alcockpenaeopsis&quot;</td><td>&quot;accepted&quot;</td><td>&quot;&quot;</td></tr><tr><td>&quot;A-Arth-Crus-Decapoda-000522&quot;</td><td>&quot;Arthropoda&quot;</td><td>&quot;Malacostraca&quot;</td><td>&quot;&quot;</td><td>&quot;Decapoda&quot;</td><td>&quot;Pleocyemata&quot;</td><td>&quot;Brachyura&quot;</td><td>&quot;&quot;</td><td>&quot;&quot;</td><td>&quot;Grapsoidea&quot;</td><td>&quot;Sesarmidae&quot;</td><td>&quot;&quot;</td><td>&quot;&quot;</td><td>&quot;Pseudosesarma&quot;</td><td>&quot;&quot;</td><td>&quot;edwardsii&quot;</td><td>&quot;&quot;</td><td>&quot;&lt;i&gt;Pseudosesarma edwardsi&lt;/i&gt;&quot;</td><td>&quot;(back+checked) Database - A-Ar…</td><td>&quot;Crustacea&quot;</td><td>&quot;A-Arth-Crus-Deca-Brac-Sesarmid…</td><td>&quot;&quot;</td><td>&quot;&quot;</td><td>&quot;&quot;</td><td>&quot;&quot;</td><td>&quot;&quot;</td><td>&quot;&quot;</td><td>&quot;&quot;</td><td>&quot;&quot;</td><td>&quot;&quot;</td><td>&quot;&quot;</td><td>&quot;&quot;</td><td>&quot;&quot;</td><td>&quot;&quot;</td><td>&quot;&quot;</td><td>&quot;&quot;</td><td>&quot;&quot;</td><td>&quot;&quot;</td><td>&quot;&quot;</td><td>&quot;&quot;</td><td>&quot;&quot;</td><td>5974773</td><td>&quot;Pseudosesarma&quot;</td><td>&quot;accepted&quot;</td><td>&quot;&quot;</td></tr><tr><td>&hellip;</td><td>&hellip;</td><td>&hellip;</td><td>&hellip;</td><td>&hellip;</td><td>&hellip;</td><td>&hellip;</td><td>&hellip;</td><td>&hellip;</td><td>&hellip;</td><td>&hellip;</td><td>&hellip;</td><td>&hellip;</td><td>&hellip;</td><td>&hellip;</td><td>&hellip;</td><td>&hellip;</td><td>&hellip;</td><td>&hellip;</td><td>&hellip;</td><td>&hellip;</td><td>&hellip;</td><td>&hellip;</td><td>&hellip;</td><td>&hellip;</td><td>&hellip;</td><td>&hellip;</td><td>&hellip;</td><td>&hellip;</td><td>&hellip;</td><td>&hellip;</td><td>&hellip;</td><td>&hellip;</td><td>&hellip;</td><td>&hellip;</td><td>&hellip;</td><td>&hellip;</td><td>&hellip;</td><td>&hellip;</td><td>&hellip;</td><td>&hellip;</td><td>&hellip;</td><td>&hellip;</td><td>&hellip;</td><td>&hellip;</td></tr><tr><td>&quot;A-Arth-Crus-Decapoda-000697&quot;</td><td>&quot;Arthropoda&quot;</td><td>&quot;Malacostraca&quot;</td><td>&quot;&quot;</td><td>&quot;Decapoda&quot;</td><td>&quot;Pleocyemata&quot;</td><td>&quot;Brachyura&quot;</td><td>&quot;&quot;</td><td>&quot;&quot;</td><td>&quot;Ocypodoidea&quot;</td><td>&quot;Ocypodidae&quot;</td><td>&quot;&quot;</td><td>&quot;&quot;</td><td>&quot;Ocypode&quot;</td><td>&quot;&quot;</td><td>&quot;cordimana&quot;</td><td>&quot;&quot;</td><td>&quot;&lt;i&gt;Ocypode cordimanus&lt;/i&gt;&quot;</td><td>&quot;(back+checked) Database - A-Ar…</td><td>&quot;Crustacea&quot;</td><td>&quot;A-Arth-Crus-Deca-Brac-Ocypodid…</td><td>&quot;&quot;</td><td>&quot;&quot;</td><td>&quot;&quot;</td><td>&quot;&quot;</td><td>&quot;&quot;</td><td>&quot;&quot;</td><td>&quot;&quot;</td><td>&quot;&quot;</td><td>&quot;&quot;</td><td>&quot;&quot;</td><td>&quot;&quot;</td><td>&quot;&quot;</td><td>&quot;&quot;</td><td>&quot;&quot;</td><td>&quot;&quot;</td><td>&quot;&quot;</td><td>&quot;&quot;</td><td>&quot;&quot;</td><td>&quot;&quot;</td><td>&quot;&quot;</td><td>4382448</td><td>&quot;Ocypode&quot;</td><td>&quot;accepted&quot;</td><td>&quot;&quot;</td></tr><tr><td>&quot;A-Arth-Hexa-Coleoptera-000431&quot;</td><td>&quot;Arthropoda&quot;</td><td>&quot;Insecta&quot;</td><td>&quot;&quot;</td><td>&quot;Coleoptera&quot;</td><td>&quot;Polyphaga&quot;</td><td>&quot;&quot;</td><td>&quot;&quot;</td><td>&quot;&quot;</td><td>&quot;Chrysomeloidea&quot;</td><td>&quot;Cerambycidae&quot;</td><td>&quot;Lamiinae&quot;</td><td>&quot;&quot;</td><td>&quot;Glenea&quot;</td><td>&quot;Glenea&quot;</td><td>&quot;mathematica&quot;</td><td>&quot;anona&quot;</td><td>&quot;&lt;i&gt;Glenea (Glenea) mathemathic…</td><td>&quot;(back+checked) Database - A-Ar…</td><td>&quot;&quot;</td><td>&quot;A-Arth-Hexa-Coleo-Ceram-Lamiin…</td><td>&quot;&quot;</td><td>&quot;&quot;</td><td>&quot;&quot;</td><td>&quot;&quot;</td><td>&quot;&quot;</td><td>&quot;&quot;</td><td>&quot;&quot;</td><td>&quot;&quot;</td><td>&quot;&quot;</td><td>&quot;&quot;</td><td>&quot;&quot;</td><td>&quot;&quot;</td><td>&quot;&quot;</td><td>&quot;&quot;</td><td>&quot;&quot;</td><td>&quot;&quot;</td><td>&quot;&quot;</td><td>&quot;&quot;</td><td>&quot;&quot;</td><td>&quot;&quot;</td><td>8992605</td><td>&quot;Glenea&quot;</td><td>&quot;synonym&quot;</td><td>&quot;6266589&quot;</td></tr><tr><td>&quot;A-Arth-Hexa-Coleoptera-000431&quot;</td><td>&quot;Arthropoda&quot;</td><td>&quot;Insecta&quot;</td><td>&quot;&quot;</td><td>&quot;Coleoptera&quot;</td><td>&quot;Polyphaga&quot;</td><td>&quot;&quot;</td><td>&quot;&quot;</td><td>&quot;&quot;</td><td>&quot;Chrysomeloidea&quot;</td><td>&quot;Cerambycidae&quot;</td><td>&quot;Lamiinae&quot;</td><td>&quot;&quot;</td><td>&quot;Glenea&quot;</td><td>&quot;Glenea&quot;</td><td>&quot;mathematica&quot;</td><td>&quot;anona&quot;</td><td>&quot;&lt;i&gt;Glenea (Glenea) mathemathic…</td><td>&quot;(back+checked) Database - A-Ar…</td><td>&quot;&quot;</td><td>&quot;A-Arth-Hexa-Coleo-Ceram-Lamiin…</td><td>&quot;&quot;</td><td>&quot;&quot;</td><td>&quot;&quot;</td><td>&quot;&quot;</td><td>&quot;&quot;</td><td>&quot;&quot;</td><td>&quot;&quot;</td><td>&quot;&quot;</td><td>&quot;&quot;</td><td>&quot;&quot;</td><td>&quot;&quot;</td><td>&quot;&quot;</td><td>&quot;&quot;</td><td>&quot;&quot;</td><td>&quot;&quot;</td><td>&quot;&quot;</td><td>&quot;&quot;</td><td>&quot;&quot;</td><td>&quot;&quot;</td><td>&quot;&quot;</td><td>6266589</td><td>&quot;Glenea&quot;</td><td>&quot;accepted&quot;</td><td>&quot;&quot;</td></tr><tr><td>&quot;A-Arth-Hexa-Coleoptera-000433&quot;</td><td>&quot;Arthropoda&quot;</td><td>&quot;Insecta&quot;</td><td>&quot;&quot;</td><td>&quot;Coleoptera&quot;</td><td>&quot;Polyphaga&quot;</td><td>&quot;&quot;</td><td>&quot;&quot;</td><td>&quot;&quot;</td><td>&quot;Chrysomeloidea&quot;</td><td>&quot;Cerambycidae&quot;</td><td>&quot;Lamiinae&quot;</td><td>&quot;&quot;</td><td>&quot;Glenea&quot;</td><td>&quot;Glenea&quot;</td><td>&quot;mathematica&quot;</td><td>&quot;alysson&quot;</td><td>&quot;&lt;i&gt;Glenea (Glenea) mathemathic…</td><td>&quot;(back+checked) Database - A-Ar…</td><td>&quot;&quot;</td><td>&quot;A-Arth-Hexa-Coleo-Ceram-Lamiin…</td><td>&quot;&quot;</td><td>&quot;&quot;</td><td>&quot;&quot;</td><td>&quot;&quot;</td><td>&quot;&quot;</td><td>&quot;&quot;</td><td>&quot;&quot;</td><td>&quot;&quot;</td><td>&quot;&quot;</td><td>&quot;&quot;</td><td>&quot;&quot;</td><td>&quot;&quot;</td><td>&quot;&quot;</td><td>&quot;&quot;</td><td>&quot;&quot;</td><td>&quot;&quot;</td><td>&quot;&quot;</td><td>&quot;&quot;</td><td>&quot;&quot;</td><td>&quot;&quot;</td><td>8728952</td><td>&quot;Glenea&quot;</td><td>&quot;synonym&quot;</td><td>&quot;6266587&quot;</td></tr><tr><td>&quot;A-Arth-Hexa-Coleoptera-000433&quot;</td><td>&quot;Arthropoda&quot;</td><td>&quot;Insecta&quot;</td><td>&quot;&quot;</td><td>&quot;Coleoptera&quot;</td><td>&quot;Polyphaga&quot;</td><td>&quot;&quot;</td><td>&quot;&quot;</td><td>&quot;&quot;</td><td>&quot;Chrysomeloidea&quot;</td><td>&quot;Cerambycidae&quot;</td><td>&quot;Lamiinae&quot;</td><td>&quot;&quot;</td><td>&quot;Glenea&quot;</td><td>&quot;Glenea&quot;</td><td>&quot;mathematica&quot;</td><td>&quot;alysson&quot;</td><td>&quot;&lt;i&gt;Glenea (Glenea) mathemathic…</td><td>&quot;(back+checked) Database - A-Ar…</td><td>&quot;&quot;</td><td>&quot;A-Arth-Hexa-Coleo-Ceram-Lamiin…</td><td>&quot;&quot;</td><td>&quot;&quot;</td><td>&quot;&quot;</td><td>&quot;&quot;</td><td>&quot;&quot;</td><td>&quot;&quot;</td><td>&quot;&quot;</td><td>&quot;&quot;</td><td>&quot;&quot;</td><td>&quot;&quot;</td><td>&quot;&quot;</td><td>&quot;&quot;</td><td>&quot;&quot;</td><td>&quot;&quot;</td><td>&quot;&quot;</td><td>&quot;&quot;</td><td>&quot;&quot;</td><td>&quot;&quot;</td><td>&quot;&quot;</td><td>&quot;&quot;</td><td>6266587</td><td>&quot;Glenea&quot;</td><td>&quot;accepted&quot;</td><td>&quot;&quot;</td></tr></tbody></table></div>"
      ]
     },
     "metadata": {},
     "output_type": "display_data"
    }
   ],
   "source": [
    "matching_df.collect().sort(by='speciesid')"
   ]
  },
  {
   "cell_type": "code",
   "execution_count": null,
   "id": "CLip",
   "metadata": {},
   "outputs": [
    {
     "name": "stderr",
     "output_type": "stream",
     "text": [
      "/tmp/marimo_118796/__marimo__cell_yMOQ_.py:1: PerformanceWarning: Determining the column names of a LazyFrame requires resolving its schema, which is a potentially expensive operation. Use `LazyFrame.collect_schema().names()` to get the column names without this warning.\n",
      "  matching_df.columns\n"
     ]
    }
   ],
   "source": [
    "matching_df.columns"
   ]
  },
  {
   "cell_type": "code",
   "execution_count": null,
   "id": "YECM",
   "metadata": {},
   "outputs": [
    {
     "data": {
      "text/html": [
       "<div><style>\n",
       ".dataframe > thead > tr,\n",
       ".dataframe > tbody > tr {\n",
       "  text-align: right;\n",
       "  white-space: pre-wrap;\n",
       "}\n",
       "</style>\n",
       "<small>shape: (9, 4)</small><table border=\"1\" class=\"dataframe\"><thead><tr><th>statistic</th><th>genericName</th><th>specificEpithet</th><th>matched_taxonID</th></tr><tr><td>str</td><td>str</td><td>str</td><td>f64</td></tr></thead><tbody><tr><td>&quot;count&quot;</td><td>&quot;11&quot;</td><td>&quot;11&quot;</td><td>11.0</td></tr><tr><td>&quot;null_count&quot;</td><td>&quot;0&quot;</td><td>&quot;0&quot;</td><td>0.0</td></tr><tr><td>&quot;mean&quot;</td><td>null</td><td>null</td><td>5.9484e6</td></tr><tr><td>&quot;std&quot;</td><td>null</td><td>null</td><td>2.2526e6</td></tr><tr><td>&quot;min&quot;</td><td>&quot;Alcockpenaeopsis&quot;</td><td>&quot;antonbruunii&quot;</td><td>2.170335e6</td></tr><tr><td>&quot;25%&quot;</td><td>null</td><td>null</td><td>5.974773e6</td></tr><tr><td>&quot;50%&quot;</td><td>null</td><td>null</td><td>6.266589e6</td></tr><tr><td>&quot;75%&quot;</td><td>null</td><td>null</td><td>7.507302e6</td></tr><tr><td>&quot;max&quot;</td><td>&quot;Urocaridella&quot;</td><td>&quot;sexpunctata&quot;</td><td>8.992605e6</td></tr></tbody></table></div>"
      ]
     },
     "metadata": {},
     "output_type": "display_data"
    }
   ],
   "source": [
    "matching_df.select(\n",
    "    [\"genericName\", \"specificEpithet\", \"matched_taxonID\"]\n",
    ").collect().describe()"
   ]
  },
  {
   "cell_type": "code",
   "execution_count": null,
   "id": "cEAS",
   "metadata": {},
   "outputs": [
    {
     "name": "stdout",
     "output_type": "stream",
     "text": [
      "shape: (0, 3)\n",
      "┌─────────────┬─────────────────┬─────────────────┐\n",
      "│ genericName ┆ specificEpithet ┆ matched_taxonID │\n",
      "│ ---         ┆ ---             ┆ ---             │\n",
      "│ str         ┆ str             ┆ i64             │\n",
      "╞═════════════╪═════════════════╪═════════════════╡\n",
      "└─────────────┴─────────────────┴─────────────────┘\n",
      "\n",
      "shape: (0, 3)\n",
      "┌─────────────┬─────────────────┬─────────────────┐\n",
      "│ genericName ┆ specificEpithet ┆ matched_taxonID │\n",
      "│ ---         ┆ ---             ┆ ---             │\n",
      "│ str         ┆ str             ┆ i64             │\n",
      "╞═════════════╪═════════════════╪═════════════════╡\n",
      "└─────────────┴─────────────────┴─────────────────┘\n",
      "\n"
     ]
    },
    {
     "name": "stdout",
     "output_type": "stream",
     "text": [
      "shape: (0, 3)\n",
      "┌─────────────┬─────────────────┬─────────────────┐\n",
      "│ genericName ┆ specificEpithet ┆ matched_taxonID │\n",
      "│ ---         ┆ ---             ┆ ---             │\n",
      "│ str         ┆ str             ┆ i64             │\n",
      "╞═════════════╪═════════════════╪═════════════════╡\n",
      "└─────────────┴─────────────────┴─────────────────┘\n"
     ]
    }
   ],
   "source": [
    "_df = matching_df.select(\n",
    "    [\"genericName\", \"specificEpithet\", \"matched_taxonID\"]\n",
    ").collect()\n",
    "print(_df.filter(pl.col(\"genericName\")==\"\"))\n",
    "print()\n",
    "\n",
    "print(_df.filter(pl.col(\"specificEpithet\")==\"\"))\n",
    "\n",
    "print()\n",
    "\n",
    "print(_df.filter((pl.col(\"matched_taxonID\")==0)|(pl.col(\"matched_taxonID\").is_nan())))"
   ]
  },
  {
   "cell_type": "markdown",
   "id": "iXej",
   "metadata": {},
   "source": [
    "no empty strings or 0s"
   ]
  },
  {
   "cell_type": "code",
   "execution_count": null,
   "id": "EJmg",
   "metadata": {},
   "outputs": [
    {
     "data": {
      "text/html": [
       "<div><style>\n",
       ".dataframe > thead > tr,\n",
       ".dataframe > tbody > tr {\n",
       "  text-align: right;\n",
       "  white-space: pre-wrap;\n",
       "}\n",
       "</style>\n",
       "<small>shape: (7, 23)</small><table border=\"1\" class=\"dataframe\"><thead><tr><th>speciesid</th><th>matched_taxonID</th><th>acceptedNameUsageID</th><th>taxonname</th><th>domain </th><th>kingdom</th><th>phylum</th><th>class</th><th>subclass</th><th>superorder</th><th>order</th><th>sub-order</th><th>infraorder</th><th>section</th><th>subsection</th><th>superfamily</th><th>family</th><th>subfamily</th><th>tribe</th><th>genus</th><th>subgenus</th><th>specificEpithet</th><th>infraspecificEpithet</th></tr><tr><td>str</td><td>i64</td><td>str</td><td>str</td><td>str</td><td>str</td><td>str</td><td>str</td><td>str</td><td>str</td><td>str</td><td>str</td><td>str</td><td>str</td><td>str</td><td>str</td><td>str</td><td>str</td><td>str</td><td>str</td><td>str</td><td>str</td><td>str</td></tr></thead><tbody><tr><td>&quot;A-Arth-Arac-Aran-000007&quot;</td><td>2170335</td><td>&quot;&quot;</td><td>&quot;&lt;i&gt;Bavia sexpunctata&lt;/i&gt;&quot;</td><td>&quot;&quot;</td><td>&quot;&quot;</td><td>&quot;Arthropoda&quot;</td><td>&quot;Arachnida&quot;</td><td>&quot;&quot;</td><td>&quot;&quot;</td><td>&quot;Araneae&quot;</td><td>&quot;&quot;</td><td>&quot;Araneomorphae&quot;</td><td>&quot;&quot;</td><td>&quot;&quot;</td><td>&quot;&quot;</td><td>&quot;Salticidae&quot;</td><td>&quot;&quot;</td><td>&quot;&quot;</td><td>&quot;Bavia&quot;</td><td>&quot;&quot;</td><td>&quot;sexpunctata&quot;</td><td>&quot;&quot;</td></tr><tr><td>&quot;A-Arth-Arac-Aran-000032&quot;</td><td>7507302</td><td>&quot;2169625&quot;</td><td>&quot;&lt;i&gt;Omoedus ephippigera&lt;/i&gt;&quot;</td><td>&quot;&quot;</td><td>&quot;&quot;</td><td>&quot;Arthropoda&quot;</td><td>&quot;Arachnida&quot;</td><td>&quot;&quot;</td><td>&quot;&quot;</td><td>&quot;Araneae&quot;</td><td>&quot;&quot;</td><td>&quot;Araneomorphae&quot;</td><td>&quot;&quot;</td><td>&quot;&quot;</td><td>&quot;&quot;</td><td>&quot;Salticidae&quot;</td><td>&quot;&quot;</td><td>&quot;&quot;</td><td>&quot;Pystira&quot;</td><td>&quot;&quot;</td><td>&quot;ephippiger&quot;</td><td>&quot;&quot;</td></tr><tr><td>&quot;A-Arth-Crus-Amphipoda-000004&quot;</td><td>6463306</td><td>&quot;&quot;</td><td>&quot;&lt;i&gt;Byblis kallarthra&lt;/i&gt;&quot;</td><td>&quot;&quot;</td><td>&quot;&quot;</td><td>&quot;Arthropoda&quot;</td><td>&quot;Malacostraca&quot;</td><td>&quot;&quot;</td><td>&quot;&quot;</td><td>&quot;Amphipoda&quot;</td><td>&quot;&quot;</td><td>&quot;&quot;</td><td>&quot;&quot;</td><td>&quot;&quot;</td><td>&quot;Gammaridea&quot;</td><td>&quot;Ampeliscidae&quot;</td><td>&quot;&quot;</td><td>&quot;&quot;</td><td>&quot;Byblis&quot;</td><td>&quot;&quot;</td><td>&quot;kallarthra&quot;</td><td>&quot;&quot;</td></tr><tr><td>&quot;A-Arth-Crus-Decapoda-000067&quot;</td><td>6454393</td><td>&quot;&quot;</td><td>&quot;&lt;i&gt;Alcockpenaeopsis hungerford…</td><td>&quot;&quot;</td><td>&quot;&quot;</td><td>&quot;Arthropoda&quot;</td><td>&quot;Malacostraca&quot;</td><td>&quot;&quot;</td><td>&quot;&quot;</td><td>&quot;Decapoda&quot;</td><td>&quot;Dendrobrachiata&quot;</td><td>&quot;&quot;</td><td>&quot;&quot;</td><td>&quot;&quot;</td><td>&quot;Penaeoidea&quot;</td><td>&quot;Penaeidae&quot;</td><td>&quot;&quot;</td><td>&quot;&quot;</td><td>&quot;Alcockpenaeopsis&quot;</td><td>&quot;&quot;</td><td>&quot;hungerfordii&quot;</td><td>&quot;&quot;</td></tr><tr><td>&quot;A-Arth-Crus-Decapoda-000522&quot;</td><td>5974773</td><td>&quot;&quot;</td><td>&quot;&lt;i&gt;Pseudosesarma edwardsi&lt;/i&gt;&quot;</td><td>&quot;&quot;</td><td>&quot;&quot;</td><td>&quot;Arthropoda&quot;</td><td>&quot;Malacostraca&quot;</td><td>&quot;&quot;</td><td>&quot;&quot;</td><td>&quot;Decapoda&quot;</td><td>&quot;Pleocyemata&quot;</td><td>&quot;Brachyura&quot;</td><td>&quot;&quot;</td><td>&quot;&quot;</td><td>&quot;Grapsoidea&quot;</td><td>&quot;Sesarmidae&quot;</td><td>&quot;&quot;</td><td>&quot;&quot;</td><td>&quot;Pseudosesarma&quot;</td><td>&quot;&quot;</td><td>&quot;edwardsii&quot;</td><td>&quot;&quot;</td></tr><tr><td>&quot;A-Arth-Crus-Decapoda-000595&quot;</td><td>2225230</td><td>&quot;&quot;</td><td>&quot;&lt;i&gt;Urocaridella antonbruuni&lt;/i…</td><td>&quot;&quot;</td><td>&quot;&quot;</td><td>&quot;Arthropoda&quot;</td><td>&quot;Malacostraca&quot;</td><td>&quot;&quot;</td><td>&quot;&quot;</td><td>&quot;Decapoda&quot;</td><td>&quot;Pleocyemata&quot;</td><td>&quot;Caridea&quot;</td><td>&quot;&quot;</td><td>&quot;&quot;</td><td>&quot;Palaemonoidea&quot;</td><td>&quot;Palaemonidae&quot;</td><td>&quot;&quot;</td><td>&quot;&quot;</td><td>&quot;Urocaridella&quot;</td><td>&quot;&quot;</td><td>&quot;antonbruunii&quot;</td><td>&quot;&quot;</td></tr><tr><td>&quot;A-Arth-Crus-Decapoda-000697&quot;</td><td>4382448</td><td>&quot;&quot;</td><td>&quot;&lt;i&gt;Ocypode cordimanus&lt;/i&gt;&quot;</td><td>&quot;&quot;</td><td>&quot;&quot;</td><td>&quot;Arthropoda&quot;</td><td>&quot;Malacostraca&quot;</td><td>&quot;&quot;</td><td>&quot;&quot;</td><td>&quot;Decapoda&quot;</td><td>&quot;Pleocyemata&quot;</td><td>&quot;Brachyura&quot;</td><td>&quot;&quot;</td><td>&quot;&quot;</td><td>&quot;Ocypodoidea&quot;</td><td>&quot;Ocypodidae&quot;</td><td>&quot;&quot;</td><td>&quot;&quot;</td><td>&quot;Ocypode&quot;</td><td>&quot;&quot;</td><td>&quot;cordimana&quot;</td><td>&quot;&quot;</td></tr></tbody></table></div>"
      ]
     },
     "metadata": {},
     "output_type": "display_data"
    }
   ],
   "source": [
    "matching_df_2 = matching_df.select((\"speciesid\",\"matched_taxonID\",\"acceptedNameUsageID\",\"taxonname\",\n",
    "                        \"domain \",\"kingdom\",\"phylum\",\"class\",\"subclass\",\"superorder\",\n",
    "                        \"order\",\"sub-order\",\"infraorder\",\"section\", \"subsection\", \"superfamily\",\n",
    "                        \"family\",\"subfamily\",\"tribe\",\"genus\",\"subgenus\",\"specificEpithet\",\"infraspecificEpithet\"))\n",
    "\n",
    "\n",
    "contentious = matching_df_2.filter(pl.col('speciesid').is_duplicated()).sort(by='speciesid')\n",
    "matching_df_2 = matching_df_2.filter(~pl.col('speciesid').is_duplicated()).sort(by='speciesid')\n",
    "\n",
    "\n",
    "\n",
    "#I don't know how to do this lines:\n",
    "#R code:\n",
    "#contentious <- contentious[!contentious$acceptedNameUsageID %in% contentious$matched_taxonID, ]\n",
    "#Python code attempt:\n",
    "# contentious = contentious.filter(~pl.col('acceptedNameUsageID') == (pl.col('matched_taxonID')))\n",
    "\n",
    "\n",
    "\n",
    "matching_df_2.collect()"
   ]
  },
  {
   "cell_type": "code",
   "execution_count": null,
   "id": "UmEG",
   "metadata": {},
   "outputs": [
    {
     "data": {
      "text/html": [
       "<div><style>\n",
       ".dataframe > thead > tr,\n",
       ".dataframe > tbody > tr {\n",
       "  text-align: right;\n",
       "  white-space: pre-wrap;\n",
       "}\n",
       "</style>\n",
       "<small>shape: (4, 23)</small><table border=\"1\" class=\"dataframe\"><thead><tr><th>speciesid</th><th>matched_taxonID</th><th>acceptedNameUsageID</th><th>taxonname</th><th>domain </th><th>kingdom</th><th>phylum</th><th>class</th><th>subclass</th><th>superorder</th><th>order</th><th>sub-order</th><th>infraorder</th><th>section</th><th>subsection</th><th>superfamily</th><th>family</th><th>subfamily</th><th>tribe</th><th>genus</th><th>subgenus</th><th>specificEpithet</th><th>infraspecificEpithet</th></tr><tr><td>str</td><td>i64</td><td>str</td><td>str</td><td>str</td><td>str</td><td>str</td><td>str</td><td>str</td><td>str</td><td>str</td><td>str</td><td>str</td><td>str</td><td>str</td><td>str</td><td>str</td><td>str</td><td>str</td><td>str</td><td>str</td><td>str</td><td>str</td></tr></thead><tbody><tr><td>&quot;A-Arth-Hexa-Coleoptera-000431&quot;</td><td>8992605</td><td>&quot;6266589&quot;</td><td>&quot;&lt;i&gt;Glenea (Glenea) mathemathic…</td><td>&quot;&quot;</td><td>&quot;&quot;</td><td>&quot;Arthropoda&quot;</td><td>&quot;Insecta&quot;</td><td>&quot;&quot;</td><td>&quot;&quot;</td><td>&quot;Coleoptera&quot;</td><td>&quot;Polyphaga&quot;</td><td>&quot;&quot;</td><td>&quot;&quot;</td><td>&quot;&quot;</td><td>&quot;Chrysomeloidea&quot;</td><td>&quot;Cerambycidae&quot;</td><td>&quot;Lamiinae&quot;</td><td>&quot;&quot;</td><td>&quot;Glenea&quot;</td><td>&quot;Glenea&quot;</td><td>&quot;mathematica&quot;</td><td>&quot;anona&quot;</td></tr><tr><td>&quot;A-Arth-Hexa-Coleoptera-000431&quot;</td><td>6266589</td><td>&quot;&quot;</td><td>&quot;&lt;i&gt;Glenea (Glenea) mathemathic…</td><td>&quot;&quot;</td><td>&quot;&quot;</td><td>&quot;Arthropoda&quot;</td><td>&quot;Insecta&quot;</td><td>&quot;&quot;</td><td>&quot;&quot;</td><td>&quot;Coleoptera&quot;</td><td>&quot;Polyphaga&quot;</td><td>&quot;&quot;</td><td>&quot;&quot;</td><td>&quot;&quot;</td><td>&quot;Chrysomeloidea&quot;</td><td>&quot;Cerambycidae&quot;</td><td>&quot;Lamiinae&quot;</td><td>&quot;&quot;</td><td>&quot;Glenea&quot;</td><td>&quot;Glenea&quot;</td><td>&quot;mathematica&quot;</td><td>&quot;anona&quot;</td></tr><tr><td>&quot;A-Arth-Hexa-Coleoptera-000433&quot;</td><td>8728952</td><td>&quot;6266587&quot;</td><td>&quot;&lt;i&gt;Glenea (Glenea) mathemathic…</td><td>&quot;&quot;</td><td>&quot;&quot;</td><td>&quot;Arthropoda&quot;</td><td>&quot;Insecta&quot;</td><td>&quot;&quot;</td><td>&quot;&quot;</td><td>&quot;Coleoptera&quot;</td><td>&quot;Polyphaga&quot;</td><td>&quot;&quot;</td><td>&quot;&quot;</td><td>&quot;&quot;</td><td>&quot;Chrysomeloidea&quot;</td><td>&quot;Cerambycidae&quot;</td><td>&quot;Lamiinae&quot;</td><td>&quot;&quot;</td><td>&quot;Glenea&quot;</td><td>&quot;Glenea&quot;</td><td>&quot;mathematica&quot;</td><td>&quot;alysson&quot;</td></tr><tr><td>&quot;A-Arth-Hexa-Coleoptera-000433&quot;</td><td>6266587</td><td>&quot;&quot;</td><td>&quot;&lt;i&gt;Glenea (Glenea) mathemathic…</td><td>&quot;&quot;</td><td>&quot;&quot;</td><td>&quot;Arthropoda&quot;</td><td>&quot;Insecta&quot;</td><td>&quot;&quot;</td><td>&quot;&quot;</td><td>&quot;Coleoptera&quot;</td><td>&quot;Polyphaga&quot;</td><td>&quot;&quot;</td><td>&quot;&quot;</td><td>&quot;&quot;</td><td>&quot;Chrysomeloidea&quot;</td><td>&quot;Cerambycidae&quot;</td><td>&quot;Lamiinae&quot;</td><td>&quot;&quot;</td><td>&quot;Glenea&quot;</td><td>&quot;Glenea&quot;</td><td>&quot;mathematica&quot;</td><td>&quot;alysson&quot;</td></tr></tbody></table></div>"
      ]
     },
     "metadata": {},
     "output_type": "display_data"
    }
   ],
   "source": [
    "contentious.collect()"
   ]
  },
  {
   "cell_type": "code",
   "execution_count": null,
   "id": "vEBW",
   "metadata": {},
   "outputs": [],
   "source": [
    "contentious_2= contentious.filter(pl.col('acceptedNameUsageID')!=\"\").collect()\n",
    "# _contentious_unique.collect()\n",
    "# matching_df_3 = matching_df_2.collect().vstack(contentious_2)"
   ]
  },
  {
   "cell_type": "code",
   "execution_count": null,
   "id": "kLmu",
   "metadata": {},
   "outputs": [],
   "source": [
    "# matching_df_3\n"
   ]
  },
  {
   "cell_type": "markdown",
   "id": "IpqN",
   "metadata": {
    "marimo": {
     "config": {
      "hide_code": true
     }
    }
   },
   "source": [
    "the vstack may not be needed according to the R code."
   ]
  }
 ],
 "metadata": {},
 "nbformat": 4,
 "nbformat_minor": 5
}
