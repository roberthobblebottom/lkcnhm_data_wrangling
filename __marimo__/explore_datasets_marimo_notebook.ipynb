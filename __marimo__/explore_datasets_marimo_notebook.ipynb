{
 "cells": [
  {
   "cell_type": "code",
   "execution_count": null,
   "id": "Hbol",
   "metadata": {},
   "outputs": [],
   "source": [
    "import marimo as mo\n",
    "import polars as pl\n",
    "\n",
    "from join_tables import join\n",
    "\n",
    "df = join()"
   ]
  },
  {
   "cell_type": "code",
   "execution_count": null,
   "id": "MJUe",
   "metadata": {
    "marimo": {
     "config": {
      "disabled": true
     }
    }
   },
   "outputs": [
    {
     "data": {
      "text/html": [
       "<div><style>\n",
       ".dataframe > thead > tr,\n",
       ".dataframe > tbody > tr {\n",
       "  text-align: right;\n",
       "  white-space: pre-wrap;\n",
       "}\n",
       "</style>\n",
       "<small>shape: (9, 24)</small><table border=\"1\" class=\"dataframe\"><thead><tr><th>statistic</th><th>taxonID</th><th>datasetID</th><th>parentNameUsageID</th><th>acceptedNameUsageID</th><th>originalNameUsageID</th><th>scientificName</th><th>scientificNameAuthorship</th><th>canonicalName</th><th>genericName</th><th>specificEpithet</th><th>infraspecificEpithet</th><th>taxonRank</th><th>nameAccordingTo</th><th>namePublishedIn</th><th>taxonomicStatus</th><th>nomenclaturalStatus</th><th>taxonRemarks</th><th>kingdom</th><th>phylum</th><th>class</th><th>order</th><th>family</th><th>genus</th></tr><tr><td>str</td><td>f64</td><td>str</td><td>f64</td><td>str</td><td>str</td><td>str</td><td>str</td><td>str</td><td>str</td><td>str</td><td>str</td><td>str</td><td>str</td><td>str</td><td>str</td><td>str</td><td>str</td><td>str</td><td>str</td><td>str</td><td>str</td><td>str</td><td>str</td></tr></thead><tbody><tr><td>&quot;count&quot;</td><td>7.746724e6</td><td>&quot;7697161&quot;</td><td>7.746691e6</td><td>&quot;3294454&quot;</td><td>&quot;1350016&quot;</td><td>&quot;7746724&quot;</td><td>&quot;6244000&quot;</td><td>&quot;6456758&quot;</td><td>&quot;6456757&quot;</td><td>&quot;5883209&quot;</td><td>&quot;890254&quot;</td><td>&quot;7746724&quot;</td><td>&quot;0&quot;</td><td>&quot;4175913&quot;</td><td>&quot;7746724&quot;</td><td>&quot;0&quot;</td><td>&quot;130898&quot;</td><td>&quot;7746724&quot;</td><td>&quot;7668979&quot;</td><td>&quot;7362889&quot;</td><td>&quot;7328668&quot;</td><td>&quot;7395746&quot;</td><td>&quot;7208713&quot;</td></tr><tr><td>&quot;null_count&quot;</td><td>0.0</td><td>&quot;49563&quot;</td><td>33.0</td><td>&quot;4452270&quot;</td><td>&quot;6396708&quot;</td><td>&quot;0&quot;</td><td>&quot;1502724&quot;</td><td>&quot;1289966&quot;</td><td>&quot;1289967&quot;</td><td>&quot;1863515&quot;</td><td>&quot;6856470&quot;</td><td>&quot;0&quot;</td><td>&quot;7746724&quot;</td><td>&quot;3570811&quot;</td><td>&quot;0&quot;</td><td>&quot;7746724&quot;</td><td>&quot;7615826&quot;</td><td>&quot;0&quot;</td><td>&quot;77745&quot;</td><td>&quot;383835&quot;</td><td>&quot;418056&quot;</td><td>&quot;350978&quot;</td><td>&quot;538011&quot;</td></tr><tr><td>&quot;mean&quot;</td><td>7.0081e6</td><td>null</td><td>3.5402e6</td><td>null</td><td>null</td><td>null</td><td>null</td><td>null</td><td>null</td><td>null</td><td>null</td><td>null</td><td>null</td><td>null</td><td>null</td><td>null</td><td>null</td><td>null</td><td>null</td><td>null</td><td>null</td><td>null</td><td>null</td></tr><tr><td>&quot;std&quot;</td><td>3.4851e6</td><td>null</td><td>2.8307e6</td><td>null</td><td>null</td><td>null</td><td>null</td><td>null</td><td>null</td><td>null</td><td>null</td><td>null</td><td>null</td><td>null</td><td>null</td><td>null</td><td>null</td><td>null</td><td>null</td><td>null</td><td>null</td><td>null</td><td>null</td></tr><tr><td>&quot;min&quot;</td><td>0.0</td><td>&quot;00024397-569d-43a8-9e08-9a1072…</td><td>0.0</td><td>&quot;10000028&quot;</td><td>&quot;10000031&quot;</td><td>&quot;&quot;Betula nana x pubescens ssp. …</td><td>&quot;&#x27;t Hart&quot;</td><td>&quot;? 12-guttata&quot;</td><td>&quot;?&quot;</td><td>&quot;0vatum&quot;</td><td>&quot;10-radiata&quot;</td><td>&quot;class&quot;</td><td>null</td><td>&quot;!Cactus, 8: 249, 249, 1953&quot;</td><td>&quot;accepted&quot;</td><td>null</td><td>&quot;In the 2022 Catalogue of Life …</td><td>&quot;Animalia&quot;</td><td>&quot;4484-113&quot;</td><td>&quot;0-14-0-80-59-12&quot;</td><td>&quot;0-14-0-10-38-17&quot;</td><td>&quot;0-14-0-20-34-12&quot;</td><td>&quot;0-14-0-20-44-26&quot;</td></tr><tr><td>&quot;25%&quot;</td><td>3.936779e6</td><td>null</td><td>1.716586e6</td><td>null</td><td>null</td><td>null</td><td>null</td><td>null</td><td>null</td><td>null</td><td>null</td><td>null</td><td>null</td><td>null</td><td>null</td><td>null</td><td>null</td><td>null</td><td>null</td><td>null</td><td>null</td><td>null</td><td>null</td></tr><tr><td>&quot;50%&quot;</td><td>7.512166e6</td><td>null</td><td>2.703895e6</td><td>null</td><td>null</td><td>null</td><td>null</td><td>null</td><td>null</td><td>null</td><td>null</td><td>null</td><td>null</td><td>null</td><td>null</td><td>null</td><td>null</td><td>null</td><td>null</td><td>null</td><td>null</td><td>null</td><td>null</td></tr><tr><td>&quot;75%&quot;</td><td>1.0171892e7</td><td>null</td><td>4.747055e6</td><td>null</td><td>null</td><td>null</td><td>null</td><td>null</td><td>null</td><td>null</td><td>null</td><td>null</td><td>null</td><td>null</td><td>null</td><td>null</td><td>null</td><td>null</td><td>null</td><td>null</td><td>null</td><td>null</td><td>null</td></tr><tr><td>&quot;max&quot;</td><td>1.2390971e7</td><td>&quot;fffc3d5c-425a-47ab-9bb5-c4e1e1…</td><td>1.2386548e7</td><td>&quot;9999981&quot;</td><td>&quot;9999905&quot;</td><td>&quot;×Zygozella J.M.H.Shaw&quot;</td><td>&quot;Șuraru, Gábos &amp; Șuraru, 1967&quot;</td><td>&quot;incertae sedis&quot;</td><td>&quot;Æthomerus&quot;</td><td>&quot;čejkai&quot;</td><td>&quot;öur&quot;</td><td>&quot;variety&quot;</td><td>null</td><td>&quot;﻿Two new millipede species of …</td><td>&quot;synonym&quot;</td><td>null</td><td>&quot;Possible variant of ×Triticose…</td><td>&quot;incertae sedis&quot;</td><td>&quot;Zygomycota&quot;</td><td>&quot;Zymogenia&quot;</td><td>&quot;Zymogeniales&quot;</td><td>&quot;Zythiaceae&quot;</td><td>&quot;[URE3] prion&quot;</td></tr></tbody></table></div>"
      ]
     },
     "metadata": {},
     "output_type": "display_data"
    }
   ],
   "source": [
    "pl.scan_csv(\n",
    "    \"gbif/Taxon.tsv\",\n",
    "    separator=\"\\t\",\n",
    "    quote_char=None,\n",
    "    cache=True,\n",
    ").describe()"
   ]
  },
  {
   "cell_type": "code",
   "execution_count": null,
   "id": "vblA",
   "metadata": {},
   "outputs": [],
   "source": [
    "contentious = (\n",
    "    df.filter(pl.col(\"speciesId\").is_not_null().is_duplicated()).sort(by=\"speciesId\")\n",
    "    .filter(pl.col(\"acceptedNameUsageID\") != \"\")\n",
    ")\n",
    "matching = df.filter(~pl.col(\"speciesId\").is_duplicated()).sort(by=\"speciesId\")"
   ]
  },
  {
   "cell_type": "code",
   "execution_count": null,
   "id": "bkHC",
   "metadata": {},
   "outputs": [
    {
     "data": {
      "text/html": [
       "<div><style>\n",
       ".dataframe > thead > tr,\n",
       ".dataframe > tbody > tr {\n",
       "  text-align: right;\n",
       "  white-space: pre-wrap;\n",
       "}\n",
       "</style>\n",
       "<small>shape: (0, 2)</small><table border=\"1\" class=\"dataframe\"><thead><tr><th>infraspecificEpithet</th><th>len</th></tr><tr><td>str</td><td>u32</td></tr></thead><tbody></tbody></table></div>"
      ]
     },
     "metadata": {},
     "output_type": "display_data"
    }
   ],
   "source": [
    "df.group_by('infraspecificEpithet').len().sort('len',descending=True).collect().filter(pl.col('infraspecificEpithet')==\"\")"
   ]
  },
  {
   "cell_type": "code",
   "execution_count": null,
   "id": "lEQa",
   "metadata": {},
   "outputs": [
    {
     "data": {
      "text/html": [
       "<div><style>\n",
       ".dataframe > thead > tr,\n",
       ".dataframe > tbody > tr {\n",
       "  text-align: right;\n",
       "  white-space: pre-wrap;\n",
       "}\n",
       "</style>\n",
       "<small>shape: (1, 1)</small><table border=\"1\" class=\"dataframe\"><thead><tr><th>speciesId</th></tr><tr><td>u32</td></tr></thead><tbody><tr><td>1</td></tr></tbody></table></div>"
      ]
     },
     "metadata": {},
     "output_type": "display_data"
    }
   ],
   "source": [
    "df.select(\"speciesId\").unique().collect().null_count()"
   ]
  },
  {
   "cell_type": "code",
   "execution_count": null,
   "id": "PKri",
   "metadata": {},
   "outputs": [
    {
     "data": {
      "text/html": [
       "<div><style>\n",
       ".dataframe > thead > tr,\n",
       ".dataframe > tbody > tr {\n",
       "  text-align: right;\n",
       "  white-space: pre-wrap;\n",
       "}\n",
       "</style>\n",
       "<small>shape: (1, 1)</small><table border=\"1\" class=\"dataframe\"><thead><tr><th>speciesId</th></tr><tr><td>u32</td></tr></thead><tbody><tr><td>253</td></tr></tbody></table></div>"
      ]
     },
     "metadata": {},
     "output_type": "display_data"
    }
   ],
   "source": [
    "df.select(\"speciesId\").count().collect()"
   ]
  },
  {
   "cell_type": "code",
   "execution_count": null,
   "id": "Xref",
   "metadata": {},
   "outputs": [
    {
     "data": {
      "text/html": [
       "<div><style>\n",
       ".dataframe > thead > tr,\n",
       ".dataframe > tbody > tr {\n",
       "  text-align: right;\n",
       "  white-space: pre-wrap;\n",
       "}\n",
       "</style>\n",
       "<small>shape: (7, 2)</small><table border=\"1\" class=\"dataframe\"><thead><tr><th>speciesId</th><th>len</th></tr><tr><td>str</td><td>u32</td></tr></thead><tbody><tr><td>&quot;A-Moll-Gastropoda-000007&quot;</td><td>1</td></tr><tr><td>&quot;A-Arth-Hexa-Lepidoptera-000194&quot;</td><td>1</td></tr><tr><td>&quot;A-Arth-Hexa-Lepidoptera-000299&quot;</td><td>1</td></tr><tr><td>&quot;A-Arth-Hexa-Lepidoptera-000107&quot;</td><td>1</td></tr><tr><td>&quot;A-Arth-Hexa-Odonata-000008&quot;</td><td>1</td></tr><tr><td>&quot;A-Arth-Hexa-Lepidoptera-000261&quot;</td><td>1</td></tr><tr><td>null</td><td>3037638</td></tr></tbody></table></div>"
      ]
     },
     "metadata": {},
     "output_type": "display_data"
    }
   ],
   "source": [
    "contentious.group_by('speciesId').len().collect()"
   ]
  },
  {
   "cell_type": "code",
   "execution_count": null,
   "id": "SFPL",
   "metadata": {},
   "outputs": [
    {
     "data": {
      "text/html": [
       "<div><style>\n",
       ".dataframe > thead > tr,\n",
       ".dataframe > tbody > tr {\n",
       "  text-align: right;\n",
       "  white-space: pre-wrap;\n",
       "}\n",
       "</style>\n",
       "<small>shape: (253, 2)</small><table border=\"1\" class=\"dataframe\"><thead><tr><th>speciesId</th><th>len</th></tr><tr><td>str</td><td>u32</td></tr></thead><tbody><tr><td>&quot;A-Arth-Hexa-Coleoptera-000370&quot;</td><td>1</td></tr><tr><td>&quot;A-Arth-Hexa-Coleoptera-000372&quot;</td><td>1</td></tr><tr><td>&quot;A-Arth-Hexa-Coleoptera-000431&quot;</td><td>1</td></tr><tr><td>&quot;A-Arth-Hexa-Coleoptera-000432&quot;</td><td>1</td></tr><tr><td>&quot;A-Arth-Hexa-Coleoptera-000433&quot;</td><td>1</td></tr><tr><td>&hellip;</td><td>&hellip;</td></tr><tr><td>&quot;A-Moll-Gastropoda-000007&quot;</td><td>1</td></tr><tr><td>&quot;A-Vert-Mammalia-000009&quot;</td><td>1</td></tr><tr><td>&quot;A-Vert-Mammalia-000098&quot;</td><td>1</td></tr><tr><td>&quot;A-Vert-Mammalia-000099&quot;</td><td>1</td></tr><tr><td>&quot;A-Vert-Reptilia-000127&quot;</td><td>1</td></tr></tbody></table></div>"
      ]
     },
     "metadata": {},
     "output_type": "display_data"
    }
   ],
   "source": [
    "matching.group_by('speciesId').len().collect().sort(\"len\")"
   ]
  }
 ],
 "metadata": {},
 "nbformat": 4,
 "nbformat_minor": 5
}
