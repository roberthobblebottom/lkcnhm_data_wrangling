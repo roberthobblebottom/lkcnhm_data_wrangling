{
 "cells": [
  {
   "cell_type": "code",
   "execution_count": null,
   "id": "Hbol",
   "metadata": {},
   "outputs": [
    {
     "data": {
      "text/html": [
       "<div><style>\n",
       ".dataframe > thead > tr,\n",
       ".dataframe > tbody > tr {\n",
       "  text-align: right;\n",
       "  white-space: pre-wrap;\n",
       "}\n",
       "</style>\n",
       "<small>shape: (9, 24)</small><table border=\"1\" class=\"dataframe\"><thead><tr><th>statistic</th><th>taxonID</th><th>datasetID</th><th>parentNameUsageID</th><th>acceptedNameUsageID</th><th>originalNameUsageID</th><th>scientificName</th><th>scientificNameAuthorship</th><th>canonicalName</th><th>genericName</th><th>specificEpithet</th><th>infraspecificEpithet</th><th>taxonRank</th><th>nameAccordingTo</th><th>namePublishedIn</th><th>taxonomicStatus</th><th>nomenclaturalStatus</th><th>taxonRemarks</th><th>kingdom</th><th>phylum</th><th>class</th><th>order</th><th>family</th><th>genus</th></tr><tr><td>str</td><td>f64</td><td>str</td><td>f64</td><td>str</td><td>str</td><td>str</td><td>str</td><td>str</td><td>str</td><td>str</td><td>str</td><td>str</td><td>str</td><td>str</td><td>str</td><td>str</td><td>str</td><td>str</td><td>str</td><td>str</td><td>str</td><td>str</td><td>str</td></tr></thead><tbody><tr><td>&quot;count&quot;</td><td>7.746724e6</td><td>&quot;7697161&quot;</td><td>7.746691e6</td><td>&quot;3294454&quot;</td><td>&quot;1350016&quot;</td><td>&quot;7746724&quot;</td><td>&quot;6244000&quot;</td><td>&quot;6456758&quot;</td><td>&quot;6456757&quot;</td><td>&quot;5883209&quot;</td><td>&quot;890254&quot;</td><td>&quot;7746724&quot;</td><td>&quot;0&quot;</td><td>&quot;4175913&quot;</td><td>&quot;7746724&quot;</td><td>&quot;0&quot;</td><td>&quot;130898&quot;</td><td>&quot;7746724&quot;</td><td>&quot;7668979&quot;</td><td>&quot;7362889&quot;</td><td>&quot;7328668&quot;</td><td>&quot;7395746&quot;</td><td>&quot;7208713&quot;</td></tr><tr><td>&quot;null_count&quot;</td><td>0.0</td><td>&quot;49563&quot;</td><td>33.0</td><td>&quot;4452270&quot;</td><td>&quot;6396708&quot;</td><td>&quot;0&quot;</td><td>&quot;1502724&quot;</td><td>&quot;1289966&quot;</td><td>&quot;1289967&quot;</td><td>&quot;1863515&quot;</td><td>&quot;6856470&quot;</td><td>&quot;0&quot;</td><td>&quot;7746724&quot;</td><td>&quot;3570811&quot;</td><td>&quot;0&quot;</td><td>&quot;7746724&quot;</td><td>&quot;7615826&quot;</td><td>&quot;0&quot;</td><td>&quot;77745&quot;</td><td>&quot;383835&quot;</td><td>&quot;418056&quot;</td><td>&quot;350978&quot;</td><td>&quot;538011&quot;</td></tr><tr><td>&quot;mean&quot;</td><td>7.0081e6</td><td>null</td><td>3.5402e6</td><td>null</td><td>null</td><td>null</td><td>null</td><td>null</td><td>null</td><td>null</td><td>null</td><td>null</td><td>null</td><td>null</td><td>null</td><td>null</td><td>null</td><td>null</td><td>null</td><td>null</td><td>null</td><td>null</td><td>null</td></tr><tr><td>&quot;std&quot;</td><td>3.4851e6</td><td>null</td><td>2.8307e6</td><td>null</td><td>null</td><td>null</td><td>null</td><td>null</td><td>null</td><td>null</td><td>null</td><td>null</td><td>null</td><td>null</td><td>null</td><td>null</td><td>null</td><td>null</td><td>null</td><td>null</td><td>null</td><td>null</td><td>null</td></tr><tr><td>&quot;min&quot;</td><td>0.0</td><td>&quot;00024397-569d-43a8-9e08-9a1072…</td><td>0.0</td><td>&quot;10000028&quot;</td><td>&quot;10000031&quot;</td><td>&quot;&quot;Betula nana x pubescens ssp. …</td><td>&quot;&#x27;t Hart&quot;</td><td>&quot;? 12-guttata&quot;</td><td>&quot;?&quot;</td><td>&quot;0vatum&quot;</td><td>&quot;10-radiata&quot;</td><td>&quot;class&quot;</td><td>null</td><td>&quot;!Cactus, 8: 249, 249, 1953&quot;</td><td>&quot;accepted&quot;</td><td>null</td><td>&quot;In the 2022 Catalogue of Life …</td><td>&quot;Animalia&quot;</td><td>&quot;4484-113&quot;</td><td>&quot;0-14-0-80-59-12&quot;</td><td>&quot;0-14-0-10-38-17&quot;</td><td>&quot;0-14-0-20-34-12&quot;</td><td>&quot;0-14-0-20-44-26&quot;</td></tr><tr><td>&quot;25%&quot;</td><td>3.936779e6</td><td>null</td><td>1.716586e6</td><td>null</td><td>null</td><td>null</td><td>null</td><td>null</td><td>null</td><td>null</td><td>null</td><td>null</td><td>null</td><td>null</td><td>null</td><td>null</td><td>null</td><td>null</td><td>null</td><td>null</td><td>null</td><td>null</td><td>null</td></tr><tr><td>&quot;50%&quot;</td><td>7.512166e6</td><td>null</td><td>2.703895e6</td><td>null</td><td>null</td><td>null</td><td>null</td><td>null</td><td>null</td><td>null</td><td>null</td><td>null</td><td>null</td><td>null</td><td>null</td><td>null</td><td>null</td><td>null</td><td>null</td><td>null</td><td>null</td><td>null</td><td>null</td></tr><tr><td>&quot;75%&quot;</td><td>1.0171892e7</td><td>null</td><td>4.747055e6</td><td>null</td><td>null</td><td>null</td><td>null</td><td>null</td><td>null</td><td>null</td><td>null</td><td>null</td><td>null</td><td>null</td><td>null</td><td>null</td><td>null</td><td>null</td><td>null</td><td>null</td><td>null</td><td>null</td><td>null</td></tr><tr><td>&quot;max&quot;</td><td>1.2390971e7</td><td>&quot;fffc3d5c-425a-47ab-9bb5-c4e1e1…</td><td>1.2386548e7</td><td>&quot;9999981&quot;</td><td>&quot;9999905&quot;</td><td>&quot;×Zygozella J.M.H.Shaw&quot;</td><td>&quot;Șuraru, Gábos &amp; Șuraru, 1967&quot;</td><td>&quot;incertae sedis&quot;</td><td>&quot;Æthomerus&quot;</td><td>&quot;čejkai&quot;</td><td>&quot;öur&quot;</td><td>&quot;variety&quot;</td><td>null</td><td>&quot;﻿Two new millipede species of …</td><td>&quot;synonym&quot;</td><td>null</td><td>&quot;Possible variant of ×Triticose…</td><td>&quot;incertae sedis&quot;</td><td>&quot;Zygomycota&quot;</td><td>&quot;Zymogenia&quot;</td><td>&quot;Zymogeniales&quot;</td><td>&quot;Zythiaceae&quot;</td><td>&quot;[URE3] prion&quot;</td></tr></tbody></table></div>"
      ]
     },
     "metadata": {},
     "output_type": "display_data"
    }
   ],
   "source": [
    "import marimo as mo\n",
    "import polars as pl\n",
    "\n",
    "\n",
    "taxon_lf = pl.scan_csv(\"gbif/Taxon.tsv\",separator=\"\\t\",quote_char=None,cache=True,)\n",
    "taxon_lf.describe()"
   ]
  },
  {
   "cell_type": "code",
   "execution_count": null,
   "id": "MJUe",
   "metadata": {},
   "outputs": [
    {
     "data": {
      "text/html": [
       "<div><style>\n",
       ".dataframe > thead > tr,\n",
       ".dataframe > tbody > tr {\n",
       "  text-align: right;\n",
       "  white-space: pre-wrap;\n",
       "}\n",
       "</style>\n",
       "<small>shape: (10, 23)</small><table border=\"1\" class=\"dataframe\"><thead><tr><th>taxonID</th><th>datasetID</th><th>parentNameUsageID</th><th>acceptedNameUsageID</th><th>originalNameUsageID</th><th>scientificName</th><th>scientificNameAuthorship</th><th>canonicalName</th><th>genericName</th><th>specificEpithet</th><th>infraspecificEpithet</th><th>taxonRank</th><th>nameAccordingTo</th><th>namePublishedIn</th><th>taxonomicStatus</th><th>nomenclaturalStatus</th><th>taxonRemarks</th><th>kingdom</th><th>phylum</th><th>class</th><th>order</th><th>family</th><th>genus</th></tr><tr><td>i64</td><td>str</td><td>i64</td><td>str</td><td>str</td><td>str</td><td>str</td><td>str</td><td>str</td><td>str</td><td>str</td><td>str</td><td>str</td><td>str</td><td>str</td><td>str</td><td>str</td><td>str</td><td>str</td><td>str</td><td>str</td><td>str</td><td>str</td></tr></thead><tbody><tr><td>4236122</td><td>&quot;7ddf754f-d193-4cc9-b351-999067…</td><td>3134951</td><td>&quot;4253593&quot;</td><td>&quot;4253593&quot;</td><td>&quot;Hieracium vulgatum var. parali…</td><td>&quot;(Dahlst.) Sennikov&quot;</td><td>&quot;Hieracium vulgatum paralium&quot;</td><td>&quot;Hieracium&quot;</td><td>&quot;vulgatum&quot;</td><td>&quot;paralium&quot;</td><td>&quot;variety&quot;</td><td>null</td><td>&quot;Sennikov. (2003). In: Fl. Balt…</td><td>&quot;synonym&quot;</td><td>null</td><td>null</td><td>&quot;Plantae&quot;</td><td>&quot;Tracheophyta&quot;</td><td>&quot;Magnoliopsida&quot;</td><td>&quot;Asterales&quot;</td><td>&quot;Asteraceae&quot;</td><td>&quot;Hieracium&quot;</td></tr><tr><td>11425616</td><td>&quot;61a5f178-b5fb-4484-b6d8-9b1297…</td><td>1061</td><td>null</td><td>null</td><td>&quot;SH0963679.09FU&quot;</td><td>null</td><td>null</td><td>null</td><td>null</td><td>null</td><td>&quot;unranked&quot;</td><td>null</td><td>null</td><td>&quot;accepted&quot;</td><td>null</td><td>null</td><td>&quot;Fungi&quot;</td><td>&quot;Ascomycota&quot;</td><td>&quot;Sordariomycetes&quot;</td><td>&quot;Sordariales&quot;</td><td>null</td><td>null</td></tr><tr><td>10100995</td><td>&quot;4cec8fef-f129-4966-89b7-4f8439…</td><td>2355360</td><td>null</td><td>null</td><td>&quot;BOLD:ADL2679&quot;</td><td>null</td><td>null</td><td>null</td><td>null</td><td>null</td><td>&quot;unranked&quot;</td><td>null</td><td>null</td><td>&quot;accepted&quot;</td><td>null</td><td>null</td><td>&quot;Animalia&quot;</td><td>&quot;Chordata&quot;</td><td>null</td><td>&quot;Characiformes&quot;</td><td>&quot;Anostomidae&quot;</td><td>&quot;Leporinus&quot;</td></tr><tr><td>2117311</td><td>&quot;7ddf754f-d193-4cc9-b351-999067…</td><td>2117290</td><td>null</td><td>null</td><td>&quot;Anoplodactylus brevicollis Lom…</td><td>&quot;Loman, 1908&quot;</td><td>&quot;Anoplodactylus brevicollis&quot;</td><td>&quot;Anoplodactylus&quot;</td><td>&quot;brevicollis&quot;</td><td>null</td><td>&quot;species&quot;</td><td>null</td><td>null</td><td>&quot;accepted&quot;</td><td>null</td><td>null</td><td>&quot;Animalia&quot;</td><td>&quot;Arthropoda&quot;</td><td>&quot;Pycnogonida&quot;</td><td>&quot;Pantopoda&quot;</td><td>&quot;Phoxichilidiidae&quot;</td><td>&quot;Anoplodactylus&quot;</td></tr><tr><td>8075106</td><td>&quot;7ddf754f-d193-4cc9-b351-999067…</td><td>2985823</td><td>&quot;7172987&quot;</td><td>null</td><td>&quot;Rochea falcata var. acuminata …</td><td>&quot;Eckl. &amp; Zeyh.&quot;</td><td>&quot;Rochea falcata acuminata&quot;</td><td>&quot;Rochea&quot;</td><td>&quot;falcata&quot;</td><td>&quot;acuminata&quot;</td><td>&quot;variety&quot;</td><td>null</td><td>&quot;Eckl. &amp; Zeyh. (1837). In: (183…</td><td>&quot;synonym&quot;</td><td>null</td><td>null</td><td>&quot;Plantae&quot;</td><td>&quot;Tracheophyta&quot;</td><td>&quot;Magnoliopsida&quot;</td><td>&quot;Saxifragales&quot;</td><td>&quot;Crassulaceae&quot;</td><td>&quot;Crassula&quot;</td></tr><tr><td>10641968</td><td>&quot;4cec8fef-f129-4966-89b7-4f8439…</td><td>1216881</td><td>null</td><td>null</td><td>&quot;BOLD:ACB4466&quot;</td><td>null</td><td>null</td><td>null</td><td>null</td><td>null</td><td>&quot;unranked&quot;</td><td>null</td><td>null</td><td>&quot;accepted&quot;</td><td>null</td><td>null</td><td>&quot;Animalia&quot;</td><td>&quot;Arthropoda&quot;</td><td>&quot;Insecta&quot;</td><td>&quot;Coleoptera&quot;</td><td>&quot;Curculionidae&quot;</td><td>&quot;Xylosandrus&quot;</td></tr><tr><td>11251824</td><td>&quot;1ec61203-14fa-4fbd-8ee5-a4a802…</td><td>1249626</td><td>&quot;9436762&quot;</td><td>null</td><td>&quot;Gasteruption sinense minus Kie…</td><td>&quot;Kieffer, 1924&quot;</td><td>&quot;Gasteruption sinense minus&quot;</td><td>&quot;Gasteruption&quot;</td><td>&quot;sinense&quot;</td><td>&quot;minus&quot;</td><td>&quot;subspecies&quot;</td><td>null</td><td>null</td><td>&quot;synonym&quot;</td><td>null</td><td>null</td><td>&quot;Animalia&quot;</td><td>&quot;Arthropoda&quot;</td><td>&quot;Insecta&quot;</td><td>&quot;Hymenoptera&quot;</td><td>&quot;Gasteruptiidae&quot;</td><td>&quot;Gasteruption&quot;</td></tr><tr><td>12243711</td><td>&quot;7ddf754f-d193-4cc9-b351-999067…</td><td>1093967</td><td>null</td><td>null</td><td>&quot;Passalus considerabilis Kuwert…</td><td>&quot;Kuwert, 1891&quot;</td><td>&quot;Passalus considerabilis&quot;</td><td>&quot;Passalus&quot;</td><td>&quot;considerabilis&quot;</td><td>null</td><td>&quot;species&quot;</td><td>null</td><td>&quot;Kuwert, A. (1891). Systematisc…</td><td>&quot;accepted&quot;</td><td>null</td><td>null</td><td>&quot;Animalia&quot;</td><td>&quot;Arthropoda&quot;</td><td>&quot;Insecta&quot;</td><td>&quot;Coleoptera&quot;</td><td>&quot;Passalidae&quot;</td><td>&quot;Passalus&quot;</td></tr><tr><td>2294288</td><td>&quot;7ddf754f-d193-4cc9-b351-999067…</td><td>6529</td><td>null</td><td>null</td><td>&quot;Vitrina Draparnaud, 1801&quot;</td><td>&quot;Draparnaud, 1801&quot;</td><td>&quot;Vitrina&quot;</td><td>&quot;Vitrina&quot;</td><td>null</td><td>null</td><td>&quot;genus&quot;</td><td>null</td><td>&quot;Draparnaud, J. P. R. (1801). T…</td><td>&quot;accepted&quot;</td><td>null</td><td>null</td><td>&quot;Animalia&quot;</td><td>&quot;Mollusca&quot;</td><td>&quot;Gastropoda&quot;</td><td>&quot;Stylommatophora&quot;</td><td>&quot;Vitrinidae&quot;</td><td>&quot;Vitrina&quot;</td></tr><tr><td>1248261</td><td>&quot;0e61f8fe-7d25-4f81-ada7-d970bb…</td><td>4404787</td><td>&quot;4463424&quot;</td><td>null</td><td>&quot;Apion intrusum Gyllenhal, 1827&quot;</td><td>&quot;Gyllenhal, 1827&quot;</td><td>&quot;Apion intrusum&quot;</td><td>&quot;Apion&quot;</td><td>&quot;intrusum&quot;</td><td>null</td><td>&quot;species&quot;</td><td>null</td><td>null</td><td>&quot;heterotypic synonym&quot;</td><td>null</td><td>null</td><td>&quot;Animalia&quot;</td><td>&quot;Arthropoda&quot;</td><td>&quot;Insecta&quot;</td><td>&quot;Coleoptera&quot;</td><td>&quot;Apionidae&quot;</td><td>&quot;Cyanapion&quot;</td></tr></tbody></table></div>"
      ]
     },
     "metadata": {},
     "output_type": "display_data"
    }
   ],
   "source": [
    "taxon_lf.collect().sample(10)"
   ]
  },
  {
   "cell_type": "code",
   "execution_count": null,
   "id": "vblA",
   "metadata": {},
   "outputs": [],
   "source": [
    "taxon_lf.select(\"taxonRank\",\"kingdom\",\"class\",\"order\",\"family\",\"genus\").unique().fetch()"
   ]
  },
  {
   "cell_type": "code",
   "execution_count": null,
   "id": "bkHC",
   "metadata": {},
   "outputs": [
    {
     "data": {
      "text/html": [
       "<div><style>\n",
       ".dataframe > thead > tr,\n",
       ".dataframe > tbody > tr {\n",
       "  text-align: right;\n",
       "  white-space: pre-wrap;\n",
       "}\n",
       "</style>\n",
       "<small>shape: (1, 23)</small><table border=\"1\" class=\"dataframe\"><thead><tr><th>taxonID</th><th>datasetID</th><th>parentNameUsageID</th><th>acceptedNameUsageID</th><th>originalNameUsageID</th><th>scientificName</th><th>scientificNameAuthorship</th><th>canonicalName</th><th>genericName</th><th>specificEpithet</th><th>infraspecificEpithet</th><th>taxonRank</th><th>nameAccordingTo</th><th>namePublishedIn</th><th>taxonomicStatus</th><th>nomenclaturalStatus</th><th>taxonRemarks</th><th>kingdom</th><th>phylum</th><th>class</th><th>order</th><th>family</th><th>genus</th></tr><tr><td>u32</td><td>u32</td><td>u32</td><td>u32</td><td>u32</td><td>u32</td><td>u32</td><td>u32</td><td>u32</td><td>u32</td><td>u32</td><td>u32</td><td>u32</td><td>u32</td><td>u32</td><td>u32</td><td>u32</td><td>u32</td><td>u32</td><td>u32</td><td>u32</td><td>u32</td><td>u32</td></tr></thead><tbody><tr><td>0</td><td>49563</td><td>33</td><td>4452270</td><td>6396708</td><td>0</td><td>1502724</td><td>1289966</td><td>1289967</td><td>1863515</td><td>6856470</td><td>0</td><td>7746724</td><td>3570811</td><td>0</td><td>7746724</td><td>7615826</td><td>0</td><td>77745</td><td>383835</td><td>418056</td><td>350978</td><td>538011</td></tr></tbody></table></div>"
      ]
     },
     "metadata": {},
     "output_type": "display_data"
    }
   ],
   "source": [
    "taxon_lf.null_count().collect()"
   ]
  }
 ],
 "metadata": {},
 "nbformat": 4,
 "nbformat_minor": 5
}
