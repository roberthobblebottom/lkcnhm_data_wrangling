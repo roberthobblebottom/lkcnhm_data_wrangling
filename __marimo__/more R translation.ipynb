{
 "cells": [
  {
   "cell_type": "markdown",
   "id": "Hbol",
   "metadata": {
    "marimo": {
     "config": {
      "hide_code": true
     }
    }
   },
   "source": [
    "# DF"
   ]
  },
  {
   "cell_type": "code",
   "execution_count": null,
   "id": "MJUe",
   "metadata": {},
   "outputs": [],
   "source": [
    "import marimo as mo\n",
    "import polars as pl\n",
    "\n",
    "from r_translation import join\n",
    "\n",
    "df = join()"
   ]
  },
  {
   "cell_type": "markdown",
   "id": "vblA",
   "metadata": {
    "marimo": {
     "config": {
      "hide_code": true
     }
    }
   },
   "source": [
    "# matching and contentious split\n",
    "What makes a data point contentious is where it has duplicate speciesId."
   ]
  },
  {
   "cell_type": "code",
   "execution_count": null,
   "id": "bkHC",
   "metadata": {},
   "outputs": [],
   "source": [
    "matching = df.filter(~pl.col(\"speciesId\").is_duplicated()).with_columns(\n",
    "    acceptedNameUsageID=pl.col(\"acceptedNameUsageID\")\n",
    "    .fill_null(pl.lit(-1))\n",
    "    .cast(pl.Int64)\n",
    ")\n",
    "contentious = df.filter((pl.col(\"speciesId\").is_duplicated())).with_columns(\n",
    "    acceptedNameUsageID=pl.col(\"acceptedNameUsageID\")\n",
    "    .fill_null(pl.lit(-1))\n",
    "    .cast(pl.Int64)\n",
    ")\n",
    "\n",
    "unique_contentious = contentious.filter(\n",
    "    (pl.col(\"acceptedNameUsageID\") == -1)\n",
    "    & (\n",
    "        pl.col(\"matched_taxonID\").is_in(\n",
    "            pl.col(\"acceptedNameUsageID\").implode()\n",
    "        )\n",
    "    )\n",
    ")\n",
    "# print(\n",
    "#     unique_contentious.select(\n",
    "#         \"speciesId\", \"acceptedNameUsageID\", \"matched_taxonID\"\n",
    "#     ).collect()\n",
    "# )\n",
    "unique_contentius_speciesId = (\n",
    "    unique_contentious.select(\"speciesId\").collect().to_series().implode()\n",
    ")  # Just the speciesIds\n",
    "contentious2 = contentious.filter(\n",
    "    ~pl.col(\"speciesId\").is_in(unique_contentius_speciesId)\n",
    ")  # Removing...\n",
    "\n",
    "# print(contentious2.select('speciesId','acceptedNameUsageID','matched_taxonID').collect())\n",
    "\n",
    "matching = pl.concat(\n",
    "    [matching, unique_contentious],\n",
    ")"
   ]
  },
  {
   "cell_type": "markdown",
   "id": "lEQa",
   "metadata": {
    "marimo": {
     "config": {
      "hide_code": true
     }
    }
   },
   "source": [
    "nomatch lazyframe is for BOS data point that has no current match in gbif data set."
   ]
  },
  {
   "cell_type": "code",
   "execution_count": null,
   "id": "PKri",
   "metadata": {},
   "outputs": [
    {
     "data": {
      "text/html": [
       "<div><style>\n",
       ".dataframe > thead > tr,\n",
       ".dataframe > tbody > tr {\n",
       "  text-align: right;\n",
       "  white-space: pre-wrap;\n",
       "}\n",
       "</style>\n",
       "<small>shape: (8_445, 27)</small><table border=\"1\" class=\"dataframe\"><thead><tr><th>speciesId</th><th>matched_taxonID</th><th>acceptedNameUsageID</th><th>taxonName</th><th>domain</th><th>kingdom</th><th>phylum</th><th>class</th><th>subclass</th><th>superorder</th><th>order</th><th>sub-order</th><th>infraorder</th><th>section</th><th>subsection</th><th>superfamily</th><th>family</th><th>subfamily</th><th>tribe</th><th>genus</th><th>subgenus</th><th>genericName</th><th>specificEpithet</th><th>infraspecificEpithet</th><th>taxonRank</th><th>taxonomicStatus</th><th>parentNameUsageID</th></tr><tr><td>str</td><td>i64</td><td>i64</td><td>str</td><td>str</td><td>str</td><td>str</td><td>str</td><td>str</td><td>str</td><td>str</td><td>str</td><td>str</td><td>str</td><td>str</td><td>str</td><td>str</td><td>str</td><td>str</td><td>str</td><td>str</td><td>str</td><td>str</td><td>str</td><td>str</td><td>str</td><td>null</td></tr></thead><tbody><tr><td>&quot;A-Anne-Clit-Hirudinea-000001&quot;</td><td>null</td><td>-1</td><td>&quot;Glossiphoniidae sp. &quot;1&quot;&quot;</td><td>null</td><td>null</td><td>&quot;Annelida&quot;</td><td>&quot;Clitellata&quot;</td><td>&quot;Hirudinea&quot;</td><td>null</td><td>&quot;Rhynchobdellida&quot;</td><td>null</td><td>null</td><td>null</td><td>null</td><td>null</td><td>&quot;Glossiphoniidae&quot;</td><td>null</td><td>null</td><td>null</td><td>null</td><td>null</td><td>null</td><td>&quot;&quot;</td><td>&quot;BOSuncornirmedSpecies&quot;</td><td>&quot;BOSunformired&quot;</td><td>null</td></tr><tr><td>&quot;A-Anne-Clit-Hirudinea-000002&quot;</td><td>null</td><td>-1</td><td>&quot;Glossiphoniidae sp. &quot;2&quot;&quot;</td><td>null</td><td>null</td><td>&quot;Annelida&quot;</td><td>&quot;Clitellata&quot;</td><td>&quot;Hirudinea&quot;</td><td>null</td><td>&quot;Rhynchobdellida&quot;</td><td>null</td><td>null</td><td>null</td><td>null</td><td>null</td><td>&quot;Glossiphoniidae&quot;</td><td>null</td><td>null</td><td>null</td><td>null</td><td>null</td><td>null</td><td>&quot;&quot;</td><td>&quot;BOSuncornirmedSpecies&quot;</td><td>&quot;BOSunformired&quot;</td><td>null</td></tr><tr><td>&quot;A-Anne-Clit-Hirudinea-000003&quot;</td><td>null</td><td>-1</td><td>&quot;Glossiphoniidae sp. &quot;3&quot;&quot;</td><td>null</td><td>null</td><td>&quot;Annelida&quot;</td><td>&quot;Clitellata&quot;</td><td>&quot;Hirudinea&quot;</td><td>null</td><td>&quot;Rhynchobdellida&quot;</td><td>null</td><td>null</td><td>null</td><td>null</td><td>null</td><td>&quot;Glossiphoniidae&quot;</td><td>null</td><td>null</td><td>null</td><td>null</td><td>null</td><td>null</td><td>&quot;&quot;</td><td>&quot;BOSuncornirmedSpecies&quot;</td><td>&quot;BOSunformired&quot;</td><td>null</td></tr><tr><td>&quot;A-Anne-Clit-Hirudinea-000004&quot;</td><td>null</td><td>-1</td><td>&quot;Hirudinidae sp. &quot;1&quot;&quot;</td><td>null</td><td>null</td><td>&quot;Annelida&quot;</td><td>&quot;Clitellata&quot;</td><td>&quot;Hirudinea&quot;</td><td>null</td><td>&quot;Arhynchobdellida&quot;</td><td>null</td><td>null</td><td>null</td><td>null</td><td>null</td><td>&quot;Hirudinidae&quot;</td><td>null</td><td>null</td><td>null</td><td>null</td><td>null</td><td>null</td><td>&quot;&quot;</td><td>&quot;BOSuncornirmedSpecies&quot;</td><td>&quot;BOSunformired&quot;</td><td>null</td></tr><tr><td>&quot;A-Anne-Clit-Hirudinea-000005&quot;</td><td>null</td><td>-1</td><td>&quot;Hirudinidae sp. &quot;2&quot;&quot;</td><td>null</td><td>null</td><td>&quot;Annelida&quot;</td><td>&quot;Clitellata&quot;</td><td>&quot;Hirudinea&quot;</td><td>null</td><td>&quot;Arhynchobdellida&quot;</td><td>null</td><td>null</td><td>null</td><td>null</td><td>null</td><td>&quot;Hirudinidae&quot;</td><td>null</td><td>null</td><td>null</td><td>null</td><td>null</td><td>null</td><td>&quot;&quot;</td><td>&quot;BOSuncornirmedSpecies&quot;</td><td>&quot;BOSunformired&quot;</td><td>null</td></tr><tr><td>&hellip;</td><td>&hellip;</td><td>&hellip;</td><td>&hellip;</td><td>&hellip;</td><td>&hellip;</td><td>&hellip;</td><td>&hellip;</td><td>&hellip;</td><td>&hellip;</td><td>&hellip;</td><td>&hellip;</td><td>&hellip;</td><td>&hellip;</td><td>&hellip;</td><td>&hellip;</td><td>&hellip;</td><td>&hellip;</td><td>&hellip;</td><td>&hellip;</td><td>&hellip;</td><td>&hellip;</td><td>&hellip;</td><td>&hellip;</td><td>&hellip;</td><td>&hellip;</td><td>&hellip;</td></tr><tr><td>&quot;A-Hemi-Enteropneusta-000010&quot;</td><td>null</td><td>-1</td><td>&quot;Acorn worm sp.&quot;</td><td>null</td><td>null</td><td>&quot;Hemichordata&quot;</td><td>&quot;Enteropneusta&quot;</td><td>null</td><td>null</td><td>&quot;blank-UnID&quot;</td><td>null</td><td>null</td><td>null</td><td>null</td><td>null</td><td>null</td><td>null</td><td>null</td><td>null</td><td>null</td><td>null</td><td>null</td><td>&quot;&quot;</td><td>&quot;BOSuncornirmedSpecies&quot;</td><td>&quot;BOSunformired&quot;</td><td>null</td></tr><tr><td>&quot;A-Hemi-Enteropneusta-000011&quot;</td><td>null</td><td>-1</td><td>&quot;Acorn worm sp.&quot;</td><td>null</td><td>null</td><td>&quot;Hemichordata&quot;</td><td>&quot;Enteropneusta&quot;</td><td>null</td><td>null</td><td>&quot;blank-UnID&quot;</td><td>null</td><td>null</td><td>null</td><td>null</td><td>null</td><td>null</td><td>null</td><td>null</td><td>null</td><td>null</td><td>null</td><td>null</td><td>&quot;&quot;</td><td>&quot;BOSuncornirmedSpecies&quot;</td><td>&quot;BOSunformired&quot;</td><td>null</td></tr><tr><td>&quot;A-Phoronida-000002&quot;</td><td>null</td><td>-1</td><td>&quot;Phoronida sp.&quot;</td><td>null</td><td>null</td><td>&quot;Phoronida&quot;</td><td>&quot;blank-Phor&quot;</td><td>null</td><td>null</td><td>&quot;blank-Phor&quot;</td><td>null</td><td>null</td><td>null</td><td>null</td><td>null</td><td>&quot;Phoronidae&quot;</td><td>null</td><td>null</td><td>null</td><td>null</td><td>null</td><td>null</td><td>&quot;&quot;</td><td>&quot;BOSuncornirmedSpecies&quot;</td><td>&quot;BOSunformired&quot;</td><td>null</td></tr><tr><td>&quot;A-Phoronida-000003&quot;</td><td>null</td><td>-1</td><td>&quot;Phoronida sp. SEA-4090&quot;</td><td>null</td><td>null</td><td>&quot;Phoronida&quot;</td><td>&quot;blank-Phor&quot;</td><td>null</td><td>null</td><td>&quot;blank-Phor&quot;</td><td>null</td><td>null</td><td>null</td><td>null</td><td>null</td><td>&quot;Phoronidae&quot;</td><td>null</td><td>null</td><td>null</td><td>null</td><td>null</td><td>null</td><td>&quot;&quot;</td><td>&quot;BOSuncornirmedSpecies&quot;</td><td>&quot;BOSunformired&quot;</td><td>null</td></tr><tr><td>&quot;B-Alga-Cyanobacteria-000003&quot;</td><td>null</td><td>-1</td><td>&quot;&lt;i&gt;Microcystis icthyoblabe&lt;/i&gt;&quot;</td><td>null</td><td>null</td><td>&quot;Cyanobacteria&quot;</td><td>&quot;Cyanobacteriia&quot;</td><td>&quot;Oscillatoriophycideae&quot;</td><td>null</td><td>&quot;Cyanobacteriales&quot;</td><td>null</td><td>null</td><td>null</td><td>null</td><td>null</td><td>&quot;Microcystaceae&quot;</td><td>null</td><td>null</td><td>null</td><td>null</td><td>&quot;Microcystis&quot;</td><td>&quot;icthyoblabe&quot;</td><td>&quot;&quot;</td><td>&quot;BOSuncornirmedSpecies&quot;</td><td>&quot;BOSunformired&quot;</td><td>null</td></tr></tbody></table></div>"
      ]
     },
     "metadata": {},
     "output_type": "display_data"
    }
   ],
   "source": [
    "nomatch = (\n",
    "    matching.filter(pl.col(\"matched_taxonID\").is_null())\n",
    "    .with_columns(\n",
    "        taxonRank=pl.lit(\"BOSuncornirmedSpecies\"),\n",
    "        taxonomicStatus=pl.lit(\"BOSunformired\"),\n",
    "        parentNameUsageID=pl.lit(None),\n",
    "    )\n",
    "    .collect()\n",
    ")\n",
    "nomatch"
   ]
  },
  {
   "cell_type": "code",
   "execution_count": null,
   "id": "Xref",
   "metadata": {},
   "outputs": [],
   "source": [
    "repeated_accepted_taxons = (\n",
    "    pl.scan_csv(\"gbif/Taxon.tsv\", separator=\"\\t\", quote_char=None, cache=True)\n",
    "    .filter(pl.col(\"taxonomicStatus\") == pl.lit(\"accepted\"))\n",
    "    .filter(pl.col(\"kingdom\").is_in([\"Animalia\", \"Plantae\"]))\n",
    "    .filter(~pl.col(\"canonicalName\").is_null())\n",
    "    .filter(pl.col(\"canonicalName\") != \"\")\n",
    "    .sort(\"canonicalName\")\n",
    "    .filter(pl.col(\"canonicalName\").is_duplicated())\n",
    ")"
   ]
  },
  {
   "cell_type": "markdown",
   "id": "SFPL",
   "metadata": {},
   "source": [
    "### repeated_accepted_taxons = RAT"
   ]
  },
  {
   "cell_type": "code",
   "execution_count": null,
   "id": "BYtC",
   "metadata": {},
   "outputs": [],
   "source": [
    "# repeated_accepted_taxons.collect_schema().keys()"
   ]
  },
  {
   "cell_type": "code",
   "execution_count": null,
   "id": "RGSE",
   "metadata": {},
   "outputs": [],
   "source": [
    "priority_columns = [\n",
    "    \"infraspecificEpithet\",\n",
    "    \"specificEpithet\",\n",
    "    \"genus\",\n",
    "    \"family\",\n",
    "    \"order\",\n",
    "    \"class\",\n",
    "    \"phylum\",\n",
    "    \"kingdom\",\n",
    "    # \"domain\",\n",
    "]\n",
    "\n",
    "_schema = {\n",
    "    \"feature_that_is_equal_to_canonicalName\": pl.String,\n",
    "    \"matches\": pl.String,\n",
    "}\n",
    "_r = repeated_accepted_taxons.collect()\n",
    "RAT_interim = pl.DataFrame(schema=_schema)\n",
    "for _c in priority_columns:\n",
    "    _a = (\n",
    "        _r.filter(pl.col(\"canonicalName\") == pl.col(_c))\n",
    "        .select(\"canonicalName\")\n",
    "        .unique()\n",
    "        # .collect()\n",
    "    )\n",
    "    if _a.shape[0] != 0:\n",
    "        _t = _a[\"canonicalName\"].to_list()\n",
    "\n",
    "        _row = pl.DataFrame(\n",
    "            data={\"feature_that_is_equal_to_canonicalName\": _c, \"matches\": _t},\n",
    "            schema=_schema,\n",
    "        )\n",
    "        RAT_interim = RAT_interim.vstack(_row)\n",
    "RAT_feats = (\n",
    "    RAT_interim.group_by(\"matches\")\n",
    "    .agg(pl.col(\"feature_that_is_equal_to_canonicalName\").str.join(\", \"))\n",
    "    .with_columns(\n",
    "        pl.col(\"feature_that_is_equal_to_canonicalName\").str.split(\", \")\n",
    "    )\n",
    "    .sort(\"feature_that_is_equal_to_canonicalName\")\n",
    ")\n",
    "# RAT_feats.write_csv(\"RAT_feats.csv\")"
   ]
  },
  {
   "cell_type": "code",
   "execution_count": null,
   "id": "Kclp",
   "metadata": {},
   "outputs": [],
   "source": [
    "priorityFeatures = [\n",
    "    \"infraspecificEpithet\",\n",
    "    \"specificEpithet\",\n",
    "    \"genus\",\n",
    "    \"family\",\n",
    "    \"order\",\n",
    "    \"class\",\n",
    "    \"phylum\",\n",
    "    \"kingdom\",\n",
    "]\n",
    "pl.Config.set_tbl_cols(1000)\n",
    "\n",
    "updated_nomatch = pl.LazyFrame()\n",
    "# all_taxon_data_to_be_selected_from = pl.LazyFrame()\n",
    "_collected_repeated_taxons = repeated_accepted_taxons.collect()\n",
    "# for _f in [\"family\"]:\n",
    "for _f in priorityFeatures:\n",
    "    for _m in RAT_feats[\"matches\"]:\n",
    "        if _m not in nomatch[_f].to_list():\n",
    "            continue\n",
    "        _no_match_subset_to_update = nomatch.filter(pl.col(_f) == _m)\n",
    "\n",
    "        taxon_data_to_select_from = _collected_repeated_taxons.filter(\n",
    "            pl.col(\"canonicalName\") == _m\n",
    "        ).select([\"taxonID\"] + priorityFeatures)\n",
    "        selected_row = -1\n",
    "\n",
    "        for i, _t in enumerate(taxon_data_to_select_from.iter_rows()):\n",
    "            prev_col_index = priority_columns.index(\n",
    "                _f\n",
    "            )  # index of previous column of _f\n",
    "            _x = _t[prev_col_index]\n",
    "            if not bool(_x):\n",
    "                selected_row = i\n",
    "                break\n",
    "        chosen_taxonId = taxon_data_to_select_from[selected_row, 0]\n",
    "\n",
    "        _no_match_subset_to_update = _no_match_subset_to_update.with_columns(\n",
    "            parentNameUsageID=pl.lit(chosen_taxonId)\n",
    "        )\n",
    "        print(\"-------\\nFeature:\", _f, \",Name:\", _m)\n",
    "\n",
    "        print(\n",
    "            \"taxon_data_to_select_from\\n\",\n",
    "            taxon_data_to_select_from,\n",
    "        )\n",
    "        print(\"parentNameUsageID chosen:\", chosen_taxonId)\n",
    "        print(\"no_match_subset_to_update to update:\")\n",
    "        print(\n",
    "            _no_match_subset_to_update.select(\n",
    "                [\n",
    "                    \"taxonName\",\n",
    "                ]\n",
    "                + priorityFeatures\n",
    "            )\n",
    "        )\n",
    "        print(\"---------\\n\\n\\n\\n\")\n",
    "        updated_nomatch = pl.concat(\n",
    "            [updated_nomatch, pl.LazyFrame(_no_match_subset_to_update)]\n",
    "        )\n",
    "        # all_taxon_data_to_be_selected_from = pl.concat((\n",
    "        #     all_taxon_data_to_be_selected_from,taxon_data_to_select_from\n",
    "        #     ))\n",
    "\n",
    "updated_nomatch.write_csv(\"updated_nomatch.csv\")\n",
    "# all_taxon_data_to_be_selected_from.write_csv(\n",
    "#     \"all_taxon_data_to_be_selected_from.csv\"\n",
    "# )"
   ]
  }
 ],
 "metadata": {},
 "nbformat": 4,
 "nbformat_minor": 5
}
