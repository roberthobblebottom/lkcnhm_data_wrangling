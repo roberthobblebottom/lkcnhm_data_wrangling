{
 "cells": [
  {
   "cell_type": "markdown",
   "id": "Hbol",
   "metadata": {
    "marimo": {
     "config": {
      "hide_code": true
     }
    }
   },
   "source": [
    "# DF"
   ]
  },
  {
   "cell_type": "code",
   "execution_count": null,
   "id": "MJUe",
   "metadata": {},
   "outputs": [],
   "source": [
    "import marimo as mo\n",
    "import polars as pl\n",
    "\n",
    "from join_tables import join\n",
    "\n",
    "# @mo.persistent_cache\n",
    "df = join()\n",
    "\n",
    "taxon = pl.scan_csv(\n",
    "    \"gbif/Taxon.tsv\", separator=\"\\t\", quote_char=None, cache=True\n",
    ")"
   ]
  },
  {
   "cell_type": "markdown",
   "id": "vblA",
   "metadata": {
    "marimo": {
     "config": {
      "hide_code": true
     }
    }
   },
   "source": [
    "# matching and contentious split\n",
    "What makes a data point contentious is where it has duplicate speciesId."
   ]
  },
  {
   "cell_type": "code",
   "execution_count": null,
   "id": "bkHC",
   "metadata": {},
   "outputs": [],
   "source": [
    "contentious = df.filter(\n",
    "    (~pl.col(\"speciesId\").is_first_distinct())\n",
    ").with_columns(\n",
    "    acceptedNameUsageID=pl.col(\"acceptedNameUsageID\")\n",
    "    .fill_null(pl.lit(-1))\n",
    "    .cast(pl.Int64)\n",
    ")\n",
    "\n",
    "contentious.filter(\n",
    "    ~pl.col(\"acceptedNameUsageID\").is_in(pl.col(\"matched_taxonID\").implode())\n",
    ").sink_csv(\"contentious_part1.csv\")"
   ]
  },
  {
   "cell_type": "code",
   "execution_count": null,
   "id": "lEQa",
   "metadata": {},
   "outputs": [],
   "source": [
    "matching = (df.filter((~pl.col(\"speciesId\").is_duplicated()))).with_columns(\n",
    "    acceptedNameUsageID=pl.col(\"acceptedNameUsageID\")\n",
    "    .fill_null(pl.lit(-1))\n",
    "    .cast(pl.Int64)\n",
    ")\n",
    "\n",
    "contentious_part1 = pl.scan_csv(\"contentious_part1.csv\")\n",
    "\n",
    "unique_contentious = contentious_part1.filter(\n",
    "    (~pl.col(\"speciesId\").is_duplicated()) & (~pl.col(\"speciesId\").is_null())\n",
    ")  # added the non null filter, it is not in the R script.\n",
    "\n",
    "unique_contentius_speciesId = (\n",
    "    unique_contentious.select(\"speciesId\").collect().to_series().implode()\n",
    ")\n",
    "contentious2 = contentious_part1.filter(\n",
    "    ~pl.col(\"speciesId\").is_in(unique_contentius_speciesId)\n",
    ")\n",
    "# contentious2.collect()[\"speciesId\"]\n",
    "\n",
    "matching = pl.concat(\n",
    "    [matching, unique_contentious],\n",
    ")"
   ]
  },
  {
   "cell_type": "markdown",
   "id": "PKri",
   "metadata": {},
   "source": [
    "nomatch lazyframe is for BOS data point that has no current match in gbif data set."
   ]
  },
  {
   "cell_type": "code",
   "execution_count": null,
   "id": "Xref",
   "metadata": {},
   "outputs": [],
   "source": [
    "nomatch = (\n",
    "    matching.filter(pl.col(\"matched_taxonID\").is_null())\n",
    "    .with_columns(\n",
    "        taxonRank=pl.lit(\"BOSuncornirmedSpecies\"),\n",
    "        taxonomicStatus=pl.lit(\"BOSunformired\"),\n",
    "        parentNameUsageID=pl.lit(None),\n",
    "    )\n",
    "    .collect()\n",
    ")"
   ]
  },
  {
   "cell_type": "code",
   "execution_count": null,
   "id": "SFPL",
   "metadata": {},
   "outputs": [],
   "source": [
    "accepted_taxon_lookup = (\n",
    "    taxon.filter(pl.col(\"taxonomicStatus\") == pl.lit(\"accepted\"))\n",
    "    .filter(pl.col(\"kingdom\").is_in([\"Animalia\", \"Plantae\"]))\n",
    "    .filter(~pl.col(\"canonicalName\").is_null())\n",
    "    .filter(pl.col(\"canonicalName\") != \"\")\n",
    "    .sort(\"canonicalName\")\n",
    "    .filter((~pl.col(\"canonicalName\").is_first_distinct()))\n",
    ")"
   ]
  },
  {
   "cell_type": "code",
   "execution_count": null,
   "id": "BYtC",
   "metadata": {},
   "outputs": [
    {
     "name": "stderr",
     "output_type": "stream",
     "text": [
      "<span class=\"codehilite\"><div class=\"highlight\"><pre><span></span><span class=\"gt\">Traceback (most recent call last):</span>\n",
      "  File <span class=\"nb\">&quot;/home/ryan/Documents/LKCNHM_volunteering/.venv/lib/python3.12/site-packages/marimo/_runtime/executor.py&quot;</span>, line <span class=\"m\">138</span>, in <span class=\"n\">execute_cell</span>\n",
      "<span class=\"w\">    </span><span class=\"n\">exec</span><span class=\"p\">(</span><span class=\"n\">cell</span><span class=\"o\">.</span><span class=\"n\">body</span><span class=\"p\">,</span> <span class=\"n\">glbls</span><span class=\"p\">)</span>\n",
      "  File <span class=\"nb\">&quot;/tmp/marimo_903543/__marimo__cell_nyaw_.py&quot;</span>, line <span class=\"m\">15</span>, in <span class=\"n\">&lt;module&gt;</span>\n",
      "<span class=\"w\">    </span><span class=\"n\">_a</span> <span class=\"o\">=</span> <span class=\"n\">accepted_taxon_lookup</span><span class=\"o\">.</span><span class=\"n\">filter</span><span class=\"p\">(</span><span class=\"n\">pl</span><span class=\"o\">.</span><span class=\"n\">col</span><span class=\"p\">(</span><span class=\"s2\">&quot;canonicalName&quot;</span><span class=\"p\">)</span> <span class=\"o\">==</span> <span class=\"n\">_c</span><span class=\"p\">)[</span><span class=\"s2\">&quot;taxonID&quot;</span><span class=\"p\">]</span>\n",
      "<span class=\"w\">         </span><span class=\"pm\">~~~~~~~~~~~~~~~~~~~~~~~~~~~~~~~~~~~~~~~~~~~~~~~~~~~~~~~~~~~^^^^^^^^^^^</span>\n",
      "  File <span class=\"nb\">&quot;/home/ryan/Documents/LKCNHM_volunteering/.venv/lib/python3.12/site-packages/polars/lazyframe/frame.py&quot;</span>, line <span class=\"m\">760</span>, in <span class=\"n\">__getitem__</span>\n",
      "<span class=\"w\">    </span><span class=\"k\">raise</span> <span class=\"ne\">TypeError</span><span class=\"p\">(</span><span class=\"n\">msg</span><span class=\"p\">)</span>\n",
      "<span class=\"gr\">TypeError</span>: <span class=\"n\">LazyFrame is not subscriptable (aside from slicing)</span>\n",
      "\n",
      "<span class=\"x\">Use `select()` or `filter()` instead.</span>\n",
      "</pre></div>\n",
      "</span>"
     ]
    }
   ],
   "source": [
    "_priority_columns = [\n",
    "    \"infraspecificEpithet\",\n",
    "    \"specificEpithet\",\n",
    "    \"genus\",\n",
    "    \"family\",\n",
    "    \"order\",\n",
    "    \"class\",\n",
    "    \"phylum\",\n",
    "    \"kingdom\",\n",
    "    \"domain\",\n",
    "]\n",
    "\n",
    "# Unsure about this whole for loop block\n",
    "for _c in _priority_columns:\n",
    "    _a = accepted_taxon_lookup.filter(pl.col(\"canonicalName\") == _c)[\"taxonID\"]\n",
    "    nomatch.with_columns(\n",
    "        parentNameUsageID=pl.when(\n",
    "            (pl.col(\"parentNameUsageID\").is_nan())\n",
    "            & (pl.col(_c).is_not_nan())\n",
    "            & (pl.col(_c) != \"\")\n",
    "        )\n",
    "        .then(pl.lit(_a))\n",
    "        .otherwise(\"parentNameUsageID\")\n",
    "    )"
   ]
  }
 ],
 "metadata": {},
 "nbformat": 4,
 "nbformat_minor": 5
}
