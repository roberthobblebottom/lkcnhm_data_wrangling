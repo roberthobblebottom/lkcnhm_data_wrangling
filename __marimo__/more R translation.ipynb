{
 "cells": [
  {
   "cell_type": "markdown",
   "id": "Hbol",
   "metadata": {
    "marimo": {
     "config": {
      "hide_code": true
     }
    }
   },
   "source": [
    "# DF"
   ]
  },
  {
   "cell_type": "code",
   "execution_count": null,
   "id": "MJUe",
   "metadata": {},
   "outputs": [
    {
     "name": "stdout",
     "output_type": "stream",
     "text": [
      "bos_df columns: ['speciesId', 'phylum', 'class', 'subclass', 'order', 'sub-order', 'infraorder', 'section', 'subsection', 'superfamily', 'family', 'subfamily', 'tribe', 'genus', 'subgenus', 'specificEpithet', 'infraspecificEpithet', 'taxonName', 'source_file', 'taxon', 'superorder', 'domain', 'kingdom', 'section/parvorder', 'Column2', 'infraclass', 'commonName', 'species2', 'clade 1', 'clade 2', 'clade 3', 'genericName']\n"
     ]
    },
    {
     "name": "stdout",
     "output_type": "stream",
     "text": [
      "taxon.csv columns, odict_keys(['taxonID', 'genericName', 'genus', 'specificEpithet', 'infraspecificEpithet', 'taxonomicStatus', 'acceptedNameUsageID'])\n"
     ]
    }
   ],
   "source": [
    "import marimo as mo\n",
    "import polars as pl\n",
    "\n",
    "from r_translation import join\n",
    "\n",
    "matching, contentious = join()\n",
    "matching = matching.with_columns(\n",
    "    genus=pl.when(\n",
    "        (pl.col(\"genus\").is_null()) & (pl.col(\"specificEpithet\").is_not_null())\n",
    "    )\n",
    "    .then(pl.col(\"taxonName\").str.split(\" \").list[0])\n",
    "    .otherwise(\"genus\")\n",
    ")"
   ]
  },
  {
   "cell_type": "code",
   "execution_count": null,
   "id": "vblA",
   "metadata": {},
   "outputs": [
    {
     "data": {
      "text/html": [
       "<pre style='font-size: 12px'>odict_keys([&#x27;speciesId&#x27;, &#x27;matched_taxonID&#x27;, &#x27;acceptedNameUsageID&#x27;, &#x27;taxonName&#x27;, &#x27;domain&#x27;, &#x27;kingdom&#x27;, &#x27;phylum&#x27;, &#x27;class&#x27;, &#x27;subclass&#x27;, &#x27;superorder&#x27;, &#x27;order&#x27;, &#x27;sub-order&#x27;, &#x27;infraorder&#x27;, &#x27;section&#x27;, &#x27;subsection&#x27;, &#x27;superfamily&#x27;, &#x27;family&#x27;, &#x27;subfamily&#x27;, &#x27;tribe&#x27;, &#x27;genus&#x27;, &#x27;subgenus&#x27;, &#x27;genericName&#x27;, &#x27;specificEpithet&#x27;, &#x27;infraspecificEpithet&#x27;])</pre>"
      ]
     },
     "metadata": {},
     "output_type": "display_data"
    }
   ],
   "source": [
    "contentious.collect_schema().keys()"
   ]
  },
  {
   "cell_type": "code",
   "execution_count": null,
   "id": "bkHC",
   "metadata": {
    "marimo": {
     "config": {
      "disabled": true
     }
    }
   },
   "outputs": [],
   "source": [
    "# matching = df.filter(~pl.col(\"speciesId\").is_duplicated()).with_columns(\n",
    "#     acceptedNameUsageID=pl.col(\"acceptedNameUsageID\")\n",
    "#     .fill_null(pl.lit(-1))\n",
    "#     .cast(pl.Int64)\n",
    "# )\n",
    "# contentious = df.filter((pl.col(\"speciesId\").is_duplicated())).with_columns(\n",
    "#     acceptedNameUsageID=pl.col(\"acceptedNameUsageID\")\n",
    "#     .fill_null(pl.lit(-1))\n",
    "#     .cast(pl.Int64)\n",
    "# )\n",
    "\n",
    "# unique_contentious = contentious.filter(\n",
    "#     (pl.col(\"acceptedNameUsageID\") == -1)\n",
    "#     & (\n",
    "#         pl.col(\"matched_taxonID\").is_in(\n",
    "#             pl.col(\"acceptedNameUsageID\").implode()\n",
    "#         )\n",
    "#     )\n",
    "# )\n",
    "# # print(\n",
    "# #     unique_contentious.select(\n",
    "# #         \"speciesId\", \"acceptedNameUsageID\", \"matched_taxonID\"\n",
    "# #     ).collect()\n",
    "# # )\n",
    "# unique_contentius_speciesId = (\n",
    "#     unique_contentious.select(\"speciesId\").collect().to_series().implode()\n",
    "# )  # Just the speciesIds\n",
    "# contentious2 = contentious.filter(\n",
    "#     ~pl.col(\"speciesId\").is_in(unique_contentius_speciesId)\n",
    "# )  # Removing...\n",
    "\n",
    "# # print(contentious2.select('speciesId','acceptedNameUsageID','matched_taxonID').collect())\n",
    "\n",
    "# matching = pl.concat(\n",
    "#     [matching, unique_contentious],\n",
    "# )"
   ]
  },
  {
   "cell_type": "markdown",
   "id": "lEQa",
   "metadata": {
    "marimo": {
     "config": {
      "hide_code": true
     }
    }
   },
   "source": [
    "nomatch lazyframe is for BOS data point that has no current match in gbif data set."
   ]
  },
  {
   "cell_type": "code",
   "execution_count": null,
   "id": "PKri",
   "metadata": {},
   "outputs": [
    {
     "data": {
      "text/html": [
       "<div><style>\n",
       ".dataframe > thead > tr,\n",
       ".dataframe > tbody > tr {\n",
       "  text-align: right;\n",
       "  white-space: pre-wrap;\n",
       "}\n",
       "</style>\n",
       "<small>shape: (0, 10)</small><table border=\"1\" class=\"dataframe\"><thead><tr><th>speciesId</th><th>taxonName</th><th>infraspecificEpithet</th><th>specificEpithet</th><th>genus</th><th>family</th><th>order</th><th>class</th><th>phylum</th><th>kingdom</th></tr><tr><td>str</td><td>str</td><td>str</td><td>str</td><td>str</td><td>str</td><td>str</td><td>str</td><td>str</td><td>str</td></tr></thead><tbody></tbody></table></div>"
      ]
     },
     "metadata": {},
     "output_type": "display_data"
    }
   ],
   "source": [
    "debug = (\n",
    "    matching.filter(\n",
    "        (pl.col(\"specificEpithet\").is_not_null()) & (pl.col(\"genus\").is_null())\n",
    "    )\n",
    "    .select(\n",
    "        [\n",
    "            \"speciesId\",\n",
    "            \"taxonName\",\n",
    "            \"infraspecificEpithet\",\n",
    "            \"specificEpithet\",\n",
    "            \"genus\",\n",
    "            \"family\",\n",
    "            \"order\",\n",
    "            \"class\",\n",
    "            \"phylum\",\n",
    "            \"kingdom\",\n",
    "        ]\n",
    "    )\n",
    "    .collect()\n",
    ")\n",
    "debug\n",
    "# matching.filter(\n",
    "#     (pl.col(\"specificEpithet\").is_not_null())\n",
    "#     & (\n",
    "#         pl.col(\"speciesId\").is_in(\n",
    "#             debug.select([\"speciesId\"]).to_series().to_list()\n",
    "#         )\n",
    "#     )\n",
    "# ).select(\n",
    "#     [\n",
    "#         \"taxonName\",\n",
    "#     ]\n",
    "#     + priorityFeatures\n",
    "# ).collect()"
   ]
  },
  {
   "cell_type": "code",
   "execution_count": null,
   "id": "Xref",
   "metadata": {},
   "outputs": [
    {
     "data": {
      "text/html": [
       "<div><style>\n",
       ".dataframe > thead > tr,\n",
       ".dataframe > tbody > tr {\n",
       "  text-align: right;\n",
       "  white-space: pre-wrap;\n",
       "}\n",
       "</style>\n",
       "<small>shape: (8_445, 27)</small><table border=\"1\" class=\"dataframe\"><thead><tr><th>speciesId</th><th>matched_taxonID</th><th>acceptedNameUsageID</th><th>taxonName</th><th>domain</th><th>kingdom</th><th>phylum</th><th>class</th><th>subclass</th><th>superorder</th><th>order</th><th>sub-order</th><th>infraorder</th><th>section</th><th>subsection</th><th>superfamily</th><th>family</th><th>subfamily</th><th>tribe</th><th>genus</th><th>subgenus</th><th>genericName</th><th>specificEpithet</th><th>infraspecificEpithet</th><th>taxonRank</th><th>taxonomicStatus</th><th>parentNameUsageID</th></tr><tr><td>str</td><td>i64</td><td>i64</td><td>str</td><td>str</td><td>str</td><td>str</td><td>str</td><td>str</td><td>str</td><td>str</td><td>str</td><td>str</td><td>str</td><td>str</td><td>str</td><td>str</td><td>str</td><td>str</td><td>str</td><td>str</td><td>str</td><td>str</td><td>str</td><td>str</td><td>str</td><td>null</td></tr></thead><tbody><tr><td>&quot;A-Anne-Clit-Hirudinea-000001&quot;</td><td>null</td><td>null</td><td>&quot;Glossiphoniidae sp. &quot;1&quot;&quot;</td><td>&quot;Eukarya&quot;</td><td>&quot;Animalia&quot;</td><td>&quot;Annelida&quot;</td><td>&quot;Clitellata&quot;</td><td>&quot;Hirudinea&quot;</td><td>&quot;&quot;</td><td>&quot;Rhynchobdellida&quot;</td><td>&quot;&quot;</td><td>&quot;&quot;</td><td>&quot;&quot;</td><td>&quot;&quot;</td><td>&quot;&quot;</td><td>&quot;Glossiphoniidae&quot;</td><td>&quot;&quot;</td><td>&quot;&quot;</td><td>&quot;&quot;</td><td>&quot;&quot;</td><td>&quot;&quot;</td><td>&quot;&quot;</td><td>&quot;&quot;</td><td>&quot;BOSuncornirmedSpecies&quot;</td><td>&quot;BOSunformired&quot;</td><td>null</td></tr><tr><td>&quot;A-Anne-Clit-Hirudinea-000002&quot;</td><td>null</td><td>null</td><td>&quot;Glossiphoniidae sp. &quot;2&quot;&quot;</td><td>&quot;Eukarya&quot;</td><td>&quot;Animalia&quot;</td><td>&quot;Annelida&quot;</td><td>&quot;Clitellata&quot;</td><td>&quot;Hirudinea&quot;</td><td>&quot;&quot;</td><td>&quot;Rhynchobdellida&quot;</td><td>&quot;&quot;</td><td>&quot;&quot;</td><td>&quot;&quot;</td><td>&quot;&quot;</td><td>&quot;&quot;</td><td>&quot;Glossiphoniidae&quot;</td><td>&quot;&quot;</td><td>&quot;&quot;</td><td>&quot;&quot;</td><td>&quot;&quot;</td><td>&quot;&quot;</td><td>&quot;&quot;</td><td>&quot;&quot;</td><td>&quot;BOSuncornirmedSpecies&quot;</td><td>&quot;BOSunformired&quot;</td><td>null</td></tr><tr><td>&quot;A-Anne-Clit-Hirudinea-000003&quot;</td><td>null</td><td>null</td><td>&quot;Glossiphoniidae sp. &quot;3&quot;&quot;</td><td>&quot;Eukarya&quot;</td><td>&quot;Animalia&quot;</td><td>&quot;Annelida&quot;</td><td>&quot;Clitellata&quot;</td><td>&quot;Hirudinea&quot;</td><td>&quot;&quot;</td><td>&quot;Rhynchobdellida&quot;</td><td>&quot;&quot;</td><td>&quot;&quot;</td><td>&quot;&quot;</td><td>&quot;&quot;</td><td>&quot;&quot;</td><td>&quot;Glossiphoniidae&quot;</td><td>&quot;&quot;</td><td>&quot;&quot;</td><td>&quot;&quot;</td><td>&quot;&quot;</td><td>&quot;&quot;</td><td>&quot;&quot;</td><td>&quot;&quot;</td><td>&quot;BOSuncornirmedSpecies&quot;</td><td>&quot;BOSunformired&quot;</td><td>null</td></tr><tr><td>&quot;A-Anne-Clit-Hirudinea-000004&quot;</td><td>null</td><td>null</td><td>&quot;Hirudinidae sp. &quot;1&quot;&quot;</td><td>&quot;Eukarya&quot;</td><td>&quot;Animalia&quot;</td><td>&quot;Annelida&quot;</td><td>&quot;Clitellata&quot;</td><td>&quot;Hirudinea&quot;</td><td>&quot;&quot;</td><td>&quot;Arhynchobdellida&quot;</td><td>&quot;&quot;</td><td>&quot;&quot;</td><td>&quot;&quot;</td><td>&quot;&quot;</td><td>&quot;&quot;</td><td>&quot;Hirudinidae&quot;</td><td>&quot;&quot;</td><td>&quot;&quot;</td><td>&quot;&quot;</td><td>&quot;&quot;</td><td>&quot;&quot;</td><td>&quot;&quot;</td><td>&quot;&quot;</td><td>&quot;BOSuncornirmedSpecies&quot;</td><td>&quot;BOSunformired&quot;</td><td>null</td></tr><tr><td>&quot;A-Anne-Clit-Hirudinea-000005&quot;</td><td>null</td><td>null</td><td>&quot;Hirudinidae sp. &quot;2&quot;&quot;</td><td>&quot;Eukarya&quot;</td><td>&quot;Animalia&quot;</td><td>&quot;Annelida&quot;</td><td>&quot;Clitellata&quot;</td><td>&quot;Hirudinea&quot;</td><td>&quot;&quot;</td><td>&quot;Arhynchobdellida&quot;</td><td>&quot;&quot;</td><td>&quot;&quot;</td><td>&quot;&quot;</td><td>&quot;&quot;</td><td>&quot;&quot;</td><td>&quot;Hirudinidae&quot;</td><td>&quot;&quot;</td><td>&quot;&quot;</td><td>&quot;&quot;</td><td>&quot;&quot;</td><td>&quot;&quot;</td><td>&quot;&quot;</td><td>&quot;&quot;</td><td>&quot;BOSuncornirmedSpecies&quot;</td><td>&quot;BOSunformired&quot;</td><td>null</td></tr><tr><td>&hellip;</td><td>&hellip;</td><td>&hellip;</td><td>&hellip;</td><td>&hellip;</td><td>&hellip;</td><td>&hellip;</td><td>&hellip;</td><td>&hellip;</td><td>&hellip;</td><td>&hellip;</td><td>&hellip;</td><td>&hellip;</td><td>&hellip;</td><td>&hellip;</td><td>&hellip;</td><td>&hellip;</td><td>&hellip;</td><td>&hellip;</td><td>&hellip;</td><td>&hellip;</td><td>&hellip;</td><td>&hellip;</td><td>&hellip;</td><td>&hellip;</td><td>&hellip;</td><td>&hellip;</td></tr><tr><td>&quot;A-Hemi-Enteropneusta-000010&quot;</td><td>null</td><td>null</td><td>&quot;Acorn worm sp.&quot;</td><td>&quot;Eukarya&quot;</td><td>&quot;Animalia&quot;</td><td>&quot;Hemichordata&quot;</td><td>&quot;Enteropneusta&quot;</td><td>&quot;&quot;</td><td>&quot;&quot;</td><td>&quot;blank-UnID&quot;</td><td>&quot;&quot;</td><td>&quot;&quot;</td><td>&quot;&quot;</td><td>&quot;&quot;</td><td>&quot;&quot;</td><td>&quot;&quot;</td><td>&quot;&quot;</td><td>&quot;&quot;</td><td>&quot;&quot;</td><td>&quot;&quot;</td><td>&quot;&quot;</td><td>&quot;&quot;</td><td>&quot;&quot;</td><td>&quot;BOSuncornirmedSpecies&quot;</td><td>&quot;BOSunformired&quot;</td><td>null</td></tr><tr><td>&quot;A-Hemi-Enteropneusta-000011&quot;</td><td>null</td><td>null</td><td>&quot;Acorn worm sp.&quot;</td><td>&quot;Eukarya&quot;</td><td>&quot;Animalia&quot;</td><td>&quot;Hemichordata&quot;</td><td>&quot;Enteropneusta&quot;</td><td>&quot;&quot;</td><td>&quot;&quot;</td><td>&quot;blank-UnID&quot;</td><td>&quot;&quot;</td><td>&quot;&quot;</td><td>&quot;&quot;</td><td>&quot;&quot;</td><td>&quot;&quot;</td><td>&quot;&quot;</td><td>&quot;&quot;</td><td>&quot;&quot;</td><td>&quot;&quot;</td><td>&quot;&quot;</td><td>&quot;&quot;</td><td>&quot;&quot;</td><td>&quot;&quot;</td><td>&quot;BOSuncornirmedSpecies&quot;</td><td>&quot;BOSunformired&quot;</td><td>null</td></tr><tr><td>&quot;A-Phoronida-000002&quot;</td><td>null</td><td>null</td><td>&quot;Phoronida sp.&quot;</td><td>&quot;Eukarya&quot;</td><td>&quot;Animalia&quot;</td><td>&quot;Phoronida&quot;</td><td>&quot;blank-Phor&quot;</td><td>&quot;&quot;</td><td>&quot;&quot;</td><td>&quot;blank-Phor&quot;</td><td>&quot;&quot;</td><td>&quot;&quot;</td><td>&quot;&quot;</td><td>&quot;&quot;</td><td>&quot;&quot;</td><td>&quot;Phoronidae&quot;</td><td>&quot;&quot;</td><td>&quot;&quot;</td><td>&quot;&quot;</td><td>&quot;&quot;</td><td>&quot;&quot;</td><td>&quot;&quot;</td><td>&quot;&quot;</td><td>&quot;BOSuncornirmedSpecies&quot;</td><td>&quot;BOSunformired&quot;</td><td>null</td></tr><tr><td>&quot;A-Phoronida-000003&quot;</td><td>null</td><td>null</td><td>&quot;Phoronida sp. SEA-4090&quot;</td><td>&quot;Eukarya&quot;</td><td>&quot;Animalia&quot;</td><td>&quot;Phoronida&quot;</td><td>&quot;blank-Phor&quot;</td><td>&quot;&quot;</td><td>&quot;&quot;</td><td>&quot;blank-Phor&quot;</td><td>&quot;&quot;</td><td>&quot;&quot;</td><td>&quot;&quot;</td><td>&quot;&quot;</td><td>&quot;&quot;</td><td>&quot;Phoronidae&quot;</td><td>&quot;&quot;</td><td>&quot;&quot;</td><td>&quot;&quot;</td><td>&quot;&quot;</td><td>&quot;&quot;</td><td>&quot;&quot;</td><td>&quot;&quot;</td><td>&quot;BOSuncornirmedSpecies&quot;</td><td>&quot;BOSunformired&quot;</td><td>null</td></tr><tr><td>&quot;B-Alga-Cyanobacteria-000003&quot;</td><td>null</td><td>null</td><td>&quot;Microcystis icthyoblabe&quot;</td><td>&quot;Eukarya&quot;</td><td>&quot;Bacteria&quot;</td><td>&quot;Cyanobacteria&quot;</td><td>&quot;Cyanobacteriia&quot;</td><td>&quot;Oscillatoriophycideae&quot;</td><td>&quot;&quot;</td><td>&quot;Cyanobacteriales&quot;</td><td>&quot;&quot;</td><td>&quot;&quot;</td><td>&quot;&quot;</td><td>&quot;&quot;</td><td>&quot;&quot;</td><td>&quot;Microcystaceae&quot;</td><td>&quot;&quot;</td><td>&quot;&quot;</td><td>&quot;Microcystis&quot;</td><td>&quot;&quot;</td><td>&quot;Microcystis&quot;</td><td>&quot;icthyoblabe&quot;</td><td>&quot;&quot;</td><td>&quot;BOSuncornirmedSpecies&quot;</td><td>&quot;BOSunformired&quot;</td><td>null</td></tr></tbody></table></div>"
      ]
     },
     "metadata": {},
     "output_type": "display_data"
    }
   ],
   "source": [
    "nomatch = (\n",
    "    matching.filter(pl.col(\"matched_taxonID\").is_null())\n",
    "    .with_columns(\n",
    "        taxonRank=pl.lit(\"BOSuncornirmedSpecies\"),\n",
    "        taxonomicStatus=pl.lit(\"BOSunformired\"),\n",
    "        parentNameUsageID=pl.lit(None),\n",
    "    )\n",
    "    .fill_null(\"\")  # TODO TEST IF NOT WORK, REMOVE\n",
    "    .collect()\n",
    ")\n",
    "nomatch"
   ]
  },
  {
   "cell_type": "code",
   "execution_count": null,
   "id": "SFPL",
   "metadata": {},
   "outputs": [],
   "source": [
    "matching_with_populated_match_taxonID = matching.filter(\n",
    "    pl.col(\"matched_taxonID\").is_not_null()\n",
    ").with_columns(\n",
    "    taxonRank=pl.lit(None),\n",
    "    taxonomicStatus=pl.lit(None),\n",
    "    parentNameUsageID=pl.lit(None),\n",
    ")"
   ]
  },
  {
   "cell_type": "markdown",
   "id": "BYtC",
   "metadata": {
    "marimo": {
     "config": {
      "hide_code": true
     }
    }
   },
   "source": [
    "# repeated_accepted_taxons = RAT"
   ]
  },
  {
   "cell_type": "code",
   "execution_count": null,
   "id": "RGSE",
   "metadata": {},
   "outputs": [],
   "source": [
    "repeated_accepted_taxons = (\n",
    "    pl.scan_csv(\"gbif/Taxon.tsv\", separator=\"\\t\", quote_char=None, cache=True)\n",
    "    .filter(pl.col(\"taxonomicStatus\") == pl.lit(\"accepted\"))\n",
    "    .filter(pl.col(\"kingdom\").is_in([\"Animalia\", \"Plantae\"]))\n",
    "    .filter(~pl.col(\"canonicalName\").is_null())\n",
    "    .filter(pl.col(\"canonicalName\") != \"\")\n",
    "    .sort(\"canonicalName\")\n",
    "    .filter(pl.col(\"canonicalName\").is_duplicated())\n",
    ")"
   ]
  },
  {
   "cell_type": "code",
   "execution_count": null,
   "id": "Kclp",
   "metadata": {},
   "outputs": [],
   "source": [
    "priority_columns = [\n",
    "    \"infraspecificEpithet\",\n",
    "    \"specificEpithet\",\n",
    "    \"genus\",\n",
    "    \"family\",\n",
    "    \"order\",\n",
    "    \"class\",\n",
    "    \"phylum\",\n",
    "    \"kingdom\",\n",
    "]\n",
    "\n",
    "_schema = {\n",
    "    \"feature_that_is_equal_to_canonicalName\": pl.String,\n",
    "    \"matches\": pl.String,\n",
    "}\n",
    "_r = (repeated_accepted_taxons).collect()\n",
    "RAT_interim = pl.DataFrame(schema=_schema)\n",
    "for _c in priority_columns:\n",
    "    _a = (\n",
    "        _r.filter(pl.col(\"canonicalName\") == pl.col(_c))\n",
    "        .select(\"canonicalName\")\n",
    "        .unique()\n",
    "        # .collect()\n",
    "    )\n",
    "    if _a.shape[0] != 0:\n",
    "        _t = _a[\"canonicalName\"].to_list()\n",
    "\n",
    "        _row = pl.DataFrame(\n",
    "            data={\"feature_that_is_equal_to_canonicalName\": _c, \"matches\": _t},\n",
    "            schema=_schema,\n",
    "        )\n",
    "        RAT_interim = RAT_interim.vstack(_row)\n",
    "RAT_feats = (\n",
    "    RAT_interim.group_by(\"matches\")\n",
    "    .agg(pl.col(\"feature_that_is_equal_to_canonicalName\").str.join(\", \"))\n",
    "    .with_columns(\n",
    "        pl.col(\"feature_that_is_equal_to_canonicalName\").str.split(\", \")\n",
    "    )\n",
    "    .sort(\"feature_that_is_equal_to_canonicalName\")\n",
    ")\n",
    "# RAT_feats.write_csv(\"RAT_feats.csv\")"
   ]
  },
  {
   "cell_type": "code",
   "execution_count": null,
   "id": "emfo",
   "metadata": {},
   "outputs": [
    {
     "data": {
      "application/json": "[2755560, 9]"
     },
     "metadata": {},
     "output_type": "display_data"
    }
   ],
   "source": [
    "taxons = (\n",
    "    pl.scan_csv(\"gbif/Taxon.tsv\", separator=\"\\t\", quote_char=None, cache=True)\n",
    "    .filter(\n",
    "        pl.col(\"taxonomicStatus\") == pl.lit(\"accepted\"),\n",
    "        pl.col(\"taxonRank\") != \"unranked\",\n",
    "    )\n",
    "    .filter(pl.col(\"kingdom\").is_in([\"Animalia\", \"Plantae\"]))\n",
    "    .select([\"taxonID\"] + priority_columns)\n",
    ")\n",
    "taxons.collect().shape"
   ]
  },
  {
   "cell_type": "code",
   "execution_count": null,
   "id": "Hstk",
   "metadata": {},
   "outputs": [
    {
     "data": {
      "text/html": [
       "<div><style>\n",
       ".dataframe > thead > tr,\n",
       ".dataframe > tbody > tr {\n",
       "  text-align: right;\n",
       "  white-space: pre-wrap;\n",
       "}\n",
       "</style>\n",
       "<small>shape: (0, 2)</small><table border=\"1\" class=\"dataframe\"><thead><tr><th>matches</th><th>feature_that_is_equal_to_canonicalName</th></tr><tr><td>str</td><td>list[str]</td></tr></thead><tbody></tbody></table></div>"
      ]
     },
     "metadata": {},
     "output_type": "display_data"
    }
   ],
   "source": [
    "RAT_feats.filter(pl.col(\"matches\") == \"Tentaculata\")"
   ]
  },
  {
   "cell_type": "markdown",
   "id": "nWHF",
   "metadata": {
    "marimo": {
     "config": {
      "hide_code": true
     }
    }
   },
   "source": [
    "# matching attempt\n",
    "\n",
    "### Still_no_match is not comprehensive, doesn't includes subset  with some matches and some without"
   ]
  },
  {
   "cell_type": "code",
   "execution_count": null,
   "id": "iLit",
   "metadata": {},
   "outputs": [
    {
     "name": "stdout",
     "output_type": "stream",
     "text": [
      "-------\n",
      "Feature: phylum ,Name: Arthropoda\n"
     ]
    },
    {
     "name": "stdout",
     "output_type": "stream",
     "text": [
      "features_to_find_nulls class\n",
      "\n",
      "\n",
      "\n",
      "\n",
      "\n",
      "skipping phylum Arthropoda \n",
      " this _no_match_subset_to_update dataframe doesn't have the same tax rank level\n",
      " "
     ]
    },
    {
     "name": "stdout",
     "output_type": "stream",
     "text": [
      "shape: (2_266, 8)\n",
      "┌──────────┬────────────┬─────────────┬─────────────┬────────────┬───────┬────────────┬────────────┐\n",
      "│ kingdom  ┆ phylum     ┆ class       ┆ order       ┆ family     ┆ genus ┆ specificEp ┆ infraspeci │\n",
      "│ ---      ┆ ---        ┆ ---         ┆ ---         ┆ ---        ┆ ---   ┆ ithet      ┆ ficEpithet │\n",
      "│ str      ┆ str        ┆ str         ┆ str         ┆ str        ┆ str   ┆ ---        ┆ ---        │\n",
      "│          ┆            ┆             ┆             ┆            ┆       ┆ str        ┆ str        │\n",
      "╞══════════╪════════════╪═════════════╪═════════════╪════════════╪═══════╪════════════╪════════════╡\n",
      "│ Animalia ┆ Arthropoda ┆ Arachnida   ┆ Amblypygi   ┆            ┆       ┆            ┆            │\n",
      "│ Animalia ┆ Arthropoda ┆ Arachnida   ┆ Araneae     ┆ Araneidae  ┆       ┆            ┆            │\n",
      "│ Animalia ┆ Arthropoda ┆ Arachnida   ┆ Araneae     ┆ Hahniidae  ┆       ┆            ┆            │\n",
      "│ Animalia ┆ Arthropoda ┆ Arachnida   ┆ Araneae     ┆ Salticidae ┆       ┆            ┆            │\n",
      "│ Animalia ┆ Arthropoda ┆ Arachnida   ┆ Araneae     ┆ Salticidae ┆       ┆            ┆            │\n",
      "│ …        ┆ …          ┆ …           ┆ …           ┆ …          ┆ …     ┆ …          ┆ …          │\n",
      "│ Animalia ┆ Arthropoda ┆ Maxillopoda ┆ Pedunculata ┆ Lepadidae  ┆       ┆            ┆            │\n",
      "│ Animalia ┆ Arthropoda ┆ Maxillopoda ┆ Sessilia    ┆ Pyrgomatid ┆       ┆            ┆            │\n",
      "│          ┆            ┆             ┆             ┆ ae         ┆       ┆            ┆            │\n",
      "│ Animalia ┆ Arthropoda ┆ Maxillopoda ┆ Sessilia    ┆ Tetracliti ┆       ┆            ┆            │\n",
      "│          ┆            ┆             ┆             ┆ dae        ┆       ┆            ┆            │\n",
      "│ Animalia ┆ Arthropoda ┆ Maxillopoda ┆ Akentrogoni ┆ Thompsonii ┆       ┆            ┆            │\n",
      "│          ┆            ┆             ┆ da          ┆ dae        ┆       ┆            ┆            │\n",
      "│ Animalia ┆ Arthropoda ┆ Maxillopoda ┆ Sessilia    ┆            ┆       ┆            ┆            │\n",
      "└──────────┴────────────┴─────────────┴─────────────┴────────────┴───────┴────────────┴────────────┘\n",
      "---------\n",
      "-------\n",
      "Feature: phylum ,Name: Ctenophora\n",
      "features_to_find_nulls class\n"
     ]
    },
    {
     "name": "stdout",
     "output_type": "stream",
     "text": [
      "\n",
      "\n",
      "\n",
      "\n",
      "\n",
      "skipping phylum Ctenophora \n",
      " this _no_match_subset_to_update dataframe doesn't have the same tax rank level\n",
      " shape: (11, 8)\n",
      "┌──────────┬────────────┬─────────────┬─────────────┬────────────┬───────┬────────────┬────────────┐\n",
      "│ kingdom  ┆ phylum     ┆ class       ┆ order       ┆ family     ┆ genus ┆ specificEp ┆ infraspeci │\n",
      "│ ---      ┆ ---        ┆ ---         ┆ ---         ┆ ---        ┆ ---   ┆ ithet      ┆ ficEpithet │\n",
      "│ str      ┆ str        ┆ str         ┆ str         ┆ str        ┆ str   ┆ ---        ┆ ---        │\n",
      "│          ┆            ┆             ┆             ┆            ┆       ┆ str        ┆ str        │\n",
      "╞══════════╪════════════╪═════════════╪═════════════╪════════════╪═══════╪════════════╪════════════╡\n",
      "│ Animalia ┆ Ctenophora ┆ Tentaculata ┆ Platyctenid ┆ Coeloplani ┆       ┆            ┆            │\n",
      "│          ┆            ┆             ┆ a           ┆ dae        ┆       ┆            ┆            │\n",
      "│ Animalia ┆ Ctenophora ┆ Tentaculata ┆ Platyctenid ┆ Coeloplani ┆       ┆            ┆            │\n",
      "│          ┆            ┆             ┆ a           ┆ dae        ┆       ┆            ┆            │\n",
      "│ Animalia ┆ Ctenophora ┆ Tentaculata ┆ Platyctenid ┆ Coeloplani ┆       ┆            ┆            │\n",
      "│          ┆            ┆             ┆ a           ┆ dae        ┆       ┆            ┆            │\n",
      "│ Animalia ┆ Ctenophora ┆ Tentaculata ┆             ┆            ┆       ┆            ┆            │\n",
      "│ Animalia ┆ Ctenophora ┆ Tentaculata ┆             ┆            ┆       ┆            ┆            │\n",
      "│ …        ┆ …          ┆ …           ┆ …           ┆ …          ┆ …     ┆ …          ┆ …          │\n",
      "│ Animalia ┆ Ctenophora ┆ Tentaculata ┆             ┆            ┆       ┆            ┆            │\n",
      "│ Animalia ┆ Ctenophora ┆ Tentaculata ┆             ┆            ┆       ┆            ┆            │\n",
      "│ Animalia ┆ Ctenophora ┆ Tentaculata ┆             ┆            ┆       ┆            ┆            │\n",
      "│ Animalia ┆ Ctenophora ┆ Tentaculata ┆             ┆            ┆       ┆            ┆            │\n",
      "│ Animalia ┆ Ctenophora ┆ Tentaculata ┆ Platyctenid ┆ Coeloplani ┆       ┆            ┆            │\n",
      "│          ┆            ┆             ┆ a           ┆ dae        ┆       ┆            ┆            │\n",
      "└──────────┴────────────┴─────────────┴─────────────┴────────────┴───────┴────────────┴────────────┘\n",
      "---------\n"
     ]
    },
    {
     "name": "stdout",
     "output_type": "stream",
     "text": [
      "-------\n",
      "Feature: class ,Name: Polychaeta\n",
      "features_to_find_nulls order\n"
     ]
    },
    {
     "name": "stdout",
     "output_type": "stream",
     "text": [
      "taxon_data_to_select_from\n",
      " shape: (2, 9)\n",
      "┌─────────┬──────────┬────────────┬────────────┬───┬───────────┬───────────┬───────────┬───────────┐\n",
      "│ taxonID ┆ kingdom  ┆ phylum     ┆ class      ┆ … ┆ family    ┆ genus     ┆ specificE ┆ infraspec │\n",
      "│ ---     ┆ ---      ┆ ---        ┆ ---        ┆   ┆ ---       ┆ ---       ┆ pithet    ┆ ificEpith │\n",
      "│ i64     ┆ str      ┆ str        ┆ str        ┆   ┆ str       ┆ str       ┆ ---       ┆ et        │\n",
      "│         ┆          ┆            ┆            ┆   ┆           ┆           ┆ str       ┆ ---       │\n",
      "│         ┆          ┆            ┆            ┆   ┆           ┆           ┆           ┆ str       │\n",
      "╞═════════╪══════════╪════════════╪════════════╪═══╪═══════════╪═══════════╪═══════════╪═══════════╡\n",
      "│ 256     ┆ Animalia ┆ Annelida   ┆ Polychaeta ┆ … ┆           ┆           ┆           ┆           │\n",
      "│ 1464857 ┆ Animalia ┆ Arthropoda ┆ Insecta    ┆ … ┆ Tachinida ┆ Polychaet ┆           ┆           │\n",
      "│         ┆          ┆            ┆            ┆   ┆ e         ┆ a         ┆           ┆           │\n",
      "└─────────┴──────────┴────────────┴────────────┴───┴───────────┴───────────┴───────────┴───────────┘\n",
      "parentNameUsageID chosen: 256\n",
      "no_match_subset_to_update \n",
      "shape: (6, 8)\n",
      "┌──────────┬──────────┬────────────┬───────┬────────┬───────┬─────────────────┬────────────────────┐\n",
      "│ kingdom  ┆ phylum   ┆ class      ┆ order ┆ family ┆ genus ┆ specificEpithet ┆ infraspecificEpith │\n",
      "│ ---      ┆ ---      ┆ ---        ┆ ---   ┆ ---    ┆ ---   ┆ ---             ┆ et                 │\n",
      "│ str      ┆ str      ┆ str        ┆ str   ┆ str    ┆ str   ┆ str             ┆ ---                │\n",
      "│          ┆          ┆            ┆       ┆        ┆       ┆                 ┆ str                │\n",
      "╞══════════╪══════════╪════════════╪═══════╪════════╪═══════╪═════════════════╪════════════════════╡\n",
      "│ Animalia ┆ Annelida ┆ Polychaeta ┆       ┆        ┆       ┆                 ┆                    │\n",
      "│ Animalia ┆ Annelida ┆ Polychaeta ┆       ┆        ┆       ┆                 ┆                    │\n",
      "│ Animalia ┆ Annelida ┆ Polychaeta ┆       ┆        ┆       ┆                 ┆                    │\n",
      "│ Animalia ┆ Annelida ┆ Polychaeta ┆       ┆        ┆       ┆                 ┆                    │\n",
      "│ Animalia ┆ Annelida ┆ Polychaeta ┆       ┆        ┆       ┆                 ┆                    │\n",
      "│ Animalia ┆ Annelida ┆ Polychaeta ┆       ┆        ┆       ┆                 ┆                    │\n",
      "└──────────┴──────────┴────────────┴───────┴────────┴───────┴─────────────────┴────────────────────┘\n",
      "---------\n"
     ]
    },
    {
     "name": "stdout",
     "output_type": "stream",
     "text": [
      "-------\n",
      "Feature: order ,Name: Passeriformes\n",
      "features_to_find_nulls family\n",
      "\n",
      "\n",
      "\n",
      "\n",
      "\n",
      "skipping order Passeriformes \n",
      " this _no_match_subset_to_update dataframe doesn't have the same tax rank level\n",
      " shape: (2, 8)\n",
      "┌──────────┬──────────┬───────┬──────────────┬────────────┬────────────┬─────────────┬─────────────┐\n",
      "│ kingdom  ┆ phylum   ┆ class ┆ order        ┆ family     ┆ genus      ┆ specificEpi ┆ infraspecif │\n",
      "│ ---      ┆ ---      ┆ ---   ┆ ---          ┆ ---        ┆ ---        ┆ thet        ┆ icEpithet   │\n",
      "│ str      ┆ str      ┆ str   ┆ str          ┆ str        ┆ str        ┆ ---         ┆ ---         │\n",
      "│          ┆          ┆       ┆              ┆            ┆            ┆ str         ┆ str         │\n",
      "╞══════════╪══════════╪═══════╪══════════════╪════════════╪════════════╪═════════════╪═════════════╡\n",
      "│ Animalia ┆ Chordata ┆ Aves  ┆ Passeriforme ┆ Dicaeidae  ┆ Dicaeum    ┆ chysorrheum ┆             │\n",
      "│          ┆          ┆       ┆ s            ┆            ┆            ┆             ┆             │\n",
      "│ Animalia ┆ Chordata ┆ Aves  ┆ Passeriforme ┆ Timaliidae ┆ Cyanoderma ┆ erythropter ┆             │\n",
      "│          ┆          ┆       ┆ s            ┆            ┆            ┆ a           ┆             │\n",
      "└──────────┴──────────┴───────┴──────────────┴────────────┴────────────┴─────────────┴─────────────┘\n",
      "---------\n"
     ]
    },
    {
     "name": "stdout",
     "output_type": "stream",
     "text": [
      "-------\n",
      "Feature: order ,Name: Siluriformes\n"
     ]
    },
    {
     "name": "stdout",
     "output_type": "stream",
     "text": [
      "features_to_find_nulls family\n",
      "\n",
      "\n",
      "\n",
      "\n",
      "\n",
      "skipping order Siluriformes \n",
      " this _no_match_subset_to_update dataframe doesn't have the same tax rank level\n",
      " shape: (8, 8)\n",
      "┌──────────┬──────────┬────────────┬────────────┬────────────┬────────────┬────────────┬───────────┐\n",
      "│ kingdom  ┆ phylum   ┆ class      ┆ order      ┆ family     ┆ genus      ┆ specificEp ┆ infraspec │\n",
      "│ ---      ┆ ---      ┆ ---        ┆ ---        ┆ ---        ┆ ---        ┆ ithet      ┆ ificEpith │\n",
      "│ str      ┆ str      ┆ str        ┆ str        ┆ str        ┆ str        ┆ ---        ┆ et        │\n",
      "│          ┆          ┆            ┆            ┆            ┆            ┆ str        ┆ ---       │\n",
      "│          ┆          ┆            ┆            ┆            ┆            ┆            ┆ str       │\n",
      "╞══════════╪══════════╪════════════╪════════════╪════════════╪════════════╪════════════╪═══════════╡\n",
      "│ Animalia ┆ Chordata ┆ Actinopter ┆ Siluriform ┆ Ariidae    ┆            ┆            ┆           │\n",
      "│          ┆          ┆ ygii       ┆ es         ┆            ┆            ┆            ┆           │\n",
      "│ Animalia ┆ Chordata ┆ Actinopter ┆ Siluriform ┆ Pangasiida ┆ Pangasiono ┆ hypophthal ┆           │\n",
      "│          ┆          ┆ ygii       ┆ es         ┆ e          ┆ don        ┆ mus        ┆           │\n",
      "│ Animalia ┆ Chordata ┆ Actinopter ┆ Siluriform ┆ Plotosidae ┆            ┆            ┆           │\n",
      "│          ┆          ┆ ygii       ┆ es         ┆            ┆            ┆            ┆           │\n",
      "│ Animalia ┆ Chordata ┆ Actinopter ┆ Siluriform ┆ Plotosidae ┆            ┆            ┆           │\n",
      "│          ┆          ┆ ygii       ┆ es         ┆            ┆            ┆            ┆           │\n",
      "│ Animalia ┆ Chordata ┆ Actinopter ┆ Siluriform ┆ Ariidae    ┆            ┆            ┆           │\n",
      "│          ┆          ┆ ygii       ┆ es         ┆            ┆            ┆            ┆           │\n",
      "│ Animalia ┆ Chordata ┆ Actinopter ┆ Siluriform ┆ Ariidae    ┆            ┆            ┆           │\n",
      "│          ┆          ┆ ygii       ┆ es         ┆            ┆            ┆            ┆           │\n",
      "│ Animalia ┆ Chordata ┆ Actinopter ┆ Siluriform ┆ Plotosidae ┆            ┆            ┆           │\n",
      "│          ┆          ┆ ygii       ┆ es         ┆            ┆            ┆            ┆           │\n",
      "│ Animalia ┆ Chordata ┆ Actinopter ┆ Siluriform ┆ Plotosidae ┆            ┆            ┆           │\n",
      "│          ┆          ┆ ygii       ┆ es         ┆            ┆            ┆            ┆           │\n",
      "└──────────┴──────────┴────────────┴────────────┴────────────┴────────────┴────────────┴───────────┘\n",
      "---------\n",
      "-------\n",
      "Feature: order ,Name: Plecoptera\n"
     ]
    },
    {
     "name": "stdout",
     "output_type": "stream",
     "text": [
      "features_to_find_nulls family\n",
      "taxon_data_to_select_from\n",
      " shape: (2, 9)\n",
      "┌─────────┬──────────┬────────────┬─────────┬───┬──────────┬────────────┬─────────────┬────────────┐\n",
      "│ taxonID ┆ kingdom  ┆ phylum     ┆ class   ┆ … ┆ family   ┆ genus      ┆ specificEpi ┆ infraspeci │\n",
      "│ ---     ┆ ---      ┆ ---        ┆ ---     ┆   ┆ ---      ┆ ---        ┆ thet        ┆ ficEpithet │\n",
      "│ i64     ┆ str      ┆ str        ┆ str     ┆   ┆ str      ┆ str        ┆ ---         ┆ ---        │\n",
      "│         ┆          ┆            ┆         ┆   ┆          ┆            ┆ str         ┆ str        │\n",
      "╞═════════╪══════════╪════════════╪═════════╪═══╪══════════╪════════════╪═════════════╪════════════╡\n",
      "│ 1772826 ┆ Animalia ┆ Arthropoda ┆ Insecta ┆ … ┆ Erebidae ┆ Plecoptera ┆             ┆            │\n",
      "│ 787     ┆ Animalia ┆ Arthropoda ┆ Insecta ┆ … ┆          ┆            ┆             ┆            │\n",
      "└─────────┴──────────┴────────────┴─────────┴───┴──────────┴────────────┴─────────────┴────────────┘\n",
      "parentNameUsageID chosen: 787\n",
      "no_match_subset_to_update \n",
      "shape: (1, 8)\n",
      "┌──────────┬────────────┬─────────┬────────────┬────────┬───────┬─────────────────┬────────────────┐\n",
      "│ kingdom  ┆ phylum     ┆ class   ┆ order      ┆ family ┆ genus ┆ specificEpithet ┆ infraspecificE │\n",
      "│ ---      ┆ ---        ┆ ---     ┆ ---        ┆ ---    ┆ ---   ┆ ---             ┆ pithet         │\n",
      "│ str      ┆ str        ┆ str     ┆ str        ┆ str    ┆ str   ┆ str             ┆ ---            │\n",
      "│          ┆            ┆         ┆            ┆        ┆       ┆                 ┆ str            │\n",
      "╞══════════╪════════════╪═════════╪════════════╪════════╪═══════╪═════════════════╪════════════════╡\n",
      "│ Animalia ┆ Arthropoda ┆ Insecta ┆ Plecoptera ┆        ┆       ┆                 ┆                │\n",
      "└──────────┴────────────┴─────────┴────────────┴────────┴───────┴─────────────────┴────────────────┘\n",
      "---------\n"
     ]
    },
    {
     "name": "stdout",
     "output_type": "stream",
     "text": [
      "-------\n",
      "Feature: family ,Name: Flabelligeridae\n",
      "taxon_data_to_select_from\n",
      " shape: (2, 9)\n",
      "┌──────────┬──────────┬──────────┬────────────┬───┬────────────┬───────────┬───────────┬───────────┐\n",
      "│ taxonID  ┆ kingdom  ┆ phylum   ┆ class      ┆ … ┆ family     ┆ genus     ┆ specificE ┆ infraspec │\n",
      "│ ---      ┆ ---      ┆ ---      ┆ ---        ┆   ┆ ---        ┆ ---       ┆ pithet    ┆ ificEpith │\n",
      "│ i64      ┆ str      ┆ str      ┆ str        ┆   ┆ str        ┆ str       ┆ ---       ┆ et        │\n",
      "│          ┆          ┆          ┆            ┆   ┆            ┆           ┆ str       ┆ ---       │\n",
      "│          ┆          ┆          ┆            ┆   ┆            ┆           ┆           ┆ str       │\n",
      "╞══════════╪══════════╪══════════╪════════════╪═══╪════════════╪═══════════╪═══════════╪═══════════╡\n",
      "│ 7095     ┆ Animalia ┆ Annelida ┆ Polychaeta ┆ … ┆ Flabellige ┆           ┆           ┆           │\n",
      "│          ┆          ┆          ┆            ┆   ┆ ridae      ┆           ┆           ┆           │\n",
      "│ 12254040 ┆ Animalia ┆ Annelida ┆ Polychaeta ┆ … ┆ Flabellige ┆ Flabellig ┆           ┆           │\n",
      "│          ┆          ┆          ┆            ┆   ┆ ridae      ┆ eridae    ┆           ┆           │\n",
      "└──────────┴──────────┴──────────┴────────────┴───┴────────────┴───────────┴───────────┴───────────┘\n",
      "parentNameUsageID chosen: 7095\n",
      "no_match_subset_to_update \n",
      "shape: (11, 8)\n",
      "┌──────────┬──────────┬────────────┬─────────────┬─────────────┬───────┬─────────────┬─────────────┐\n",
      "│ kingdom  ┆ phylum   ┆ class      ┆ order       ┆ family      ┆ genus ┆ specificEpi ┆ infraspecif │\n",
      "│ ---      ┆ ---      ┆ ---        ┆ ---         ┆ ---         ┆ ---   ┆ thet        ┆ icEpithet   │\n",
      "│ str      ┆ str      ┆ str        ┆ str         ┆ str         ┆ str   ┆ ---         ┆ ---         │\n",
      "│          ┆          ┆            ┆             ┆             ┆       ┆ str         ┆ str         │\n",
      "╞══════════╪══════════╪════════════╪═════════════╪═════════════╪═══════╪═════════════╪═════════════╡\n",
      "│ Animalia ┆ Annelida ┆ Polychaeta ┆ Terebellida ┆ Flabelliger ┆       ┆             ┆             │\n",
      "│          ┆          ┆            ┆             ┆ idae        ┆       ┆             ┆             │\n",
      "│ Animalia ┆ Annelida ┆ Polychaeta ┆ Terebellida ┆ Flabelliger ┆       ┆             ┆             │\n",
      "│          ┆          ┆            ┆             ┆ idae        ┆       ┆             ┆             │\n",
      "│ Animalia ┆ Annelida ┆ Polychaeta ┆ Terebellida ┆ Flabelliger ┆       ┆             ┆             │\n",
      "│          ┆          ┆            ┆             ┆ idae        ┆       ┆             ┆             │\n",
      "│ Animalia ┆ Annelida ┆ Polychaeta ┆ Terebellida ┆ Flabelliger ┆       ┆             ┆             │\n",
      "│          ┆          ┆            ┆             ┆ idae        ┆       ┆             ┆             │\n",
      "│ Animalia ┆ Annelida ┆ Polychaeta ┆ Terebellida ┆ Flabelliger ┆       ┆             ┆             │\n",
      "│          ┆          ┆            ┆             ┆ idae        ┆       ┆             ┆             │\n",
      "│ …        ┆ …        ┆ …          ┆ …           ┆ …           ┆ …     ┆ …           ┆ …           │\n",
      "│ Animalia ┆ Annelida ┆ Polychaeta ┆ Terebellida ┆ Flabelliger ┆       ┆             ┆             │\n",
      "│          ┆          ┆            ┆             ┆ idae        ┆       ┆             ┆             │\n",
      "│ Animalia ┆ Annelida ┆ Polychaeta ┆ Terebellida ┆ Flabelliger ┆       ┆             ┆             │\n",
      "│          ┆          ┆            ┆             ┆ idae        ┆       ┆             ┆             │\n",
      "│ Animalia ┆ Annelida ┆ Polychaeta ┆ Terebellida ┆ Flabelliger ┆       ┆             ┆             │\n",
      "│          ┆          ┆            ┆             ┆ idae        ┆       ┆             ┆             │\n",
      "│ Animalia ┆ Annelida ┆ Polychaeta ┆ Terebellida ┆ Flabelliger ┆       ┆             ┆             │\n",
      "│          ┆          ┆            ┆             ┆ idae        ┆       ┆             ┆             │\n",
      "│ Animalia ┆ Annelida ┆ Polychaeta ┆ Terebellida ┆ Flabelliger ┆       ┆             ┆             │\n",
      "│          ┆          ┆            ┆             ┆ idae        ┆       ┆             ┆             │\n",
      "└──────────┴──────────┴────────────┴─────────────┴─────────────┴───────┴─────────────┴─────────────┘\n",
      "---------\n",
      "-------\n",
      "Feature: family ,Name: Cirratulidae\n",
      "taxon_data_to_select_from\n",
      " shape: (2, 9)\n",
      "┌──────────┬──────────┬──────────┬────────────┬───┬────────────┬───────────┬───────────┬───────────┐\n",
      "│ taxonID  ┆ kingdom  ┆ phylum   ┆ class      ┆ … ┆ family     ┆ genus     ┆ specificE ┆ infraspec │\n",
      "│ ---      ┆ ---      ┆ ---      ┆ ---        ┆   ┆ ---        ┆ ---       ┆ pithet    ┆ ificEpith │\n",
      "│ i64      ┆ str      ┆ str      ┆ str        ┆   ┆ str        ┆ str       ┆ ---       ┆ et        │\n",
      "│          ┆          ┆          ┆            ┆   ┆            ┆           ┆ str       ┆ ---       │\n",
      "│          ┆          ┆          ┆            ┆   ┆            ┆           ┆           ┆ str       │\n",
      "╞══════════╪══════════╪══════════╪════════════╪═══╪════════════╪═══════════╪═══════════╪═══════════╡\n",
      "│ 2874     ┆ Animalia ┆ Annelida ┆ Polychaeta ┆ … ┆ Cirratulid ┆           ┆           ┆           │\n",
      "│          ┆          ┆          ┆            ┆   ┆ ae         ┆           ┆           ┆           │\n",
      "│ 10858488 ┆ Animalia ┆ Annelida ┆ Polychaeta ┆ … ┆ Cirratulid ┆ Cirratuli ┆           ┆           │\n",
      "│          ┆          ┆          ┆            ┆   ┆ ae         ┆ dae       ┆           ┆           │\n",
      "└──────────┴──────────┴──────────┴────────────┴───┴────────────┴───────────┴───────────┴───────────┘\n",
      "parentNameUsageID chosen: 2874\n",
      "no_match_subset_to_update \n"
     ]
    },
    {
     "name": "stdout",
     "output_type": "stream",
     "text": [
      "shape: (5, 8)\n",
      "┌──────────┬──────────┬────────────┬─────────────┬─────────────┬───────┬─────────────┬─────────────┐\n",
      "│ kingdom  ┆ phylum   ┆ class      ┆ order       ┆ family      ┆ genus ┆ specificEpi ┆ infraspecif │\n",
      "│ ---      ┆ ---      ┆ ---        ┆ ---         ┆ ---         ┆ ---   ┆ thet        ┆ icEpithet   │\n",
      "│ str      ┆ str      ┆ str        ┆ str         ┆ str         ┆ str   ┆ ---         ┆ ---         │\n",
      "│          ┆          ┆            ┆             ┆             ┆       ┆ str         ┆ str         │\n",
      "╞══════════╪══════════╪════════════╪═════════════╪═════════════╪═══════╪═════════════╪═════════════╡\n",
      "│ Animalia ┆ Annelida ┆ Polychaeta ┆ Terebellida ┆ Cirratulida ┆       ┆             ┆             │\n",
      "│          ┆          ┆            ┆             ┆ e           ┆       ┆             ┆             │\n",
      "│ Animalia ┆ Annelida ┆ Polychaeta ┆ Terebellida ┆ Cirratulida ┆       ┆             ┆             │\n",
      "│          ┆          ┆            ┆             ┆ e           ┆       ┆             ┆             │\n",
      "│ Animalia ┆ Annelida ┆ Polychaeta ┆ Terebellida ┆ Cirratulida ┆       ┆             ┆             │\n",
      "│          ┆          ┆            ┆             ┆ e           ┆       ┆             ┆             │\n",
      "│ Animalia ┆ Annelida ┆ Polychaeta ┆ Terebellida ┆ Cirratulida ┆       ┆             ┆             │\n",
      "│          ┆          ┆            ┆             ┆ e           ┆       ┆             ┆             │\n",
      "│ Animalia ┆ Annelida ┆ Polychaeta ┆ Terebellida ┆ Cirratulida ┆       ┆             ┆             │\n",
      "│          ┆          ┆            ┆             ┆ e           ┆       ┆             ┆             │\n",
      "└──────────┴──────────┴────────────┴─────────────┴─────────────┴───────┴─────────────┴─────────────┘\n",
      "---------\n",
      "-------\n",
      "Feature: family ,Name: Tetrigidae\n",
      "taxon_data_to_select_from\n",
      " shape: (2, 9)\n",
      "┌─────────┬──────────┬────────────┬─────────┬───┬────────────┬────────────┬────────────┬───────────┐\n",
      "│ taxonID ┆ kingdom  ┆ phylum     ┆ class   ┆ … ┆ family     ┆ genus      ┆ specificEp ┆ infraspec │\n",
      "│ ---     ┆ ---      ┆ ---        ┆ ---     ┆   ┆ ---        ┆ ---        ┆ ithet      ┆ ificEpith │\n",
      "│ i64     ┆ str      ┆ str        ┆ str     ┆   ┆ str        ┆ str        ┆ ---        ┆ et        │\n",
      "│         ┆          ┆            ┆         ┆   ┆            ┆            ┆ str        ┆ ---       │\n",
      "│         ┆          ┆            ┆         ┆   ┆            ┆            ┆            ┆ str       │\n",
      "╞═════════╪══════════╪════════════╪═════════╪═══╪════════════╪════════════╪════════════╪═══════════╡\n",
      "│ 7342611 ┆ Animalia ┆ Arthropoda ┆ Insecta ┆ … ┆ Tetrigidae ┆ Tetrigidae ┆            ┆           │\n",
      "│ 3040    ┆ Animalia ┆ Arthropoda ┆ Insecta ┆ … ┆ Tetrigidae ┆            ┆            ┆           │\n",
      "└─────────┴──────────┴────────────┴─────────┴───┴────────────┴────────────┴────────────┴───────────┘\n",
      "parentNameUsageID chosen: 3040\n",
      "no_match_subset_to_update \n"
     ]
    },
    {
     "name": "stdout",
     "output_type": "stream",
     "text": [
      "shape: (7, 8)\n",
      "┌──────────┬────────────┬─────────┬────────────┬────────────┬────────────┬────────────┬────────────┐\n",
      "│ kingdom  ┆ phylum     ┆ class   ┆ order      ┆ family     ┆ genus      ┆ specificEp ┆ infraspeci │\n",
      "│ ---      ┆ ---        ┆ ---     ┆ ---        ┆ ---        ┆ ---        ┆ ithet      ┆ ficEpithet │\n",
      "│ str      ┆ str        ┆ str     ┆ str        ┆ str        ┆ str        ┆ ---        ┆ ---        │\n",
      "│          ┆            ┆         ┆            ┆            ┆            ┆ str        ┆ str        │\n",
      "╞══════════╪════════════╪═════════╪════════════╪════════════╪════════════╪════════════╪════════════╡\n",
      "│ Animalia ┆ Arthropoda ┆ Insecta ┆ Orthoptera ┆ Tetrigidae ┆            ┆            ┆            │\n",
      "│ Animalia ┆ Arthropoda ┆ Insecta ┆ Orthoptera ┆ Tetrigidae ┆            ┆            ┆            │\n",
      "│ Animalia ┆ Arthropoda ┆ Insecta ┆ Orthoptera ┆ Tetrigidae ┆            ┆            ┆            │\n",
      "│ Animalia ┆ Arthropoda ┆ Insecta ┆ Orthoptera ┆ Tetrigidae ┆ Ergatettix ┆ dorsiferus ┆            │\n",
      "│ Animalia ┆ Arthropoda ┆ Insecta ┆ Orthoptera ┆ Tetrigidae ┆            ┆            ┆            │\n",
      "│ Animalia ┆ Arthropoda ┆ Insecta ┆ Orthoptera ┆ Tetrigidae ┆            ┆            ┆            │\n",
      "│ Animalia ┆ Arthropoda ┆ Insecta ┆ Orthoptera ┆ Tetrigidae ┆            ┆            ┆            │\n",
      "└──────────┴────────────┴─────────┴────────────┴────────────┴────────────┴────────────┴────────────┘\n",
      "---------\n",
      "-------\n",
      "Feature: family ,Name: Pilargidae\n",
      "taxon_data_to_select_from\n",
      " shape: (2, 9)\n",
      "┌──────────┬──────────┬──────────┬────────────┬───┬────────────┬───────────┬───────────┬───────────┐\n",
      "│ taxonID  ┆ kingdom  ┆ phylum   ┆ class      ┆ … ┆ family     ┆ genus     ┆ specificE ┆ infraspec │\n",
      "│ ---      ┆ ---      ┆ ---      ┆ ---        ┆   ┆ ---        ┆ ---       ┆ pithet    ┆ ificEpith │\n",
      "│ i64      ┆ str      ┆ str      ┆ str        ┆   ┆ str        ┆ str       ┆ ---       ┆ et        │\n",
      "│          ┆          ┆          ┆            ┆   ┆            ┆           ┆ str       ┆ ---       │\n",
      "│          ┆          ┆          ┆            ┆   ┆            ┆           ┆           ┆ str       │\n",
      "╞══════════╪══════════╪══════════╪════════════╪═══╪════════════╪═══════════╪═══════════╪═══════════╡\n",
      "│ 10768934 ┆ Animalia ┆ Annelida ┆ Polychaeta ┆ … ┆ Pilargidae ┆ Pilargida ┆           ┆           │\n",
      "│          ┆          ┆          ┆            ┆   ┆            ┆ e         ┆           ┆           │\n",
      "│ 7077     ┆ Animalia ┆ Annelida ┆ Polychaeta ┆ … ┆ Pilargidae ┆           ┆           ┆           │\n",
      "└──────────┴──────────┴──────────┴────────────┴───┴────────────┴───────────┴───────────┴───────────┘\n",
      "parentNameUsageID chosen: 7077\n",
      "no_match_subset_to_update \n",
      "shape: (2, 8)\n",
      "┌──────────┬──────────┬────────────┬──────────────┬────────────┬───────┬─────────────┬─────────────┐\n",
      "│ kingdom  ┆ phylum   ┆ class      ┆ order        ┆ family     ┆ genus ┆ specificEpi ┆ infraspecif │\n",
      "│ ---      ┆ ---      ┆ ---        ┆ ---          ┆ ---        ┆ ---   ┆ thet        ┆ icEpithet   │\n",
      "│ str      ┆ str      ┆ str        ┆ str          ┆ str        ┆ str   ┆ ---         ┆ ---         │\n",
      "│          ┆          ┆            ┆              ┆            ┆       ┆ str         ┆ str         │\n",
      "╞══════════╪══════════╪════════════╪══════════════╪════════════╪═══════╪═════════════╪═════════════╡\n",
      "│ Animalia ┆ Annelida ┆ Polychaeta ┆ Phyllodocida ┆ Pilargidae ┆       ┆             ┆             │\n",
      "│ Animalia ┆ Annelida ┆ Polychaeta ┆ Phyllodocida ┆ Pilargidae ┆       ┆             ┆             │\n",
      "└──────────┴──────────┴────────────┴──────────────┴────────────┴───────┴─────────────┴─────────────┘\n",
      "---------\n",
      "-------\n",
      "Feature: family ,Name: Velutinidae\n"
     ]
    },
    {
     "name": "stdout",
     "output_type": "stream",
     "text": [
      "taxon_data_to_select_from\n",
      " shape: (2, 9)\n",
      "┌──────────┬──────────┬──────────┬────────────┬───┬────────────┬───────────┬───────────┬───────────┐\n",
      "│ taxonID  ┆ kingdom  ┆ phylum   ┆ class      ┆ … ┆ family     ┆ genus     ┆ specificE ┆ infraspec │\n",
      "│ ---      ┆ ---      ┆ ---      ┆ ---        ┆   ┆ ---        ┆ ---       ┆ pithet    ┆ ificEpith │\n",
      "│ i64      ┆ str      ┆ str      ┆ str        ┆   ┆ str        ┆ str       ┆ ---       ┆ et        │\n",
      "│          ┆          ┆          ┆            ┆   ┆            ┆           ┆ str       ┆ ---       │\n",
      "│          ┆          ┆          ┆            ┆   ┆            ┆           ┆           ┆ str       │\n",
      "╞══════════╪══════════╪══════════╪════════════╪═══╪════════════╪═══════════╪═══════════╪═══════════╡\n",
      "│ 12242079 ┆ Animalia ┆ Mollusca ┆ Gastropoda ┆ … ┆ Velutinida ┆ Velutinid ┆           ┆           │\n",
      "│          ┆          ┆          ┆            ┆   ┆ e          ┆ ae        ┆           ┆           │\n",
      "│ 7058     ┆ Animalia ┆ Mollusca ┆ Gastropoda ┆ … ┆ Velutinida ┆           ┆           ┆           │\n",
      "│          ┆          ┆          ┆            ┆   ┆ e          ┆           ┆           ┆           │\n",
      "└──────────┴──────────┴──────────┴────────────┴───┴────────────┴───────────┴───────────┴───────────┘\n",
      "parentNameUsageID chosen: 7058\n",
      "no_match_subset_to_update \n",
      "shape: (4, 8)\n",
      "┌──────────┬──────────┬────────────┬─────────────┬─────────────┬───────┬─────────────┬─────────────┐\n",
      "│ kingdom  ┆ phylum   ┆ class      ┆ order       ┆ family      ┆ genus ┆ specificEpi ┆ infraspecif │\n",
      "│ ---      ┆ ---      ┆ ---        ┆ ---         ┆ ---         ┆ ---   ┆ thet        ┆ icEpithet   │\n",
      "│ str      ┆ str      ┆ str        ┆ str         ┆ str         ┆ str   ┆ ---         ┆ ---         │\n",
      "│          ┆          ┆            ┆             ┆             ┆       ┆ str         ┆ str         │\n",
      "╞══════════╪══════════╪════════════╪═════════════╪═════════════╪═══════╪═════════════╪═════════════╡\n",
      "│ Animalia ┆ Mollusca ┆ Gastropoda ┆ Littorinimo ┆ Velutinidae ┆       ┆             ┆             │\n",
      "│          ┆          ┆            ┆ rpha        ┆             ┆       ┆             ┆             │\n",
      "│ Animalia ┆ Mollusca ┆ Gastropoda ┆ Littorinimo ┆ Velutinidae ┆       ┆             ┆             │\n",
      "│          ┆          ┆            ┆ rpha        ┆             ┆       ┆             ┆             │\n",
      "│ Animalia ┆ Mollusca ┆ Gastropoda ┆ Littorinimo ┆ Velutinidae ┆       ┆             ┆             │\n",
      "│          ┆          ┆            ┆ rpha        ┆             ┆       ┆             ┆             │\n",
      "│ Animalia ┆ Mollusca ┆ Gastropoda ┆ Littorinimo ┆ Velutinidae ┆       ┆             ┆             │\n",
      "│          ┆          ┆            ┆ rpha        ┆             ┆       ┆             ┆             │\n",
      "└──────────┴──────────┴────────────┴─────────────┴─────────────┴───────┴─────────────┴─────────────┘\n",
      "---------\n",
      "-------\n",
      "Feature: family ,Name: Phyllodocidae\n",
      "taxon_data_to_select_from\n",
      " shape: (2, 9)\n",
      "┌──────────┬──────────┬──────────┬────────────┬───┬────────────┬───────────┬───────────┬───────────┐\n",
      "│ taxonID  ┆ kingdom  ┆ phylum   ┆ class      ┆ … ┆ family     ┆ genus     ┆ specificE ┆ infraspec │\n",
      "│ ---      ┆ ---      ┆ ---      ┆ ---        ┆   ┆ ---        ┆ ---       ┆ pithet    ┆ ificEpith │\n",
      "│ i64      ┆ str      ┆ str      ┆ str        ┆   ┆ str        ┆ str       ┆ ---       ┆ et        │\n",
      "│          ┆          ┆          ┆            ┆   ┆            ┆           ┆ str       ┆ ---       │\n",
      "│          ┆          ┆          ┆            ┆   ┆            ┆           ┆           ┆ str       │\n",
      "╞══════════╪══════════╪══════════╪════════════╪═══╪════════════╪═══════════╪═══════════╪═══════════╡\n",
      "│ 10886087 ┆ Animalia ┆ Annelida ┆ Polychaeta ┆ … ┆ Phyllodoci ┆ Phyllodoc ┆           ┆           │\n",
      "│          ┆          ┆          ┆            ┆   ┆ dae        ┆ idae      ┆           ┆           │\n",
      "│ 6973     ┆ Animalia ┆ Annelida ┆ Polychaeta ┆ … ┆ Phyllodoci ┆           ┆           ┆           │\n",
      "│          ┆          ┆          ┆            ┆   ┆ dae        ┆           ┆           ┆           │\n",
      "└──────────┴──────────┴──────────┴────────────┴───┴────────────┴───────────┴───────────┴───────────┘\n",
      "parentNameUsageID chosen: 6973\n",
      "no_match_subset_to_update \n",
      "shape: (13, 8)\n",
      "┌──────────┬──────────┬────────────┬─────────────┬─────────────┬───────┬─────────────┬─────────────┐\n",
      "│ kingdom  ┆ phylum   ┆ class      ┆ order       ┆ family      ┆ genus ┆ specificEpi ┆ infraspecif │\n",
      "│ ---      ┆ ---      ┆ ---        ┆ ---         ┆ ---         ┆ ---   ┆ thet        ┆ icEpithet   │\n",
      "│ str      ┆ str      ┆ str        ┆ str         ┆ str         ┆ str   ┆ ---         ┆ ---         │\n",
      "│          ┆          ┆            ┆             ┆             ┆       ┆ str         ┆ str         │\n",
      "╞══════════╪══════════╪════════════╪═════════════╪═════════════╪═══════╪═════════════╪═════════════╡\n",
      "│ Animalia ┆ Annelida ┆ Polychaeta ┆ Phyllodocid ┆ Phyllodocid ┆       ┆             ┆             │\n",
      "│          ┆          ┆            ┆ a           ┆ ae          ┆       ┆             ┆             │\n",
      "│ Animalia ┆ Annelida ┆ Polychaeta ┆ Phyllodocid ┆ Phyllodocid ┆       ┆             ┆             │\n",
      "│          ┆          ┆            ┆ a           ┆ ae          ┆       ┆             ┆             │\n",
      "│ Animalia ┆ Annelida ┆ Polychaeta ┆ Phyllodocid ┆ Phyllodocid ┆       ┆             ┆             │\n",
      "│          ┆          ┆            ┆ a           ┆ ae          ┆       ┆             ┆             │\n",
      "│ Animalia ┆ Annelida ┆ Polychaeta ┆ Phyllodocid ┆ Phyllodocid ┆       ┆             ┆             │\n",
      "│          ┆          ┆            ┆ a           ┆ ae          ┆       ┆             ┆             │\n",
      "│ Animalia ┆ Annelida ┆ Polychaeta ┆ Phyllodocid ┆ Phyllodocid ┆       ┆             ┆             │\n",
      "│          ┆          ┆            ┆ a           ┆ ae          ┆       ┆             ┆             │\n",
      "│ …        ┆ …        ┆ …          ┆ …           ┆ …           ┆ …     ┆ …           ┆ …           │\n",
      "│ Animalia ┆ Annelida ┆ Polychaeta ┆ Phyllodocid ┆ Phyllodocid ┆       ┆             ┆             │\n",
      "│          ┆          ┆            ┆ a           ┆ ae          ┆       ┆             ┆             │\n",
      "│ Animalia ┆ Annelida ┆ Polychaeta ┆ Phyllodocid ┆ Phyllodocid ┆       ┆             ┆             │\n",
      "│          ┆          ┆            ┆ a           ┆ ae          ┆       ┆             ┆             │\n",
      "│ Animalia ┆ Annelida ┆ Polychaeta ┆ Phyllodocid ┆ Phyllodocid ┆       ┆             ┆             │\n",
      "│          ┆          ┆            ┆ a           ┆ ae          ┆       ┆             ┆             │\n",
      "│ Animalia ┆ Annelida ┆ Polychaeta ┆ Phyllodocid ┆ Phyllodocid ┆       ┆             ┆             │\n",
      "│          ┆          ┆            ┆ a           ┆ ae          ┆       ┆             ┆             │\n",
      "│ Animalia ┆ Annelida ┆ Polychaeta ┆ Phyllodocid ┆ Phyllodocid ┆       ┆             ┆             │\n",
      "│          ┆          ┆            ┆ a           ┆ ae          ┆       ┆             ┆             │\n",
      "└──────────┴──────────┴────────────┴─────────────┴─────────────┴───────┴─────────────┴─────────────┘\n",
      "---------\n",
      "-------\n",
      "Feature: family ,Name: Sciaridae\n"
     ]
    },
    {
     "name": "stdout",
     "output_type": "stream",
     "text": [
      "taxon_data_to_select_from\n",
      " shape: (2, 9)\n",
      "┌──────────┬──────────┬────────────┬─────────┬───┬───────────┬───────────┬────────────┬────────────┐\n",
      "│ taxonID  ┆ kingdom  ┆ phylum     ┆ class   ┆ … ┆ family    ┆ genus     ┆ specificEp ┆ infraspeci │\n",
      "│ ---      ┆ ---      ┆ ---        ┆ ---     ┆   ┆ ---       ┆ ---       ┆ ithet      ┆ ficEpithet │\n",
      "│ i64      ┆ str      ┆ str        ┆ str     ┆   ┆ str       ┆ str       ┆ ---        ┆ ---        │\n",
      "│          ┆          ┆            ┆         ┆   ┆           ┆           ┆ str        ┆ str        │\n",
      "╞══════════╪══════════╪════════════╪═════════╪═══╪═══════════╪═══════════╪════════════╪════════════╡\n",
      "│ 3525     ┆ Animalia ┆ Arthropoda ┆ Insecta ┆ … ┆ Sciaridae ┆           ┆            ┆            │\n",
      "│ 11496569 ┆ Animalia ┆ Arthropoda ┆ Insecta ┆ … ┆ Sciaridae ┆ Sciaridae ┆            ┆            │\n",
      "└──────────┴──────────┴────────────┴─────────┴───┴───────────┴───────────┴────────────┴────────────┘\n",
      "parentNameUsageID chosen: 3525\n",
      "no_match_subset_to_update \n",
      "shape: (111, 8)\n",
      "┌──────────┬───────────┬─────────┬─────────┬───────────┬───────┬─────────────────┬─────────────────┐\n",
      "│ kingdom  ┆ phylum    ┆ class   ┆ order   ┆ family    ┆ genus ┆ specificEpithet ┆ infraspecificEp │\n",
      "│ ---      ┆ ---       ┆ ---     ┆ ---     ┆ ---       ┆ ---   ┆ ---             ┆ ithet           │\n",
      "│ str      ┆ str       ┆ str     ┆ str     ┆ str       ┆ str   ┆ str             ┆ ---             │\n",
      "│          ┆           ┆         ┆         ┆           ┆       ┆                 ┆ str             │\n",
      "╞══════════╪═══════════╪═════════╪═════════╪═══════════╪═══════╪═════════════════╪═════════════════╡\n",
      "│ Animalia ┆ Arthopoda ┆ Insecta ┆ Diptera ┆ Sciaridae ┆       ┆                 ┆                 │\n",
      "│ Animalia ┆ Arthopoda ┆ Insecta ┆ Diptera ┆ Sciaridae ┆       ┆                 ┆                 │\n",
      "│ Animalia ┆ Arthopoda ┆ Insecta ┆ Diptera ┆ Sciaridae ┆       ┆                 ┆                 │\n",
      "│ Animalia ┆ Arthopoda ┆ Insecta ┆ Diptera ┆ Sciaridae ┆       ┆                 ┆                 │\n",
      "│ Animalia ┆ Arthopoda ┆ Insecta ┆ Diptera ┆ Sciaridae ┆       ┆                 ┆                 │\n",
      "│ …        ┆ …         ┆ …       ┆ …       ┆ …         ┆ …     ┆ …               ┆ …               │\n",
      "│ Animalia ┆ Arthopoda ┆ Insecta ┆ Diptera ┆ Sciaridae ┆       ┆                 ┆                 │\n",
      "│ Animalia ┆ Arthopoda ┆ Insecta ┆ Diptera ┆ Sciaridae ┆       ┆                 ┆                 │\n",
      "│ Animalia ┆ Arthopoda ┆ Insecta ┆ Diptera ┆ Sciaridae ┆       ┆                 ┆                 │\n",
      "│ Animalia ┆ Arthopoda ┆ Insecta ┆ Diptera ┆ Sciaridae ┆       ┆                 ┆                 │\n",
      "│ Animalia ┆ Arthopoda ┆ Insecta ┆ Diptera ┆ Sciaridae ┆       ┆                 ┆                 │\n",
      "└──────────┴───────────┴─────────┴─────────┴───────────┴───────┴─────────────────┴─────────────────┘\n",
      "---------\n",
      "-------\n",
      "Feature: family ,Name: Anthribidae\n"
     ]
    },
    {
     "name": "stdout",
     "output_type": "stream",
     "text": [
      "taxon_data_to_select_from\n",
      " shape: (2, 9)\n",
      "┌──────────┬──────────┬────────────┬─────────┬───┬────────────┬────────────┬───────────┬───────────┐\n",
      "│ taxonID  ┆ kingdom  ┆ phylum     ┆ class   ┆ … ┆ family     ┆ genus      ┆ specificE ┆ infraspec │\n",
      "│ ---      ┆ ---      ┆ ---        ┆ ---     ┆   ┆ ---        ┆ ---        ┆ pithet    ┆ ificEpith │\n",
      "│ i64      ┆ str      ┆ str        ┆ str     ┆   ┆ str        ┆ str        ┆ ---       ┆ et        │\n",
      "│          ┆          ┆            ┆         ┆   ┆            ┆            ┆ str       ┆ ---       │\n",
      "│          ┆          ┆            ┆         ┆   ┆            ┆            ┆           ┆ str       │\n",
      "╞══════════╪══════════╪════════════╪═════════╪═══╪════════════╪════════════╪═══════════╪═══════════╡\n",
      "│ 4206     ┆ Animalia ┆ Arthropoda ┆ Insecta ┆ … ┆ Anthribida ┆            ┆           ┆           │\n",
      "│          ┆          ┆            ┆         ┆   ┆ e          ┆            ┆           ┆           │\n",
      "│ 10839606 ┆ Animalia ┆ Arthropoda ┆ Insecta ┆ … ┆ Anthribida ┆ Anthribida ┆           ┆           │\n",
      "│          ┆          ┆            ┆         ┆   ┆ e          ┆ e          ┆           ┆           │\n",
      "└──────────┴──────────┴────────────┴─────────┴───┴────────────┴────────────┴───────────┴───────────┘\n",
      "parentNameUsageID chosen: 4206\n",
      "no_match_subset_to_update \n",
      "shape: (34, 8)\n",
      "┌──────────┬────────────┬─────────┬────────────┬────────────┬────────────┬────────────┬────────────┐\n",
      "│ kingdom  ┆ phylum     ┆ class   ┆ order      ┆ family     ┆ genus      ┆ specificEp ┆ infraspeci │\n",
      "│ ---      ┆ ---        ┆ ---     ┆ ---        ┆ ---        ┆ ---        ┆ ithet      ┆ ficEpithet │\n",
      "│ str      ┆ str        ┆ str     ┆ str        ┆ str        ┆ str        ┆ ---        ┆ ---        │\n",
      "│          ┆            ┆         ┆            ┆            ┆            ┆ str        ┆ str        │\n",
      "╞══════════╪════════════╪═════════╪════════════╪════════════╪════════════╪════════════╪════════════╡\n",
      "│ Animalia ┆ Arthropoda ┆ Insecta ┆ Coleoptera ┆ Anthribida ┆            ┆            ┆            │\n",
      "│          ┆            ┆         ┆            ┆ e          ┆            ┆            ┆            │\n",
      "│ Animalia ┆ Arthropoda ┆ Insecta ┆ Coleoptera ┆ Anthribida ┆ Xylinada   ┆ limbalis   ┆            │\n",
      "│          ┆            ┆         ┆            ┆ e          ┆            ┆            ┆            │\n",
      "│ Animalia ┆ Arthropoda ┆ Insecta ┆ Coleoptera ┆ Anthribida ┆            ┆            ┆            │\n",
      "│          ┆            ┆         ┆            ┆ e          ┆            ┆            ┆            │\n",
      "│ Animalia ┆ Arthropoda ┆ Insecta ┆ Coleoptera ┆ Anthribida ┆ Xylinada   ┆ rugosus    ┆            │\n",
      "│          ┆            ┆         ┆            ┆ e          ┆            ┆            ┆            │\n",
      "│ Animalia ┆ Arthropoda ┆ Insecta ┆ Coleoptera ┆ Anthribida ┆ Taphrodere ┆ pellax     ┆            │\n",
      "│          ┆            ┆         ┆            ┆ e          ┆ s          ┆            ┆            │\n",
      "│ …        ┆ …          ┆ …       ┆ …          ┆ …          ┆ …          ┆ …          ┆ …          │\n",
      "│ Animalia ┆ Arthropoda ┆ Insecta ┆ Coleoptera ┆ Anthribida ┆            ┆            ┆            │\n",
      "│          ┆            ┆         ┆            ┆ e          ┆            ┆            ┆            │\n",
      "│ Animalia ┆ Arthropoda ┆ Insecta ┆ Coleoptera ┆ Anthribida ┆            ┆            ┆            │\n",
      "│          ┆            ┆         ┆            ┆ e          ┆            ┆            ┆            │\n",
      "│ Animalia ┆ Arthropoda ┆ Insecta ┆ Coleoptera ┆ Anthribida ┆            ┆            ┆            │\n",
      "│          ┆            ┆         ┆            ┆ e          ┆            ┆            ┆            │\n",
      "│ Animalia ┆ Arthropoda ┆ Insecta ┆ Coleoptera ┆ Anthribida ┆            ┆            ┆            │\n",
      "│          ┆            ┆         ┆            ┆ e          ┆            ┆            ┆            │\n",
      "│ Animalia ┆ Arthropoda ┆ Insecta ┆ Coleoptera ┆ Anthribida ┆            ┆            ┆            │\n",
      "│          ┆            ┆         ┆            ┆ e          ┆            ┆            ┆            │\n",
      "└──────────┴────────────┴─────────┴────────────┴────────────┴────────────┴────────────┴────────────┘\n",
      "---------\n",
      "-------\n",
      "Feature: family ,Name: Hesionidae\n",
      "taxon_data_to_select_from\n",
      " shape: (2, 9)\n",
      "┌──────────┬──────────┬──────────┬────────────┬───┬────────────┬───────────┬───────────┬───────────┐\n",
      "│ taxonID  ┆ kingdom  ┆ phylum   ┆ class      ┆ … ┆ family     ┆ genus     ┆ specificE ┆ infraspec │\n",
      "│ ---      ┆ ---      ┆ ---      ┆ ---        ┆   ┆ ---        ┆ ---       ┆ pithet    ┆ ificEpith │\n",
      "│ i64      ┆ str      ┆ str      ┆ str        ┆   ┆ str        ┆ str       ┆ ---       ┆ et        │\n",
      "│          ┆          ┆          ┆            ┆   ┆            ┆           ┆ str       ┆ ---       │\n",
      "│          ┆          ┆          ┆            ┆   ┆            ┆           ┆           ┆ str       │\n",
      "╞══════════╪══════════╪══════════╪════════════╪═══╪════════════╪═══════════╪═══════════╪═══════════╡\n",
      "│ 10897709 ┆ Animalia ┆ Annelida ┆ Polychaeta ┆ … ┆ Hesionidae ┆ Hesionida ┆           ┆           │\n",
      "│          ┆          ┆          ┆            ┆   ┆            ┆ e         ┆           ┆           │\n",
      "│ 6969     ┆ Animalia ┆ Annelida ┆ Polychaeta ┆ … ┆ Hesionidae ┆           ┆           ┆           │\n",
      "└──────────┴──────────┴──────────┴────────────┴───┴────────────┴───────────┴───────────┴───────────┘\n",
      "parentNameUsageID chosen: 6969\n",
      "no_match_subset_to_update \n",
      "shape: (21, 8)\n",
      "┌──────────┬──────────┬────────────┬──────────────┬────────────┬───────┬─────────────┬─────────────┐\n",
      "│ kingdom  ┆ phylum   ┆ class      ┆ order        ┆ family     ┆ genus ┆ specificEpi ┆ infraspecif │\n",
      "│ ---      ┆ ---      ┆ ---        ┆ ---          ┆ ---        ┆ ---   ┆ thet        ┆ icEpithet   │\n",
      "│ str      ┆ str      ┆ str        ┆ str          ┆ str        ┆ str   ┆ ---         ┆ ---         │\n",
      "│          ┆          ┆            ┆              ┆            ┆       ┆ str         ┆ str         │\n",
      "╞══════════╪══════════╪════════════╪══════════════╪════════════╪═══════╪═════════════╪═════════════╡\n",
      "│ Animalia ┆ Annelida ┆ Polychaeta ┆ Phyllodocida ┆ Hesionidae ┆       ┆             ┆             │\n",
      "│ Animalia ┆ Annelida ┆ Polychaeta ┆ Phyllodocida ┆ Hesionidae ┆       ┆             ┆             │\n",
      "│ Animalia ┆ Annelida ┆ Polychaeta ┆ Phyllodocida ┆ Hesionidae ┆       ┆             ┆             │\n",
      "│ Animalia ┆ Annelida ┆ Polychaeta ┆ Phyllodocida ┆ Hesionidae ┆       ┆             ┆             │\n",
      "│ Animalia ┆ Annelida ┆ Polychaeta ┆ Phyllodocida ┆ Hesionidae ┆       ┆             ┆             │\n",
      "│ …        ┆ …        ┆ …          ┆ …            ┆ …          ┆ …     ┆ …           ┆ …           │\n",
      "│ Animalia ┆ Annelida ┆ Polychaeta ┆ Phyllodocida ┆ Hesionidae ┆       ┆             ┆             │\n",
      "│ Animalia ┆ Annelida ┆ Polychaeta ┆ Phyllodocida ┆ Hesionidae ┆       ┆             ┆             │\n",
      "│ Animalia ┆ Annelida ┆ Polychaeta ┆ Phyllodocida ┆ Hesionidae ┆       ┆             ┆             │\n",
      "│ Animalia ┆ Annelida ┆ Polychaeta ┆ Phyllodocida ┆ Hesionidae ┆       ┆             ┆             │\n",
      "│ Animalia ┆ Annelida ┆ Polychaeta ┆ Phyllodocida ┆ Hesionidae ┆       ┆             ┆             │\n",
      "└──────────┴──────────┴────────────┴──────────────┴────────────┴───────┴─────────────┴─────────────┘\n",
      "---------\n",
      "-------\n",
      "Feature: family ,Name: Maldanidae\n"
     ]
    },
    {
     "name": "stdout",
     "output_type": "stream",
     "text": [
      "taxon_data_to_select_from\n",
      " shape: (2, 9)\n",
      "┌──────────┬──────────┬──────────┬────────────┬───┬────────────┬───────────┬───────────┬───────────┐\n",
      "│ taxonID  ┆ kingdom  ┆ phylum   ┆ class      ┆ … ┆ family     ┆ genus     ┆ specificE ┆ infraspec │\n",
      "│ ---      ┆ ---      ┆ ---      ┆ ---        ┆   ┆ ---        ┆ ---       ┆ pithet    ┆ ificEpith │\n",
      "│ i64      ┆ str      ┆ str      ┆ str        ┆   ┆ str        ┆ str       ┆ ---       ┆ et        │\n",
      "│          ┆          ┆          ┆            ┆   ┆            ┆           ┆ str       ┆ ---       │\n",
      "│          ┆          ┆          ┆            ┆   ┆            ┆           ┆           ┆ str       │\n",
      "╞══════════╪══════════╪══════════╪════════════╪═══╪════════════╪═══════════╪═══════════╪═══════════╡\n",
      "│ 6284     ┆ Animalia ┆ Annelida ┆ Polychaeta ┆ … ┆ Maldanidae ┆           ┆           ┆           │\n",
      "│ 10720015 ┆ Animalia ┆ Annelida ┆ Polychaeta ┆ … ┆ Maldanidae ┆ Maldanida ┆           ┆           │\n",
      "│          ┆          ┆          ┆            ┆   ┆            ┆ e         ┆           ┆           │\n",
      "└──────────┴──────────┴──────────┴────────────┴───┴────────────┴───────────┴───────────┴───────────┘\n",
      "parentNameUsageID chosen: 6284\n",
      "no_match_subset_to_update \n",
      "shape: (7, 8)\n",
      "┌──────────┬──────────┬────────────┬────────────┬────────────┬───────┬──────────────┬──────────────┐\n",
      "│ kingdom  ┆ phylum   ┆ class      ┆ order      ┆ family     ┆ genus ┆ specificEpit ┆ infraspecifi │\n",
      "│ ---      ┆ ---      ┆ ---        ┆ ---        ┆ ---        ┆ ---   ┆ het          ┆ cEpithet     │\n",
      "│ str      ┆ str      ┆ str        ┆ str        ┆ str        ┆ str   ┆ ---          ┆ ---          │\n",
      "│          ┆          ┆            ┆            ┆            ┆       ┆ str          ┆ str          │\n",
      "╞══════════╪══════════╪════════════╪════════════╪════════════╪═══════╪══════════════╪══════════════╡\n",
      "│ Animalia ┆ Annelida ┆ Polychaeta ┆ blank-Mald ┆ Maldanidae ┆       ┆              ┆              │\n",
      "│ Animalia ┆ Annelida ┆ Polychaeta ┆ blank-Mald ┆ Maldanidae ┆       ┆              ┆              │\n",
      "│ Animalia ┆ Annelida ┆ Polychaeta ┆ blank-Mald ┆ Maldanidae ┆       ┆              ┆              │\n",
      "│ Animalia ┆ Annelida ┆ Polychaeta ┆ blank-Mald ┆ Maldanidae ┆       ┆              ┆              │\n",
      "│ Animalia ┆ Annelida ┆ Polychaeta ┆ blank-Mald ┆ Maldanidae ┆       ┆              ┆              │\n",
      "│ Animalia ┆ Annelida ┆ Polychaeta ┆ blank-Mald ┆ Maldanidae ┆       ┆              ┆              │\n",
      "│ Animalia ┆ Annelida ┆ Polychaeta ┆ blank-Mald ┆ Maldanidae ┆       ┆              ┆              │\n",
      "└──────────┴──────────┴────────────┴────────────┴────────────┴───────┴──────────────┴──────────────┘\n",
      "---------\n",
      "-------\n",
      "Feature: family ,Name: Sabellidae\n",
      "taxon_data_to_select_from\n",
      " shape: (2, 9)\n",
      "┌──────────┬──────────┬──────────┬────────────┬───┬────────────┬───────────┬───────────┬───────────┐\n",
      "│ taxonID  ┆ kingdom  ┆ phylum   ┆ class      ┆ … ┆ family     ┆ genus     ┆ specificE ┆ infraspec │\n",
      "│ ---      ┆ ---      ┆ ---      ┆ ---        ┆   ┆ ---        ┆ ---       ┆ pithet    ┆ ificEpith │\n",
      "│ i64      ┆ str      ┆ str      ┆ str        ┆   ┆ str        ┆ str       ┆ ---       ┆ et        │\n",
      "│          ┆          ┆          ┆            ┆   ┆            ┆           ┆ str       ┆ ---       │\n",
      "│          ┆          ┆          ┆            ┆   ┆            ┆           ┆           ┆ str       │\n",
      "╞══════════╪══════════╪══════════╪════════════╪═══╪════════════╪═══════════╪═══════════╪═══════════╡\n",
      "│ 10070100 ┆ Animalia ┆ Annelida ┆ Polychaeta ┆ … ┆ Sabellidae ┆ Sabellida ┆           ┆           │\n",
      "│          ┆          ┆          ┆            ┆   ┆            ┆ e         ┆           ┆           │\n",
      "│ 7084     ┆ Animalia ┆ Annelida ┆ Polychaeta ┆ … ┆ Sabellidae ┆           ┆           ┆           │\n",
      "└──────────┴──────────┴──────────┴────────────┴───┴────────────┴───────────┴───────────┴───────────┘\n",
      "parentNameUsageID chosen: 7084\n",
      "no_match_subset_to_update \n",
      "shape: (46, 8)\n",
      "┌──────────┬──────────┬────────────┬───────────┬────────────┬───────┬───────────────┬──────────────┐\n",
      "│ kingdom  ┆ phylum   ┆ class      ┆ order     ┆ family     ┆ genus ┆ specificEpith ┆ infraspecifi │\n",
      "│ ---      ┆ ---      ┆ ---        ┆ ---       ┆ ---        ┆ ---   ┆ et            ┆ cEpithet     │\n",
      "│ str      ┆ str      ┆ str        ┆ str       ┆ str        ┆ str   ┆ ---           ┆ ---          │\n",
      "│          ┆          ┆            ┆           ┆            ┆       ┆ str           ┆ str          │\n",
      "╞══════════╪══════════╪════════════╪═══════════╪════════════╪═══════╪═══════════════╪══════════════╡\n",
      "│ Animalia ┆ Annelida ┆ Polychaeta ┆ Sabellida ┆ Sabellidae ┆       ┆               ┆              │\n",
      "│ Animalia ┆ Annelida ┆ Polychaeta ┆ Sabellida ┆ Sabellidae ┆       ┆               ┆              │\n",
      "│ Animalia ┆ Annelida ┆ Polychaeta ┆ Sabellida ┆ Sabellidae ┆       ┆               ┆              │\n",
      "│ Animalia ┆ Annelida ┆ Polychaeta ┆ Sabellida ┆ Sabellidae ┆       ┆               ┆              │\n",
      "│ Animalia ┆ Annelida ┆ Polychaeta ┆ Sabellida ┆ Sabellidae ┆       ┆               ┆              │\n",
      "│ …        ┆ …        ┆ …          ┆ …         ┆ …          ┆ …     ┆ …             ┆ …            │\n",
      "│ Animalia ┆ Annelida ┆ Polychaeta ┆ Sabellida ┆ Sabellidae ┆       ┆               ┆              │\n",
      "│ Animalia ┆ Annelida ┆ Polychaeta ┆ Sabellida ┆ Sabellidae ┆       ┆               ┆              │\n",
      "│ Animalia ┆ Annelida ┆ Polychaeta ┆ Sabellida ┆ Sabellidae ┆       ┆               ┆              │\n",
      "│ Animalia ┆ Annelida ┆ Polychaeta ┆ Sabellida ┆ Sabellidae ┆       ┆               ┆              │\n",
      "│ Animalia ┆ Annelida ┆ Polychaeta ┆ Sabellida ┆ Sabellidae ┆       ┆               ┆              │\n",
      "└──────────┴──────────┴────────────┴───────────┴────────────┴───────┴───────────────┴──────────────┘\n",
      "---------\n",
      "-------\n",
      "Feature: family ,Name: Cecidomyiidae\n"
     ]
    },
    {
     "name": "stdout",
     "output_type": "stream",
     "text": [
      "taxon_data_to_select_from\n",
      " shape: (2, 9)\n",
      "┌──────────┬──────────┬────────────┬─────────┬───┬────────────┬────────────┬───────────┬───────────┐\n",
      "│ taxonID  ┆ kingdom  ┆ phylum     ┆ class   ┆ … ┆ family     ┆ genus      ┆ specificE ┆ infraspec │\n",
      "│ ---      ┆ ---      ┆ ---        ┆ ---     ┆   ┆ ---        ┆ ---        ┆ pithet    ┆ ificEpith │\n",
      "│ i64      ┆ str      ┆ str        ┆ str     ┆   ┆ str        ┆ str        ┆ ---       ┆ et        │\n",
      "│          ┆          ┆            ┆         ┆   ┆            ┆            ┆ str       ┆ ---       │\n",
      "│          ┆          ┆            ┆         ┆   ┆            ┆            ┆           ┆ str       │\n",
      "╞══════════╪══════════╪════════════╪═════════╪═══╪════════════╪════════════╪═══════════╪═══════════╡\n",
      "│ 3338     ┆ Animalia ┆ Arthropoda ┆ Insecta ┆ … ┆ Cecidomyii ┆            ┆           ┆           │\n",
      "│          ┆          ┆            ┆         ┆   ┆ dae        ┆            ┆           ┆           │\n",
      "│ 10238569 ┆ Animalia ┆ Arthropoda ┆ Insecta ┆ … ┆ Cecidomyii ┆ Cecidomyii ┆           ┆           │\n",
      "│          ┆          ┆            ┆         ┆   ┆ dae        ┆ dae        ┆           ┆           │\n",
      "└──────────┴──────────┴────────────┴─────────┴───┴────────────┴────────────┴───────────┴───────────┘\n",
      "parentNameUsageID chosen: 3338\n",
      "no_match_subset_to_update \n",
      "shape: (113, 8)\n",
      "┌──────────┬───────────┬─────────┬─────────┬───────────────┬───────┬───────────────┬───────────────┐\n",
      "│ kingdom  ┆ phylum    ┆ class   ┆ order   ┆ family        ┆ genus ┆ specificEpith ┆ infraspecific │\n",
      "│ ---      ┆ ---       ┆ ---     ┆ ---     ┆ ---           ┆ ---   ┆ et            ┆ Epithet       │\n",
      "│ str      ┆ str       ┆ str     ┆ str     ┆ str           ┆ str   ┆ ---           ┆ ---           │\n",
      "│          ┆           ┆         ┆         ┆               ┆       ┆ str           ┆ str           │\n",
      "╞══════════╪═══════════╪═════════╪═════════╪═══════════════╪═══════╪═══════════════╪═══════════════╡\n",
      "│ Animalia ┆ Arthopoda ┆ Insecta ┆ Diptera ┆ Cecidomyiidae ┆       ┆               ┆               │\n",
      "│ Animalia ┆ Arthopoda ┆ Insecta ┆ Diptera ┆ Cecidomyiidae ┆       ┆               ┆               │\n",
      "│ Animalia ┆ Arthopoda ┆ Insecta ┆ Diptera ┆ Cecidomyiidae ┆       ┆               ┆               │\n",
      "│ Animalia ┆ Arthopoda ┆ Insecta ┆ Diptera ┆ Cecidomyiidae ┆       ┆               ┆               │\n",
      "│ Animalia ┆ Arthopoda ┆ Insecta ┆ Diptera ┆ Cecidomyiidae ┆       ┆               ┆               │\n",
      "│ …        ┆ …         ┆ …       ┆ …       ┆ …             ┆ …     ┆ …             ┆ …             │\n",
      "│ Animalia ┆ Arthopoda ┆ Insecta ┆ Diptera ┆ Cecidomyiidae ┆       ┆               ┆               │\n",
      "│ Animalia ┆ Arthopoda ┆ Insecta ┆ Diptera ┆ Cecidomyiidae ┆       ┆               ┆               │\n",
      "│ Animalia ┆ Arthopoda ┆ Insecta ┆ Diptera ┆ Cecidomyiidae ┆       ┆               ┆               │\n",
      "│ Animalia ┆ Arthopoda ┆ Insecta ┆ Diptera ┆ Cecidomyiidae ┆       ┆               ┆               │\n",
      "│ Animalia ┆ Arthopoda ┆ Insecta ┆ Diptera ┆ Cecidomyiidae ┆       ┆               ┆               │\n",
      "└──────────┴───────────┴─────────┴─────────┴───────────────┴───────┴───────────────┴───────────────┘\n",
      "---------\n",
      "-------\n",
      "Feature: family ,Name: Ampharetidae\n",
      "taxon_data_to_select_from\n",
      " shape: (2, 9)\n",
      "┌──────────┬──────────┬──────────┬────────────┬───┬────────────┬───────────┬───────────┬───────────┐\n",
      "│ taxonID  ┆ kingdom  ┆ phylum   ┆ class      ┆ … ┆ family     ┆ genus     ┆ specificE ┆ infraspec │\n",
      "│ ---      ┆ ---      ┆ ---      ┆ ---        ┆   ┆ ---        ┆ ---       ┆ pithet    ┆ ificEpith │\n",
      "│ i64      ┆ str      ┆ str      ┆ str        ┆   ┆ str        ┆ str       ┆ ---       ┆ et        │\n",
      "│          ┆          ┆          ┆            ┆   ┆            ┆           ┆ str       ┆ ---       │\n",
      "│          ┆          ┆          ┆            ┆   ┆            ┆           ┆           ┆ str       │\n",
      "╞══════════╪══════════╪══════════╪════════════╪═══╪════════════╪═══════════╪═══════════╪═══════════╡\n",
      "│ 7093     ┆ Animalia ┆ Annelida ┆ Polychaeta ┆ … ┆ Ampharetid ┆           ┆           ┆           │\n",
      "│          ┆          ┆          ┆            ┆   ┆ ae         ┆           ┆           ┆           │\n",
      "│ 10887416 ┆ Animalia ┆ Annelida ┆ Polychaeta ┆ … ┆ Ampharetid ┆ Amphareti ┆           ┆           │\n",
      "│          ┆          ┆          ┆            ┆   ┆ ae         ┆ dae       ┆           ┆           │\n",
      "└──────────┴──────────┴──────────┴────────────┴───┴────────────┴───────────┴───────────┴───────────┘\n",
      "parentNameUsageID chosen: 7093\n",
      "no_match_subset_to_update \n"
     ]
    },
    {
     "name": "stdout",
     "output_type": "stream",
     "text": [
      "shape: (9, 8)\n",
      "┌──────────┬──────────┬────────────┬─────────────┬─────────────┬───────┬─────────────┬─────────────┐\n",
      "│ kingdom  ┆ phylum   ┆ class      ┆ order       ┆ family      ┆ genus ┆ specificEpi ┆ infraspecif │\n",
      "│ ---      ┆ ---      ┆ ---        ┆ ---         ┆ ---         ┆ ---   ┆ thet        ┆ icEpithet   │\n",
      "│ str      ┆ str      ┆ str        ┆ str         ┆ str         ┆ str   ┆ ---         ┆ ---         │\n",
      "│          ┆          ┆            ┆             ┆             ┆       ┆ str         ┆ str         │\n",
      "╞══════════╪══════════╪════════════╪═════════════╪═════════════╪═══════╪═════════════╪═════════════╡\n",
      "│ Animalia ┆ Annelida ┆ Polychaeta ┆ Terebellida ┆ Ampharetida ┆       ┆             ┆             │\n",
      "│          ┆          ┆            ┆             ┆ e           ┆       ┆             ┆             │\n",
      "│ Animalia ┆ Annelida ┆ Polychaeta ┆ Terebellida ┆ Ampharetida ┆       ┆             ┆             │\n",
      "│          ┆          ┆            ┆             ┆ e           ┆       ┆             ┆             │\n",
      "│ Animalia ┆ Annelida ┆ Polychaeta ┆ Terebellida ┆ Ampharetida ┆       ┆             ┆             │\n",
      "│          ┆          ┆            ┆             ┆ e           ┆       ┆             ┆             │\n",
      "│ Animalia ┆ Annelida ┆ Polychaeta ┆ Terebellida ┆ Ampharetida ┆       ┆             ┆             │\n",
      "│          ┆          ┆            ┆             ┆ e           ┆       ┆             ┆             │\n",
      "│ Animalia ┆ Annelida ┆ Polychaeta ┆ Terebellida ┆ Ampharetida ┆       ┆             ┆             │\n",
      "│          ┆          ┆            ┆             ┆ e           ┆       ┆             ┆             │\n",
      "│ Animalia ┆ Annelida ┆ Polychaeta ┆ Terebellida ┆ Ampharetida ┆       ┆             ┆             │\n",
      "│          ┆          ┆            ┆             ┆ e           ┆       ┆             ┆             │\n",
      "│ Animalia ┆ Annelida ┆ Polychaeta ┆ Terebellida ┆ Ampharetida ┆       ┆             ┆             │\n",
      "│          ┆          ┆            ┆             ┆ e           ┆       ┆             ┆             │\n",
      "│ Animalia ┆ Annelida ┆ Polychaeta ┆ Terebellida ┆ Ampharetida ┆       ┆             ┆             │\n",
      "│          ┆          ┆            ┆             ┆ e           ┆       ┆             ┆             │\n",
      "│ Animalia ┆ Annelida ┆ Polychaeta ┆ Terebellida ┆ Ampharetida ┆       ┆             ┆             │\n",
      "│          ┆          ┆            ┆             ┆ e           ┆       ┆             ┆             │\n",
      "└──────────┴──────────┴────────────┴─────────────┴─────────────┴───────┴─────────────┴─────────────┘\n",
      "---------\n",
      "-------\n",
      "Feature: family ,Name: Spionidae\n",
      "taxon_data_to_select_from\n",
      " shape: (2, 9)\n",
      "┌──────────┬──────────┬──────────┬────────────┬───┬───────────┬───────────┬────────────┬───────────┐\n",
      "│ taxonID  ┆ kingdom  ┆ phylum   ┆ class      ┆ … ┆ family    ┆ genus     ┆ specificEp ┆ infraspec │\n",
      "│ ---      ┆ ---      ┆ ---      ┆ ---        ┆   ┆ ---       ┆ ---       ┆ ithet      ┆ ificEpith │\n",
      "│ i64      ┆ str      ┆ str      ┆ str        ┆   ┆ str       ┆ str       ┆ ---        ┆ et        │\n",
      "│          ┆          ┆          ┆            ┆   ┆           ┆           ┆ str        ┆ ---       │\n",
      "│          ┆          ┆          ┆            ┆   ┆           ┆           ┆            ┆ str       │\n",
      "╞══════════╪══════════╪══════════╪════════════╪═══╪═══════════╪═══════════╪════════════╪═══════════╡\n",
      "│ 3595     ┆ Animalia ┆ Annelida ┆ Polychaeta ┆ … ┆ Spionidae ┆           ┆            ┆           │\n",
      "│ 10899229 ┆ Animalia ┆ Annelida ┆ Polychaeta ┆ … ┆ Spionidae ┆ Spionidae ┆            ┆           │\n",
      "└──────────┴──────────┴──────────┴────────────┴───┴───────────┴───────────┴────────────┴───────────┘\n",
      "parentNameUsageID chosen: 3595\n",
      "no_match_subset_to_update \n",
      "shape: (14, 8)\n",
      "┌──────────┬──────────┬────────────┬──────────┬───────────┬───────┬────────────────┬───────────────┐\n",
      "│ kingdom  ┆ phylum   ┆ class      ┆ order    ┆ family    ┆ genus ┆ specificEpithe ┆ infraspecific │\n",
      "│ ---      ┆ ---      ┆ ---        ┆ ---      ┆ ---       ┆ ---   ┆ t              ┆ Epithet       │\n",
      "│ str      ┆ str      ┆ str        ┆ str      ┆ str       ┆ str   ┆ ---            ┆ ---           │\n",
      "│          ┆          ┆            ┆          ┆           ┆       ┆ str            ┆ str           │\n",
      "╞══════════╪══════════╪════════════╪══════════╪═══════════╪═══════╪════════════════╪═══════════════╡\n",
      "│ Animalia ┆ Annelida ┆ Polychaeta ┆ Spionida ┆ Spionidae ┆       ┆                ┆               │\n",
      "│ Animalia ┆ Annelida ┆ Polychaeta ┆ Spionida ┆ Spionidae ┆       ┆                ┆               │\n",
      "│ Animalia ┆ Annelida ┆ Polychaeta ┆ Spionida ┆ Spionidae ┆       ┆                ┆               │\n",
      "│ Animalia ┆ Annelida ┆ Polychaeta ┆ Spionida ┆ Spionidae ┆       ┆                ┆               │\n",
      "│ Animalia ┆ Annelida ┆ Polychaeta ┆ Spionida ┆ Spionidae ┆       ┆                ┆               │\n",
      "│ …        ┆ …        ┆ …          ┆ …        ┆ …         ┆ …     ┆ …              ┆ …             │\n",
      "│ Animalia ┆ Annelida ┆ Polychaeta ┆ Spionida ┆ Spionidae ┆       ┆                ┆               │\n",
      "│ Animalia ┆ Annelida ┆ Polychaeta ┆ Spionida ┆ Spionidae ┆       ┆                ┆               │\n",
      "│ Animalia ┆ Annelida ┆ Polychaeta ┆ Spionida ┆ Spionidae ┆       ┆                ┆               │\n",
      "│ Animalia ┆ Annelida ┆ Polychaeta ┆ Spionida ┆ Spionidae ┆       ┆                ┆               │\n",
      "│ Animalia ┆ Annelida ┆ Polychaeta ┆ Spionida ┆ Spionidae ┆       ┆                ┆               │\n",
      "└──────────┴──────────┴────────────┴──────────┴───────────┴───────┴────────────────┴───────────────┘\n",
      "---------\n"
     ]
    },
    {
     "name": "stdout",
     "output_type": "stream",
     "text": [
      "-------\n",
      "Feature: family ,Name: Sigalionidae\n",
      "taxon_data_to_select_from\n",
      " shape: (2, 9)\n",
      "┌──────────┬──────────┬──────────┬────────────┬───┬────────────┬───────────┬───────────┬───────────┐\n",
      "│ taxonID  ┆ kingdom  ┆ phylum   ┆ class      ┆ … ┆ family     ┆ genus     ┆ specificE ┆ infraspec │\n",
      "│ ---      ┆ ---      ┆ ---      ┆ ---        ┆   ┆ ---        ┆ ---       ┆ pithet    ┆ ificEpith │\n",
      "│ i64      ┆ str      ┆ str      ┆ str        ┆   ┆ str        ┆ str       ┆ ---       ┆ et        │\n",
      "│          ┆          ┆          ┆            ┆   ┆            ┆           ┆ str       ┆ ---       │\n",
      "│          ┆          ┆          ┆            ┆   ┆            ┆           ┆           ┆ str       │\n",
      "╞══════════╪══════════╪══════════╪════════════╪═══╪════════════╪═══════════╪═══════════╪═══════════╡\n",
      "│ 12188730 ┆ Animalia ┆ Annelida ┆ Polychaeta ┆ … ┆ Sigalionid ┆ Sigalioni ┆           ┆           │\n",
      "│          ┆          ┆          ┆            ┆   ┆ ae         ┆ dae       ┆           ┆           │\n",
      "│ 7081     ┆ Animalia ┆ Annelida ┆ Polychaeta ┆ … ┆ Sigalionid ┆           ┆           ┆           │\n",
      "│          ┆          ┆          ┆            ┆   ┆ ae         ┆           ┆           ┆           │\n",
      "└──────────┴──────────┴──────────┴────────────┴───┴────────────┴───────────┴───────────┴───────────┘\n",
      "parentNameUsageID chosen: 7081\n",
      "no_match_subset_to_update \n",
      "shape: (6, 8)\n",
      "┌──────────┬──────────┬────────────┬─────────────┬─────────────┬───────┬─────────────┬─────────────┐\n",
      "│ kingdom  ┆ phylum   ┆ class      ┆ order       ┆ family      ┆ genus ┆ specificEpi ┆ infraspecif │\n",
      "│ ---      ┆ ---      ┆ ---        ┆ ---         ┆ ---         ┆ ---   ┆ thet        ┆ icEpithet   │\n",
      "│ str      ┆ str      ┆ str        ┆ str         ┆ str         ┆ str   ┆ ---         ┆ ---         │\n",
      "│          ┆          ┆            ┆             ┆             ┆       ┆ str         ┆ str         │\n",
      "╞══════════╪══════════╪════════════╪═════════════╪═════════════╪═══════╪═════════════╪═════════════╡\n",
      "│ Animalia ┆ Annelida ┆ Polychaeta ┆ Phyllodocid ┆ Sigalionida ┆       ┆             ┆             │\n",
      "│          ┆          ┆            ┆ a           ┆ e           ┆       ┆             ┆             │\n",
      "│ Animalia ┆ Annelida ┆ Polychaeta ┆ Phyllodocid ┆ Sigalionida ┆       ┆             ┆             │\n",
      "│          ┆          ┆            ┆ a           ┆ e           ┆       ┆             ┆             │\n",
      "│ Animalia ┆ Annelida ┆ Polychaeta ┆ Phyllodocid ┆ Sigalionida ┆       ┆             ┆             │\n",
      "│          ┆          ┆            ┆ a           ┆ e           ┆       ┆             ┆             │\n",
      "│ Animalia ┆ Annelida ┆ Polychaeta ┆ Phyllodocid ┆ Sigalionida ┆       ┆             ┆             │\n",
      "│          ┆          ┆            ┆ a           ┆ e           ┆       ┆             ┆             │\n",
      "│ Animalia ┆ Annelida ┆ Polychaeta ┆ Phyllodocid ┆ Sigalionida ┆       ┆             ┆             │\n",
      "│          ┆          ┆            ┆ a           ┆ e           ┆       ┆             ┆             │\n",
      "│ Animalia ┆ Annelida ┆ Polychaeta ┆ Phyllodocid ┆ Sigalionida ┆       ┆             ┆             │\n",
      "│          ┆          ┆            ┆ a           ┆ e           ┆       ┆             ┆             │\n",
      "└──────────┴──────────┴────────────┴─────────────┴─────────────┴───────┴─────────────┴─────────────┘\n",
      "---------\n",
      "-------\n",
      "Feature: family ,Name: Apidae\n"
     ]
    },
    {
     "name": "stdout",
     "output_type": "stream",
     "text": [
      "taxon_data_to_select_from\n",
      " shape: (2, 9)\n",
      "┌──────────┬──────────┬────────────┬─────────┬───┬────────┬────────┬───────────────┬───────────────┐\n",
      "│ taxonID  ┆ kingdom  ┆ phylum     ┆ class   ┆ … ┆ family ┆ genus  ┆ specificEpith ┆ infraspecific │\n",
      "│ ---      ┆ ---      ┆ ---        ┆ ---     ┆   ┆ ---    ┆ ---    ┆ et            ┆ Epithet       │\n",
      "│ i64      ┆ str      ┆ str        ┆ str     ┆   ┆ str    ┆ str    ┆ ---           ┆ ---           │\n",
      "│          ┆          ┆            ┆         ┆   ┆        ┆        ┆ str           ┆ str           │\n",
      "╞══════════╪══════════╪════════════╪═════════╪═══╪════════╪════════╪═══════════════╪═══════════════╡\n",
      "│ 4334     ┆ Animalia ┆ Arthropoda ┆ Insecta ┆ … ┆ Apidae ┆        ┆               ┆               │\n",
      "│ 10501510 ┆ Animalia ┆ Arthropoda ┆ Insecta ┆ … ┆ Apidae ┆ Apidae ┆               ┆               │\n",
      "└──────────┴──────────┴────────────┴─────────┴───┴────────┴────────┴───────────────┴───────────────┘\n",
      "parentNameUsageID chosen: 4334\n",
      "no_match_subset_to_update \n",
      "shape: (1, 8)\n",
      "┌──────────┬────────┬─────────┬─────────────┬────────┬─────────────┬───────────────┬───────────────┐\n",
      "│ kingdom  ┆ phylum ┆ class   ┆ order       ┆ family ┆ genus       ┆ specificEpith ┆ infraspecific │\n",
      "│ ---      ┆ ---    ┆ ---     ┆ ---         ┆ ---    ┆ ---         ┆ et            ┆ Epithet       │\n",
      "│ str      ┆ str    ┆ str     ┆ str         ┆ str    ┆ str         ┆ ---           ┆ ---           │\n",
      "│          ┆        ┆         ┆             ┆        ┆             ┆ str           ┆ str           │\n",
      "╞══════════╪════════╪═════════╪═════════════╪════════╪═════════════╪═══════════════╪═══════════════╡\n",
      "│ Animalia ┆        ┆ Insecta ┆ Hymenoptera ┆ Apidae ┆ Homotrigona ┆ apcialis      ┆               │\n",
      "└──────────┴────────┴─────────┴─────────────┴────────┴─────────────┴───────────────┴───────────────┘\n",
      "---------\n",
      "-------\n",
      "Feature: family ,Name: Polynoidae\n",
      "taxon_data_to_select_from\n",
      " shape: (2, 9)\n",
      "┌──────────┬──────────┬──────────┬────────────┬───┬────────────┬───────────┬───────────┬───────────┐\n",
      "│ taxonID  ┆ kingdom  ┆ phylum   ┆ class      ┆ … ┆ family     ┆ genus     ┆ specificE ┆ infraspec │\n",
      "│ ---      ┆ ---      ┆ ---      ┆ ---        ┆   ┆ ---        ┆ ---       ┆ pithet    ┆ ificEpith │\n",
      "│ i64      ┆ str      ┆ str      ┆ str        ┆   ┆ str        ┆ str       ┆ ---       ┆ et        │\n",
      "│          ┆          ┆          ┆            ┆   ┆            ┆           ┆ str       ┆ ---       │\n",
      "│          ┆          ┆          ┆            ┆   ┆            ┆           ┆           ┆ str       │\n",
      "╞══════════╪══════════╪══════════╪════════════╪═══╪════════════╪═══════════╪═══════════╪═══════════╡\n",
      "│ 10879564 ┆ Animalia ┆ Annelida ┆ Polychaeta ┆ … ┆ Polynoidae ┆ Polynoida ┆           ┆           │\n",
      "│          ┆          ┆          ┆            ┆   ┆            ┆ e         ┆           ┆           │\n",
      "│ 7078     ┆ Animalia ┆ Annelida ┆ Polychaeta ┆ … ┆ Polynoidae ┆           ┆           ┆           │\n",
      "└──────────┴──────────┴──────────┴────────────┴───┴────────────┴───────────┴───────────┴───────────┘\n",
      "parentNameUsageID chosen: 7078\n",
      "no_match_subset_to_update \n",
      "shape: (53, 8)\n",
      "┌──────────┬──────────┬────────────┬──────────────┬────────────┬───────┬─────────────┬─────────────┐\n",
      "│ kingdom  ┆ phylum   ┆ class      ┆ order        ┆ family     ┆ genus ┆ specificEpi ┆ infraspecif │\n",
      "│ ---      ┆ ---      ┆ ---        ┆ ---          ┆ ---        ┆ ---   ┆ thet        ┆ icEpithet   │\n",
      "│ str      ┆ str      ┆ str        ┆ str          ┆ str        ┆ str   ┆ ---         ┆ ---         │\n",
      "│          ┆          ┆            ┆              ┆            ┆       ┆ str         ┆ str         │\n",
      "╞══════════╪══════════╪════════════╪══════════════╪════════════╪═══════╪═════════════╪═════════════╡\n",
      "│ Animalia ┆ Annelida ┆ Polychaeta ┆ Phyllodocida ┆ Polynoidae ┆       ┆             ┆             │\n",
      "│ Animalia ┆ Annelida ┆ Polychaeta ┆ Phyllodocida ┆ Polynoidae ┆       ┆             ┆             │\n",
      "│ Animalia ┆ Annelida ┆ Polychaeta ┆ Phyllodocida ┆ Polynoidae ┆       ┆             ┆             │\n",
      "│ Animalia ┆ Annelida ┆ Polychaeta ┆ Phyllodocida ┆ Polynoidae ┆       ┆             ┆             │\n",
      "│ Animalia ┆ Annelida ┆ Polychaeta ┆ Phyllodocida ┆ Polynoidae ┆       ┆             ┆             │\n",
      "│ …        ┆ …        ┆ …          ┆ …            ┆ …          ┆ …     ┆ …           ┆ …           │\n",
      "│ Animalia ┆ Annelida ┆ Polychaeta ┆ Phyllodocida ┆ Polynoidae ┆       ┆             ┆             │\n",
      "│ Animalia ┆ Annelida ┆ Polychaeta ┆ Phyllodocida ┆ Polynoidae ┆       ┆             ┆             │\n",
      "│ Animalia ┆ Annelida ┆ Polychaeta ┆ Phyllodocida ┆ Polynoidae ┆       ┆             ┆             │\n",
      "│ Animalia ┆ Annelida ┆ Polychaeta ┆ Phyllodocida ┆ Polynoidae ┆       ┆             ┆             │\n",
      "│ Animalia ┆ Annelida ┆ Polychaeta ┆ Phyllodocida ┆ Polynoidae ┆       ┆             ┆             │\n",
      "└──────────┴──────────┴────────────┴──────────────┴────────────┴───────┴─────────────┴─────────────┘\n",
      "---------\n"
     ]
    },
    {
     "name": "stdout",
     "output_type": "stream",
     "text": [
      "-------\n",
      "Feature: genus ,Name: Polyura\n",
      "same level detected\n",
      "changing chosen taxonId\n",
      "taxon_data_to_select_from\n",
      " shape: (2, 9)\n",
      "┌─────────┬──────────┬────────────┬────────────┬───┬────────────┬─────────┬────────────┬───────────┐\n",
      "│ taxonID ┆ kingdom  ┆ phylum     ┆ class      ┆ … ┆ family     ┆ genus   ┆ specificEp ┆ infraspec │\n",
      "│ ---     ┆ ---      ┆ ---        ┆ ---        ┆   ┆ ---        ┆ ---     ┆ ithet      ┆ ificEpith │\n",
      "│ i64     ┆ str      ┆ str        ┆ str        ┆   ┆ str        ┆ str     ┆ ---        ┆ et        │\n",
      "│         ┆          ┆            ┆            ┆   ┆            ┆         ┆ str        ┆ ---       │\n",
      "│         ┆          ┆            ┆            ┆   ┆            ┆         ┆            ┆ str       │\n",
      "╞═════════╪══════════╪════════════╪════════════╪═══╪════════════╪═════════╪════════════╪═══════════╡\n",
      "│ 2900801 ┆ Plantae  ┆ Tracheophy ┆ Magnoliops ┆ … ┆ Rubiaceae  ┆ Polyura ┆            ┆           │\n",
      "│         ┆          ┆ ta         ┆ ida        ┆   ┆            ┆         ┆            ┆           │\n",
      "│ 1892952 ┆ Animalia ┆ Arthropoda ┆ Insecta    ┆ … ┆ Nymphalida ┆ Polyura ┆            ┆           │\n",
      "│         ┆          ┆            ┆            ┆   ┆ e          ┆         ┆            ┆           │\n",
      "└─────────┴──────────┴────────────┴────────────┴───┴────────────┴─────────┴────────────┴───────────┘\n",
      "parentNameUsageID chosen: 1892952\n",
      "no_match_subset_to_update \n",
      "shape: (1, 8)\n",
      "┌──────────┬────────┬─────────┬─────────────┬─────────────┬─────────┬───────────────┬──────────────┐\n",
      "│ kingdom  ┆ phylum ┆ class   ┆ order       ┆ family      ┆ genus   ┆ specificEpith ┆ infraspecifi │\n",
      "│ ---      ┆ ---    ┆ ---     ┆ ---         ┆ ---         ┆ ---     ┆ et            ┆ cEpithet     │\n",
      "│ str      ┆ str    ┆ str     ┆ str         ┆ str         ┆ str     ┆ ---           ┆ ---          │\n",
      "│          ┆        ┆         ┆             ┆             ┆         ┆ str           ┆ str          │\n",
      "╞══════════╪════════╪═════════╪═════════════╪═════════════╪═════════╪═══════════════╪══════════════╡\n",
      "│ Animalia ┆        ┆ Insecta ┆ Lepidoptera ┆ Nymphalidae ┆ Polyura ┆ schreiber     ┆ tisamenus    │\n",
      "└──────────┴────────┴─────────┴─────────────┴─────────────┴─────────┴───────────────┴──────────────┘\n",
      "---------\n"
     ]
    },
    {
     "name": "stdout",
     "output_type": "stream",
     "text": [
      "-------\n",
      "Feature: genus ,Name: Lutzia\n",
      "same level detected\n",
      "changing chosen taxonId\n",
      "taxon_data_to_select_from\n",
      " shape: (2, 9)\n",
      "┌─────────┬──────────┬────────────┬────────────┬───┬────────────┬────────┬────────────┬────────────┐\n",
      "│ taxonID ┆ kingdom  ┆ phylum     ┆ class      ┆ … ┆ family     ┆ genus  ┆ specificEp ┆ infraspeci │\n",
      "│ ---     ┆ ---      ┆ ---        ┆ ---        ┆   ┆ ---        ┆ ---    ┆ ithet      ┆ ficEpithet │\n",
      "│ i64     ┆ str      ┆ str        ┆ str        ┆   ┆ str        ┆ str    ┆ ---        ┆ ---        │\n",
      "│         ┆          ┆            ┆            ┆   ┆            ┆        ┆ str        ┆ str        │\n",
      "╞═════════╪══════════╪════════════╪════════════╪═══╪════════════╪════════╪════════════╪════════════╡\n",
      "│ 7292005 ┆ Plantae  ┆ Tracheophy ┆ Magnoliops ┆ … ┆ Brassicace ┆ Lutzia ┆            ┆            │\n",
      "│         ┆          ┆ ta         ┆ ida        ┆   ┆ ae         ┆        ┆            ┆            │\n",
      "│ 1650076 ┆ Animalia ┆ Arthropoda ┆ Insecta    ┆ … ┆ Culicidae  ┆ Lutzia ┆            ┆            │\n",
      "└─────────┴──────────┴────────────┴────────────┴───┴────────────┴────────┴────────────┴────────────┘\n",
      "parentNameUsageID chosen: 1650076\n",
      "no_match_subset_to_update \n",
      "shape: (1, 8)\n",
      "┌──────────┬───────────┬─────────┬─────────┬───────────┬────────┬─────────────────┬────────────────┐\n",
      "│ kingdom  ┆ phylum    ┆ class   ┆ order   ┆ family    ┆ genus  ┆ specificEpithet ┆ infraspecificE │\n",
      "│ ---      ┆ ---       ┆ ---     ┆ ---     ┆ ---       ┆ ---    ┆ ---             ┆ pithet         │\n",
      "│ str      ┆ str       ┆ str     ┆ str     ┆ str       ┆ str    ┆ str             ┆ ---            │\n",
      "│          ┆           ┆         ┆         ┆           ┆        ┆                 ┆ str            │\n",
      "╞══════════╪═══════════╪═════════╪═════════╪═══════════╪════════╪═════════════════╪════════════════╡\n",
      "│ Animalia ┆ Arthopoda ┆ Insecta ┆ Diptera ┆ Culicidae ┆ Lutzia ┆ fuscanus        ┆                │\n",
      "└──────────┴───────────┴─────────┴─────────┴───────────┴────────┴─────────────────┴────────────────┘\n",
      "---------\n"
     ]
    },
    {
     "name": "stdout",
     "output_type": "stream",
     "text": [
      "-------\n",
      "Feature: genus ,Name: Dryas\n",
      "same level detected\n",
      "taxon_data_to_select_from\n",
      " shape: (2, 9)\n",
      "┌─────────┬──────────┬─────────────┬────────────┬───┬────────────┬───────┬────────────┬────────────┐\n",
      "│ taxonID ┆ kingdom  ┆ phylum      ┆ class      ┆ … ┆ family     ┆ genus ┆ specificEp ┆ infraspeci │\n",
      "│ ---     ┆ ---      ┆ ---         ┆ ---        ┆   ┆ ---        ┆ ---   ┆ ithet      ┆ ficEpithet │\n",
      "│ i64     ┆ str      ┆ str         ┆ str        ┆   ┆ str        ┆ str   ┆ ---        ┆ ---        │\n",
      "│         ┆          ┆             ┆            ┆   ┆            ┆       ┆ str        ┆ str        │\n",
      "╞═════════╪══════════╪═════════════╪════════════╪═══╪════════════╪═══════╪════════════╪════════════╡\n",
      "│ 1893309 ┆ Animalia ┆ Arthropoda  ┆ Insecta    ┆ … ┆ Nymphalida ┆ Dryas ┆            ┆            │\n",
      "│         ┆          ┆             ┆            ┆   ┆ e          ┆       ┆            ┆            │\n",
      "│ 3000739 ┆ Plantae  ┆ Tracheophyt ┆ Magnoliops ┆ … ┆ Rosaceae   ┆ Dryas ┆            ┆            │\n",
      "│         ┆          ┆ a           ┆ ida        ┆   ┆            ┆       ┆            ┆            │\n",
      "└─────────┴──────────┴─────────────┴────────────┴───┴────────────┴───────┴────────────┴────────────┘\n",
      "parentNameUsageID chosen: 1893309\n",
      "no_match_subset_to_update \n",
      "shape: (1, 8)\n",
      "┌──────────┬────────┬─────────┬─────────────┬─────────────┬───────┬────────────────┬───────────────┐\n",
      "│ kingdom  ┆ phylum ┆ class   ┆ order       ┆ family      ┆ genus ┆ specificEpithe ┆ infraspecific │\n",
      "│ ---      ┆ ---    ┆ ---     ┆ ---         ┆ ---         ┆ ---   ┆ t              ┆ Epithet       │\n",
      "│ str      ┆ str    ┆ str     ┆ str         ┆ str         ┆ str   ┆ ---            ┆ ---           │\n",
      "│          ┆        ┆         ┆             ┆             ┆       ┆ str            ┆ str           │\n",
      "╞══════════╪════════╪═════════╪═════════════╪═════════════╪═══════╪════════════════╪═══════════════╡\n",
      "│ Animalia ┆        ┆ Insecta ┆ Lepidoptera ┆ Nymphalidae ┆ Dryas ┆ iulia          ┆ modesta       │\n",
      "└──────────┴────────┴─────────┴─────────────┴─────────────┴───────┴────────────────┴───────────────┘\n",
      "---------\n"
     ]
    }
   ],
   "source": [
    "updated_to_matching = []\n",
    "all_taxon_data_to_be_selected_from = []\n",
    "still_no_match = []\n",
    "_collected_repeated_taxons = repeated_accepted_taxons.collect().fill_null(\"\")\n",
    "_reversed_priority_columns = priority_columns.copy()\n",
    "_reversed_priority_columns.reverse()\n",
    "for _f in _reversed_priority_columns:\n",
    "    to_skip = False\n",
    "    for _m in RAT_feats[\"matches\"]:\n",
    "        # skipping those that are not in RAT_feats\n",
    "        if _m not in nomatch[_f].to_list():\n",
    "            continue\n",
    "\n",
    "        print(\"-------\\nFeature:\", _f, \",Name:\", _m)\n",
    "\n",
    "        taxon_data_to_select_from = _collected_repeated_taxons.filter(\n",
    "            pl.col(\"canonicalName\") == _m\n",
    "        ).select([\"taxonID\"] + _reversed_priority_columns)\n",
    "\n",
    "        # Select from the two rows what taxon data to select.\n",
    "        selected_row = -1\n",
    "        for i, _t in enumerate(\n",
    "            taxon_data_to_select_from.select(\n",
    "                [\"taxonID\"] + priority_columns\n",
    "            ).iter_rows()\n",
    "        ):\n",
    "            col_index = priority_columns.index(_f)\n",
    "            _x = _t[col_index]\n",
    "            if not bool(_x):\n",
    "                selected_row = i  # Since there are only two rows from taxon_data_to_select_from, the results is either 0 or 1\n",
    "                break\n",
    "        assert selected_row != -1\n",
    "\n",
    "        # has_predicament1 is when kingdom to genus all has values and it is kind of leveled between the two rows of the taxon data.\n",
    "        has_predicament1 = False\n",
    "        _l = taxon_data_to_select_from[\"family\"].to_list()\n",
    "        if _f == \"genus\" and _l[0] != None and _l[1] != None:\n",
    "            print(\"same level detected\")\n",
    "            has_predicament1 = True\n",
    "\n",
    "        chosen_taxonId = taxon_data_to_select_from[selected_row, 0]\n",
    "        other_taxonId = taxon_data_to_select_from[\n",
    "            int(not bool(selected_row)), 0\n",
    "        ]\n",
    "\n",
    "        # Getting the _no_match_subset_to_update section\n",
    "        _no_match_subset_to_update = nomatch.filter(\n",
    "            pl.col(_f) == _m,\n",
    "        )\n",
    "\n",
    "        _temp2 = _reversed_priority_columns[:-3]\n",
    "        features_to_find_nulls = (\n",
    "            _temp2[_reversed_priority_columns.index(_f) + 1]\n",
    "            if len(_temp2) > _reversed_priority_columns.index(_f) + 1\n",
    "            else None\n",
    "        )\n",
    "        if features_to_find_nulls is not None:\n",
    "            print(\"features_to_find_nulls\", features_to_find_nulls)\n",
    "            _no_match_subset_to_update = _no_match_subset_to_update.filter(\n",
    "                pl.col(features_to_find_nulls) == \"\"\n",
    "            )\n",
    "\n",
    "            if _no_match_subset_to_update.is_empty():\n",
    "                # If not empty parent id will still be filled below\n",
    "                still_no_match_subset = nomatch.filter(\n",
    "                    pl.col(_f) == _m,\n",
    "                ).with_columns(\n",
    "                    current_feature=pl.lit(_f), current_name=pl.lit(_m)\n",
    "                )\n",
    "                still_no_match.append(still_no_match_subset)\n",
    "                print(\n",
    "                    \"\\n\\n\\n\\n\\nskipping\",\n",
    "                    _f,\n",
    "                    _m,\n",
    "                    \"\\n this _no_match_subset_to_update dataframe doesn't have the same tax rank level\\n\",\n",
    "                    still_no_match_subset.select(\n",
    "                        # [\n",
    "                        #     \"parentNameUsageID\",\n",
    "                        #     \"taxonName\",\n",
    "                        # ]\n",
    "                        # +\n",
    "                        _reversed_priority_columns\n",
    "                    ),\n",
    "                )\n",
    "                # print(\n",
    "                #     \"taxon_data_to_select_from\\n\",\n",
    "                #     taxon_data_to_select_from,\n",
    "                # )\n",
    "                print(\"---------\")\n",
    "                continue\n",
    "\n",
    "        # Settleing predicament one\n",
    "        # this predicament thing should only happen when the subset is of only 1 row.\n",
    "        if has_predicament1 and _no_match_subset_to_update.shape[0] == 1:\n",
    "            match = True\n",
    "            for _f1 in [\"class\", \"order\", \"family\"]:\n",
    "                match *= (\n",
    "                    _no_match_subset_to_update[_f1].item()\n",
    "                    == taxon_data_to_select_from[selected_row, :][_f1].item()\n",
    "                )\n",
    "            if not match:\n",
    "                match = True\n",
    "                for _f1 in [\"class\", \"order\", \"family\"]:\n",
    "                    match *= (\n",
    "                        _no_match_subset_to_update[_f1].item()\n",
    "                        == taxon_data_to_select_from[\n",
    "                            int(not bool(selected_row)), :\n",
    "                        ][_f1].item()\n",
    "                    )\n",
    "                assert match == True\n",
    "                print(\"changing chosen taxonId\")\n",
    "                temp = chosen_taxonId\n",
    "                chosen_taxonId = other_taxonId\n",
    "                other_taxonId = temp\n",
    "\n",
    "        # turning these rows to matching by filling parentNameUsageID\n",
    "        _no_match_subset_to_update = _no_match_subset_to_update.with_columns(\n",
    "            parentNameUsageID=pl.when(\n",
    "                (pl.col(\"infraspecificEpithet\").is_null())\n",
    "                & (pl.col(\"specificEpithet\").is_not_null())\n",
    "                & (pl.col(\"genus\").is_not_null())\n",
    "            )\n",
    "            .then(pl.lit(other_taxonId))\n",
    "            .otherwise(pl.lit(chosen_taxonId))\n",
    "        )\n",
    "\n",
    "        # Debugging for matching data from gbif to new matched rows\n",
    "        print(\n",
    "            \"taxon_data_to_select_from\\n\",\n",
    "            taxon_data_to_select_from,\n",
    "        )\n",
    "        print(\"parentNameUsageID chosen:\", chosen_taxonId)\n",
    "        print(\"no_match_subset_to_update \")\n",
    "        print(\n",
    "            _no_match_subset_to_update.select(\n",
    "                # [\n",
    "                #     \"parentNameUsageID\",\n",
    "                #     \"taxonName\",\n",
    "                # ]\n",
    "                # +\n",
    "                _reversed_priority_columns\n",
    "            )\n",
    "        )\n",
    "        print(\"---------\")\n",
    "\n",
    "        updated_to_matching.append(_no_match_subset_to_update)\n",
    "        all_taxon_data_to_be_selected_from.append(taxon_data_to_select_from)\n",
    "\n",
    "# turn them into dataframes and writing to csv files\n",
    "updated_to_matching = pl.concat(\n",
    "    updated_to_matching, rechunk=True, parallel=True\n",
    ")\n",
    "updated_to_matching.write_csv(\"updated_to_matching.csv\")\n",
    "all_taxon_data_to_be_selected_from = pl.concat(\n",
    "    all_taxon_data_to_be_selected_from, rechunk=True, parallel=True\n",
    ")\n",
    "all_taxon_data_to_be_selected_from.write_csv(\n",
    "    \"all_taxon_data_to_be_selected_from.csv\"\n",
    ")\n",
    "still_no_match = pl.concat(still_no_match, rechunk=True, parallel=True)\n",
    "still_no_match.write_csv(\"still_no_match.csv\")"
   ]
  },
  {
   "cell_type": "markdown",
   "id": "ZHCJ",
   "metadata": {
    "marimo": {
     "config": {
      "hide_code": true
     }
    }
   },
   "source": [
    "there is rows that are totally skipped and those that are partially skipped or i call it as left out.."
   ]
  },
  {
   "cell_type": "code",
   "execution_count": null,
   "id": "ROlb",
   "metadata": {
    "marimo": {
     "config": {
      "disabled": true
     }
    }
   },
   "outputs": [],
   "source": [
    "matching2 = pl.concat(\n",
    "    [updated_to_matching, matching_with_populated_match_taxonID.collect()]\n",
    ")\n",
    "matching2.write_csv(\"matching2.csv\")"
   ]
  },
  {
   "cell_type": "code",
   "execution_count": null,
   "id": "qnkX",
   "metadata": {
    "marimo": {
     "config": {
      "hide_code": true
     }
    }
   },
   "outputs": [],
   "source": []
  },
  {
   "cell_type": "markdown",
   "id": "TqIu",
   "metadata": {
    "marimo": {
     "config": {
      "hide_code": true
     }
    }
   },
   "source": [
    "# still no match stuff"
   ]
  },
  {
   "cell_type": "markdown",
   "id": "Vxnm",
   "metadata": {
    "marimo": {
     "config": {
      "hide_code": true
     }
    }
   },
   "source": [
    "## `current_feature` uniques"
   ]
  },
  {
   "cell_type": "code",
   "execution_count": null,
   "id": "DnEU",
   "metadata": {},
   "outputs": [
    {
     "data": {
      "text/html": [
       "<div><style>\n",
       ".dataframe > thead > tr,\n",
       ".dataframe > tbody > tr {\n",
       "  text-align: right;\n",
       "  white-space: pre-wrap;\n",
       "}\n",
       "</style>\n",
       "<small>shape: (2,)</small><table border=\"1\" class=\"dataframe\"><thead><tr><th>current_feature</th></tr><tr><td>str</td></tr></thead><tbody><tr><td>&quot;order&quot;</td></tr><tr><td>&quot;phylum&quot;</td></tr></tbody></table></div>"
      ]
     },
     "metadata": {},
     "output_type": "display_data"
    }
   ],
   "source": [
    "still_no_match[\"current_feature\"].unique()"
   ]
  },
  {
   "cell_type": "markdown",
   "id": "ulZA",
   "metadata": {
    "marimo": {
     "config": {
      "hide_code": true
     }
    }
   },
   "source": [
    "## `current_name` uniques"
   ]
  },
  {
   "cell_type": "code",
   "execution_count": null,
   "id": "ecfG",
   "metadata": {},
   "outputs": [
    {
     "data": {
      "text/html": [
       "<div><style>\n",
       ".dataframe > thead > tr,\n",
       ".dataframe > tbody > tr {\n",
       "  text-align: right;\n",
       "  white-space: pre-wrap;\n",
       "}\n",
       "</style>\n",
       "<small>shape: (4,)</small><table border=\"1\" class=\"dataframe\"><thead><tr><th>current_name</th></tr><tr><td>str</td></tr></thead><tbody><tr><td>&quot;Arthropoda&quot;</td></tr><tr><td>&quot;Passeriformes&quot;</td></tr><tr><td>&quot;Ctenophora&quot;</td></tr><tr><td>&quot;Siluriformes&quot;</td></tr></tbody></table></div>"
      ]
     },
     "metadata": {},
     "output_type": "display_data"
    }
   ],
   "source": [
    "still_no_match[\"current_name\"].unique()"
   ]
  },
  {
   "cell_type": "markdown",
   "id": "Pvdt",
   "metadata": {
    "marimo": {
     "config": {
      "hide_code": true
     }
    }
   },
   "source": [
    "## number of rows in still no match"
   ]
  },
  {
   "cell_type": "code",
   "execution_count": null,
   "id": "ZBYS",
   "metadata": {},
   "outputs": [
    {
     "data": {
      "text/html": [
       "<pre style='font-size: 12px'>2287</pre>"
      ]
     },
     "metadata": {},
     "output_type": "display_data"
    }
   ],
   "source": [
    "still_no_match.shape[0]"
   ]
  },
  {
   "cell_type": "markdown",
   "id": "aLJB",
   "metadata": {
    "marimo": {
     "config": {
      "hide_code": true
     }
    }
   },
   "source": [
    "# Testing  new `Taxons` df with `still_no_match`"
   ]
  },
  {
   "cell_type": "markdown",
   "id": "nHfw",
   "metadata": {
    "marimo": {
     "config": {
      "hide_code": true
     }
    }
   },
   "source": [
    "## stop at class, there is only current_feature = phylum matches"
   ]
  },
  {
   "cell_type": "code",
   "execution_count": null,
   "id": "xXTn",
   "metadata": {},
   "outputs": [
    {
     "name": "stderr",
     "output_type": "stream",
     "text": [
      "/tmp/marimo_128664/__marimo__cell_nHfw_.py:52: DeprecationWarning: `is_in` with a collection of the same datatype is ambiguous and deprecated.\n",
      "Please use `implode` to return to previous behavior.\n",
      "\n",
      "See https://github.com/pola-rs/polars/issues/22149 for more information.\n",
      "  ).collect()\n"
     ]
    }
   ],
   "source": [
    "## stop at class, there is only current_feature = phylum matches\n",
    "match_on_class = still_no_match.with_columns(\n",
    "    name_to_match=pl.when(\n",
    "        pl.col(\"order\") == \"\",\n",
    "        pl.col(\"family\") == \"\",\n",
    "        pl.col(\"class\").is_not_null(),\n",
    "        pl.col(\"current_feature\") == \"phylum\",\n",
    "    )\n",
    "    .then(\"class\")\n",
    "    .otherwise(None)\n",
    ").filter(\n",
    "    pl.col(\"order\") == \"\",\n",
    "    pl.col(\"family\") == \"\",\n",
    "    pl.col(\"class\").is_not_null(),\n",
    "    pl.col(\"current_feature\") == \"phylum\",\n",
    ")\n",
    "\n",
    "_x1 = (\n",
    "    still_no_match.filter(\n",
    "        pl.col(\"order\") == \"\",\n",
    "        pl.col(\"family\") == \"\",\n",
    "        pl.col(\"class\").is_not_null(),\n",
    "        pl.col(\"current_feature\") == \"phylum\",\n",
    "    )\n",
    "    .select(\"class\", \"phylum\")\n",
    "    .group_by(\"class\", \"phylum\")\n",
    "    .len()\n",
    ")\n",
    "\n",
    "_taxons_subset = taxons.filter(\n",
    "    pl.col(\"family\").is_null(),\n",
    "    pl.col(\"order\").is_null(),\n",
    "    pl.col(\"genus\").is_null(),\n",
    "    pl.col(\"class\").is_in(_x1[\"class\"].unique()),\n",
    "    pl.col(\"specificEpithet\").is_null(),\n",
    "    pl.col(\"infraspecificEpithet\").is_null(),\n",
    "    pl.col(\"phylum\").is_in(_x1[\"phylum\"].unique()),\n",
    ").select(\"taxonID\", \"class\")\n",
    "match_on_class = (\n",
    "    pl.LazyFrame(match_on_class)\n",
    "    .join(\n",
    "        _taxons_subset,\n",
    "        on=\"class\",\n",
    "    )\n",
    "    .with_columns(\n",
    "        parentNameUsageID=pl.when(pl.col(\"taxonID\").is_not_null())\n",
    "        .then(\"taxonID\")\n",
    "        .otherwise(\"parentNameUsageID\")\n",
    "    )\n",
    "    .drop(\"taxonID\")\n",
    ").collect()"
   ]
  },
  {
   "cell_type": "code",
   "execution_count": null,
   "id": "AjVT",
   "metadata": {},
   "outputs": [
    {
     "data": {
      "text/html": [
       "<div><style>\n",
       ".dataframe > thead > tr,\n",
       ".dataframe > tbody > tr {\n",
       "  text-align: right;\n",
       "  white-space: pre-wrap;\n",
       "}\n",
       "</style>\n",
       "<small>shape: (4, 3)</small><table border=\"1\" class=\"dataframe\"><thead><tr><th>parentNameUsageID</th><th>name_to_match</th><th>len</th></tr><tr><td>i64</td><td>str</td><td>u32</td></tr></thead><tbody><tr><td>10713444</td><td>&quot;Collembola&quot;</td><td>2</td></tr><tr><td>365</td><td>&quot;Tentaculata&quot;</td><td>7</td></tr><tr><td>11545536</td><td>&quot;Copepoda&quot;</td><td>17</td></tr><tr><td>353</td><td>&quot;Ostracoda&quot;</td><td>16</td></tr></tbody></table></div>"
      ]
     },
     "metadata": {},
     "output_type": "display_data"
    }
   ],
   "source": [
    "match_on_class.group_by(\"parentNameUsageID\", \"name_to_match\").len()"
   ]
  },
  {
   "cell_type": "code",
   "execution_count": null,
   "id": "pHFh",
   "metadata": {},
   "outputs": [
    {
     "data": {
      "application/json": "[42, 30]"
     },
     "metadata": {},
     "output_type": "display_data"
    }
   ],
   "source": [
    "match_on_class.shape"
   ]
  },
  {
   "cell_type": "markdown",
   "id": "NCOB",
   "metadata": {
    "marimo": {
     "config": {
      "hide_code": true
     }
    }
   },
   "source": [
    "## stops at order there is only current_feature = phylum matches"
   ]
  },
  {
   "cell_type": "code",
   "execution_count": null,
   "id": "aqbW",
   "metadata": {},
   "outputs": [],
   "source": [
    "## stops at order there is only current_feature = phylum matches\n",
    "\n",
    "\n",
    "match_on_order = still_no_match.with_columns(\n",
    "    name_to_match=pl.when(\n",
    "        pl.col(\"order\") != \"\",\n",
    "        pl.col(\"family\") == \"\",\n",
    "        pl.col(\"current_feature\") == \"phylum\",\n",
    "    )\n",
    "    .then(\"order\")\n",
    "    .otherwise(None)\n",
    ").filter(\n",
    "    pl.col(\"order\") != \"\",\n",
    "    pl.col(\"family\") == \"\",\n",
    "    # pl.col(\"class\").is_not_null(),\n",
    "    pl.col(\"current_feature\") == \"phylum\",\n",
    ")\n",
    "# print(match_on_order.select('order'))\n",
    "_x1 = (\n",
    "    still_no_match.filter(\n",
    "        pl.col(\"order\") != \"\",\n",
    "        pl.col(\"family\") == \"\",\n",
    "        # pl.col(\"class\").is_not_null(),\n",
    "        pl.col(\"current_feature\") == \"phylum\",\n",
    "    )\n",
    "    .select(\"order\", \"phylum\")\n",
    "    .group_by(\"order\", \"phylum\")\n",
    "    .len()\n",
    ")\n",
    "# print(_x1)\n",
    "\n",
    "_taxons_subset = (\n",
    "    taxons.filter(\n",
    "        pl.col(\"family\").is_null(),\n",
    "        pl.col(\"order\").is_in(_x1[\"order\"].unique().to_list()),\n",
    "        pl.col(\"genus\").is_null(),\n",
    "        # pl.col(\"class\").is_in(_x1[\"class\"].unique()),\n",
    "        pl.col(\"specificEpithet\").is_null(),\n",
    "        pl.col(\"infraspecificEpithet\").is_null(),\n",
    "        pl.col(\"phylum\").is_in(_x1[\"phylum\"].unique().to_list()),\n",
    "    )\n",
    "    .select(\"taxonID\", \"order\")\n",
    "    .collect()\n",
    ")\n",
    "match_on_order = (\n",
    "    match_on_order.join(\n",
    "        _taxons_subset,\n",
    "        on=\"order\",\n",
    "    )\n",
    "    .with_columns(\n",
    "        parentNameUsageID=pl.when(pl.col(\"taxonID\").is_not_null())\n",
    "        .then(\"taxonID\")\n",
    "        .otherwise(\"parentNameUsageID\")\n",
    "    )\n",
    "    .drop(\"taxonID\")\n",
    ")"
   ]
  },
  {
   "cell_type": "code",
   "execution_count": null,
   "id": "TRpd",
   "metadata": {},
   "outputs": [
    {
     "data": {
      "text/html": [
       "<div><style>\n",
       ".dataframe > thead > tr,\n",
       ".dataframe > tbody > tr {\n",
       "  text-align: right;\n",
       "  white-space: pre-wrap;\n",
       "}\n",
       "</style>\n",
       "<small>shape: (21, 3)</small><table border=\"1\" class=\"dataframe\"><thead><tr><th>parentNameUsageID</th><th>name_to_match</th><th>len</th></tr><tr><td>i64</td><td>str</td><td>u32</td></tr></thead><tbody><tr><td>1500</td><td>&quot;Cumacea&quot;</td><td>6</td></tr><tr><td>787</td><td>&quot;Plecoptera&quot;</td><td>1</td></tr><tr><td>697</td><td>&quot;Pedunculata&quot;</td><td>4</td></tr><tr><td>1224</td><td>&quot;Dermaptera&quot;</td><td>2</td></tr><tr><td>1373</td><td>&quot;Stomatopoda&quot;</td><td>10</td></tr><tr><td>&hellip;</td><td>&hellip;</td><td>&hellip;</td></tr><tr><td>9477065</td><td>&quot;Pantopoda&quot;</td><td>19</td></tr><tr><td>841</td><td>&quot;Mysida&quot;</td><td>7</td></tr><tr><td>788</td><td>&quot;Mantodea&quot;</td><td>2</td></tr><tr><td>1426</td><td>&quot;Sessilia&quot;</td><td>11</td></tr><tr><td>872</td><td>&quot;Scorpiones&quot;</td><td>2</td></tr></tbody></table></div>"
      ]
     },
     "metadata": {},
     "output_type": "display_data"
    }
   ],
   "source": [
    "match_on_order.group_by(\"parentNameUsageID\", \"name_to_match\").len()"
   ]
  },
  {
   "cell_type": "code",
   "execution_count": null,
   "id": "TXez",
   "metadata": {},
   "outputs": [
    {
     "data": {
      "application/json": "[896, 30]"
     },
     "metadata": {},
     "output_type": "display_data"
    }
   ],
   "source": [
    "match_on_order.shape"
   ]
  },
  {
   "cell_type": "markdown",
   "id": "dNNg",
   "metadata": {},
   "source": [
    "## stops at family, current_feature contains both phylum and order"
   ]
  },
  {
   "cell_type": "code",
   "execution_count": null,
   "id": "yCnT",
   "metadata": {},
   "outputs": [],
   "source": [
    "## stops at family there is only current_feature = phylum matches\n",
    "\n",
    "\n",
    "match_on_family = still_no_match.with_columns(\n",
    "    name_to_match=pl.when(\n",
    "        pl.col(\"family\") != \"\",\n",
    "        # pl.col(\"current_feature\") == \"phylum\",\n",
    "    )\n",
    "    .then(\"family\")\n",
    "    .otherwise(None)\n",
    ").filter(\n",
    "    pl.col(\"family\") != \"\",\n",
    "    # pl.col(\"class\").is_not_null(),\n",
    "    # pl.col(\"current_feature\") == \"phylum\",\n",
    ")\n",
    "# print(match_on_family.select('family'))\n",
    "_x1 = (\n",
    "    still_no_match.filter(\n",
    "        pl.col(\"family\") != \"\",\n",
    "        # pl.col(\"current_feature\") == \"phylum\",\n",
    "    )\n",
    "    .select(\"family\", \"phylum\", \"order\")\n",
    "    .group_by(\"family\", \"phylum\", \"order\")\n",
    "    .len()\n",
    ")\n",
    "# print(_x1)\n",
    "\n",
    "_taxons_subset = (\n",
    "    taxons.filter(\n",
    "        pl.col(\"family\").is_in(_x1[\"family\"].unique().to_list()),\n",
    "        pl.col(\"genus\").is_null(),\n",
    "        pl.col(\"specificEpithet\").is_null(),\n",
    "        pl.col(\"infraspecificEpithet\").is_null(),\n",
    "        pl.col(\"phylum\").is_in(_x1[\"phylum\"].unique().to_list()),\n",
    "        pl.col(\"order\").is_in(_x1[\"order\"].unique().to_list()),\n",
    "    )\n",
    "    .select(\"taxonID\", \"family\")\n",
    "    .collect()\n",
    ")\n",
    "match_on_family = (\n",
    "    match_on_family.join(\n",
    "        _taxons_subset,\n",
    "        on=\"family\",\n",
    "    )\n",
    "    .with_columns(\n",
    "        parentNameUsageID=pl.when(pl.col(\"taxonID\").is_not_null())\n",
    "        .then(\"taxonID\")\n",
    "        .otherwise(\"parentNameUsageID\")\n",
    "    )\n",
    "    .drop(\"taxonID\")\n",
    ")"
   ]
  },
  {
   "cell_type": "code",
   "execution_count": null,
   "id": "wlCL",
   "metadata": {},
   "outputs": [
    {
     "data": {
      "text/html": [
       "<div><style>\n",
       ".dataframe > thead > tr,\n",
       ".dataframe > tbody > tr {\n",
       "  text-align: right;\n",
       "  white-space: pre-wrap;\n",
       "}\n",
       "</style>\n",
       "<small>shape: (187, 4)</small><table border=\"1\" class=\"dataframe\"><thead><tr><th>parentNameUsageID</th><th>name_to_match</th><th>current_feature</th><th>len</th></tr><tr><td>i64</td><td>str</td><td>str</td><td>u32</td></tr></thead><tbody><tr><td>7824</td><td>&quot;Dytiscidae&quot;</td><td>&quot;phylum&quot;</td><td>1</td></tr><tr><td>5030</td><td>&quot;Sacculinidae&quot;</td><td>&quot;phylum&quot;</td><td>1</td></tr><tr><td>4355</td><td>&quot;Termitidae&quot;</td><td>&quot;phylum&quot;</td><td>16</td></tr><tr><td>7366</td><td>&quot;Desidae&quot;</td><td>&quot;phylum&quot;</td><td>1</td></tr><tr><td>4304235</td><td>&quot;Maxillipiidae&quot;</td><td>&quot;phylum&quot;</td><td>1</td></tr><tr><td>&hellip;</td><td>&hellip;</td><td>&hellip;</td><td>&hellip;</td></tr><tr><td>9650</td><td>&quot;Pentatomidae&quot;</td><td>&quot;phylum&quot;</td><td>4</td></tr><tr><td>3862</td><td>&quot;Diogenidae&quot;</td><td>&quot;phylum&quot;</td><td>14</td></tr><tr><td>3040</td><td>&quot;Tetrigidae&quot;</td><td>&quot;phylum&quot;</td><td>7</td></tr><tr><td>9652</td><td>&quot;Plataspidae&quot;</td><td>&quot;phylum&quot;</td><td>2</td></tr><tr><td>2045</td><td>&quot;Sphaeromatidae&quot;</td><td>&quot;phylum&quot;</td><td>52</td></tr></tbody></table></div>"
      ]
     },
     "metadata": {},
     "output_type": "display_data"
    }
   ],
   "source": [
    "match_on_family.group_by(\n",
    "    \"parentNameUsageID\", \"name_to_match\", \"current_feature\"\n",
    ").len().filter(pl.col(\"current_feature\") == \"phylum\")"
   ]
  },
  {
   "cell_type": "code",
   "execution_count": null,
   "id": "kqZH",
   "metadata": {},
   "outputs": [
    {
     "data": {
      "text/html": [
       "<div><style>\n",
       ".dataframe > thead > tr,\n",
       ".dataframe > tbody > tr {\n",
       "  text-align: right;\n",
       "  white-space: pre-wrap;\n",
       "}\n",
       "</style>\n",
       "<small>shape: (5, 4)</small><table border=\"1\" class=\"dataframe\"><thead><tr><th>parentNameUsageID</th><th>name_to_match</th><th>current_feature</th><th>len</th></tr><tr><td>i64</td><td>str</td><td>str</td><td>u32</td></tr></thead><tbody><tr><td>3241609</td><td>&quot;Timaliidae&quot;</td><td>&quot;order&quot;</td><td>1</td></tr><tr><td>4512</td><td>&quot;Ariidae&quot;</td><td>&quot;order&quot;</td><td>3</td></tr><tr><td>9228</td><td>&quot;Pangasiidae&quot;</td><td>&quot;order&quot;</td><td>1</td></tr><tr><td>4287160</td><td>&quot;Dicaeidae&quot;</td><td>&quot;order&quot;</td><td>1</td></tr><tr><td>5164</td><td>&quot;Plotosidae&quot;</td><td>&quot;order&quot;</td><td>4</td></tr></tbody></table></div>"
      ]
     },
     "metadata": {},
     "output_type": "display_data"
    }
   ],
   "source": [
    "match_on_family.group_by(\n",
    "    \"parentNameUsageID\", \"name_to_match\", \"current_feature\"\n",
    ").len().filter(pl.col(\"current_feature\") == \"order\")"
   ]
  },
  {
   "cell_type": "code",
   "execution_count": null,
   "id": "wAgl",
   "metadata": {},
   "outputs": [
    {
     "data": {
      "application/json": "[1342, 30]"
     },
     "metadata": {},
     "output_type": "display_data"
    }
   ],
   "source": [
    "match_on_family.shape"
   ]
  },
  {
   "cell_type": "markdown",
   "id": "rEll",
   "metadata": {},
   "source": [
    "## stops at specificEpithet there is only current_feature = phylum matches\n",
    "\n",
    "#TODO: SOMETHING IS WRONG WITH THIS, SPECIFICEPITHET AND GENUS FOR BOTH PHYLUM AND ORDER CURRENT_FEATURE CAN\"T BE FOUDN IN GBIF"
   ]
  },
  {
   "cell_type": "code",
   "execution_count": null,
   "id": "dGlV",
   "metadata": {},
   "outputs": [
    {
     "name": "stdout",
     "output_type": "stream",
     "text": [
      "True\n",
      "True\n"
     ]
    },
    {
     "name": "stdout",
     "output_type": "stream",
     "text": [
      "shape: (208, 3)\n",
      "┌─────────────────┬───────────────┬────────────┐\n",
      "│ specificEpithet ┆ genus         ┆ phylum     │\n",
      "│ ---             ┆ ---           ┆ ---        │\n",
      "│ str             ┆ str           ┆ str        │\n",
      "╞═════════════════╪═══════════════╪════════════╡\n",
      "│ tumidus         ┆ Enoplolambrus ┆ Arthropoda │\n",
      "│ pheromosa       ┆ Nocticola     ┆ Arthropoda │\n",
      "│ nirgriceps      ┆ Perigona      ┆ Arthropoda │\n",
      "│ vomeratus       ┆ Amphisternus  ┆ Arthropoda │\n",
      "│ quadrimacula    ┆ Episcapha     ┆ Arthropoda │\n",
      "│ …               ┆ …             ┆ …          │\n",
      "│ bucculatus      ┆ Aeschines     ┆ Arthropoda │\n",
      "│ trimaculatus    ┆ Paracritheus  ┆ Arthropoda │\n",
      "│ valbum          ┆ Elasmolomus   ┆ Arthropoda │\n",
      "│ dorsalis        ┆ Glaucias      ┆ Arthropoda │\n",
      "│ warwickii       ┆ Octolasmis    ┆ Arthropoda │\n",
      "└─────────────────┴───────────────┴────────────┘\n",
      "shape: (0, 3)\n",
      "┌─────────┬─────────────────┬───────┐\n",
      "│ taxonID ┆ specificEpithet ┆ genus │\n",
      "│ ---     ┆ ---             ┆ ---   │\n",
      "│ i64     ┆ str             ┆ str   │\n",
      "╞═════════╪═════════════════╪═══════╡\n",
      "└─────────┴─────────────────┴───────┘\n"
     ]
    },
    {
     "name": "stdout",
     "output_type": "stream",
     "text": [
      "shape: (0, 23)\n",
      "┌─────────┬───────────┬───────────────────┬───────────────────┬───┬───────┬───────┬────────┬───────┐\n",
      "│ taxonID ┆ datasetID ┆ parentNameUsageID ┆ acceptedNameUsage ┆ … ┆ class ┆ order ┆ family ┆ genus │\n",
      "│ ---     ┆ ---       ┆ ---               ┆ ID                ┆   ┆ ---   ┆ ---   ┆ ---    ┆ ---   │\n",
      "│ i64     ┆ str       ┆ i64               ┆ ---               ┆   ┆ str   ┆ str   ┆ str    ┆ str   │\n",
      "│         ┆           ┆                   ┆ str               ┆   ┆       ┆       ┆        ┆       │\n",
      "╞═════════╪═══════════╪═══════════════════╪═══════════════════╪═══╪═══════╪═══════╪════════╪═══════╡\n",
      "└─────────┴───────────┴───────────────────┴───────────────────┴───┴───────┴───────┴────────┴───────┘\n",
      "shape: (0, 30)\n",
      "┌───────────┬───────────┬───────────┬───────────┬───┬───────────┬───────────┬───────────┬──────────┐\n",
      "│ speciesId ┆ matched_t ┆ acceptedN ┆ taxonName ┆ … ┆ parentNam ┆ current_f ┆ current_n ┆ name_to_ │\n",
      "│ ---       ┆ axonID    ┆ ameUsageI ┆ ---       ┆   ┆ eUsageID  ┆ eature    ┆ ame       ┆ match    │\n",
      "│ str       ┆ ---       ┆ D         ┆ str       ┆   ┆ ---       ┆ ---       ┆ ---       ┆ ---      │\n",
      "│           ┆ i64       ┆ ---       ┆           ┆   ┆ i64       ┆ str       ┆ str       ┆ str      │\n",
      "│           ┆           ┆ i64       ┆           ┆   ┆           ┆           ┆           ┆          │\n",
      "╞═══════════╪═══════════╪═══════════╪═══════════╪═══╪═══════════╪═══════════╪═══════════╪══════════╡\n",
      "└───────────┴───────────┴───────────┴───────────┴───┴───────────┴───────────┴───────────┴──────────┘\n"
     ]
    }
   ],
   "source": [
    "## stops at family there is only current_feature = phylum matches\n",
    "\n",
    "\n",
    "match_on_genus = still_no_match.with_columns(\n",
    "    name_to_match=pl.when(\n",
    "        pl.col(\"specificEpithet\") != \"\",\n",
    "        pl.col(\"genus\") != \"\",\n",
    "    )\n",
    "    .then(\n",
    "        pl.concat_str(pl.col(\"specificEpithet\"), pl.lit(\" \"), pl.col(\"genus\"))\n",
    "    )\n",
    "    .otherwise(None)\n",
    ").filter(\n",
    "    pl.col(\"specificEpithet\") != \"\",\n",
    "    pl.col(\"genus\") != \"\",\n",
    ")\n",
    "\n",
    "# print(match_on_genus['current_feature'].unique().to_list())\n",
    "_x1 = (\n",
    "    still_no_match.filter(\n",
    "        pl.col(\"specificEpithet\") != \"\",\n",
    "        pl.col(\"genus\") != \"\",\n",
    "    )\n",
    "    .select(\n",
    "        \"specificEpithet\",\n",
    "        # \"phylum\",\n",
    "        \"genus\",\n",
    "    )\n",
    "    .group_by(\n",
    "        \"specificEpithet\",\n",
    "        # \"phylum\",\n",
    "        \"genus\",\n",
    "    )\n",
    "    .len()\n",
    ")\n",
    "\n",
    "\n",
    "# This statement below seems to be wrong\n",
    "print(\"Glaucias\" in _x1[\"genus\"].unique().to_list())\n",
    "print(\"dorsalis\" in _x1[\"specificEpithet\"].unique().to_list())\n",
    "_taxons = (\n",
    "    pl.scan_csv(\"gbif/Taxon.tsv\", separator=\"\\t\", quote_char=None, cache=True)\n",
    "    # .filter(\n",
    "    #     pl.col(\"taxonomicStatus\") == pl.lit(\"accepted\"),\n",
    "    #     pl.col(\"taxonRank\") != \"unranked\",\n",
    "    # )\n",
    "    # .filter(pl.col(\"kingdom\").is_in([\"Animalia\", \"Plantae\"]))\n",
    "    # .select([\"taxonID\"] + priority_columns)\n",
    ")\n",
    "_taxons_subset = (\n",
    "    _taxons.filter(\n",
    "        pl.col(\"specificEpithet\").is_in(\n",
    "            _x1[\"specificEpithet\"].unique().to_list()\n",
    "        ),\n",
    "        pl.col(\"genus\").is_in(_x1[\"genus\"].unique().to_list()),\n",
    "        # pl.col(\"phylum\").is_in(_x1[\"phylum\"].unique().to_list()),\n",
    "        # pl.col(\"infraspecificEpithet\").is_null(),\n",
    "    )\n",
    "    .select(\n",
    "        \"taxonID\",\n",
    "        \"specificEpithet\",\n",
    "        \"genus\",\n",
    "    )\n",
    "    .collect()\n",
    ")\n",
    "print(\n",
    "    match_on_genus.filter(pl.col(\"current_feature\") == \"phylum\").select(\n",
    "        \"specificEpithet\", \"genus\", \"phylum\"\n",
    "    )\n",
    ")\n",
    "print(\n",
    "    _taxons_subset.filter(\n",
    "        pl.col(\"genus\") == \"Glaucias\", pl.col(\"specificEpithet\") == \"dorsalis\"\n",
    "    )\n",
    ")\n",
    "print(\n",
    "    _taxons.filter(\n",
    "        pl.col(\"genus\") == \"Glaucias\", pl.col(\"specificEpithet\") == \"dorsalis\"\n",
    "    ).collect()\n",
    ")\n",
    "\n",
    "# TAXON.TSV doesn't have pl.col(\"genus\")=='Dicaeum',pl.col('specificEpithet')=='chysorrheum'\n",
    "match_on_genus = (\n",
    "    match_on_genus.join(_taxons_subset, on=[\"genus\", \"specificEpithet\"])\n",
    "    .with_columns(\n",
    "        parentNameUsageID=pl.when(pl.col(\"taxonID\").is_not_null())\n",
    "        .then(\"taxonID\")\n",
    "        .otherwise(\"parentNameUsageID\")\n",
    "    )\n",
    "    .drop(\"taxonID\")\n",
    ")\n",
    "print(match_on_genus.filter(pl.col(\"genus\") == \"Glaucias\"))"
   ]
  },
  {
   "cell_type": "markdown",
   "id": "SdmI",
   "metadata": {},
   "source": [
    "#combining updated parent id rows"
   ]
  },
  {
   "cell_type": "code",
   "execution_count": null,
   "id": "lgWD",
   "metadata": {},
   "outputs": [
    {
     "data": {
      "text/html": [
       "<div><style>\n",
       ".dataframe > thead > tr,\n",
       ".dataframe > tbody > tr {\n",
       "  text-align: right;\n",
       "  white-space: pre-wrap;\n",
       "}\n",
       "</style>\n",
       "<small>shape: (2_747, 27)</small><table border=\"1\" class=\"dataframe\"><thead><tr><th>speciesId</th><th>matched_taxonID</th><th>acceptedNameUsageID</th><th>taxonName</th><th>domain</th><th>kingdom</th><th>phylum</th><th>class</th><th>subclass</th><th>superorder</th><th>order</th><th>sub-order</th><th>infraorder</th><th>section</th><th>subsection</th><th>superfamily</th><th>family</th><th>subfamily</th><th>tribe</th><th>genus</th><th>subgenus</th><th>genericName</th><th>specificEpithet</th><th>infraspecificEpithet</th><th>taxonRank</th><th>taxonomicStatus</th><th>parentNameUsageID</th></tr><tr><td>str</td><td>i64</td><td>i64</td><td>str</td><td>str</td><td>str</td><td>str</td><td>str</td><td>str</td><td>str</td><td>str</td><td>str</td><td>str</td><td>str</td><td>str</td><td>str</td><td>str</td><td>str</td><td>str</td><td>str</td><td>str</td><td>str</td><td>str</td><td>str</td><td>str</td><td>str</td><td>i64</td></tr></thead><tbody><tr><td>&quot;A-Arth-Crus-Copepoda-000005&quot;</td><td>null</td><td>null</td><td>&quot;Copepod sp. 1&quot;</td><td>&quot;Eukarya&quot;</td><td>&quot;Animalia&quot;</td><td>&quot;Arthropoda&quot;</td><td>&quot;Copepoda&quot;</td><td>&quot;&quot;</td><td>&quot;&quot;</td><td>&quot;&quot;</td><td>&quot;&quot;</td><td>&quot;&quot;</td><td>&quot;&quot;</td><td>&quot;&quot;</td><td>&quot;&quot;</td><td>&quot;&quot;</td><td>&quot;&quot;</td><td>&quot;&quot;</td><td>&quot;&quot;</td><td>&quot;&quot;</td><td>&quot;&quot;</td><td>&quot;&quot;</td><td>&quot;&quot;</td><td>&quot;BOSuncornirmedSpecies&quot;</td><td>&quot;BOSunformired&quot;</td><td>11545536</td></tr><tr><td>&quot;A-Arth-Crus-Copepoda-000006&quot;</td><td>null</td><td>null</td><td>&quot;Copepod sp. 2&quot;</td><td>&quot;Eukarya&quot;</td><td>&quot;Animalia&quot;</td><td>&quot;Arthropoda&quot;</td><td>&quot;Copepoda&quot;</td><td>&quot;&quot;</td><td>&quot;&quot;</td><td>&quot;&quot;</td><td>&quot;&quot;</td><td>&quot;&quot;</td><td>&quot;&quot;</td><td>&quot;&quot;</td><td>&quot;&quot;</td><td>&quot;&quot;</td><td>&quot;&quot;</td><td>&quot;&quot;</td><td>&quot;&quot;</td><td>&quot;&quot;</td><td>&quot;&quot;</td><td>&quot;&quot;</td><td>&quot;&quot;</td><td>&quot;BOSuncornirmedSpecies&quot;</td><td>&quot;BOSunformired&quot;</td><td>11545536</td></tr><tr><td>&quot;A-Arth-Crus-Copepoda-000007&quot;</td><td>null</td><td>null</td><td>&quot;Copepod sp. 3&quot;</td><td>&quot;Eukarya&quot;</td><td>&quot;Animalia&quot;</td><td>&quot;Arthropoda&quot;</td><td>&quot;Copepoda&quot;</td><td>&quot;&quot;</td><td>&quot;&quot;</td><td>&quot;&quot;</td><td>&quot;&quot;</td><td>&quot;&quot;</td><td>&quot;&quot;</td><td>&quot;&quot;</td><td>&quot;&quot;</td><td>&quot;&quot;</td><td>&quot;&quot;</td><td>&quot;&quot;</td><td>&quot;&quot;</td><td>&quot;&quot;</td><td>&quot;&quot;</td><td>&quot;&quot;</td><td>&quot;&quot;</td><td>&quot;BOSuncornirmedSpecies&quot;</td><td>&quot;BOSunformired&quot;</td><td>11545536</td></tr><tr><td>&quot;A-Arth-Crus-Copepoda-000008&quot;</td><td>null</td><td>null</td><td>&quot;Copepod sp. 4&quot;</td><td>&quot;Eukarya&quot;</td><td>&quot;Animalia&quot;</td><td>&quot;Arthropoda&quot;</td><td>&quot;Copepoda&quot;</td><td>&quot;&quot;</td><td>&quot;&quot;</td><td>&quot;&quot;</td><td>&quot;&quot;</td><td>&quot;&quot;</td><td>&quot;&quot;</td><td>&quot;&quot;</td><td>&quot;&quot;</td><td>&quot;&quot;</td><td>&quot;&quot;</td><td>&quot;&quot;</td><td>&quot;&quot;</td><td>&quot;&quot;</td><td>&quot;&quot;</td><td>&quot;&quot;</td><td>&quot;&quot;</td><td>&quot;BOSuncornirmedSpecies&quot;</td><td>&quot;BOSunformired&quot;</td><td>11545536</td></tr><tr><td>&quot;A-Arth-Crus-Copepoda-000009&quot;</td><td>null</td><td>null</td><td>&quot;Copepod sp. 5&quot;</td><td>&quot;Eukarya&quot;</td><td>&quot;Animalia&quot;</td><td>&quot;Arthropoda&quot;</td><td>&quot;Copepoda&quot;</td><td>&quot;&quot;</td><td>&quot;&quot;</td><td>&quot;&quot;</td><td>&quot;&quot;</td><td>&quot;&quot;</td><td>&quot;&quot;</td><td>&quot;&quot;</td><td>&quot;&quot;</td><td>&quot;&quot;</td><td>&quot;&quot;</td><td>&quot;&quot;</td><td>&quot;&quot;</td><td>&quot;&quot;</td><td>&quot;&quot;</td><td>&quot;&quot;</td><td>&quot;&quot;</td><td>&quot;BOSuncornirmedSpecies&quot;</td><td>&quot;BOSunformired&quot;</td><td>11545536</td></tr><tr><td>&hellip;</td><td>&hellip;</td><td>&hellip;</td><td>&hellip;</td><td>&hellip;</td><td>&hellip;</td><td>&hellip;</td><td>&hellip;</td><td>&hellip;</td><td>&hellip;</td><td>&hellip;</td><td>&hellip;</td><td>&hellip;</td><td>&hellip;</td><td>&hellip;</td><td>&hellip;</td><td>&hellip;</td><td>&hellip;</td><td>&hellip;</td><td>&hellip;</td><td>&hellip;</td><td>&hellip;</td><td>&hellip;</td><td>&hellip;</td><td>&hellip;</td><td>&hellip;</td><td>&hellip;</td></tr><tr><td>&quot;A-Anne-Polychaeta-000490&quot;</td><td>null</td><td>null</td><td>&quot;Halosydna? sp.&quot;</td><td>&quot;Eukarya&quot;</td><td>&quot;Animalia&quot;</td><td>&quot;Annelida&quot;</td><td>&quot;Polychaeta&quot;</td><td>&quot;Errantia&quot;</td><td>&quot;&quot;</td><td>&quot;Phyllodocida&quot;</td><td>&quot;&quot;</td><td>&quot;&quot;</td><td>&quot;&quot;</td><td>&quot;&quot;</td><td>&quot;&quot;</td><td>&quot;Polynoidae&quot;</td><td>&quot;&quot;</td><td>&quot;&quot;</td><td>&quot;&quot;</td><td>&quot;&quot;</td><td>&quot;Halosydna&quot;</td><td>&quot;&quot;</td><td>&quot;&quot;</td><td>&quot;BOSuncornirmedSpecies&quot;</td><td>&quot;BOSunformired&quot;</td><td>7078</td></tr><tr><td>&quot;A-Anne-Polychaeta-000497&quot;</td><td>null</td><td>null</td><td>&quot;Polynoidae sp.&quot;</td><td>&quot;Eukarya&quot;</td><td>&quot;Animalia&quot;</td><td>&quot;Annelida&quot;</td><td>&quot;Polychaeta&quot;</td><td>&quot;Errantia&quot;</td><td>&quot;&quot;</td><td>&quot;Phyllodocida&quot;</td><td>&quot;&quot;</td><td>&quot;&quot;</td><td>&quot;&quot;</td><td>&quot;&quot;</td><td>&quot;&quot;</td><td>&quot;Polynoidae&quot;</td><td>&quot;&quot;</td><td>&quot;&quot;</td><td>&quot;&quot;</td><td>&quot;&quot;</td><td>&quot;&quot;</td><td>&quot;&quot;</td><td>&quot;&quot;</td><td>&quot;BOSuncornirmedSpecies&quot;</td><td>&quot;BOSunformired&quot;</td><td>7078</td></tr><tr><td>&quot;A-Arth-Hexa-Lepidoptera-000192&quot;</td><td>null</td><td>null</td><td>&quot;Polyura schreiber tisamenus&quot;</td><td>&quot;Eukarya&quot;</td><td>&quot;Animalia&quot;</td><td>&quot;&quot;</td><td>&quot;Insecta&quot;</td><td>&quot;&quot;</td><td>&quot;&quot;</td><td>&quot;Lepidoptera&quot;</td><td>&quot;&quot;</td><td>&quot;&quot;</td><td>&quot;&quot;</td><td>&quot;&quot;</td><td>&quot;&quot;</td><td>&quot;Nymphalidae&quot;</td><td>&quot;Charaxinae&quot;</td><td>&quot;&quot;</td><td>&quot;Polyura&quot;</td><td>&quot;&quot;</td><td>&quot;Polyura&quot;</td><td>&quot;schreiber&quot;</td><td>&quot;tisamenus&quot;</td><td>&quot;BOSuncornirmedSpecies&quot;</td><td>&quot;BOSunformired&quot;</td><td>1892952</td></tr><tr><td>&quot;A-Arth-Hexa-Diptera-000199&quot;</td><td>null</td><td>null</td><td>&quot;Lutzia fuscanus&quot;</td><td>&quot;Eukarya&quot;</td><td>&quot;Animalia&quot;</td><td>&quot;Arthopoda&quot;</td><td>&quot;Insecta&quot;</td><td>&quot;&quot;</td><td>&quot;&quot;</td><td>&quot;Diptera&quot;</td><td>&quot;Nematocera&quot;</td><td>&quot;Culicomorpha&quot;</td><td>&quot;&quot;</td><td>&quot;&quot;</td><td>&quot;Culicoidea&quot;</td><td>&quot;Culicidae&quot;</td><td>&quot;&quot;</td><td>&quot;&quot;</td><td>&quot;Lutzia&quot;</td><td>&quot;&quot;</td><td>&quot;Lutzia&quot;</td><td>&quot;fuscanus&quot;</td><td>&quot;&quot;</td><td>&quot;BOSuncornirmedSpecies&quot;</td><td>&quot;BOSunformired&quot;</td><td>1650076</td></tr><tr><td>&quot;A-Arth-Hexa-Lepidoptera-000698&quot;</td><td>null</td><td>null</td><td>&quot;Dryas iulia modesta&quot;</td><td>&quot;Eukarya&quot;</td><td>&quot;Animalia&quot;</td><td>&quot;&quot;</td><td>&quot;Insecta&quot;</td><td>&quot;&quot;</td><td>&quot;&quot;</td><td>&quot;Lepidoptera&quot;</td><td>&quot;&quot;</td><td>&quot;&quot;</td><td>&quot;&quot;</td><td>&quot;&quot;</td><td>&quot;&quot;</td><td>&quot;Nymphalidae&quot;</td><td>&quot;Heliconiinae&quot;</td><td>&quot;&quot;</td><td>&quot;Dryas&quot;</td><td>&quot;&quot;</td><td>&quot;Dryas&quot;</td><td>&quot;iulia&quot;</td><td>&quot;modesta&quot;</td><td>&quot;BOSuncornirmedSpecies&quot;</td><td>&quot;BOSunformired&quot;</td><td>1893309</td></tr></tbody></table></div>"
      ]
     },
     "metadata": {},
     "output_type": "display_data"
    }
   ],
   "source": [
    "_new_match = pl.concat([match_on_class, match_on_order, match_on_family]).drop(\n",
    "    [\"current_feature\", \"current_name\", \"name_to_match\"]\n",
    ")\n",
    "_new_match = pl.concat(\n",
    "    [\n",
    "        _new_match,\n",
    "        updated_to_matching.with_columns(\n",
    "            pl.col(\"parentNameUsageID\").cast(pl.Int64)\n",
    "        ),\n",
    "    ]\n",
    ")\n",
    "_new_match.write_csv(\"updated_to_matching.csv\")\n",
    "_new_match"
   ]
  },
  {
   "cell_type": "markdown",
   "id": "yOPj",
   "metadata": {
    "marimo": {
     "config": {
      "hide_code": true
     }
    }
   },
   "source": [
    "# OLD"
   ]
  },
  {
   "cell_type": "markdown",
   "id": "fwwy",
   "metadata": {
    "marimo": {
     "config": {
      "hide_code": true
     }
    }
   },
   "source": [
    "## stop at class, there is only current_feature = phylum matches"
   ]
  },
  {
   "cell_type": "markdown",
   "id": "LJZf",
   "metadata": {
    "marimo": {
     "config": {
      "hide_code": true
     }
    }
   },
   "source": [
    "## stops at order there is only current_feature = phylum matches"
   ]
  },
  {
   "cell_type": "markdown",
   "id": "urSm",
   "metadata": {
    "marimo": {
     "config": {
      "hide_code": true
     }
    }
   },
   "source": [
    "## stops at family, current_feature = phylum"
   ]
  },
  {
   "cell_type": "markdown",
   "id": "jxvo",
   "metadata": {
    "marimo": {
     "config": {
      "hide_code": true
     }
    }
   },
   "source": [
    "## Stops at one of the epithet, current_feature contains = phylum"
   ]
  },
  {
   "cell_type": "code",
   "execution_count": null,
   "id": "mWxS",
   "metadata": {},
   "outputs": [
    {
     "data": {
      "text/html": [
       "<div><style>\n",
       ".dataframe > thead > tr,\n",
       ".dataframe > tbody > tr {\n",
       "  text-align: right;\n",
       "  white-space: pre-wrap;\n",
       "}\n",
       "</style>\n",
       "<small>shape: (47, 11)</small><table border=\"1\" class=\"dataframe\"><thead><tr><th>current_feature</th><th>current_name</th><th>taxonName</th><th>infraspecificEpithet</th><th>specificEpithet</th><th>genus</th><th>family</th><th>order</th><th>class</th><th>phylum</th><th>kingdom</th></tr><tr><td>str</td><td>str</td><td>str</td><td>str</td><td>str</td><td>str</td><td>str</td><td>str</td><td>str</td><td>str</td><td>str</td></tr></thead><tbody><tr><td>&quot;phylum&quot;</td><td>&quot;Arthropoda&quot;</td><td>&quot;Copepod sp. 1&quot;</td><td>&quot;&quot;</td><td>&quot;&quot;</td><td>&quot;&quot;</td><td>&quot;&quot;</td><td>&quot;&quot;</td><td>&quot;Copepoda&quot;</td><td>&quot;Arthropoda&quot;</td><td>&quot;Animalia&quot;</td></tr><tr><td>&quot;phylum&quot;</td><td>&quot;Arthropoda&quot;</td><td>&quot;Copepod sp. 2&quot;</td><td>&quot;&quot;</td><td>&quot;&quot;</td><td>&quot;&quot;</td><td>&quot;&quot;</td><td>&quot;&quot;</td><td>&quot;Copepoda&quot;</td><td>&quot;Arthropoda&quot;</td><td>&quot;Animalia&quot;</td></tr><tr><td>&quot;phylum&quot;</td><td>&quot;Arthropoda&quot;</td><td>&quot;Copepod sp. 3&quot;</td><td>&quot;&quot;</td><td>&quot;&quot;</td><td>&quot;&quot;</td><td>&quot;&quot;</td><td>&quot;&quot;</td><td>&quot;Copepoda&quot;</td><td>&quot;Arthropoda&quot;</td><td>&quot;Animalia&quot;</td></tr><tr><td>&quot;phylum&quot;</td><td>&quot;Arthropoda&quot;</td><td>&quot;Copepod sp. 4&quot;</td><td>&quot;&quot;</td><td>&quot;&quot;</td><td>&quot;&quot;</td><td>&quot;&quot;</td><td>&quot;&quot;</td><td>&quot;Copepoda&quot;</td><td>&quot;Arthropoda&quot;</td><td>&quot;Animalia&quot;</td></tr><tr><td>&quot;phylum&quot;</td><td>&quot;Arthropoda&quot;</td><td>&quot;Copepod sp. 5&quot;</td><td>&quot;&quot;</td><td>&quot;&quot;</td><td>&quot;&quot;</td><td>&quot;&quot;</td><td>&quot;&quot;</td><td>&quot;Copepoda&quot;</td><td>&quot;Arthropoda&quot;</td><td>&quot;Animalia&quot;</td></tr><tr><td>&hellip;</td><td>&hellip;</td><td>&hellip;</td><td>&hellip;</td><td>&hellip;</td><td>&hellip;</td><td>&hellip;</td><td>&hellip;</td><td>&hellip;</td><td>&hellip;</td><td>&hellip;</td></tr><tr><td>&quot;phylum&quot;</td><td>&quot;Ctenophora&quot;</td><td>&quot;Comb jelly sp. 3&quot;</td><td>&quot;&quot;</td><td>&quot;&quot;</td><td>&quot;&quot;</td><td>&quot;&quot;</td><td>&quot;&quot;</td><td>&quot;Tentaculata&quot;</td><td>&quot;Ctenophora&quot;</td><td>&quot;Animalia&quot;</td></tr><tr><td>&quot;phylum&quot;</td><td>&quot;Ctenophora&quot;</td><td>&quot;Comb jelly sp. 4&quot;</td><td>&quot;&quot;</td><td>&quot;&quot;</td><td>&quot;&quot;</td><td>&quot;&quot;</td><td>&quot;&quot;</td><td>&quot;Tentaculata&quot;</td><td>&quot;Ctenophora&quot;</td><td>&quot;Animalia&quot;</td></tr><tr><td>&quot;phylum&quot;</td><td>&quot;Ctenophora&quot;</td><td>&quot;Comb jelly sp. 5&quot;</td><td>&quot;&quot;</td><td>&quot;&quot;</td><td>&quot;&quot;</td><td>&quot;&quot;</td><td>&quot;&quot;</td><td>&quot;Tentaculata&quot;</td><td>&quot;Ctenophora&quot;</td><td>&quot;Animalia&quot;</td></tr><tr><td>&quot;phylum&quot;</td><td>&quot;Ctenophora&quot;</td><td>&quot;Comb jelly sp. 6&quot;</td><td>&quot;&quot;</td><td>&quot;&quot;</td><td>&quot;&quot;</td><td>&quot;&quot;</td><td>&quot;&quot;</td><td>&quot;Tentaculata&quot;</td><td>&quot;Ctenophora&quot;</td><td>&quot;Animalia&quot;</td></tr><tr><td>&quot;phylum&quot;</td><td>&quot;Ctenophora&quot;</td><td>&quot;Benthic ctenophore sp. INT-131…</td><td>&quot;&quot;</td><td>&quot;&quot;</td><td>&quot;&quot;</td><td>&quot;&quot;</td><td>&quot;&quot;</td><td>&quot;Tentaculata&quot;</td><td>&quot;Ctenophora&quot;</td><td>&quot;Animalia&quot;</td></tr></tbody></table></div>"
      ]
     },
     "metadata": {},
     "output_type": "display_data"
    }
   ],
   "source": [
    "debug1 = still_no_match.select(\n",
    "    [\n",
    "        \"current_feature\",\n",
    "        \"current_name\",\n",
    "        # \"parentNameUsageID\",\n",
    "        \"taxonName\",\n",
    "    ]\n",
    "    + priority_columns\n",
    ")\n",
    "\n",
    "debug1.filter(pl.col(\"order\") == \"\", pl.col(\"current_feature\") == \"phylum\")"
   ]
  },
  {
   "cell_type": "markdown",
   "id": "CcZR",
   "metadata": {
    "marimo": {
     "config": {
      "hide_code": true
     }
    }
   },
   "source": [
    "### class names and phylum names:"
   ]
  },
  {
   "cell_type": "code",
   "execution_count": null,
   "id": "YWSi",
   "metadata": {},
   "outputs": [
    {
     "data": {
      "text/html": [
       "<div><style>\n",
       ".dataframe > thead > tr,\n",
       ".dataframe > tbody > tr {\n",
       "  text-align: right;\n",
       "  white-space: pre-wrap;\n",
       "}\n",
       "</style>\n",
       "<small>shape: (5, 3)</small><table border=\"1\" class=\"dataframe\"><thead><tr><th>class</th><th>phylum</th><th>len</th></tr><tr><td>str</td><td>str</td><td>u32</td></tr></thead><tbody><tr><td>&quot;Tentaculata&quot;</td><td>&quot;Ctenophora&quot;</td><td>7</td></tr><tr><td>&quot;Collembola&quot;</td><td>&quot;Arthropoda&quot;</td><td>2</td></tr><tr><td>&quot;Ostracoda&quot;</td><td>&quot;Arthropoda&quot;</td><td>16</td></tr><tr><td>&quot;Merostomata&quot;</td><td>&quot;Arthropoda&quot;</td><td>5</td></tr><tr><td>&quot;Copepoda&quot;</td><td>&quot;Arthropoda&quot;</td><td>17</td></tr></tbody></table></div>"
      ]
     },
     "metadata": {},
     "output_type": "display_data"
    }
   ],
   "source": [
    "debug1.filter(\n",
    "    pl.col(\"order\") == \"\", pl.col(\"current_feature\") == \"phylum\"\n",
    ").select(\"class\", \"phylum\").group_by(\"class\", \"phylum\").len()"
   ]
  },
  {
   "cell_type": "markdown",
   "id": "zlud",
   "metadata": {
    "marimo": {
     "config": {
      "hide_code": true
     }
    }
   },
   "source": [
    "potential matches from gbif.org  but not in `repeated_accepted_taxons`\n",
    "\n",
    "|class|phylumn|taxonID from gbif.org|url|\n",
    "|:---|:----|:----|:--\n",
    "|Ostracoda|Arthropoda|353|https://www.gbif.org/species/353|"
   ]
  },
  {
   "cell_type": "code",
   "execution_count": null,
   "id": "tZnO",
   "metadata": {},
   "outputs": [
    {
     "data": {
      "text/html": [
       "<div><style>\n",
       ".dataframe > thead > tr,\n",
       ".dataframe > tbody > tr {\n",
       "  text-align: right;\n",
       "  white-space: pre-wrap;\n",
       "}\n",
       "</style>\n",
       "<small>shape: (897, 11)</small><table border=\"1\" class=\"dataframe\"><thead><tr><th>current_feature</th><th>current_name</th><th>taxonName</th><th>infraspecificEpithet</th><th>specificEpithet</th><th>genus</th><th>family</th><th>order</th><th>class</th><th>phylum</th><th>kingdom</th></tr><tr><td>str</td><td>str</td><td>str</td><td>str</td><td>str</td><td>str</td><td>str</td><td>str</td><td>str</td><td>str</td><td>str</td></tr></thead><tbody><tr><td>&quot;phylum&quot;</td><td>&quot;Arthropoda&quot;</td><td>&quot;Amblypygi sp. ZRC_ENT00014159&quot;</td><td>&quot;&quot;</td><td>&quot;&quot;</td><td>&quot;&quot;</td><td>&quot;&quot;</td><td>&quot;Amblypygi&quot;</td><td>&quot;Arachnida&quot;</td><td>&quot;Arthropoda&quot;</td><td>&quot;Animalia&quot;</td></tr><tr><td>&quot;phylum&quot;</td><td>&quot;Arthropoda&quot;</td><td>&quot;Araneae sp. ZRC_BDP0072018&quot;</td><td>&quot;&quot;</td><td>&quot;&quot;</td><td>&quot;&quot;</td><td>&quot;&quot;</td><td>&quot;Araneae&quot;</td><td>&quot;Arachnida&quot;</td><td>&quot;Arthropoda&quot;</td><td>&quot;Animalia&quot;</td></tr><tr><td>&quot;phylum&quot;</td><td>&quot;Arthropoda&quot;</td><td>&quot;Opiliones sp. ZRCBDP_0071973&quot;</td><td>&quot;&quot;</td><td>&quot;&quot;</td><td>&quot;&quot;</td><td>&quot;&quot;</td><td>&quot;Opiliones&quot;</td><td>&quot;Arachnida&quot;</td><td>&quot;Arthropoda&quot;</td><td>&quot;Animalia&quot;</td></tr><tr><td>&quot;phylum&quot;</td><td>&quot;Arthropoda&quot;</td><td>&quot;Scorpiones sp. ZRCBDP_0071969&quot;</td><td>&quot;&quot;</td><td>&quot;&quot;</td><td>&quot;&quot;</td><td>&quot;&quot;</td><td>&quot;Scorpiones&quot;</td><td>&quot;Arachnida&quot;</td><td>&quot;Arthropoda&quot;</td><td>&quot;Animalia&quot;</td></tr><tr><td>&quot;phylum&quot;</td><td>&quot;Arthropoda&quot;</td><td>&quot;Scorpiones sp. ZRCBDP_0072011&quot;</td><td>&quot;&quot;</td><td>&quot;&quot;</td><td>&quot;&quot;</td><td>&quot;&quot;</td><td>&quot;Scorpiones&quot;</td><td>&quot;Arachnida&quot;</td><td>&quot;Arthropoda&quot;</td><td>&quot;Animalia&quot;</td></tr><tr><td>&hellip;</td><td>&hellip;</td><td>&hellip;</td><td>&hellip;</td><td>&hellip;</td><td>&hellip;</td><td>&hellip;</td><td>&hellip;</td><td>&hellip;</td><td>&hellip;</td><td>&hellip;</td></tr><tr><td>&quot;phylum&quot;</td><td>&quot;Arthropoda&quot;</td><td>&quot;Barnacle sp. SS-4392&quot;</td><td>&quot;&quot;</td><td>&quot;&quot;</td><td>&quot;&quot;</td><td>&quot;&quot;</td><td>&quot;Sessilia&quot;</td><td>&quot;Maxillopoda&quot;</td><td>&quot;Arthropoda&quot;</td><td>&quot;Animalia&quot;</td></tr><tr><td>&quot;phylum&quot;</td><td>&quot;Arthropoda&quot;</td><td>&quot;Barnacle sp. SUB-1448&quot;</td><td>&quot;&quot;</td><td>&quot;&quot;</td><td>&quot;&quot;</td><td>&quot;&quot;</td><td>&quot;Sessilia&quot;</td><td>&quot;Maxillopoda&quot;</td><td>&quot;Arthropoda&quot;</td><td>&quot;Animalia&quot;</td></tr><tr><td>&quot;phylum&quot;</td><td>&quot;Arthropoda&quot;</td><td>&quot;Barnacle sp. SEA-8136&quot;</td><td>&quot;&quot;</td><td>&quot;&quot;</td><td>&quot;&quot;</td><td>&quot;&quot;</td><td>&quot;Sessilia&quot;</td><td>&quot;Maxillopoda&quot;</td><td>&quot;Arthropoda&quot;</td><td>&quot;Animalia&quot;</td></tr><tr><td>&quot;phylum&quot;</td><td>&quot;Arthropoda&quot;</td><td>&quot;Goose barnacle sp. TR4712A-045&quot;</td><td>&quot;&quot;</td><td>&quot;&quot;</td><td>&quot;&quot;</td><td>&quot;&quot;</td><td>&quot;Pedunculata&quot;</td><td>&quot;Maxillopoda&quot;</td><td>&quot;Arthropoda&quot;</td><td>&quot;Animalia&quot;</td></tr><tr><td>&quot;phylum&quot;</td><td>&quot;Arthropoda&quot;</td><td>&quot;Barnacle sp.&quot;</td><td>&quot;&quot;</td><td>&quot;&quot;</td><td>&quot;&quot;</td><td>&quot;&quot;</td><td>&quot;Sessilia&quot;</td><td>&quot;Maxillopoda&quot;</td><td>&quot;Arthropoda&quot;</td><td>&quot;Animalia&quot;</td></tr></tbody></table></div>"
      ]
     },
     "metadata": {},
     "output_type": "display_data"
    }
   ],
   "source": [
    "debug1.filter(\n",
    "    pl.col(\"family\") == \"\",\n",
    "    pl.col(\"order\") != \"\",\n",
    "    pl.col(\"genus\") == \"\",\n",
    "    pl.col(\"current_feature\") == \"phylum\",\n",
    ")"
   ]
  },
  {
   "cell_type": "markdown",
   "id": "xvXZ",
   "metadata": {
    "marimo": {
     "config": {
      "hide_code": true
     }
    }
   },
   "source": [
    "### order names when current name = Arthropoda:"
   ]
  },
  {
   "cell_type": "code",
   "execution_count": null,
   "id": "CLip",
   "metadata": {
    "marimo": {
     "config": {
      "hide_code": true
     }
    }
   },
   "outputs": [
    {
     "data": {
      "application/json": "[\"Arthropoda\"]"
     },
     "metadata": {},
     "output_type": "display_data"
    }
   ],
   "source": [
    "# current Name:\n",
    "debug1.filter(\n",
    "    pl.col(\"family\") == \"\",\n",
    "    pl.col(\"order\") != \"\",\n",
    "    pl.col(\"genus\") == \"\",\n",
    "    pl.col(\"current_feature\") == \"phylum\",\n",
    ")[\"current_name\"].unique().to_list()"
   ]
  },
  {
   "cell_type": "code",
   "execution_count": null,
   "id": "YECM",
   "metadata": {},
   "outputs": [
    {
     "data": {
      "application/json": "[\"Amphipoda\", \"Mysida\", \"Leptostraca\", \"Ephemeroptera\", \"Plecoptera\", \"Sessilia\", \"Isopoda\", \"Opiliones\", \"Dermaptera\", \"Scorpiones\", \"Cumacea\", \"Pedunculata\", \"Stomatopoda\", \"Hemiptera\", \"Mantodea\", \"Pantopoda\", \"Decapoda\", \"Amblypygi\", \"Psocodea\", \"Araneae\", \"Tanaidacea\", \"blank-Acari\"]"
     },
     "metadata": {},
     "output_type": "display_data"
    }
   ],
   "source": [
    "debug1.filter(\n",
    "    pl.col(\"family\") == \"\",\n",
    "    pl.col(\"order\") != \"\",\n",
    "    pl.col(\"genus\") == \"\",\n",
    "    pl.col(\"current_feature\") == \"phylum\",\n",
    ")[\"order\"].unique().to_list()"
   ]
  },
  {
   "cell_type": "code",
   "execution_count": null,
   "id": "cEAS",
   "metadata": {},
   "outputs": [
    {
     "data": {
      "text/html": [
       "<div><style>\n",
       ".dataframe > thead > tr,\n",
       ".dataframe > tbody > tr {\n",
       "  text-align: right;\n",
       "  white-space: pre-wrap;\n",
       "}\n",
       "</style>\n",
       "<small>shape: (1_130, 11)</small><table border=\"1\" class=\"dataframe\"><thead><tr><th>current_feature</th><th>current_name</th><th>taxonName</th><th>infraspecificEpithet</th><th>specificEpithet</th><th>genus</th><th>family</th><th>order</th><th>class</th><th>phylum</th><th>kingdom</th></tr><tr><td>str</td><td>str</td><td>str</td><td>str</td><td>str</td><td>str</td><td>str</td><td>str</td><td>str</td><td>str</td><td>str</td></tr></thead><tbody><tr><td>&quot;phylum&quot;</td><td>&quot;Arthropoda&quot;</td><td>&quot;Araneidae sp. &quot;ZRC_BDP0050080&quot;&quot;</td><td>&quot;&quot;</td><td>&quot;&quot;</td><td>&quot;&quot;</td><td>&quot;Araneidae&quot;</td><td>&quot;Araneae&quot;</td><td>&quot;Arachnida&quot;</td><td>&quot;Arthropoda&quot;</td><td>&quot;Animalia&quot;</td></tr><tr><td>&quot;phylum&quot;</td><td>&quot;Arthropoda&quot;</td><td>&quot;Hahniidae sp. &quot;ZRC_BDP0050902&quot;&quot;</td><td>&quot;&quot;</td><td>&quot;&quot;</td><td>&quot;&quot;</td><td>&quot;Hahniidae&quot;</td><td>&quot;Araneae&quot;</td><td>&quot;Arachnida&quot;</td><td>&quot;Arthropoda&quot;</td><td>&quot;Animalia&quot;</td></tr><tr><td>&quot;phylum&quot;</td><td>&quot;Arthropoda&quot;</td><td>&quot;Salticidae sp. &quot;ZRC_BDP0057873…</td><td>&quot;&quot;</td><td>&quot;&quot;</td><td>&quot;&quot;</td><td>&quot;Salticidae&quot;</td><td>&quot;Araneae&quot;</td><td>&quot;Arachnida&quot;</td><td>&quot;Arthropoda&quot;</td><td>&quot;Animalia&quot;</td></tr><tr><td>&quot;phylum&quot;</td><td>&quot;Arthropoda&quot;</td><td>&quot;Myrmarachne sp. &quot;ZRC_BDP006085…</td><td>&quot;&quot;</td><td>&quot;&quot;</td><td>&quot;&quot;</td><td>&quot;Salticidae&quot;</td><td>&quot;Araneae&quot;</td><td>&quot;Arachnida&quot;</td><td>&quot;Arthropoda&quot;</td><td>&quot;Animalia&quot;</td></tr><tr><td>&quot;phylum&quot;</td><td>&quot;Arthropoda&quot;</td><td>&quot;Rhene sp. &quot;ZRC_BDP0060870&quot;&quot;</td><td>&quot;&quot;</td><td>&quot;&quot;</td><td>&quot;&quot;</td><td>&quot;Salticidae&quot;</td><td>&quot;Araneae&quot;</td><td>&quot;Arachnida&quot;</td><td>&quot;Arthropoda&quot;</td><td>&quot;Animalia&quot;</td></tr><tr><td>&hellip;</td><td>&hellip;</td><td>&hellip;</td><td>&hellip;</td><td>&hellip;</td><td>&hellip;</td><td>&hellip;</td><td>&hellip;</td><td>&hellip;</td><td>&hellip;</td><td>&hellip;</td></tr><tr><td>&quot;phylum&quot;</td><td>&quot;Arthropoda&quot;</td><td>&quot;Thompsonia sp.&quot;</td><td>&quot;&quot;</td><td>&quot;&quot;</td><td>&quot;&quot;</td><td>&quot;Thompsoniidae&quot;</td><td>&quot;Akentrogonida&quot;</td><td>&quot;Maxillopoda&quot;</td><td>&quot;Arthropoda&quot;</td><td>&quot;Animalia&quot;</td></tr><tr><td>&quot;phylum&quot;</td><td>&quot;Ctenophora&quot;</td><td>&quot;Coeloplana sp. 1&quot;</td><td>&quot;&quot;</td><td>&quot;&quot;</td><td>&quot;&quot;</td><td>&quot;Coeloplanidae&quot;</td><td>&quot;Platyctenida&quot;</td><td>&quot;Tentaculata&quot;</td><td>&quot;Ctenophora&quot;</td><td>&quot;Animalia&quot;</td></tr><tr><td>&quot;phylum&quot;</td><td>&quot;Ctenophora&quot;</td><td>&quot;Coeloplana sp. 2&quot;</td><td>&quot;&quot;</td><td>&quot;&quot;</td><td>&quot;&quot;</td><td>&quot;Coeloplanidae&quot;</td><td>&quot;Platyctenida&quot;</td><td>&quot;Tentaculata&quot;</td><td>&quot;Ctenophora&quot;</td><td>&quot;Animalia&quot;</td></tr><tr><td>&quot;phylum&quot;</td><td>&quot;Ctenophora&quot;</td><td>&quot;Coeloplana sp. 3&quot;</td><td>&quot;&quot;</td><td>&quot;&quot;</td><td>&quot;&quot;</td><td>&quot;Coeloplanidae&quot;</td><td>&quot;Platyctenida&quot;</td><td>&quot;Tentaculata&quot;</td><td>&quot;Ctenophora&quot;</td><td>&quot;Animalia&quot;</td></tr><tr><td>&quot;phylum&quot;</td><td>&quot;Ctenophora&quot;</td><td>&quot;Coeloplana sp.&quot;</td><td>&quot;&quot;</td><td>&quot;&quot;</td><td>&quot;&quot;</td><td>&quot;Coeloplanidae&quot;</td><td>&quot;Platyctenida&quot;</td><td>&quot;Tentaculata&quot;</td><td>&quot;Ctenophora&quot;</td><td>&quot;Animalia&quot;</td></tr></tbody></table></div>"
      ]
     },
     "metadata": {},
     "output_type": "display_data"
    }
   ],
   "source": [
    "debug1.filter(\n",
    "    pl.col(\"family\") != \"\",\n",
    "    pl.col(\"genus\") == \"\",\n",
    "    pl.col(\"current_feature\") == \"phylum\",\n",
    ")"
   ]
  },
  {
   "cell_type": "markdown",
   "id": "iXej",
   "metadata": {
    "marimo": {
     "config": {
      "hide_code": true
     }
    }
   },
   "source": [
    "### family names where current_feature = phylum"
   ]
  },
  {
   "cell_type": "code",
   "execution_count": null,
   "id": "EJmg",
   "metadata": {},
   "outputs": [
    {
     "data": {
      "application/json": "[\"Blaberidae\", \"Melyridae\", \"Oedemeridae\", \"Pentatomidae\", \"Aethridae\", \"Majidae\", \"Phliantidae\", \"Anthicidae\", \"Eucnemidae\", \"Inachidae\", \"Scyllaridae\", \"Solenoceridae\", \"Gryllidae\", \"Upogebiidae\", \"Ocypodidae\", \"Cirolanidae\", \"Paguridae\", \"Ptilodactylidae\", \"Tenebrionidae\", \"Tingidae\", \"Cantharidae\", \"Lepadidae\", \"Corydiidae\", \"Ptinidae\", \"Ecnomidae\", \"Erotylidae\", \"Cleridae\", \"Brentidae\", \"Pyrgomatidae\", \"Histeridae\", \"Menoponidae\", \"Hymenosomatidae\", \"Menippidae\", \"Palinuridae\", \"Nepidae\", \"Lysianassidae\", \"Passalidae\", \"Anthuridae\", \"Pagurapseudidae\", \"Portunidae\", \"Ptiliidae\", \"Hybosoridae\", \"Amorphoscelidae\", \"Calappidae\", \"Hydropsychidae\", \"Aegidae\", \"Tettigoniidae\", \"Sandokanidae\", \"Coenobitidae\", \"Gnathiidae\", \"Tetratomidae\", \"Lampyridae\", \"Termitidae\", \"Haaniidae\", \"Membracidae\", \"Pisauridae\", \"Crangonidae\", \"Santiidae\", \"Sesarmidae\", \"Sacculinidae\", \"Phalacridae\", \"Leucosiidae\", \"Chrysomelidae\", \"Corallanidae\", \"Polymitarcyidae\", \"Dipseudopsidae\", \"Ripiphoridae\", \"Squillidae\", \"Ampeliscidae\", \"Cerambycidae\", \"Chthamalidae\", \"Cicadellidae\", \"Fulgoridae\", \"Bopyridae\", \"Janiridae\", \"Lysmatidae\", \"Parthenopidae\", \"Coeloplanidae\", \"Gryllacrididae\", \"Dryopidae\", \"Theridiidae\", \"Staphylinidae\", \"Callianassidae\", \"Miridae\", \"Hahniidae\", \"Scirtidae\", \"Hydroptilidae\", \"Alpheidae\", \"Dexaminidae\", \"Macrophthalmidae\", \"Leptoceridae\", \"Leucothoidae\", \"Myrmecolacidae\", \"Tetraclitidae\", \"Tridactylidae\", \"Acrididae\", \"Talitridae\", \"Salticidae\", \"Attelabidae\", \"Penaeidae\", \"Varunidae\", \"Cymothoidae\", \"Reduviidae\", \"Carabidae\", \"Diogenidae\", \"Alydidae\", \"Scarabaeidae\", \"Tylidae\", \"Melandryidae\", \"Ampithoidae\", \"Dotillidae\", \"Dermestidae\", \"Sparassidae\", \"Xanthidae\", \"Pilumnidae\", \"Ectobiidae\", \"Corylophidae\", \"Kalotermitidae\", \"Tetrigidae\", \"Pinnotheridae\", \"Mordellidae\", \"Polycentropodidae\", \"Nitidulidae\", \"Heterogastridae\", \"Dorippidae\", \"Sphaeromatidae\", \"Mantidae\", \"Plagusiidae\", \"Lysiosquillidae\", \"Dytiscidae\", \"Hippolytidae\", \"Squillidea\", \"Acetidae\", \"Elateridae\", \"Trachelidae\", \"Corystidae\", \"Dinidoridae\", \"Lucanidae\", \"Rhipiceridae\", \"Matutidae\", \"Philopteridae\", \"Desidae\", \"Ligiidae\", \"Zodariidae\", \"Camptandriidae\", \"Porcellanidae\", \"Caligidae\", \"Processidae\", \"Derbidae\", \"Galatheidae\", \"Maxillipiidae\", \"Balanidae\", \"Araneidae\", \"Rhynchomolgidae\", \"Limulidae\", \"Dromiidae\", \"Curculionidae\", \"Chorotypidae\", \"Enicocephalidae\", \"Grapsidae\", \"Epialtidae\", \"Maeridae\", \"Hydrophilidae\", \"Thelyphonidae\", \"Palaemonidae\", \"Idoteidae\", \"Anthribidae\", \"Calamoceratidae\", \"Dascillidae\", \"Salpingidae\", \"Lernanthropidae\", \"Rhaphidophoridae\", \"Thompsoniidae\", \"Hyalidae\"]"
     },
     "metadata": {},
     "output_type": "display_data"
    }
   ],
   "source": [
    "debug1.filter(\n",
    "    pl.col(\"family\") != \"\",\n",
    "    pl.col(\"genus\") == \"\",\n",
    "    pl.col(\"current_feature\") == \"phylum\",\n",
    ")[\"family\"].unique().to_list()"
   ]
  },
  {
   "cell_type": "markdown",
   "id": "UmEG",
   "metadata": {
    "marimo": {
     "config": {
      "hide_code": true
     }
    }
   },
   "source": [
    "### current names where current_feature = phylum:"
   ]
  },
  {
   "cell_type": "code",
   "execution_count": null,
   "id": "vEBW",
   "metadata": {},
   "outputs": [
    {
     "data": {
      "application/json": "[\"Ctenophora\", \"Arthropoda\"]"
     },
     "metadata": {},
     "output_type": "display_data"
    }
   ],
   "source": [
    "debug1.filter(\n",
    "    pl.col(\"family\") != \"\",\n",
    "    pl.col(\"genus\") == \"\",\n",
    "    pl.col(\"current_feature\") == \"phylum\",\n",
    ")[\"current_name\"].unique().to_list()"
   ]
  },
  {
   "cell_type": "code",
   "execution_count": null,
   "id": "kLmu",
   "metadata": {},
   "outputs": [
    {
     "data": {
      "text/html": [
       "<div><style>\n",
       ".dataframe > thead > tr,\n",
       ".dataframe > tbody > tr {\n",
       "  text-align: right;\n",
       "  white-space: pre-wrap;\n",
       "}\n",
       "</style>\n",
       "<small>shape: (208, 11)</small><table border=\"1\" class=\"dataframe\"><thead><tr><th>current_feature</th><th>current_name</th><th>taxonName</th><th>infraspecificEpithet</th><th>specificEpithet</th><th>genus</th><th>family</th><th>order</th><th>class</th><th>phylum</th><th>kingdom</th></tr><tr><td>str</td><td>str</td><td>str</td><td>str</td><td>str</td><td>str</td><td>str</td><td>str</td><td>str</td><td>str</td><td>str</td></tr></thead><tbody><tr><td>&quot;phylum&quot;</td><td>&quot;Arthropoda&quot;</td><td>&quot;Enoplolambrus tumidus&quot;</td><td>&quot;&quot;</td><td>&quot;tumidus&quot;</td><td>&quot;Enoplolambrus&quot;</td><td>&quot;Parthenopidae&quot;</td><td>&quot;Decapoda&quot;</td><td>&quot;Malacostraca&quot;</td><td>&quot;Arthropoda&quot;</td><td>&quot;Animalia&quot;</td></tr><tr><td>&quot;phylum&quot;</td><td>&quot;Arthropoda&quot;</td><td>&quot;Nocticola pheromosa&quot;</td><td>&quot;&quot;</td><td>&quot;pheromosa&quot;</td><td>&quot;Nocticola&quot;</td><td>&quot;Nocticolidae&quot;</td><td>&quot;Blattodea&quot;</td><td>&quot;Insecta&quot;</td><td>&quot;Arthropoda&quot;</td><td>&quot;Animalia&quot;</td></tr><tr><td>&quot;phylum&quot;</td><td>&quot;Arthropoda&quot;</td><td>&quot;Perigona nigriceps&quot;</td><td>&quot;&quot;</td><td>&quot;nirgriceps&quot;</td><td>&quot;Perigona&quot;</td><td>&quot;Carabidae&quot;</td><td>&quot;Coleoptera&quot;</td><td>&quot;Insecta&quot;</td><td>&quot;Arthropoda&quot;</td><td>&quot;Animalia&quot;</td></tr><tr><td>&quot;phylum&quot;</td><td>&quot;Arthropoda&quot;</td><td>&quot;Amphisternus vomeratus&quot;</td><td>&quot;&quot;</td><td>&quot;vomeratus&quot;</td><td>&quot;Amphisternus&quot;</td><td>&quot;Endomychidae&quot;</td><td>&quot;Coleoptera&quot;</td><td>&quot;Insecta&quot;</td><td>&quot;Arthropoda&quot;</td><td>&quot;Animalia&quot;</td></tr><tr><td>&quot;phylum&quot;</td><td>&quot;Arthropoda&quot;</td><td>&quot;Episcapha quadrimacula&quot;</td><td>&quot;&quot;</td><td>&quot;quadrimacula&quot;</td><td>&quot;Episcapha&quot;</td><td>&quot;Erotylidae&quot;</td><td>&quot;Coleoptera&quot;</td><td>&quot;Insecta&quot;</td><td>&quot;Arthropoda&quot;</td><td>&quot;Animalia&quot;</td></tr><tr><td>&hellip;</td><td>&hellip;</td><td>&hellip;</td><td>&hellip;</td><td>&hellip;</td><td>&hellip;</td><td>&hellip;</td><td>&hellip;</td><td>&hellip;</td><td>&hellip;</td><td>&hellip;</td></tr><tr><td>&quot;phylum&quot;</td><td>&quot;Arthropoda&quot;</td><td>&quot;Aeschines bucculatus&quot;</td><td>&quot;&quot;</td><td>&quot;bucculatus&quot;</td><td>&quot;Aeschines&quot;</td><td>&quot;Pyrrhocoridae&quot;</td><td>&quot;Hemiptera&quot;</td><td>&quot;Insecta&quot;</td><td>&quot;Arthropoda&quot;</td><td>&quot;Animalia&quot;</td></tr><tr><td>&quot;phylum&quot;</td><td>&quot;Arthropoda&quot;</td><td>&quot;Paracritheus trimaculatus&quot;</td><td>&quot;&quot;</td><td>&quot;trimaculatus&quot;</td><td>&quot;Paracritheus&quot;</td><td>&quot;Pentatomidae&quot;</td><td>&quot;Hemiptera&quot;</td><td>&quot;Insecta&quot;</td><td>&quot;Arthropoda&quot;</td><td>&quot;Animalia&quot;</td></tr><tr><td>&quot;phylum&quot;</td><td>&quot;Arthropoda&quot;</td><td>&quot;Elasmolomus valbum&quot;</td><td>&quot;&quot;</td><td>&quot;valbum&quot;</td><td>&quot;Elasmolomus&quot;</td><td>&quot;Rhyparochromidae&quot;</td><td>&quot;Hemiptera&quot;</td><td>&quot;Insecta&quot;</td><td>&quot;Arthropoda&quot;</td><td>&quot;Animalia&quot;</td></tr><tr><td>&quot;phylum&quot;</td><td>&quot;Arthropoda&quot;</td><td>&quot;Glaucias dorsalis&quot;</td><td>&quot;&quot;</td><td>&quot;dorsalis&quot;</td><td>&quot;Glaucias&quot;</td><td>&quot;Pentatomidae&quot;</td><td>&quot;Hemiptera&quot;</td><td>&quot;Insecta&quot;</td><td>&quot;Arthropoda&quot;</td><td>&quot;Animalia&quot;</td></tr><tr><td>&quot;phylum&quot;</td><td>&quot;Arthropoda&quot;</td><td>&quot;Octolasmis cf. warwickii&quot;</td><td>&quot;&quot;</td><td>&quot;warwickii&quot;</td><td>&quot;Octolasmis&quot;</td><td>&quot;Poecilasmatidae&quot;</td><td>&quot;Pedunculata&quot;</td><td>&quot;Maxillopoda&quot;</td><td>&quot;Arthropoda&quot;</td><td>&quot;Animalia&quot;</td></tr></tbody></table></div>"
      ]
     },
     "metadata": {},
     "output_type": "display_data"
    }
   ],
   "source": [
    "debug1.filter(pl.col(\"genus\") != \"\", pl.col(\"current_feature\") == \"phylum\")"
   ]
  },
  {
   "cell_type": "markdown",
   "id": "IpqN",
   "metadata": {
    "marimo": {
     "config": {
      "hide_code": true
     }
    }
   },
   "source": [
    "### specificEpithet names when current_feature = phylum and current_name = \"Arthropoda\""
   ]
  },
  {
   "cell_type": "markdown",
   "id": "dxZZ",
   "metadata": {
    "marimo": {
     "config": {
      "hide_code": true
     }
    }
   },
   "source": [
    "#### current_name when current_feature = phylum"
   ]
  },
  {
   "cell_type": "code",
   "execution_count": null,
   "id": "dlnW",
   "metadata": {},
   "outputs": [
    {
     "data": {
      "application/json": "[\"Arthropoda\"]"
     },
     "metadata": {},
     "output_type": "display_data"
    }
   ],
   "source": [
    "debug1.filter(pl.col(\"genus\") != \"\", pl.col(\"current_feature\") == \"phylum\")[\n",
    "    \"current_name\"\n",
    "].unique().to_list()"
   ]
  },
  {
   "cell_type": "code",
   "execution_count": null,
   "id": "TTti",
   "metadata": {},
   "outputs": [
    {
     "data": {
      "application/json": "[\"reticula\", \"laticollis\", \"pheromosa\", \"minutiuscula\", \"laevifrons\", \"vahlii\", \"valbum\", \"singaporensis\", \"umbilicatus\", \"montandoni\", \"ambulator\", \"minutus\", \"bocakorum\", \"torulentum\", \"lateripunctatum\", \"atripennis\", \"severini\", \"guskovae\", \"undulata\", \"collaris\", \"discoidalis\", \"nubilus\", \"apicata\", \"vigilans\", \"suspectus\", \"seticornis\", \"unicolor\", \"ornatus\", \"ingibbosa\", \"malayana\", \"cirratipillis\", \"jonoptera\", \"guttata\", \"boisduvalii\", \"hispidulus\", \"aureolus\", \"acuminata\", \"semiviridis\", \"cylindrinum\", \"jacobyi\", \"bifasciatum\", \"aureipennis\", \"indicus\", \"billardieri\", \"lowei\", \"occulta\", \"buquetii\", \"limbella\", \"elegans\", \"quadripustulatus\", \"granulosum\", \"ornata\", \"rafflesi\", \"humeralis\", \"nigricollis\", \"bifasciata\", \"terrestris\", \"granulosa\", \"superba\", \"cyanipennis\", \"minor\", \"horsfeldi\", \"quadrimacula\", \"stictica\", \"oberthuri\", \"limbalis\", \"sumatrensis\", \"fuscoaeneus\", \"speciosa\", \"quadripustulata\", \"rugosus\", \"ignavus\", \"aeneus\", \"thomsoni\", \"dillwyni\", \"tricondyloides\", \"assamensis\", \"pallidispina\", \"abdominalis\", \"jansoni\", \"tectus\", \"sedecimpustulata\", \"wallacei\", \"robustus\", \"javana\", \"sumatrana\", \"parva\", \"purpureipennis\", \"siamensis\", \"fleutiauxi\", \"semipunctata\", \"annandalei\", \"dorsalis\", \"warwickii\", \"perplexus\", \"cursor\", \"serdanga\", \"frontalis\", \"gloriosus\", \"putridus\", \"candezei\", \"mentaweiensis\", \"trimaculatus\", \"lunulata\", \"albicornis\", \"tuberculatus\", \"shayakhmetovai\", \"liturata\", \"anthracina\", \"bipustulata\", \"capitata\", \"mannerheimi\", \"vomeratus\", \"orbatus\", \"ocellata\", \"elbeli\", \"calligera\", \"albocinctum\", \"parvulus\", \"rufonotatum\", \"antennata\", \"flavoguttatus\", \"defector\", \"lineatus\", \"aeneipennis\", \"hirta\", \"cupreata\", \"cineraceus\", \"baumi\", \"pinguis\", \"clytiformis\", \"infima\", \"pellax\", \"annadalei\", \"fasciata\", \"apicalis\", \"formosus\", \"bucculatus\", \"pardalis\", \"filifer\", \"ligatus\", \"caeruleipennis\", \"fasciipes\", \"anchora\", \"tumidus\", \"gazella\", \"limbatus\", \"nirgriceps\", \"bretinghami\", \"fuscolineata\", \"xanthopustulata\", \"dolini\", \"sanguinicrus\", \"bruchoides\", \"nigripennis\", \"dilatatus\", \"pallicornis\", \"luteicornis\", \"antoni\", \"flaviventris\", \"pallipes\", \"bowringi\", \"leprosus\", \"unifasciata\", \"aspera\", \"coffeae\", \"levelillei\", \"viridipennis\", \"diversa\", \"westwoodi\", \"ornatula\", \"shelfordi\", \"signicollis\", \"pygidialis\", \"monacha\", \"obesus\", \"politus\", \"fervidum\", \"bifasciatus\", \"virgulatus\", \"grata\", \"chrysomeloides\", \"hyalinipennis\", \"simon\", \"saundersi\", \"selatanus\", \"lefevrei\", \"peregrinus\", \"brevicollis\", \"gratiosa\", \"ctenostomoides\", \"dorsiferus\"]"
     },
     "metadata": {},
     "output_type": "display_data"
    }
   ],
   "source": [
    "debug1.filter(pl.col(\"genus\") != \"\", pl.col(\"current_feature\") == \"phylum\")[\n",
    "    \"specificEpithet\"\n",
    "].unique().to_list()"
   ]
  }
 ],
 "metadata": {},
 "nbformat": 4,
 "nbformat_minor": 5
}
