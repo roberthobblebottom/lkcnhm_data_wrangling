{
 "cells": [
  {
   "cell_type": "markdown",
   "id": "Hbol",
   "metadata": {
    "marimo": {
     "config": {
      "hide_code": true
     }
    }
   },
   "source": [
    "# DF"
   ]
  },
  {
   "cell_type": "code",
   "execution_count": null,
   "id": "MJUe",
   "metadata": {},
   "outputs": [
    {
     "name": "stdout",
     "output_type": "stream",
     "text": [
      "bos_df columns: ['speciesId', 'phylum', 'class', 'subclass', 'order', 'sub-order', 'infraorder', 'section', 'subsection', 'superfamily', 'family', 'subfamily', 'tribe', 'genus', 'subgenus', 'specificEpithet', 'infraspecificEpithet', 'taxonName', 'source_file', 'taxon', 'superorder', 'domain', 'kingdom', 'section/parvorder', 'Column2', 'infraclass', 'commonName', 'species2', 'clade 1', 'clade 2', 'clade 3', 'genericName']\n"
     ]
    },
    {
     "name": "stdout",
     "output_type": "stream",
     "text": [
      "taxon.csv columns, odict_keys(['taxonID', 'genericName', 'genus', 'specificEpithet', 'infraspecificEpithet', 'taxonomicStatus', 'acceptedNameUsageID'])\n"
     ]
    }
   ],
   "source": [
    "import marimo as mo\n",
    "import polars as pl\n",
    "\n",
    "from r_translation import join\n",
    "\n",
    "matching, contentious = join()\n",
    "matching = matching.with_columns(\n",
    "    genus=pl.when(\n",
    "        (pl.col(\"genus\").is_null()) & (pl.col(\"specificEpithet\").is_not_null())\n",
    "    )\n",
    "    .then(pl.col(\"taxonName\").str.split(\" \").list[0])\n",
    "    .otherwise(\"genus\")\n",
    ")"
   ]
  },
  {
   "cell_type": "code",
   "execution_count": null,
   "id": "vblA",
   "metadata": {},
   "outputs": [
    {
     "data": {
      "text/html": [
       "<pre style='font-size: 12px'>odict_keys([&#x27;speciesId&#x27;, &#x27;matched_taxonID&#x27;, &#x27;acceptedNameUsageID&#x27;, &#x27;taxonName&#x27;, &#x27;domain&#x27;, &#x27;kingdom&#x27;, &#x27;phylum&#x27;, &#x27;class&#x27;, &#x27;subclass&#x27;, &#x27;superorder&#x27;, &#x27;order&#x27;, &#x27;sub-order&#x27;, &#x27;infraorder&#x27;, &#x27;section&#x27;, &#x27;subsection&#x27;, &#x27;superfamily&#x27;, &#x27;family&#x27;, &#x27;subfamily&#x27;, &#x27;tribe&#x27;, &#x27;genus&#x27;, &#x27;subgenus&#x27;, &#x27;genericName&#x27;, &#x27;specificEpithet&#x27;, &#x27;infraspecificEpithet&#x27;])</pre>"
      ]
     },
     "metadata": {},
     "output_type": "display_data"
    }
   ],
   "source": [
    "contentious.collect_schema().keys()"
   ]
  },
  {
   "cell_type": "markdown",
   "id": "bkHC",
   "metadata": {},
   "source": [
    "nomatch lazyframe is for BOS data point that has no current match in gbif data set."
   ]
  },
  {
   "cell_type": "code",
   "execution_count": null,
   "id": "lEQa",
   "metadata": {},
   "outputs": [
    {
     "data": {
      "text/html": [
       "<div><style>\n",
       ".dataframe > thead > tr,\n",
       ".dataframe > tbody > tr {\n",
       "  text-align: right;\n",
       "  white-space: pre-wrap;\n",
       "}\n",
       "</style>\n",
       "<small>shape: (8_445, 27)</small><table border=\"1\" class=\"dataframe\"><thead><tr><th>speciesId</th><th>matched_taxonID</th><th>acceptedNameUsageID</th><th>taxonName</th><th>domain</th><th>kingdom</th><th>phylum</th><th>class</th><th>subclass</th><th>superorder</th><th>order</th><th>sub-order</th><th>infraorder</th><th>section</th><th>subsection</th><th>superfamily</th><th>family</th><th>subfamily</th><th>tribe</th><th>genus</th><th>subgenus</th><th>genericName</th><th>specificEpithet</th><th>infraspecificEpithet</th><th>taxonRank</th><th>taxonomicStatus</th><th>parentNameUsageID</th></tr><tr><td>str</td><td>i64</td><td>i64</td><td>str</td><td>str</td><td>str</td><td>str</td><td>str</td><td>str</td><td>str</td><td>str</td><td>str</td><td>str</td><td>str</td><td>str</td><td>str</td><td>str</td><td>str</td><td>str</td><td>str</td><td>str</td><td>str</td><td>str</td><td>str</td><td>str</td><td>str</td><td>null</td></tr></thead><tbody><tr><td>&quot;A-Anne-Clit-Hirudinea-000001&quot;</td><td>null</td><td>null</td><td>&quot;Glossiphoniidae sp. &quot;1&quot;&quot;</td><td>&quot;Eukarya&quot;</td><td>&quot;Animalia&quot;</td><td>&quot;Annelida&quot;</td><td>&quot;Clitellata&quot;</td><td>&quot;Hirudinea&quot;</td><td>&quot;&quot;</td><td>&quot;Rhynchobdellida&quot;</td><td>&quot;&quot;</td><td>&quot;&quot;</td><td>&quot;&quot;</td><td>&quot;&quot;</td><td>&quot;&quot;</td><td>&quot;Glossiphoniidae&quot;</td><td>&quot;&quot;</td><td>&quot;&quot;</td><td>&quot;&quot;</td><td>&quot;&quot;</td><td>&quot;&quot;</td><td>&quot;&quot;</td><td>&quot;&quot;</td><td>&quot;BOSuncornirmedSpecies&quot;</td><td>&quot;BOSunformired&quot;</td><td>null</td></tr><tr><td>&quot;A-Anne-Clit-Hirudinea-000002&quot;</td><td>null</td><td>null</td><td>&quot;Glossiphoniidae sp. &quot;2&quot;&quot;</td><td>&quot;Eukarya&quot;</td><td>&quot;Animalia&quot;</td><td>&quot;Annelida&quot;</td><td>&quot;Clitellata&quot;</td><td>&quot;Hirudinea&quot;</td><td>&quot;&quot;</td><td>&quot;Rhynchobdellida&quot;</td><td>&quot;&quot;</td><td>&quot;&quot;</td><td>&quot;&quot;</td><td>&quot;&quot;</td><td>&quot;&quot;</td><td>&quot;Glossiphoniidae&quot;</td><td>&quot;&quot;</td><td>&quot;&quot;</td><td>&quot;&quot;</td><td>&quot;&quot;</td><td>&quot;&quot;</td><td>&quot;&quot;</td><td>&quot;&quot;</td><td>&quot;BOSuncornirmedSpecies&quot;</td><td>&quot;BOSunformired&quot;</td><td>null</td></tr><tr><td>&quot;A-Anne-Clit-Hirudinea-000003&quot;</td><td>null</td><td>null</td><td>&quot;Glossiphoniidae sp. &quot;3&quot;&quot;</td><td>&quot;Eukarya&quot;</td><td>&quot;Animalia&quot;</td><td>&quot;Annelida&quot;</td><td>&quot;Clitellata&quot;</td><td>&quot;Hirudinea&quot;</td><td>&quot;&quot;</td><td>&quot;Rhynchobdellida&quot;</td><td>&quot;&quot;</td><td>&quot;&quot;</td><td>&quot;&quot;</td><td>&quot;&quot;</td><td>&quot;&quot;</td><td>&quot;Glossiphoniidae&quot;</td><td>&quot;&quot;</td><td>&quot;&quot;</td><td>&quot;&quot;</td><td>&quot;&quot;</td><td>&quot;&quot;</td><td>&quot;&quot;</td><td>&quot;&quot;</td><td>&quot;BOSuncornirmedSpecies&quot;</td><td>&quot;BOSunformired&quot;</td><td>null</td></tr><tr><td>&quot;A-Anne-Clit-Hirudinea-000004&quot;</td><td>null</td><td>null</td><td>&quot;Hirudinidae sp. &quot;1&quot;&quot;</td><td>&quot;Eukarya&quot;</td><td>&quot;Animalia&quot;</td><td>&quot;Annelida&quot;</td><td>&quot;Clitellata&quot;</td><td>&quot;Hirudinea&quot;</td><td>&quot;&quot;</td><td>&quot;Arhynchobdellida&quot;</td><td>&quot;&quot;</td><td>&quot;&quot;</td><td>&quot;&quot;</td><td>&quot;&quot;</td><td>&quot;&quot;</td><td>&quot;Hirudinidae&quot;</td><td>&quot;&quot;</td><td>&quot;&quot;</td><td>&quot;&quot;</td><td>&quot;&quot;</td><td>&quot;&quot;</td><td>&quot;&quot;</td><td>&quot;&quot;</td><td>&quot;BOSuncornirmedSpecies&quot;</td><td>&quot;BOSunformired&quot;</td><td>null</td></tr><tr><td>&quot;A-Anne-Clit-Hirudinea-000005&quot;</td><td>null</td><td>null</td><td>&quot;Hirudinidae sp. &quot;2&quot;&quot;</td><td>&quot;Eukarya&quot;</td><td>&quot;Animalia&quot;</td><td>&quot;Annelida&quot;</td><td>&quot;Clitellata&quot;</td><td>&quot;Hirudinea&quot;</td><td>&quot;&quot;</td><td>&quot;Arhynchobdellida&quot;</td><td>&quot;&quot;</td><td>&quot;&quot;</td><td>&quot;&quot;</td><td>&quot;&quot;</td><td>&quot;&quot;</td><td>&quot;Hirudinidae&quot;</td><td>&quot;&quot;</td><td>&quot;&quot;</td><td>&quot;&quot;</td><td>&quot;&quot;</td><td>&quot;&quot;</td><td>&quot;&quot;</td><td>&quot;&quot;</td><td>&quot;BOSuncornirmedSpecies&quot;</td><td>&quot;BOSunformired&quot;</td><td>null</td></tr><tr><td>&hellip;</td><td>&hellip;</td><td>&hellip;</td><td>&hellip;</td><td>&hellip;</td><td>&hellip;</td><td>&hellip;</td><td>&hellip;</td><td>&hellip;</td><td>&hellip;</td><td>&hellip;</td><td>&hellip;</td><td>&hellip;</td><td>&hellip;</td><td>&hellip;</td><td>&hellip;</td><td>&hellip;</td><td>&hellip;</td><td>&hellip;</td><td>&hellip;</td><td>&hellip;</td><td>&hellip;</td><td>&hellip;</td><td>&hellip;</td><td>&hellip;</td><td>&hellip;</td><td>&hellip;</td></tr><tr><td>&quot;A-Hemi-Enteropneusta-000010&quot;</td><td>null</td><td>null</td><td>&quot;Acorn worm sp.&quot;</td><td>&quot;Eukarya&quot;</td><td>&quot;Animalia&quot;</td><td>&quot;Hemichordata&quot;</td><td>&quot;Enteropneusta&quot;</td><td>&quot;&quot;</td><td>&quot;&quot;</td><td>&quot;blank-UnID&quot;</td><td>&quot;&quot;</td><td>&quot;&quot;</td><td>&quot;&quot;</td><td>&quot;&quot;</td><td>&quot;&quot;</td><td>&quot;&quot;</td><td>&quot;&quot;</td><td>&quot;&quot;</td><td>&quot;&quot;</td><td>&quot;&quot;</td><td>&quot;&quot;</td><td>&quot;&quot;</td><td>&quot;&quot;</td><td>&quot;BOSuncornirmedSpecies&quot;</td><td>&quot;BOSunformired&quot;</td><td>null</td></tr><tr><td>&quot;A-Hemi-Enteropneusta-000011&quot;</td><td>null</td><td>null</td><td>&quot;Acorn worm sp.&quot;</td><td>&quot;Eukarya&quot;</td><td>&quot;Animalia&quot;</td><td>&quot;Hemichordata&quot;</td><td>&quot;Enteropneusta&quot;</td><td>&quot;&quot;</td><td>&quot;&quot;</td><td>&quot;blank-UnID&quot;</td><td>&quot;&quot;</td><td>&quot;&quot;</td><td>&quot;&quot;</td><td>&quot;&quot;</td><td>&quot;&quot;</td><td>&quot;&quot;</td><td>&quot;&quot;</td><td>&quot;&quot;</td><td>&quot;&quot;</td><td>&quot;&quot;</td><td>&quot;&quot;</td><td>&quot;&quot;</td><td>&quot;&quot;</td><td>&quot;BOSuncornirmedSpecies&quot;</td><td>&quot;BOSunformired&quot;</td><td>null</td></tr><tr><td>&quot;A-Phoronida-000002&quot;</td><td>null</td><td>null</td><td>&quot;Phoronida sp.&quot;</td><td>&quot;Eukarya&quot;</td><td>&quot;Animalia&quot;</td><td>&quot;Phoronida&quot;</td><td>&quot;blank-Phor&quot;</td><td>&quot;&quot;</td><td>&quot;&quot;</td><td>&quot;blank-Phor&quot;</td><td>&quot;&quot;</td><td>&quot;&quot;</td><td>&quot;&quot;</td><td>&quot;&quot;</td><td>&quot;&quot;</td><td>&quot;Phoronidae&quot;</td><td>&quot;&quot;</td><td>&quot;&quot;</td><td>&quot;&quot;</td><td>&quot;&quot;</td><td>&quot;&quot;</td><td>&quot;&quot;</td><td>&quot;&quot;</td><td>&quot;BOSuncornirmedSpecies&quot;</td><td>&quot;BOSunformired&quot;</td><td>null</td></tr><tr><td>&quot;A-Phoronida-000003&quot;</td><td>null</td><td>null</td><td>&quot;Phoronida sp. SEA-4090&quot;</td><td>&quot;Eukarya&quot;</td><td>&quot;Animalia&quot;</td><td>&quot;Phoronida&quot;</td><td>&quot;blank-Phor&quot;</td><td>&quot;&quot;</td><td>&quot;&quot;</td><td>&quot;blank-Phor&quot;</td><td>&quot;&quot;</td><td>&quot;&quot;</td><td>&quot;&quot;</td><td>&quot;&quot;</td><td>&quot;&quot;</td><td>&quot;Phoronidae&quot;</td><td>&quot;&quot;</td><td>&quot;&quot;</td><td>&quot;&quot;</td><td>&quot;&quot;</td><td>&quot;&quot;</td><td>&quot;&quot;</td><td>&quot;&quot;</td><td>&quot;BOSuncornirmedSpecies&quot;</td><td>&quot;BOSunformired&quot;</td><td>null</td></tr><tr><td>&quot;B-Alga-Cyanobacteria-000003&quot;</td><td>null</td><td>null</td><td>&quot;Microcystis icthyoblabe&quot;</td><td>&quot;Eukarya&quot;</td><td>&quot;Bacteria&quot;</td><td>&quot;Cyanobacteria&quot;</td><td>&quot;Cyanobacteriia&quot;</td><td>&quot;Oscillatoriophycideae&quot;</td><td>&quot;&quot;</td><td>&quot;Cyanobacteriales&quot;</td><td>&quot;&quot;</td><td>&quot;&quot;</td><td>&quot;&quot;</td><td>&quot;&quot;</td><td>&quot;&quot;</td><td>&quot;Microcystaceae&quot;</td><td>&quot;&quot;</td><td>&quot;&quot;</td><td>&quot;Microcystis&quot;</td><td>&quot;&quot;</td><td>&quot;Microcystis&quot;</td><td>&quot;icthyoblabe&quot;</td><td>&quot;&quot;</td><td>&quot;BOSuncornirmedSpecies&quot;</td><td>&quot;BOSunformired&quot;</td><td>null</td></tr></tbody></table></div>"
      ]
     },
     "metadata": {},
     "output_type": "display_data"
    }
   ],
   "source": [
    "nomatch = (\n",
    "    matching.filter(pl.col(\"matched_taxonID\").is_null())\n",
    "    .with_columns(\n",
    "        taxonRank=pl.lit(\"BOSuncornirmedSpecies\"),\n",
    "        taxonomicStatus=pl.lit(\"BOSunformired\"),\n",
    "        parentNameUsageID=pl.lit(None),\n",
    "    )\n",
    "    .fill_null(\"\")\n",
    "    .collect()\n",
    ")\n",
    "nomatch"
   ]
  },
  {
   "cell_type": "code",
   "execution_count": null,
   "id": "PKri",
   "metadata": {},
   "outputs": [],
   "source": [
    "matching_with_populated_match_taxonID = matching.filter(\n",
    "    pl.col(\"matched_taxonID\").is_not_null()\n",
    ").with_columns(\n",
    "    taxonRank=pl.lit(None),\n",
    "    taxonomicStatus=pl.lit(None),\n",
    "    parentNameUsageID=pl.lit(None),\n",
    ")"
   ]
  },
  {
   "cell_type": "markdown",
   "id": "Xref",
   "metadata": {
    "marimo": {
     "config": {
      "hide_code": true
     }
    }
   },
   "source": [
    "# repeated_accepted_taxons = RAT"
   ]
  },
  {
   "cell_type": "code",
   "execution_count": null,
   "id": "SFPL",
   "metadata": {},
   "outputs": [],
   "source": [
    "repeated_accepted_taxons = (\n",
    "    pl.scan_csv(\"gbif/Taxon.tsv\", separator=\"\\t\", quote_char=None, cache=True)\n",
    "    .filter(pl.col(\"taxonomicStatus\") == pl.lit(\"accepted\"))\n",
    "    .filter(pl.col(\"kingdom\").is_in([\"Animalia\", \"Plantae\"]))\n",
    "    .filter(~pl.col(\"canonicalName\").is_null())\n",
    "    .filter(pl.col(\"canonicalName\") != \"\")\n",
    "    .sort(\"canonicalName\")\n",
    "    .filter(pl.col(\"canonicalName\").is_duplicated())\n",
    ")"
   ]
  },
  {
   "cell_type": "code",
   "execution_count": null,
   "id": "BYtC",
   "metadata": {},
   "outputs": [],
   "source": [
    "priority_columns = [\n",
    "    \"infraspecificEpithet\",\n",
    "    \"specificEpithet\",\n",
    "    \"genus\",\n",
    "    \"family\",\n",
    "    \"order\",\n",
    "    \"class\",\n",
    "    \"phylum\",\n",
    "    \"kingdom\",\n",
    "]\n",
    "\n",
    "_schema = {\n",
    "    \"feature_that_is_equal_to_canonicalName\": pl.String,\n",
    "    \"matches\": pl.String,\n",
    "}\n",
    "_r = (repeated_accepted_taxons).collect()\n",
    "RAT_interim = pl.DataFrame(schema=_schema)\n",
    "for _col in priority_columns:\n",
    "    _canonical_names = (\n",
    "        (\n",
    "            _r.filter(pl.col(\"canonicalName\") == pl.col(_col))\n",
    "            .select(\"canonicalName\")\n",
    "            .unique()\n",
    "        )\n",
    "        .to_series()\n",
    "        .to_list()\n",
    "    )\n",
    "    if len(_canonical_names) != 0:\n",
    "        _row = pl.DataFrame(\n",
    "            data={\n",
    "                \"feature_that_is_equal_to_canonicalName\": _col,\n",
    "                \"matches\": _canonical_names,\n",
    "            },\n",
    "            schema=_schema,\n",
    "        )\n",
    "        RAT_interim = RAT_interim.vstack(_row)\n",
    "RAT_feats = (\n",
    "    RAT_interim.group_by(\"matches\")\n",
    "    .agg(pl.col(\"feature_that_is_equal_to_canonicalName\").str.join(\", \"))\n",
    "    .with_columns(\n",
    "        pl.col(\"feature_that_is_equal_to_canonicalName\").str.split(\", \")\n",
    "    )\n",
    "    .sort(\"feature_that_is_equal_to_canonicalName\")\n",
    ")"
   ]
  },
  {
   "cell_type": "markdown",
   "id": "RGSE",
   "metadata": {
    "marimo": {
     "config": {
      "hide_code": true
     }
    }
   },
   "source": [
    "# matching attempt"
   ]
  },
  {
   "cell_type": "code",
   "execution_count": null,
   "id": "Kclp",
   "metadata": {},
   "outputs": [
    {
     "data": {
      "text/html": [
       "<div><style>\n",
       ".dataframe > thead > tr,\n",
       ".dataframe > tbody > tr {\n",
       "  text-align: right;\n",
       "  white-space: pre-wrap;\n",
       "}\n",
       "</style>\n",
       "<small>shape: (1_639, 2)</small><table border=\"1\" class=\"dataframe\"><thead><tr><th>matches</th><th>feature_that_is_equal_to_canonicalName</th></tr><tr><td>str</td><td>list[str]</td></tr></thead><tbody><tr><td>&quot;Micrognathozoa&quot;</td><td>[&quot;class&quot;, &quot;phylum&quot;]</td></tr><tr><td>&quot;Sirenia&quot;</td><td>[&quot;family&quot;, &quot;order&quot;]</td></tr><tr><td>&quot;Passeriformes&quot;</td><td>[&quot;family&quot;, &quot;order&quot;]</td></tr><tr><td>&quot;Psychopsis&quot;</td><td>[&quot;genus&quot;]</td></tr><tr><td>&quot;Parlatoria&quot;</td><td>[&quot;genus&quot;]</td></tr><tr><td>&hellip;</td><td>&hellip;</td></tr><tr><td>&quot;Diplura&quot;</td><td>[&quot;genus&quot;, &quot;order&quot;, &quot;class&quot;]</td></tr><tr><td>&quot;Arthropoda&quot;</td><td>[&quot;genus&quot;, &quot;phylum&quot;]</td></tr><tr><td>&quot;Ctenophora&quot;</td><td>[&quot;genus&quot;, &quot;phylum&quot;]</td></tr><tr><td>&quot;Acanthocephala&quot;</td><td>[&quot;genus&quot;, &quot;phylum&quot;]</td></tr><tr><td>&quot;Protura&quot;</td><td>[&quot;order&quot;, &quot;class&quot;]</td></tr></tbody></table></div>"
      ]
     },
     "metadata": {},
     "output_type": "display_data"
    }
   ],
   "source": [
    "RAT_feats"
   ]
  },
  {
   "cell_type": "code",
   "execution_count": null,
   "id": "emfo",
   "metadata": {},
   "outputs": [],
   "source": [
    "updated_to_matching = []\n",
    "all_taxon_data_to_be_selected_from = []\n",
    "still_no_match = []\n",
    "_collected_repeated_taxons = repeated_accepted_taxons.collect().fill_null(\"\")\n",
    "_reversed_priority_columns = priority_columns.copy()\n",
    "_reversed_priority_columns.reverse()\n",
    "for _col in _reversed_priority_columns:\n",
    "    for _match in RAT_feats[\"matches\"]:\n",
    "        # skipping those that are not in RAT_feats\n",
    "        if _match not in nomatch[_col].to_list():\n",
    "            continue\n",
    "\n",
    "        print(\"-------\\nFeature:\", _col, \",Name:\", _match)\n",
    "\n",
    "        taxon_data_to_select_from = _collected_repeated_taxons.filter(\n",
    "            pl.col(\"canonicalName\") == _match\n",
    "        ).select([\"taxonID\"] + _reversed_priority_columns)\n",
    "\n",
    "        # Select from the two rows what taxon data to select.\n",
    "        selected_row_int = -1\n",
    "        for i, _tuple in enumerate(\n",
    "            taxon_data_to_select_from.select(\n",
    "                [\"taxonID\"] + priority_columns\n",
    "            ).iter_rows()\n",
    "        ):\n",
    "            col_index = priority_columns.index(_col)\n",
    "            _x = _tuple[col_index]\n",
    "            if not bool(_x):\n",
    "                selected_row_int = i  # Since there are usually only two rows from taxon_data_to_select_from, the results is either 0 or 1\n",
    "                break\n",
    "        assert selected_row_int != -1\n",
    "\n",
    "        # has_predicament1 is when kingdom to genus all has values and it is kind of leveled between the two rows of the taxon data.\n",
    "        has_predicament1 = False\n",
    "        _l = taxon_data_to_select_from[\"family\"].to_list()\n",
    "        if _col == \"genus\" and _l[0] != None and _l[1] != None:\n",
    "            print(\"same level detected\")\n",
    "            has_predicament1 = True\n",
    "\n",
    "        chosen_taxonId = taxon_data_to_select_from[selected_row_int, 0]\n",
    "        other_taxonId = taxon_data_to_select_from[\n",
    "            int(not bool(selected_row_int)), 0\n",
    "        ]\n",
    "\n",
    "        # Getting the _no_match_subset_to_update section\n",
    "        _no_match_subset_to_update = nomatch.filter(\n",
    "            pl.col(_col) == _match,\n",
    "        )\n",
    "        _x = _reversed_priority_columns[:-3]\n",
    "        feature_to_find_nulls = (\n",
    "            _x[_reversed_priority_columns.index(_col) + 1]\n",
    "            if len(_x) > _reversed_priority_columns.index(_col) + 1\n",
    "            else None\n",
    "        )  # just the next feature to find null\n",
    "        if feature_to_find_nulls is not None:\n",
    "            print(\"feature_to_find_nulls\", feature_to_find_nulls)\n",
    "            _no_match_subset_to_update = _no_match_subset_to_update.filter(\n",
    "                pl.col(feature_to_find_nulls) == \"\"\n",
    "            )\n",
    "            if _no_match_subset_to_update.is_empty():\n",
    "                still_no_match_subset = nomatch.filter(\n",
    "                    pl.col(_col) == _match,\n",
    "                ).with_columns(\n",
    "                    current_feature=pl.lit(_col), current_name=pl.lit(_match)\n",
    "                )\n",
    "                still_no_match.append(still_no_match_subset)\n",
    "                print(\n",
    "                    \"\\n\\n\\n\\n\\nskipping\",\n",
    "                    _col,\n",
    "                    _match,\n",
    "                    \"\\n this _no_match_subset_to_update dataframe doesn't have the same tax rank level\\n\",\n",
    "                    still_no_match_subset.select(_reversed_priority_columns),\n",
    "                )\n",
    "                print(\"---------\")\n",
    "                continue\n",
    "\n",
    "        # Settling predicament one\n",
    "        # this predicament thing should only happen when the subset is of only 1 row.\n",
    "        if has_predicament1 and _no_match_subset_to_update.shape[0] == 1:\n",
    "            match = True\n",
    "            for _col1 in [\"class\", \"order\", \"family\"]:\n",
    "                match *= (\n",
    "                    _no_match_subset_to_update[_col1].item()\n",
    "                    == taxon_data_to_select_from[selected_row_int, :][\n",
    "                        _col1\n",
    "                    ].item()\n",
    "                )\n",
    "            if not match:\n",
    "                match = True\n",
    "                for _col1 in [\"class\", \"order\", \"family\"]:\n",
    "                    match *= (\n",
    "                        _no_match_subset_to_update[_col1].item()\n",
    "                        == taxon_data_to_select_from[\n",
    "                            int(not bool(selected_row_int)), :\n",
    "                        ][_col1].item()\n",
    "                    )  # searching in the three columns of interests for matches\n",
    "                assert match == True  # Double check that there is no unmatch.\n",
    "                print(\"changing chosen taxonId\")\n",
    "                temp = chosen_taxonId\n",
    "                chosen_taxonId = other_taxonId\n",
    "                other_taxonId = temp\n",
    "\n",
    "        # turning these rows to matching by filling parentNameUsageID\n",
    "        _no_match_subset_to_update = _no_match_subset_to_update.with_columns(\n",
    "            parentNameUsageID=pl.when(\n",
    "                (pl.col(\"infraspecificEpithet\").is_null())\n",
    "                & (pl.col(\"specificEpithet\").is_not_null())\n",
    "                & (pl.col(\"genus\").is_not_null())\n",
    "            )\n",
    "            .then(pl.lit(other_taxonId))\n",
    "            .otherwise(pl.lit(chosen_taxonId))\n",
    "        )\n",
    "\n",
    "        # Debugging for matching data from gbif to new matched rows\n",
    "        print(\n",
    "            \"taxon_data_to_select_from\\n\",\n",
    "            taxon_data_to_select_from,\n",
    "        )\n",
    "        print(\"parentNameUsageID chosen:\", chosen_taxonId)\n",
    "        print(\"no_match_subset_to_update \")\n",
    "        print(_no_match_subset_to_update.select(_reversed_priority_columns))\n",
    "        print(\"---------\")\n",
    "\n",
    "        updated_to_matching.append(_no_match_subset_to_update)\n",
    "        # all_taxon_data_to_be_selected_from.append(taxon_data_to_select_from)\n",
    "\n",
    "# turn them into dataframes and writing to csv files\n",
    "updated_to_matching = pl.concat(\n",
    "    updated_to_matching, rechunk=True, parallel=True\n",
    ")\n",
    "updated_to_matching.write_csv(\"updated_to_matching.csv\")\n",
    "updated_to_matching.write_csv(\"first_matches_set_from_wrangling.csv\")\n",
    "# all_taxon_data_to_be_selected_from = pl.concat(\n",
    "#     all_taxon_data_to_be_selected_from, rechunk=True, parallel=True\n",
    "# )\n",
    "# all_taxon_data_to_be_selected_from.write_csv(\n",
    "#     \"all_taxon_data_to_be_selected_from.csv\"\n",
    "# )\n",
    "still_no_match = pl.concat(still_no_match, rechunk=True, parallel=True)\n",
    "# still_no_match.write_csv(\"still_no_match.csv\")"
   ]
  },
  {
   "cell_type": "markdown",
   "id": "Hstk",
   "metadata": {
    "marimo": {
     "config": {
      "hide_code": true
     }
    }
   },
   "source": [
    "## still no match stuff"
   ]
  },
  {
   "cell_type": "markdown",
   "id": "nWHF",
   "metadata": {
    "marimo": {
     "config": {
      "hide_code": true
     }
    }
   },
   "source": [
    "### `current_feature` uniques"
   ]
  },
  {
   "cell_type": "code",
   "execution_count": null,
   "id": "iLit",
   "metadata": {},
   "outputs": [
    {
     "data": {
      "text/html": [
       "<div><style>\n",
       ".dataframe > thead > tr,\n",
       ".dataframe > tbody > tr {\n",
       "  text-align: right;\n",
       "  white-space: pre-wrap;\n",
       "}\n",
       "</style>\n",
       "<small>shape: (2,)</small><table border=\"1\" class=\"dataframe\"><thead><tr><th>current_feature</th></tr><tr><td>str</td></tr></thead><tbody><tr><td>&quot;order&quot;</td></tr><tr><td>&quot;phylum&quot;</td></tr></tbody></table></div>"
      ]
     },
     "metadata": {},
     "output_type": "display_data"
    }
   ],
   "source": [
    "still_no_match[\"current_feature\"].unique()"
   ]
  },
  {
   "cell_type": "markdown",
   "id": "ZHCJ",
   "metadata": {
    "marimo": {
     "config": {
      "hide_code": true
     }
    }
   },
   "source": [
    "### `current_name` uniques"
   ]
  },
  {
   "cell_type": "code",
   "execution_count": null,
   "id": "ROlb",
   "metadata": {},
   "outputs": [
    {
     "data": {
      "text/html": [
       "<div><style>\n",
       ".dataframe > thead > tr,\n",
       ".dataframe > tbody > tr {\n",
       "  text-align: right;\n",
       "  white-space: pre-wrap;\n",
       "}\n",
       "</style>\n",
       "<small>shape: (4,)</small><table border=\"1\" class=\"dataframe\"><thead><tr><th>current_name</th></tr><tr><td>str</td></tr></thead><tbody><tr><td>&quot;Arthropoda&quot;</td></tr><tr><td>&quot;Siluriformes&quot;</td></tr><tr><td>&quot;Passeriformes&quot;</td></tr><tr><td>&quot;Ctenophora&quot;</td></tr></tbody></table></div>"
      ]
     },
     "metadata": {},
     "output_type": "display_data"
    }
   ],
   "source": [
    "still_no_match[\"current_name\"].unique()"
   ]
  },
  {
   "cell_type": "markdown",
   "id": "qnkX",
   "metadata": {
    "marimo": {
     "config": {
      "hide_code": true
     }
    }
   },
   "source": [
    "## number of rows in still no match"
   ]
  },
  {
   "cell_type": "code",
   "execution_count": null,
   "id": "TqIu",
   "metadata": {},
   "outputs": [
    {
     "data": {
      "text/html": [
       "<pre style='font-size: 12px'>2287</pre>"
      ]
     },
     "metadata": {},
     "output_type": "display_data"
    }
   ],
   "source": [
    "still_no_match.shape[0]"
   ]
  },
  {
   "cell_type": "markdown",
   "id": "Vxnm",
   "metadata": {
    "marimo": {
     "config": {
      "hide_code": true
     }
    }
   },
   "source": [
    "# second matching wrangle of new `Taxons` df with `still_no_match`"
   ]
  },
  {
   "cell_type": "code",
   "execution_count": null,
   "id": "DnEU",
   "metadata": {},
   "outputs": [
    {
     "data": {
      "application/json": "[2755560, 9]"
     },
     "metadata": {},
     "output_type": "display_data"
    }
   ],
   "source": [
    "taxons = (\n",
    "    pl.scan_csv(\"gbif/Taxon.tsv\", separator=\"\\t\", quote_char=None, cache=True)\n",
    "    .filter(\n",
    "        pl.col(\"taxonomicStatus\") == pl.lit(\"accepted\"),\n",
    "        pl.col(\"taxonRank\") != \"unranked\",\n",
    "    )\n",
    "    .filter(pl.col(\"kingdom\").is_in([\"Animalia\", \"Plantae\"]))\n",
    "    .select([\"taxonID\"] + priority_columns)\n",
    ")\n",
    "taxons.collect().shape"
   ]
  },
  {
   "cell_type": "markdown",
   "id": "ulZA",
   "metadata": {
    "marimo": {
     "config": {
      "hide_code": true
     }
    }
   },
   "source": [
    "## stop at class, there is only current_feature = phylum matches"
   ]
  },
  {
   "cell_type": "code",
   "execution_count": null,
   "id": "ecfG",
   "metadata": {},
   "outputs": [
    {
     "data": {
      "application/json": "[\"infraspecificEpithet\", \"specificEpithet\", \"genus\", \"family\", \"order\", \"class\", \"phylum\", \"kingdom\"]"
     },
     "metadata": {},
     "output_type": "display_data"
    }
   ],
   "source": [
    "priority_columns"
   ]
  },
  {
   "cell_type": "code",
   "execution_count": null,
   "id": "Pvdt",
   "metadata": {},
   "outputs": [
    {
     "name": "stderr",
     "output_type": "stream",
     "text": [
      "/tmp/marimo_230255/__marimo__cell_xXTn_.py:47: DeprecationWarning: `is_in` with a collection of the same datatype is ambiguous and deprecated.\n",
      "Please use `implode` to return to previous behavior.\n",
      "\n",
      "See https://github.com/pola-rs/polars/issues/22149 for more information.\n",
      "  ).collect()\n"
     ]
    }
   ],
   "source": [
    "## stop at class, there is only current_feature = phylum matches\n",
    "_filter = (\n",
    "    pl.col(\"class\") != \"\",\n",
    "    pl.col(\"order\") == \"\",\n",
    "    pl.col(\"family\") == \"\",\n",
    "    pl.col(\"genus\") == \"\",\n",
    "    pl.col(\"specificEpithet\") == \"\",\n",
    "    pl.col(\"infraspecificEpithet\") == \"\",\n",
    "    pl.col(\"current_feature\") == \"phylum\",\n",
    ")\n",
    "match_on_class = still_no_match.with_columns(\n",
    "    name_to_match=pl.when(_filter).then(\"class\").otherwise(None)\n",
    ").filter(_filter)\n",
    "\n",
    "_x1 = (\n",
    "    still_no_match.filter(_filter)\n",
    "    .select(\"class\", \"phylum\")\n",
    "    .group_by(\"class\", \"phylum\")\n",
    "    .len()\n",
    ")\n",
    "\n",
    "_taxons_subset = taxons.filter(\n",
    "    pl.col(\"family\").is_null(),\n",
    "    pl.col(\"order\").is_null(),\n",
    "    pl.col(\"genus\").is_null(),\n",
    "    pl.col(\"class\").is_in(_x1[\"class\"].unique()),\n",
    "    pl.col(\"specificEpithet\").is_null(),\n",
    "    pl.col(\"infraspecificEpithet\").is_null(),\n",
    "    pl.col(\"phylum\").is_in(_x1[\"phylum\"].unique()),\n",
    ").select(\"taxonID\", \"class\")\n",
    "match_on_class = (\n",
    "    pl.LazyFrame(match_on_class)\n",
    "    .join(\n",
    "        _taxons_subset,\n",
    "        on=\"class\",\n",
    "    )\n",
    "    .with_columns(\n",
    "        parentNameUsageID=pl.when(pl.col(\"taxonID\").is_not_null())\n",
    "        .then(\"taxonID\")\n",
    "        .otherwise(\"parentNameUsageID\")\n",
    "    )\n",
    "    .drop(\"taxonID\")\n",
    ").collect()\n",
    "\n",
    "match_on_class.shape"
   ]
  },
  {
   "cell_type": "code",
   "execution_count": null,
   "id": "ZBYS",
   "metadata": {},
   "outputs": [
    {
     "data": {
      "text/html": [
       "<div><style>\n",
       ".dataframe > thead > tr,\n",
       ".dataframe > tbody > tr {\n",
       "  text-align: right;\n",
       "  white-space: pre-wrap;\n",
       "}\n",
       "</style>\n",
       "<small>shape: (4, 3)</small><table border=\"1\" class=\"dataframe\"><thead><tr><th>parentNameUsageID</th><th>name_to_match</th><th>len</th></tr><tr><td>i64</td><td>str</td><td>u32</td></tr></thead><tbody><tr><td>353</td><td>&quot;Ostracoda&quot;</td><td>16</td></tr><tr><td>10713444</td><td>&quot;Collembola&quot;</td><td>2</td></tr><tr><td>365</td><td>&quot;Tentaculata&quot;</td><td>7</td></tr><tr><td>11545536</td><td>&quot;Copepoda&quot;</td><td>17</td></tr></tbody></table></div>"
      ]
     },
     "metadata": {},
     "output_type": "display_data"
    }
   ],
   "source": [
    "match_on_class.group_by(\"parentNameUsageID\", \"name_to_match\").len()"
   ]
  },
  {
   "cell_type": "code",
   "execution_count": null,
   "id": "aLJB",
   "metadata": {},
   "outputs": [
    {
     "data": {
      "application/json": "[42, 30]"
     },
     "metadata": {},
     "output_type": "display_data"
    }
   ],
   "source": [
    "match_on_class.shape"
   ]
  },
  {
   "cell_type": "markdown",
   "id": "nHfw",
   "metadata": {
    "marimo": {
     "config": {
      "hide_code": true
     }
    }
   },
   "source": [
    "## stops at order there is only current_feature = phylum matches"
   ]
  },
  {
   "cell_type": "code",
   "execution_count": null,
   "id": "xXTn",
   "metadata": {},
   "outputs": [
    {
     "data": {
      "application/json": "[896, 30]"
     },
     "metadata": {},
     "output_type": "display_data"
    }
   ],
   "source": [
    "## stops at order there is only current_feature = phylum matches\n",
    "_filter = (\n",
    "    pl.col(\"class\") != \"\",\n",
    "    pl.col(\"order\") != \"\",\n",
    "    pl.col(\"family\") == \"\",\n",
    "    pl.col(\"genus\") == \"\",\n",
    "    pl.col(\"specificEpithet\") == \"\",\n",
    "    pl.col(\"infraspecificEpithet\") == \"\",\n",
    "    pl.col(\"current_feature\") == \"phylum\",\n",
    ")\n",
    "match_on_order = still_no_match.with_columns(\n",
    "    name_to_match=pl.when(_filter).then(\"order\").otherwise(None)\n",
    ").filter(_filter)\n",
    "_x1 = (\n",
    "    still_no_match.filter(_filter)\n",
    "    .select(\"order\", \"phylum\")\n",
    "    .group_by(\"order\", \"phylum\")\n",
    "    .len()\n",
    ")\n",
    "\n",
    "_taxons_subset = (\n",
    "    taxons.filter(\n",
    "        pl.col(\"family\").is_null(),\n",
    "        pl.col(\"order\").is_in(_x1[\"order\"].unique().to_list()),\n",
    "        pl.col(\"genus\").is_null(),\n",
    "        pl.col(\"specificEpithet\").is_null(),\n",
    "        pl.col(\"infraspecificEpithet\").is_null(),\n",
    "        pl.col(\"phylum\").is_in(_x1[\"phylum\"].unique().to_list()),\n",
    "    )\n",
    "    .select(\"taxonID\", \"order\")\n",
    "    .collect()\n",
    ")\n",
    "match_on_order = (\n",
    "    match_on_order.join(\n",
    "        _taxons_subset,\n",
    "        on=\"order\",\n",
    "    )\n",
    "    .with_columns(\n",
    "        parentNameUsageID=pl.when(pl.col(\"taxonID\").is_not_null())\n",
    "        .then(\"taxonID\")\n",
    "        .otherwise(\"parentNameUsageID\")\n",
    "    )\n",
    "    .drop(\"taxonID\")\n",
    ")\n",
    "match_on_order.shape"
   ]
  },
  {
   "cell_type": "code",
   "execution_count": null,
   "id": "AjVT",
   "metadata": {},
   "outputs": [
    {
     "data": {
      "text/html": [
       "<div><style>\n",
       ".dataframe > thead > tr,\n",
       ".dataframe > tbody > tr {\n",
       "  text-align: right;\n",
       "  white-space: pre-wrap;\n",
       "}\n",
       "</style>\n",
       "<small>shape: (21, 3)</small><table border=\"1\" class=\"dataframe\"><thead><tr><th>parentNameUsageID</th><th>name_to_match</th><th>len</th></tr><tr><td>i64</td><td>str</td><td>u32</td></tr></thead><tbody><tr><td>788</td><td>&quot;Mantodea&quot;</td><td>2</td></tr><tr><td>643</td><td>&quot;Isopoda&quot;</td><td>54</td></tr><tr><td>1500</td><td>&quot;Cumacea&quot;</td><td>6</td></tr><tr><td>637</td><td>&quot;Decapoda&quot;</td><td>103</td></tr><tr><td>787</td><td>&quot;Plecoptera&quot;</td><td>1</td></tr><tr><td>&hellip;</td><td>&hellip;</td><td>&hellip;</td></tr><tr><td>1496</td><td>&quot;Araneae&quot;</td><td>1</td></tr><tr><td>1373</td><td>&quot;Stomatopoda&quot;</td><td>10</td></tr><tr><td>841</td><td>&quot;Mysida&quot;</td><td>7</td></tr><tr><td>872</td><td>&quot;Scorpiones&quot;</td><td>2</td></tr><tr><td>1426</td><td>&quot;Sessilia&quot;</td><td>11</td></tr></tbody></table></div>"
      ]
     },
     "metadata": {},
     "output_type": "display_data"
    }
   ],
   "source": [
    "match_on_order.group_by(\"parentNameUsageID\", \"name_to_match\").len()"
   ]
  },
  {
   "cell_type": "code",
   "execution_count": null,
   "id": "pHFh",
   "metadata": {},
   "outputs": [
    {
     "data": {
      "application/json": "[896, 30]"
     },
     "metadata": {},
     "output_type": "display_data"
    }
   ],
   "source": [
    "match_on_order.shape"
   ]
  },
  {
   "cell_type": "markdown",
   "id": "NCOB",
   "metadata": {},
   "source": [
    "## stops at family, current_feature contains both phylum and order"
   ]
  },
  {
   "cell_type": "code",
   "execution_count": null,
   "id": "aqbW",
   "metadata": {},
   "outputs": [
    {
     "data": {
      "application/json": "[1131, 30]"
     },
     "metadata": {},
     "output_type": "display_data"
    }
   ],
   "source": [
    "## stops at family there is only current_feature = phylum matches\n",
    "_filter = (\n",
    "    pl.col(\"class\") != \"\",\n",
    "    pl.col(\"order\") != \"\",\n",
    "    pl.col(\"family\") != \"\",\n",
    "    pl.col(\"genus\") == \"\",\n",
    "    pl.col(\"specificEpithet\") == \"\",\n",
    "    pl.col(\"infraspecificEpithet\") == \"\",\n",
    ")\n",
    "match_on_family = still_no_match.with_columns(\n",
    "    name_to_match=pl.when(_filter).then(\"family\").otherwise(None)\n",
    ").filter(_filter)\n",
    "_x1 = (\n",
    "    still_no_match.filter(_filter)\n",
    "    .select(\"family\", \"phylum\", \"order\")\n",
    "    .group_by(\"family\", \"phylum\", \"order\")\n",
    "    .len()\n",
    ")\n",
    "\n",
    "_taxons_subset = (\n",
    "    taxons.filter(\n",
    "        pl.col(\"family\").is_in(_x1[\"family\"].unique().to_list()),\n",
    "        pl.col(\"genus\").is_null(),\n",
    "        pl.col(\"specificEpithet\").is_null(),\n",
    "        pl.col(\"infraspecificEpithet\").is_null(),\n",
    "        pl.col(\"phylum\").is_in(_x1[\"phylum\"].unique().to_list()),\n",
    "        pl.col(\"order\").is_in(_x1[\"order\"].unique().to_list()),\n",
    "    )\n",
    "    .select(\"taxonID\", \"family\")\n",
    "    .collect()\n",
    ")\n",
    "match_on_family = (\n",
    "    match_on_family.join(\n",
    "        _taxons_subset,\n",
    "        on=\"family\",\n",
    "    )\n",
    "    .with_columns(\n",
    "        parentNameUsageID=pl.when(pl.col(\"taxonID\").is_not_null())\n",
    "        .then(\"taxonID\")\n",
    "        .otherwise(\"parentNameUsageID\")\n",
    "    )\n",
    "    .drop(\"taxonID\")\n",
    ")\n",
    "match_on_family.shape"
   ]
  },
  {
   "cell_type": "code",
   "execution_count": null,
   "id": "TRpd",
   "metadata": {},
   "outputs": [
    {
     "data": {
      "text/html": [
       "<div><style>\n",
       ".dataframe > thead > tr,\n",
       ".dataframe > tbody > tr {\n",
       "  text-align: right;\n",
       "  white-space: pre-wrap;\n",
       "}\n",
       "</style>\n",
       "<small>shape: (172, 4)</small><table border=\"1\" class=\"dataframe\"><thead><tr><th>parentNameUsageID</th><th>name_to_match</th><th>current_feature</th><th>len</th></tr><tr><td>i64</td><td>str</td><td>str</td><td>u32</td></tr></thead><tbody><tr><td>9644</td><td>&quot;Eucnemidae&quot;</td><td>&quot;phylum&quot;</td><td>1</td></tr><tr><td>5925</td><td>&quot;Gryllidae&quot;</td><td>&quot;phylum&quot;</td><td>28</td></tr><tr><td>8888</td><td>&quot;Idoteidae&quot;</td><td>&quot;phylum&quot;</td><td>1</td></tr><tr><td>2783</td><td>&quot;Menoponidae&quot;</td><td>&quot;phylum&quot;</td><td>18</td></tr><tr><td>6981</td><td>&quot;Erotylidae&quot;</td><td>&quot;phylum&quot;</td><td>1</td></tr><tr><td>&hellip;</td><td>&hellip;</td><td>&hellip;</td><td>&hellip;</td></tr><tr><td>7780</td><td>&quot;Chrysomelidae&quot;</td><td>&quot;phylum&quot;</td><td>11</td></tr><tr><td>7366</td><td>&quot;Desidae&quot;</td><td>&quot;phylum&quot;</td><td>1</td></tr><tr><td>8672</td><td>&quot;Pinnotheridae&quot;</td><td>&quot;phylum&quot;</td><td>3</td></tr><tr><td>4551</td><td>&quot;Penaeidae&quot;</td><td>&quot;phylum&quot;</td><td>12</td></tr><tr><td>9596</td><td>&quot;Coeloplanidae&quot;</td><td>&quot;phylum&quot;</td><td>4</td></tr></tbody></table></div>"
      ]
     },
     "metadata": {},
     "output_type": "display_data"
    }
   ],
   "source": [
    "match_on_family.group_by(\n",
    "    \"parentNameUsageID\", \"name_to_match\", \"current_feature\"\n",
    ").len().filter(pl.col(\"current_feature\") == \"phylum\")"
   ]
  },
  {
   "cell_type": "code",
   "execution_count": null,
   "id": "TXez",
   "metadata": {},
   "outputs": [
    {
     "data": {
      "text/html": [
       "<div><style>\n",
       ".dataframe > thead > tr,\n",
       ".dataframe > tbody > tr {\n",
       "  text-align: right;\n",
       "  white-space: pre-wrap;\n",
       "}\n",
       "</style>\n",
       "<small>shape: (2, 4)</small><table border=\"1\" class=\"dataframe\"><thead><tr><th>parentNameUsageID</th><th>name_to_match</th><th>current_feature</th><th>len</th></tr><tr><td>i64</td><td>str</td><td>str</td><td>u32</td></tr></thead><tbody><tr><td>5164</td><td>&quot;Plotosidae&quot;</td><td>&quot;order&quot;</td><td>4</td></tr><tr><td>4512</td><td>&quot;Ariidae&quot;</td><td>&quot;order&quot;</td><td>3</td></tr></tbody></table></div>"
      ]
     },
     "metadata": {},
     "output_type": "display_data"
    }
   ],
   "source": [
    "match_on_family.group_by(\n",
    "    \"parentNameUsageID\", \"name_to_match\", \"current_feature\"\n",
    ").len().filter(pl.col(\"current_feature\") == \"order\")"
   ]
  },
  {
   "cell_type": "code",
   "execution_count": null,
   "id": "dNNg",
   "metadata": {},
   "outputs": [
    {
     "data": {
      "application/json": "[1131, 30]"
     },
     "metadata": {},
     "output_type": "display_data"
    }
   ],
   "source": [
    "match_on_family.shape"
   ]
  },
  {
   "cell_type": "markdown",
   "id": "yCnT",
   "metadata": {},
   "source": [
    "## genus\n",
    "\n",
    "There is nothing for rank genus."
   ]
  },
  {
   "cell_type": "code",
   "execution_count": null,
   "id": "wlCL",
   "metadata": {},
   "outputs": [
    {
     "data": {
      "text/html": [
       "<div><style>\n",
       ".dataframe > thead > tr,\n",
       ".dataframe > tbody > tr {\n",
       "  text-align: right;\n",
       "  white-space: pre-wrap;\n",
       "}\n",
       "</style>\n",
       "<small>shape: (0, 29)</small><table border=\"1\" class=\"dataframe\"><thead><tr><th>speciesId</th><th>matched_taxonID</th><th>acceptedNameUsageID</th><th>taxonName</th><th>domain</th><th>kingdom</th><th>phylum</th><th>class</th><th>subclass</th><th>superorder</th><th>order</th><th>sub-order</th><th>infraorder</th><th>section</th><th>subsection</th><th>superfamily</th><th>family</th><th>subfamily</th><th>tribe</th><th>genus</th><th>subgenus</th><th>genericName</th><th>specificEpithet</th><th>infraspecificEpithet</th><th>taxonRank</th><th>taxonomicStatus</th><th>parentNameUsageID</th><th>current_feature</th><th>current_name</th></tr><tr><td>str</td><td>i64</td><td>i64</td><td>str</td><td>str</td><td>str</td><td>str</td><td>str</td><td>str</td><td>str</td><td>str</td><td>str</td><td>str</td><td>str</td><td>str</td><td>str</td><td>str</td><td>str</td><td>str</td><td>str</td><td>str</td><td>str</td><td>str</td><td>str</td><td>str</td><td>str</td><td>null</td><td>str</td><td>str</td></tr></thead><tbody></tbody></table></div>"
      ]
     },
     "metadata": {},
     "output_type": "display_data"
    }
   ],
   "source": [
    "_filter = (\n",
    "    pl.col(\"class\") != \"\",\n",
    "    pl.col(\"order\") != \"\",\n",
    "    pl.col(\"family\") != \"\",\n",
    "    pl.col(\"genus\") != \"\",\n",
    "    pl.col(\"specificEpithet\") == \"\",\n",
    "    pl.col(\"infraspecificEpithet\") == \"\",\n",
    ")\n",
    "_g = still_no_match.filter(_filter)\n",
    "_g"
   ]
  },
  {
   "cell_type": "markdown",
   "id": "kqZH",
   "metadata": {},
   "source": [
    "## stops at specificEpithet there is only current_feature = phylum matches\n",
    "\n",
    "### something is wrong with some specificEpithet and infraSpecificEpithet for both pl.col('current_feature').is_in(['phylum','order']) cant be found in gbif."
   ]
  },
  {
   "cell_type": "code",
   "execution_count": null,
   "id": "wAgl",
   "metadata": {},
   "outputs": [
    {
     "data": {
      "application/json": "[1, 29]"
     },
     "metadata": {},
     "output_type": "display_data"
    }
   ],
   "source": [
    "## stops at family there is only current_feature = phylum matches\n",
    "_filter = (\n",
    "    pl.col(\"class\") != \"\",\n",
    "    pl.col(\"order\") != \"\",\n",
    "    pl.col(\"family\") != \"\",\n",
    "    pl.col(\"genus\") != \"\",\n",
    "    pl.col(\"specificEpithet\") != \"\",\n",
    "    pl.col(\"infraspecificEpithet\") == \"\",\n",
    ")\n",
    "\n",
    "to_be_match_on_specificEpithet = still_no_match.filter(_filter)\n",
    "\n",
    "_x1 = (\n",
    "    still_no_match.filter(_filter)\n",
    "    .select(\n",
    "        \"specificEpithet\",\n",
    "        \"genus\",\n",
    "    )\n",
    "    .group_by(\n",
    "        \"specificEpithet\",\n",
    "        \"genus\",\n",
    "    )\n",
    "    .len()\n",
    ")\n",
    "\n",
    "_taxons_subset = (\n",
    "    taxons.filter(\n",
    "        pl.col(\"specificEpithet\").is_in(\n",
    "            _x1[\"specificEpithet\"].unique().to_list()\n",
    "        ),\n",
    "        pl.col(\"genus\").is_in(_x1[\"genus\"].unique().to_list()),\n",
    "    )\n",
    "    .select(\n",
    "        \"taxonID\",\n",
    "        \"specificEpithet\",\n",
    "        \"genus\",\n",
    "    )\n",
    "    .collect()\n",
    ")\n",
    "\n",
    "# TAXON.TSV doesn't have pl.col(\"genus\")=='Dicaeum',pl.col('specificEpithet')=='chysorrheum'\n",
    "match_on_specificEpithet = (\n",
    "    to_be_match_on_specificEpithet.join(\n",
    "        _taxons_subset,\n",
    "        on=[\"genus\", \"specificEpithet\"],\n",
    "        # how=\"left\"\n",
    "    )\n",
    "    .with_columns(\n",
    "        parentNameUsageID=pl.when(pl.col(\"taxonID\").is_not_null())\n",
    "        .then(\"taxonID\")\n",
    "        .otherwise(\"parentNameUsageID\")\n",
    "    )\n",
    "    .drop(\"taxonID\")\n",
    ")\n",
    "match_on_specificEpithet.shape\n",
    "# match_on_specificEpithet.write_csv(\"matching_attempt_on_specificEpithet.csv\")"
   ]
  },
  {
   "cell_type": "markdown",
   "id": "rEll",
   "metadata": {},
   "source": [
    "## infraspecificepithet\n",
    "\n",
    "different filter because some don't have specificEpithet either, if I am not wrong"
   ]
  },
  {
   "cell_type": "code",
   "execution_count": null,
   "id": "dGlV",
   "metadata": {},
   "outputs": [],
   "source": [
    "# InfraspecificEpithet\n",
    "\n",
    "## stops at family there is only current_feature = phylum matches\n",
    "_filter = (\n",
    "    pl.col(\"class\") != \"\",\n",
    "    pl.col(\"order\") != \"\",\n",
    "    pl.col(\"family\") != \"\",\n",
    "    pl.col(\"genus\") != \"\",\n",
    "    pl.col(\"infraspecificEpithet\") != \"\",\n",
    ")  # different filter because some don't have specificEpithet either, if I am not wrong\n",
    "to_be_match_on_infraspecificEpithet = still_no_match.filter(_filter)\n",
    "\n",
    "_x1 = (\n",
    "    still_no_match.filter(_filter)\n",
    "    .select(\n",
    "        \"infraspecificEpithet\",\n",
    "        \"genus\",\n",
    "    )\n",
    "    .group_by(\n",
    "        \"infraspecificEpithet\",\n",
    "        \"genus\",\n",
    "    )\n",
    "    .len()\n",
    ")\n",
    "\n",
    "_taxons_subset = (\n",
    "    taxons.filter(\n",
    "        pl.col(\"infraspecificEpithet\").is_in(\n",
    "            _x1[\"infraspecificEpithet\"].unique().to_list()\n",
    "        ),\n",
    "        pl.col(\"genus\").is_in(_x1[\"genus\"].unique().to_list()),\n",
    "    )\n",
    "    .select(\n",
    "        \"taxonID\",\n",
    "        \"infraspecificEpithet\",\n",
    "        \"genus\",\n",
    "    )\n",
    "    .collect()\n",
    ")\n",
    "\n",
    "\n",
    "# TAXON.TSV doesn't have pl.col(\"genus\")=='Dicaeum',pl.col('specificEpithet')=='chysorrheum'\n",
    "match_on_infraspecificEpithet = (\n",
    "    to_be_match_on_infraspecificEpithet.join(\n",
    "        _taxons_subset,\n",
    "        on=[\"genus\", \"infraspecificEpithet\"],\n",
    "    )\n",
    "    .with_columns(\n",
    "        parentNameUsageID=pl.when(pl.col(\"taxonID\").is_not_null())\n",
    "        .then(\"taxonID\")\n",
    "        .otherwise(\"parentNameUsageID\")\n",
    "    )\n",
    "    .drop(\"taxonID\")\n",
    ")\n",
    "# print(match_on_infraspecificEpithet.select(priority_columns))"
   ]
  },
  {
   "cell_type": "markdown",
   "id": "SdmI",
   "metadata": {},
   "source": [
    "#combining updated parent id rows\n",
    "\n",
    "todo: specificEpithet infraSpecificepithet"
   ]
  },
  {
   "cell_type": "code",
   "execution_count": null,
   "id": "lgWD",
   "metadata": {},
   "outputs": [
    {
     "data": {
      "application/json": "[\"speciesId\", \"matched_taxonID\", \"acceptedNameUsageID\", \"taxonName\", \"domain\", \"kingdom\", \"phylum\", \"class\", \"subclass\", \"superorder\", \"order\", \"sub-order\", \"infraorder\", \"section\", \"subsection\", \"superfamily\", \"family\", \"subfamily\", \"tribe\", \"genus\", \"subgenus\", \"genericName\", \"specificEpithet\", \"infraspecificEpithet\", \"taxonRank\", \"taxonomicStatus\", \"parentNameUsageID\", \"current_feature\", \"current_name\", \"name_to_match\"]"
     },
     "metadata": {},
     "output_type": "display_data"
    }
   ],
   "source": [
    "match_on_class.columns"
   ]
  },
  {
   "cell_type": "markdown",
   "id": "yOPj",
   "metadata": {},
   "source": [
    "unfortunately my 2nd wrangle did some redundant work. I don't know how to remove this wrangling"
   ]
  },
  {
   "cell_type": "code",
   "execution_count": null,
   "id": "fwwy",
   "metadata": {},
   "outputs": [
    {
     "name": "stdout",
     "output_type": "stream",
     "text": [
      "parentNameUsageID on the redundant check: False\n",
      "new match shape (2035, 27)\n",
      "\n"
     ]
    },
    {
     "name": "stdout",
     "output_type": "stream",
     "text": [
      "shape of all matches: 2502\n",
      "shape of nomatch before any matches 8445\n",
      "(5943, 27)\n"
     ]
    }
   ],
   "source": [
    "_to_drop = [\"current_feature\", \"current_name\", \"name_to_match\"]\n",
    "_to_drop2 = [\"current_feature\", \"current_name\"]\n",
    "_new_match = pl.concat(\n",
    "    [\n",
    "        match_on_class.drop(_to_drop),\n",
    "        match_on_order.drop(_to_drop),\n",
    "        match_on_family.drop(_to_drop),\n",
    "        match_on_specificEpithet.drop(_to_drop2),\n",
    "        match_on_infraspecificEpithet.drop(_to_drop2),\n",
    "    ]\n",
    ")\n",
    "_redundant = updated_to_matching.with_columns().join(\n",
    "    _new_match, on=\"speciesId\"\n",
    ")  # removing redundant\n",
    "print(\n",
    "    \"parentNameUsageID on the redundant check:\",\n",
    "    (\n",
    "        _redundant[\"parentNameUsageID\"]\n",
    "        != _redundant[\"parentNameUsageID_right\"]\n",
    "    ).any(),\n",
    ")\n",
    "_new_match.write_csv(\"second_matches_set_from_wrangling.csv\")\n",
    "\n",
    "_new_match = _new_match.join(\n",
    "    _redundant.select(\"speciesId\"), on=\"speciesId\", how=\"anti\"\n",
    ")\n",
    "print(\"new match shape\", _new_match.shape)\n",
    "print()\n",
    "_new_match = pl.concat(\n",
    "    [\n",
    "        _new_match,\n",
    "        updated_to_matching.with_columns(\n",
    "            pl.col(\"parentNameUsageID\").cast(pl.Int64)\n",
    "        ),\n",
    "    ]\n",
    ")\n",
    "_new_match.write_csv(\"updated_to_matching.csv\")\n",
    "print(\"shape of all matches:\", _new_match.shape[0])\n",
    "# print(\"new match unique speciesId\",_new_match.select(\"speciesId\").unique())\n",
    "print(\"shape of nomatch before any matches\", nomatch.shape[0])\n",
    "_nomatch = nomatch.join(_new_match.select(\"speciesId\"), on=\"speciesId\", how=\"anti\")\n",
    "print(_x.shape)"
   ]
  },
  {
   "cell_type": "code",
   "execution_count": null,
   "id": "LJZf",
   "metadata": {},
   "outputs": [
    {
     "data": {
      "text/html": [
       "<pre style='font-size: 12px'>8445</pre>"
      ]
     },
     "metadata": {},
     "output_type": "display_data"
    }
   ],
   "source": [
    "5943 + 2502"
   ]
  }
 ],
 "metadata": {},
 "nbformat": 4,
 "nbformat_minor": 5
}
